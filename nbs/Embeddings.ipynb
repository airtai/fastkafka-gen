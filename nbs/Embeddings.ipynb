{
 "cells": [
  {
   "cell_type": "code",
   "execution_count": null,
   "id": "61148947",
   "metadata": {},
   "outputs": [],
   "source": [
    "# | default_exp _components.embeddings"
   ]
  },
  {
   "cell_type": "code",
   "execution_count": null,
   "id": "ac610120",
   "metadata": {},
   "outputs": [],
   "source": [
    "# | export\n",
    "\n",
    "from typing import *\n",
    "from urllib.request import Request, urlopen\n",
    "from urllib.parse import urlparse, urljoin\n",
    "from urllib.error import HTTPError\n",
    "from pathlib import Path\n",
    "import shutil\n",
    "\n",
    "from bs4 import BeautifulSoup\n",
    "from langchain.document_loaders import WebBaseLoader\n",
    "from langchain.text_splitter import RecursiveCharacterTextSplitter\n",
    "from langchain.schema.document import Document\n",
    "from langchain.embeddings import OpenAIEmbeddings\n",
    "from langchain.vectorstores import FAISS\n",
    "import typer\n",
    "\n",
    "from fastkafka_gen._components.logger import get_logger\n",
    "from fastkafka_gen._components.package_data import get_root_data_path"
   ]
  },
  {
   "cell_type": "code",
   "execution_count": null,
   "id": "25510bb7",
   "metadata": {},
   "outputs": [],
   "source": [
    "from tempfile import TemporaryDirectory\n",
    "\n",
    "from typer.testing import CliRunner\n",
    "\n",
    "from fastkafka_gen._components.logger import suppress_timestamps"
   ]
  },
  {
   "cell_type": "code",
   "execution_count": null,
   "id": "ebde5ae6",
   "metadata": {},
   "outputs": [],
   "source": [
    "# | export\n",
    "\n",
    "logger = get_logger(__name__)"
   ]
  },
  {
   "cell_type": "code",
   "execution_count": null,
   "id": "b203ff8e",
   "metadata": {},
   "outputs": [
    {
     "name": "stdout",
     "output_type": "stream",
     "text": [
      "[INFO] __main__: ok\n"
     ]
    }
   ],
   "source": [
    "suppress_timestamps()\n",
    "logger = get_logger(__name__, level=20)\n",
    "logger.info(\"ok\")"
   ]
  },
  {
   "cell_type": "code",
   "execution_count": null,
   "id": "a8fd6a2c",
   "metadata": {},
   "outputs": [],
   "source": [
    "# | export\n",
    "\n",
    "def _get_all_links_from_website(start_url: str, visited: Optional[set] = None) -> Set[str]:\n",
    "    \"\"\"Get a set of all links (URLs) found on the given website, starting from the given start URL.\n",
    "    \n",
    "    Args:\n",
    "        start_url: The starting URL of the website.\n",
    "        visited: Optional. A set of URLs that have already been visited. Defaults to an empty set.\n",
    "\n",
    "    Returns:\n",
    "        A set of all links found on the website.\n",
    "    \"\"\"\n",
    "    if visited is None:\n",
    "        visited = set()\n",
    "    try:\n",
    "        req = Request(start_url)\n",
    "        # nosemgrep: python.lang.security.audit.dynamic-urllib-use-detected.dynamic-urllib-use-detected\n",
    "        html_page = urlopen(req) # nosec B310\n",
    "        soup = BeautifulSoup(html_page, \"lxml\")\n",
    "\n",
    "        base_url = urlparse(start_url).scheme + '://' + urlparse(start_url).hostname #type: ignore\n",
    "\n",
    "        links = set()\n",
    "        for link in soup.find_all('a', href=True):\n",
    "            url = urljoin(base_url, link['href']).split(\"#\")[0].strip(\"/\")\n",
    "            if urlparse(url).hostname == urlparse(start_url).hostname:\n",
    "                links.add(url)\n",
    "\n",
    "        visited.add(start_url)\n",
    "        for link in links:\n",
    "            if link not in visited:\n",
    "                visited |= _get_all_links_from_website(link, visited)\n",
    "                \n",
    "    except HTTPError as e:\n",
    "        logger.warning(f'Unable to parse: {e.url}')\n",
    "    \n",
    "    return visited"
   ]
  },
  {
   "cell_type": "code",
   "execution_count": null,
   "id": "75c1a3e4",
   "metadata": {},
   "outputs": [
    {
     "name": "stdout",
     "output_type": "stream",
     "text": [
      "len(all_links)=183\n",
      "\n",
      "\n"
     ]
    },
    {
     "data": {
      "text/plain": [
       "{'https://fastkafka.airt.ai',\n",
       " 'https://fastkafka.airt.ai/docs',\n",
       " 'https://fastkafka.airt.ai/docs/0.5.0',\n",
       " 'https://fastkafka.airt.ai/docs/0.5.0/CHANGELOG',\n",
       " 'https://fastkafka.airt.ai/docs/0.5.0/api/fastkafka',\n",
       " 'https://fastkafka.airt.ai/docs/0.5.0/api/fastkafka/KafkaEvent',\n",
       " 'https://fastkafka.airt.ai/docs/0.5.0/api/fastkafka/encoder/avsc_to_pydantic',\n",
       " 'https://fastkafka.airt.ai/docs/0.5.0/api/fastkafka/testing/ApacheKafkaBroker',\n",
       " 'https://fastkafka.airt.ai/docs/0.5.0/api/fastkafka/testing/LocalRedpandaBroker',\n",
       " 'https://fastkafka.airt.ai/docs/0.5.0/api/fastkafka/testing/Tester',\n",
       " 'https://fastkafka.airt.ai/docs/0.5.0/cli/fastkafka',\n",
       " 'https://fastkafka.airt.ai/docs/0.5.0/cli/run_fastkafka_server_process',\n",
       " 'https://fastkafka.airt.ai/docs/0.5.0/guides/Guide_04_Github_Actions_Workflow',\n",
       " 'https://fastkafka.airt.ai/docs/0.5.0/guides/Guide_05_Lifespan_Handler',\n",
       " 'https://fastkafka.airt.ai/docs/0.5.0/guides/Guide_06_Benchmarking_FastKafka',\n",
       " 'https://fastkafka.airt.ai/docs/0.5.0/guides/Guide_07_Encoding_and_Decoding_Messages_with_FastKafka',\n",
       " 'https://fastkafka.airt.ai/docs/0.5.0/guides/Guide_11_Consumes_Basics',\n",
       " 'https://fastkafka.airt.ai/docs/0.5.0/guides/Guide_21_Produces_Basics',\n",
       " 'https://fastkafka.airt.ai/docs/0.5.0/guides/Guide_22_Partition_Keys',\n",
       " 'https://fastkafka.airt.ai/docs/0.5.0/guides/Guide_30_Using_docker_to_deploy_fastkafka',\n",
       " 'https://fastkafka.airt.ai/docs/0.5.0/guides/Guide_31_Using_redpanda_to_test_fastkafka',\n",
       " 'https://fastkafka.airt.ai/docs/0.6.0',\n",
       " 'https://fastkafka.airt.ai/docs/0.6.0/CHANGELOG',\n",
       " 'https://fastkafka.airt.ai/docs/0.6.0/CONTRIBUTING',\n",
       " 'https://fastkafka.airt.ai/docs/0.6.0/LICENSE',\n",
       " 'https://fastkafka.airt.ai/docs/0.6.0/api/fastkafka',\n",
       " 'https://fastkafka.airt.ai/docs/0.6.0/api/fastkafka/EventMetadata',\n",
       " 'https://fastkafka.airt.ai/docs/0.6.0/api/fastkafka/KafkaEvent',\n",
       " 'https://fastkafka.airt.ai/docs/0.6.0/api/fastkafka/encoder/AvroBase',\n",
       " 'https://fastkafka.airt.ai/docs/0.6.0/api/fastkafka/encoder/avro_decoder',\n",
       " 'https://fastkafka.airt.ai/docs/0.6.0/api/fastkafka/encoder/avro_encoder',\n",
       " 'https://fastkafka.airt.ai/docs/0.6.0/api/fastkafka/encoder/avsc_to_pydantic',\n",
       " 'https://fastkafka.airt.ai/docs/0.6.0/api/fastkafka/encoder/json_decoder',\n",
       " 'https://fastkafka.airt.ai/docs/0.6.0/api/fastkafka/encoder/json_encoder',\n",
       " 'https://fastkafka.airt.ai/docs/0.6.0/api/fastkafka/executors/DynamicTaskExecutor',\n",
       " 'https://fastkafka.airt.ai/docs/0.6.0/api/fastkafka/executors/SequentialExecutor',\n",
       " 'https://fastkafka.airt.ai/docs/0.6.0/api/fastkafka/testing/ApacheKafkaBroker',\n",
       " 'https://fastkafka.airt.ai/docs/0.6.0/api/fastkafka/testing/LocalRedpandaBroker',\n",
       " 'https://fastkafka.airt.ai/docs/0.6.0/api/fastkafka/testing/Tester',\n",
       " 'https://fastkafka.airt.ai/docs/0.6.0/cli/fastkafka',\n",
       " 'https://fastkafka.airt.ai/docs/0.6.0/cli/run_fastkafka_server_process',\n",
       " 'https://fastkafka.airt.ai/docs/0.6.0/guides/Guide_04_Github_Actions_Workflow',\n",
       " 'https://fastkafka.airt.ai/docs/0.6.0/guides/Guide_05_Lifespan_Handler',\n",
       " 'https://fastkafka.airt.ai/docs/0.6.0/guides/Guide_06_Benchmarking_FastKafka',\n",
       " 'https://fastkafka.airt.ai/docs/0.6.0/guides/Guide_07_Encoding_and_Decoding_Messages_with_FastKafka',\n",
       " 'https://fastkafka.airt.ai/docs/0.6.0/guides/Guide_11_Consumes_Basics',\n",
       " 'https://fastkafka.airt.ai/docs/0.6.0/guides/Guide_21_Produces_Basics',\n",
       " 'https://fastkafka.airt.ai/docs/0.6.0/guides/Guide_22_Partition_Keys',\n",
       " 'https://fastkafka.airt.ai/docs/0.6.0/guides/Guide_23_Batch_Producing',\n",
       " 'https://fastkafka.airt.ai/docs/0.6.0/guides/Guide_30_Using_docker_to_deploy_fastkafka',\n",
       " 'https://fastkafka.airt.ai/docs/0.6.0/guides/Guide_31_Using_redpanda_to_test_fastkafka',\n",
       " 'https://fastkafka.airt.ai/docs/0.7.0',\n",
       " 'https://fastkafka.airt.ai/docs/0.7.0/CHANGELOG',\n",
       " 'https://fastkafka.airt.ai/docs/0.7.0/CONTRIBUTING',\n",
       " 'https://fastkafka.airt.ai/docs/0.7.0/LICENSE',\n",
       " 'https://fastkafka.airt.ai/docs/0.7.0/api/fastkafka',\n",
       " 'https://fastkafka.airt.ai/docs/0.7.0/api/fastkafka/EventMetadata',\n",
       " 'https://fastkafka.airt.ai/docs/0.7.0/api/fastkafka/KafkaEvent',\n",
       " 'https://fastkafka.airt.ai/docs/0.7.0/api/fastkafka/encoder/AvroBase',\n",
       " 'https://fastkafka.airt.ai/docs/0.7.0/api/fastkafka/encoder/avro_decoder',\n",
       " 'https://fastkafka.airt.ai/docs/0.7.0/api/fastkafka/encoder/avro_encoder',\n",
       " 'https://fastkafka.airt.ai/docs/0.7.0/api/fastkafka/encoder/avsc_to_pydantic',\n",
       " 'https://fastkafka.airt.ai/docs/0.7.0/api/fastkafka/encoder/json_decoder',\n",
       " 'https://fastkafka.airt.ai/docs/0.7.0/api/fastkafka/encoder/json_encoder',\n",
       " 'https://fastkafka.airt.ai/docs/0.7.0/api/fastkafka/executors/DynamicTaskExecutor',\n",
       " 'https://fastkafka.airt.ai/docs/0.7.0/api/fastkafka/executors/SequentialExecutor',\n",
       " 'https://fastkafka.airt.ai/docs/0.7.0/api/fastkafka/testing/ApacheKafkaBroker',\n",
       " 'https://fastkafka.airt.ai/docs/0.7.0/api/fastkafka/testing/LocalRedpandaBroker',\n",
       " 'https://fastkafka.airt.ai/docs/0.7.0/api/fastkafka/testing/Tester',\n",
       " 'https://fastkafka.airt.ai/docs/0.7.0/cli/fastkafka',\n",
       " 'https://fastkafka.airt.ai/docs/0.7.0/cli/run_fastkafka_server_process',\n",
       " 'https://fastkafka.airt.ai/docs/0.7.0/guides/Guide_04_Github_Actions_Workflow',\n",
       " 'https://fastkafka.airt.ai/docs/0.7.0/guides/Guide_05_Lifespan_Handler',\n",
       " 'https://fastkafka.airt.ai/docs/0.7.0/guides/Guide_06_Benchmarking_FastKafka',\n",
       " 'https://fastkafka.airt.ai/docs/0.7.0/guides/Guide_07_Encoding_and_Decoding_Messages_with_FastKafka',\n",
       " 'https://fastkafka.airt.ai/docs/0.7.0/guides/Guide_11_Consumes_Basics',\n",
       " 'https://fastkafka.airt.ai/docs/0.7.0/guides/Guide_12_Batch_Consuming',\n",
       " 'https://fastkafka.airt.ai/docs/0.7.0/guides/Guide_21_Produces_Basics',\n",
       " 'https://fastkafka.airt.ai/docs/0.7.0/guides/Guide_22_Partition_Keys',\n",
       " 'https://fastkafka.airt.ai/docs/0.7.0/guides/Guide_23_Batch_Producing',\n",
       " 'https://fastkafka.airt.ai/docs/0.7.0/guides/Guide_24_Using_Multiple_Kafka_Clusters',\n",
       " 'https://fastkafka.airt.ai/docs/0.7.0/guides/Guide_30_Using_docker_to_deploy_fastkafka',\n",
       " 'https://fastkafka.airt.ai/docs/0.7.0/guides/Guide_31_Using_redpanda_to_test_fastkafka',\n",
       " 'https://fastkafka.airt.ai/docs/0.7.0/guides/Guide_32_Using_fastapi_to_run_fastkafka_application',\n",
       " 'https://fastkafka.airt.ai/docs/0.7.1',\n",
       " 'https://fastkafka.airt.ai/docs/0.7.1/CHANGELOG',\n",
       " 'https://fastkafka.airt.ai/docs/0.7.1/CONTRIBUTING',\n",
       " 'https://fastkafka.airt.ai/docs/0.7.1/LICENSE',\n",
       " 'https://fastkafka.airt.ai/docs/0.7.1/api/fastkafka',\n",
       " 'https://fastkafka.airt.ai/docs/0.7.1/api/fastkafka/EventMetadata',\n",
       " 'https://fastkafka.airt.ai/docs/0.7.1/api/fastkafka/KafkaEvent',\n",
       " 'https://fastkafka.airt.ai/docs/0.7.1/api/fastkafka/encoder/AvroBase',\n",
       " 'https://fastkafka.airt.ai/docs/0.7.1/api/fastkafka/encoder/avro_decoder',\n",
       " 'https://fastkafka.airt.ai/docs/0.7.1/api/fastkafka/encoder/avro_encoder',\n",
       " 'https://fastkafka.airt.ai/docs/0.7.1/api/fastkafka/encoder/avsc_to_pydantic',\n",
       " 'https://fastkafka.airt.ai/docs/0.7.1/api/fastkafka/encoder/json_decoder',\n",
       " 'https://fastkafka.airt.ai/docs/0.7.1/api/fastkafka/encoder/json_encoder',\n",
       " 'https://fastkafka.airt.ai/docs/0.7.1/api/fastkafka/executors/DynamicTaskExecutor',\n",
       " 'https://fastkafka.airt.ai/docs/0.7.1/api/fastkafka/executors/SequentialExecutor',\n",
       " 'https://fastkafka.airt.ai/docs/0.7.1/api/fastkafka/testing/ApacheKafkaBroker',\n",
       " 'https://fastkafka.airt.ai/docs/0.7.1/api/fastkafka/testing/LocalRedpandaBroker',\n",
       " 'https://fastkafka.airt.ai/docs/0.7.1/api/fastkafka/testing/Tester',\n",
       " 'https://fastkafka.airt.ai/docs/0.7.1/cli/fastkafka',\n",
       " 'https://fastkafka.airt.ai/docs/0.7.1/cli/run_fastkafka_server_process',\n",
       " 'https://fastkafka.airt.ai/docs/0.7.1/guides/Guide_04_Github_Actions_Workflow',\n",
       " 'https://fastkafka.airt.ai/docs/0.7.1/guides/Guide_05_Lifespan_Handler',\n",
       " 'https://fastkafka.airt.ai/docs/0.7.1/guides/Guide_06_Benchmarking_FastKafka',\n",
       " 'https://fastkafka.airt.ai/docs/0.7.1/guides/Guide_07_Encoding_and_Decoding_Messages_with_FastKafka',\n",
       " 'https://fastkafka.airt.ai/docs/0.7.1/guides/Guide_11_Consumes_Basics',\n",
       " 'https://fastkafka.airt.ai/docs/0.7.1/guides/Guide_12_Batch_Consuming',\n",
       " 'https://fastkafka.airt.ai/docs/0.7.1/guides/Guide_21_Produces_Basics',\n",
       " 'https://fastkafka.airt.ai/docs/0.7.1/guides/Guide_22_Partition_Keys',\n",
       " 'https://fastkafka.airt.ai/docs/0.7.1/guides/Guide_23_Batch_Producing',\n",
       " 'https://fastkafka.airt.ai/docs/0.7.1/guides/Guide_24_Using_Multiple_Kafka_Clusters',\n",
       " 'https://fastkafka.airt.ai/docs/0.7.1/guides/Guide_30_Using_docker_to_deploy_fastkafka',\n",
       " 'https://fastkafka.airt.ai/docs/0.7.1/guides/Guide_31_Using_redpanda_to_test_fastkafka',\n",
       " 'https://fastkafka.airt.ai/docs/0.7.1/guides/Guide_32_Using_fastapi_to_run_fastkafka_application',\n",
       " 'https://fastkafka.airt.ai/docs/CHANGELOG',\n",
       " 'https://fastkafka.airt.ai/docs/CONTRIBUTING',\n",
       " 'https://fastkafka.airt.ai/docs/LICENSE',\n",
       " 'https://fastkafka.airt.ai/docs/api/fastkafka',\n",
       " 'https://fastkafka.airt.ai/docs/api/fastkafka/EventMetadata',\n",
       " 'https://fastkafka.airt.ai/docs/api/fastkafka/KafkaEvent',\n",
       " 'https://fastkafka.airt.ai/docs/api/fastkafka/encoder/AvroBase',\n",
       " 'https://fastkafka.airt.ai/docs/api/fastkafka/encoder/avro_decoder',\n",
       " 'https://fastkafka.airt.ai/docs/api/fastkafka/encoder/avro_encoder',\n",
       " 'https://fastkafka.airt.ai/docs/api/fastkafka/encoder/avsc_to_pydantic',\n",
       " 'https://fastkafka.airt.ai/docs/api/fastkafka/encoder/json_decoder',\n",
       " 'https://fastkafka.airt.ai/docs/api/fastkafka/encoder/json_encoder',\n",
       " 'https://fastkafka.airt.ai/docs/api/fastkafka/executors/DynamicTaskExecutor',\n",
       " 'https://fastkafka.airt.ai/docs/api/fastkafka/executors/SequentialExecutor',\n",
       " 'https://fastkafka.airt.ai/docs/api/fastkafka/testing/ApacheKafkaBroker',\n",
       " 'https://fastkafka.airt.ai/docs/api/fastkafka/testing/LocalRedpandaBroker',\n",
       " 'https://fastkafka.airt.ai/docs/api/fastkafka/testing/Tester',\n",
       " 'https://fastkafka.airt.ai/docs/cli/fastkafka',\n",
       " 'https://fastkafka.airt.ai/docs/cli/run_fastkafka_server_process',\n",
       " 'https://fastkafka.airt.ai/docs/guides/Guide_04_Github_Actions_Workflow',\n",
       " 'https://fastkafka.airt.ai/docs/guides/Guide_05_Lifespan_Handler',\n",
       " 'https://fastkafka.airt.ai/docs/guides/Guide_06_Benchmarking_FastKafka',\n",
       " 'https://fastkafka.airt.ai/docs/guides/Guide_07_Encoding_and_Decoding_Messages_with_FastKafka',\n",
       " 'https://fastkafka.airt.ai/docs/guides/Guide_11_Consumes_Basics',\n",
       " 'https://fastkafka.airt.ai/docs/guides/Guide_12_Batch_Consuming',\n",
       " 'https://fastkafka.airt.ai/docs/guides/Guide_21_Produces_Basics',\n",
       " 'https://fastkafka.airt.ai/docs/guides/Guide_22_Partition_Keys',\n",
       " 'https://fastkafka.airt.ai/docs/guides/Guide_23_Batch_Producing',\n",
       " 'https://fastkafka.airt.ai/docs/guides/Guide_24_Using_Multiple_Kafka_Clusters',\n",
       " 'https://fastkafka.airt.ai/docs/guides/Guide_30_Using_docker_to_deploy_fastkafka',\n",
       " 'https://fastkafka.airt.ai/docs/guides/Guide_31_Using_redpanda_to_test_fastkafka',\n",
       " 'https://fastkafka.airt.ai/docs/guides/Guide_32_Using_fastapi_to_run_fastkafka_application',\n",
       " 'https://fastkafka.airt.ai/docs/next',\n",
       " 'https://fastkafka.airt.ai/docs/next/CHANGELOG',\n",
       " 'https://fastkafka.airt.ai/docs/next/CONTRIBUTING',\n",
       " 'https://fastkafka.airt.ai/docs/next/LICENSE',\n",
       " 'https://fastkafka.airt.ai/docs/next/api/fastkafka',\n",
       " 'https://fastkafka.airt.ai/docs/next/api/fastkafka/EventMetadata',\n",
       " 'https://fastkafka.airt.ai/docs/next/api/fastkafka/KafkaEvent',\n",
       " 'https://fastkafka.airt.ai/docs/next/api/fastkafka/encoder/AvroBase',\n",
       " 'https://fastkafka.airt.ai/docs/next/api/fastkafka/encoder/avro_decoder',\n",
       " 'https://fastkafka.airt.ai/docs/next/api/fastkafka/encoder/avro_encoder',\n",
       " 'https://fastkafka.airt.ai/docs/next/api/fastkafka/encoder/avsc_to_pydantic',\n",
       " 'https://fastkafka.airt.ai/docs/next/api/fastkafka/encoder/json_decoder',\n",
       " 'https://fastkafka.airt.ai/docs/next/api/fastkafka/encoder/json_encoder',\n",
       " 'https://fastkafka.airt.ai/docs/next/api/fastkafka/executors/DynamicTaskExecutor',\n",
       " 'https://fastkafka.airt.ai/docs/next/api/fastkafka/executors/SequentialExecutor',\n",
       " 'https://fastkafka.airt.ai/docs/next/api/fastkafka/testing/ApacheKafkaBroker',\n",
       " 'https://fastkafka.airt.ai/docs/next/api/fastkafka/testing/LocalRedpandaBroker',\n",
       " 'https://fastkafka.airt.ai/docs/next/api/fastkafka/testing/Tester',\n",
       " 'https://fastkafka.airt.ai/docs/next/cli/fastkafka',\n",
       " 'https://fastkafka.airt.ai/docs/next/cli/run_fastkafka_server_process',\n",
       " 'https://fastkafka.airt.ai/docs/next/guides/Guide_04_Github_Actions_Workflow',\n",
       " 'https://fastkafka.airt.ai/docs/next/guides/Guide_05_Lifespan_Handler',\n",
       " 'https://fastkafka.airt.ai/docs/next/guides/Guide_06_Benchmarking_FastKafka',\n",
       " 'https://fastkafka.airt.ai/docs/next/guides/Guide_07_Encoding_and_Decoding_Messages_with_FastKafka',\n",
       " 'https://fastkafka.airt.ai/docs/next/guides/Guide_11_Consumes_Basics',\n",
       " 'https://fastkafka.airt.ai/docs/next/guides/Guide_12_Batch_Consuming',\n",
       " 'https://fastkafka.airt.ai/docs/next/guides/Guide_21_Produces_Basics',\n",
       " 'https://fastkafka.airt.ai/docs/next/guides/Guide_22_Partition_Keys',\n",
       " 'https://fastkafka.airt.ai/docs/next/guides/Guide_23_Batch_Producing',\n",
       " 'https://fastkafka.airt.ai/docs/next/guides/Guide_24_Using_Multiple_Kafka_Clusters',\n",
       " 'https://fastkafka.airt.ai/docs/next/guides/Guide_30_Using_docker_to_deploy_fastkafka',\n",
       " 'https://fastkafka.airt.ai/docs/next/guides/Guide_31_Using_redpanda_to_test_fastkafka',\n",
       " 'https://fastkafka.airt.ai/docs/next/guides/Guide_32_Using_fastapi_to_run_fastkafka_application',\n",
       " 'https://fastkafka.airt.ai/docs/next/guides/Guide_33_Using_Tester_class_to_test_fastkafka'}"
      ]
     },
     "metadata": {},
     "output_type": "display_data"
    }
   ],
   "source": [
    "all_links = _get_all_links_from_website(\"https://fastkafka.airt.ai\")\n",
    "print(f\"{len(all_links)=}\\n\\n\")\n",
    "display(all_links)\n",
    "\n",
    "assert len(all_links) > 0\n",
    "assert 'https://fastkafka.airt.ai/docs/CHANGELOG' in all_links\n",
    "assert 'https://fastkafka.airt.ai/docs' in all_links"
   ]
  },
  {
   "cell_type": "code",
   "execution_count": null,
   "id": "ab10fce1",
   "metadata": {},
   "outputs": [],
   "source": [
    "\n",
    "# | export\n",
    "\n",
    "\n",
    "def _extract_latest_doc_urls(start_url: str, urls: List[str]) -> List[str]:\n",
    "    \"\"\"Extract latest documentation URLs from a list of URLs.\n",
    "\n",
    "    Args:\n",
    "        start_url: The URL of the documentation homepage.\n",
    "        urls: A list of documentation URLs to be filtered.\n",
    "\n",
    "    Returns:\n",
    "        A new list containing only the latest version of the documentation URLs.\n",
    "    \"\"\"\n",
    "    ret_val = []\n",
    "    for url in urls:\n",
    "        parts = url.split(f\"{start_url}/docs/\")\n",
    "        if len(parts) == 1:\n",
    "            ret_val.append(url)\n",
    "        else:\n",
    "            identifier = parts[1].split(\"/\")[0]\n",
    "            if identifier != \"next\" and not identifier.replace(\".\", \"\").isdigit():\n",
    "                ret_val.append(url)\n",
    "    ret_val = [url for url in ret_val if \"/guides/\" in url or url == \"https://fastkafka.airt.ai/docs\"]\n",
    "    return ret_val"
   ]
  },
  {
   "cell_type": "code",
   "execution_count": null,
   "id": "dd896a3d",
   "metadata": {},
   "outputs": [
    {
     "data": {
      "text/plain": [
       "['https://fastkafka.airt.ai/docs/guides/Guide_11_Consumes_Basics',\n",
       " 'https://fastkafka.airt.ai/docs',\n",
       " 'https://fastkafka.airt.ai/docs/guides/Guide_07_Encoding_and_Decoding_Messages_with_FastKafka',\n",
       " 'https://fastkafka.airt.ai/docs/guides/Guide_30_Using_docker_to_deploy_fastkafka',\n",
       " 'https://fastkafka.airt.ai/docs/guides/Guide_05_Lifespan_Handler',\n",
       " 'https://fastkafka.airt.ai/docs/guides/Guide_06_Benchmarking_FastKafka',\n",
       " 'https://fastkafka.airt.ai/docs/guides/Guide_21_Produces_Basics',\n",
       " 'https://fastkafka.airt.ai/docs/guides/Guide_22_Partition_Keys',\n",
       " 'https://fastkafka.airt.ai/docs/guides/Guide_31_Using_redpanda_to_test_fastkafka',\n",
       " 'https://fastkafka.airt.ai/docs/guides/Guide_04_Github_Actions_Workflow']"
      ]
     },
     "metadata": {},
     "output_type": "display_data"
    }
   ],
   "source": [
    "fixture_all_links = ['https://fastkafka.airt.ai/docs/next/api/fastkafka/KafkaEvent', 'https://fastkafka.airt.ai/docs/guides/Guide_11_Consumes_Basics', 'https://fastkafka.airt.ai/docs/next/api/fastkafka/testing/Tester', 'https://fastkafka.airt.ai/docs', 'https://fastkafka.airt.ai/docs/next/api/fastkafka/testing/ApacheKafkaBroker', 'https://fastkafka.airt.ai/docs/next/guides/Guide_05_Lifespan_Handler', 'https://fastkafka.airt.ai/docs/next/guides/Guide_11_Consumes_Basics', 'https://fastkafka.airt.ai/docs/next/guides/Guide_21_Produces_Basics', 'https://fastkafka.airt.ai/docs/CHANGELOG', 'https://fastkafka.airt.ai/docs/next/guides/Guide_22_Partition_Keys', 'https://fastkafka.airt.ai/docs/next/guides/Guide_07_Encoding_and_Decoding_Messages_with_FastKafka', 'https://fastkafka.airt.ai/docs/next/api/fastkafka/testing/LocalRedpandaBroker', 'https://fastkafka.airt.ai/docs/next/CONTRIBUTING', 'https://fastkafka.airt.ai/docs/api/fastkafka/KafkaEvent', 'https://fastkafka.airt.ai/docs/guides/Guide_07_Encoding_and_Decoding_Messages_with_FastKafka', 'https://fastkafka.airt.ai', 'https://fastkafka.airt.ai/docs/guides/Guide_30_Using_docker_to_deploy_fastkafka', 'https://fastkafka.airt.ai/docs/next/api/fastkafka/encoder/avsc_to_pydantic', 'https://fastkafka.airt.ai/docs/guides/Guide_05_Lifespan_Handler', 'https://fastkafka.airt.ai/docs/next/cli/fastkafka', 'https://fastkafka.airt.ai/docs/api/fastkafka', 'https://fastkafka.airt.ai/docs/api/fastkafka/testing/ApacheKafkaBroker', 'https://fastkafka.airt.ai/docs/api/fastkafka/encoder/avsc_to_pydantic', 'https://fastkafka.airt.ai/docs/next/guides/Guide_04_Github_Actions_Workflow', 'https://fastkafka.airt.ai/docs/guides/Guide_06_Benchmarking_FastKafka', 'https://fastkafka.airt.ai/docs/next/guides/Guide_06_Benchmarking_FastKafka', 'https://fastkafka.airt.ai/docs/next/CHANGELOG', 'https://fastkafka.airt.ai/docs/guides/Guide_21_Produces_Basics', 'https://fastkafka.airt.ai/docs/next/guides/Guide_30_Using_docker_to_deploy_fastkafka', 'https://fastkafka.airt.ai/docs/next/guides/Guide_31_Using_redpanda_to_test_fastkafka', 'https://fastkafka.airt.ai/docs/guides/Guide_22_Partition_Keys', 'https://fastkafka.airt.ai/docs/api/fastkafka/testing/LocalRedpandaBroker', 'https://fastkafka.airt.ai/docs/next/api/fastkafka', 'https://fastkafka.airt.ai/docs/guides/Guide_31_Using_redpanda_to_test_fastkafka', 'https://fastkafka.airt.ai/docs/cli/run_fastkafka_server_process', 'https://fastkafka.airt.ai/docs/guides/Guide_04_Github_Actions_Workflow', 'https://fastkafka.airt.ai/docs/api/fastkafka/testing/Tester', 'https://fastkafka.airt.ai/docs/next', 'https://fastkafka.airt.ai/docs/cli/fastkafka', 'https://fastkafka.airt.ai/docs/next/cli/run_fastkafka_server_process', 'https://fastkafka.airt.ai/docs/next/LICENSE']\n",
    "start_url = \"https://fastkafka.airt.ai\"\n",
    "actual = _extract_latest_doc_urls(start_url, fixture_all_links)\n",
    "\n",
    "display(actual)\n",
    "assert len(actual) == 10, len(actual)\n",
    "assert 'https://fastkafka.airt.ai/docs/next' not in actual"
   ]
  },
  {
   "cell_type": "code",
   "execution_count": null,
   "id": "1d962396",
   "metadata": {},
   "outputs": [
    {
     "name": "stdout",
     "output_type": "stream",
     "text": [
      "['https://fastkafka.airt.ai/docs', 'https://fastkafka.airt.ai/docs/guides/Guide_04_Github_Actions_Workflow']\n"
     ]
    }
   ],
   "source": [
    "fixture = [\n",
    "    \"https://fastkafka.airt.ai/docs\",\n",
    "    'https://fastkafka.airt.ai/docs/guides/Guide_04_Github_Actions_Workflow',\n",
    "    \"https://fastkafka.airt.ai/docs/CHANGELOG\",\n",
    "    \"https://fastkafka.airt.ai/docs/next/CHANGELOG\",\n",
    "    \"https://fastkafka.airt.ai/docs/0.6.0/CHANGELOG\",\n",
    "    \"https://fastkafka.airt.ai/docs/0.5.0/CHANGELOG\",\n",
    "]\n",
    "start_url = \"https://fastkafka.airt.ai\"\n",
    "expected = [\"https://fastkafka.airt.ai/docs\", 'https://fastkafka.airt.ai/docs/guides/Guide_04_Github_Actions_Workflow']\n",
    "actual = _extract_latest_doc_urls(start_url, fixture)\n",
    "print(actual)\n",
    "\n",
    "assert actual == expected"
   ]
  },
  {
   "cell_type": "code",
   "execution_count": null,
   "id": "f66739f1",
   "metadata": {},
   "outputs": [],
   "source": [
    "\n",
    "# | export\n",
    "\n",
    "def _create_documents(urls: List[str]) -> List[Document]:\n",
    "    \"\"\"Scrape the URLs and create a document object.\n",
    "    \n",
    "    Args:\n",
    "        urls: A list of URLs to scrape\n",
    "        \n",
    "    Returns:\n",
    "        A list of document object\n",
    "    \"\"\"\n",
    "    loader = WebBaseLoader(urls)\n",
    "    data = loader.load()\n",
    "    return data"
   ]
  },
  {
   "cell_type": "code",
   "execution_count": null,
   "id": "760eaf36",
   "metadata": {},
   "outputs": [
    {
     "name": "stdout",
     "output_type": "stream",
     "text": [
      "14\n",
      "[INFO] langchain.document_loaders.web_base: fake_useragent not found, using default user agent.To get a realistic header for requests, `pip install fake_useragent`.\n",
      "\n",
      "\n",
      "\n",
      "\n",
      "\n",
      "@consumes basics | FastKafka\n",
      "\n",
      "\n",
      "\n",
      "\n",
      "\n",
      "\n",
      "\n",
      "\n",
      "\n",
      "Skip to main contentairtFastKafka0.8.0dev 🚧0.8.00.7.10.7.00.6.00.5.0DocsSearchFastKafkaGuidesWriting services@consumes basicsBatch consuming@produces basicsD\n"
     ]
    }
   ],
   "source": [
    "start_url = \"https://fastkafka.airt.ai\"\n",
    "urls =  _extract_latest_doc_urls(start_url, all_links)\n",
    "\n",
    "print(len(urls))\n",
    "assert len(urls) == 14\n",
    "\n",
    "docs = _create_documents(urls)\n",
    "assert len(docs) == len(urls)\n",
    "print(docs[0].page_content[:200])"
   ]
  },
  {
   "cell_type": "code",
   "execution_count": null,
   "id": "547a955a",
   "metadata": {},
   "outputs": [],
   "source": [
    "\n",
    "# | export\n",
    "\n",
    "def _split_document_into_chunks(\n",
    "    documents: List[Document],\n",
    "    chunk_size: int = 1500,\n",
    "    chunk_overlap: int = 150,\n",
    "    separators: List[str] = [\"\\n\\n\", \"\\n\", \"(?<=\\. )\", \" \", \"\"],\n",
    ") -> List[Document]:\n",
    "    \"\"\"Split the list of documents into chunks\n",
    "\n",
    "    Args:\n",
    "        documents: List of documents to be split into chunks.\n",
    "        chunk_size: The maximum size of each chunk in characters. Defaults to 1500.\n",
    "        chunk_overlap: The overlap between consecutive chunks in characters. Defaults to 150.\n",
    "        separators: List of separator patterns used for chunking. Defaults to [\"\\n\\n\", \"\\n\", \"(?<=\\. )\", \" \", \"\"].\n",
    "\n",
    "    Returns:\n",
    "        A list of documents where each document represents a chunk.\n",
    "    \"\"\"\n",
    "    text_splitter = RecursiveCharacterTextSplitter(\n",
    "        chunk_size=chunk_size,\n",
    "        chunk_overlap=chunk_overlap,\n",
    "        separators=separators\n",
    "    )\n",
    "    chunks = text_splitter.split_documents(documents)\n",
    "    return chunks"
   ]
  },
  {
   "cell_type": "code",
   "execution_count": null,
   "id": "87c2aef6",
   "metadata": {},
   "outputs": [
    {
     "name": "stdout",
     "output_type": "stream",
     "text": [
      "187 is greater than 14\n"
     ]
    }
   ],
   "source": [
    "doc_chunks = _split_document_into_chunks(docs)\n",
    "print(f\"{len(doc_chunks)} is greater than {len(urls)}\")\n",
    "# print(doc_chunks)\n",
    "assert len(doc_chunks) > len(urls)"
   ]
  },
  {
   "cell_type": "code",
   "execution_count": null,
   "id": "a8e02a24",
   "metadata": {},
   "outputs": [],
   "source": [
    "\n",
    "# | export\n",
    "\n",
    "def _save_embeddings_db(doc_chunks: List[Document], db_path: str) -> None:\n",
    "    \"\"\"Save the embeddings in a FAISS db\n",
    "    \n",
    "    Args:\n",
    "        doc_chunks: A list of documents where each document represents a chunk.\n",
    "        db_path: Path to save the FAISS db.\n",
    "    \"\"\"\n",
    "    db = FAISS.from_documents(doc_chunks, OpenAIEmbeddings()) # type: ignore\n",
    "    db.save_local(db_path)"
   ]
  },
  {
   "cell_type": "code",
   "execution_count": null,
   "id": "617cdb44",
   "metadata": {},
   "outputs": [
    {
     "name": "stdout",
     "output_type": "stream",
     "text": [
      "[INFO] faiss.loader: Loading faiss with AVX2 support.\n",
      "[INFO] faiss.loader: Successfully loaded faiss with AVX2 support.\n",
      "total 12\n",
      "drwx------ 3 harish harish 4096 Aug 30 07:58 .\n",
      "drwxrwxrwt 1 root   root   4096 Aug 30 07:58 ..\n",
      "drwxrwxr-x 2 harish harish 4096 Aug 30 07:58 faiss_index\n"
     ]
    }
   ],
   "source": [
    "with TemporaryDirectory() as d:\n",
    "    db_path = f\"{d}/faiss_index\"\n",
    "    _save_embeddings_db(doc_chunks, db_path)\n",
    "    \n",
    "    !ls -la {d}\n",
    "    assert (Path(d) / \"faiss_index\" / \"index.faiss\").exists()"
   ]
  },
  {
   "cell_type": "code",
   "execution_count": null,
   "id": "be1e06d7",
   "metadata": {},
   "outputs": [],
   "source": [
    "# | export\n",
    "\n",
    "def _delete_directory(directory_path: Path) -> None:\n",
    "    \"\"\"Delete a directory and its contents if it exists.\n",
    "\n",
    "    Args:\n",
    "        directory_path: The path to the directory to be deleted.\n",
    "    \"\"\"\n",
    "    if directory_path.exists():\n",
    "        try:\n",
    "            shutil.rmtree(directory_path)\n",
    "        except Exception as e:\n",
    "            print(f\"Error deleting directory: {e}\")"
   ]
  },
  {
   "cell_type": "code",
   "execution_count": null,
   "id": "6c4cb0da",
   "metadata": {},
   "outputs": [
    {
     "name": "stdout",
     "output_type": "stream",
     "text": [
      "total 12\n",
      "drwx------ 3 harish harish 4096 Aug 30 07:58 .\n",
      "drwxrwxrwt 1 root   root   4096 Aug 30 07:58 ..\n",
      "drwxrwxr-x 2 harish harish 4096 Aug 30 07:58 some_dir\n",
      "total 8\n",
      "drwx------ 2 harish harish 4096 Aug 30 07:58 .\n",
      "drwxrwxrwt 1 root   root   4096 Aug 30 07:58 ..\n"
     ]
    }
   ],
   "source": [
    "with TemporaryDirectory() as d:\n",
    "    some_dir = Path(f\"{d}/some_dir\")\n",
    "    some_dir.mkdir()\n",
    "    assert some_dir.exists()\n",
    "    !ls -la {d}\n",
    "\n",
    "    _delete_directory(some_dir)\n",
    "    assert not some_dir.exists()\n",
    "    \n",
    "    non_existing_dir = Path(f\"{d}/non_existing_dir\")\n",
    "    _delete_directory(non_existing_dir)\n",
    "    !ls -la {d}"
   ]
  },
  {
   "cell_type": "code",
   "execution_count": null,
   "id": "a6d25487",
   "metadata": {},
   "outputs": [],
   "source": [
    "# | export\n",
    "\n",
    "app = typer.Typer(\n",
    "    short_help=\"Scrape FastKafka documentation, create embeddings from extracted content, and save them in a vector database.\",\n",
    ")"
   ]
  },
  {
   "cell_type": "code",
   "execution_count": null,
   "id": "89faebe9",
   "metadata": {},
   "outputs": [],
   "source": [
    "\n",
    "# | export\n",
    "\n",
    "DAFAULT_DB_PATH = get_root_data_path() / \"docs\"\n",
    "DAFAULT_START_URL = \"https://fastkafka.airt.ai\"\n",
    "\n",
    "@app.command(\n",
    "    \"generate\",\n",
    "    help=\"Scrape FastKafka documentation, create embeddings from extracted content, and save them in a vector database.\",\n",
    ")\n",
    "def generate(\n",
    "    start_url: str = typer.Option(\n",
    "        DAFAULT_START_URL,\n",
    "        \"--start_url\",\n",
    "        \"-u\",\n",
    "        help=\"The start_url of the website to scrape.\"\n",
    "    ),\n",
    "    db_path: str = typer.Option(\n",
    "        DAFAULT_DB_PATH, \n",
    "        \"--db_path\",\n",
    "        \"-p\",\n",
    "        help=\"The path to save the vector database.\"\n",
    "    ),\n",
    ") -> None:\n",
    "    try:\n",
    "        _delete_directory(Path(db_path))\n",
    "        \n",
    "        typer.echo(f\"Scrapping {start_url} (The whole process usually takes around 45 to 90 seconds...)\")\n",
    "        all_doc_links = list(_get_all_links_from_website(start_url))\n",
    "        filtered_doc_links = _extract_latest_doc_urls(start_url, all_doc_links)\n",
    "        \n",
    "        typer.echo(f\"Number of identified URLs for scraping: {len(filtered_doc_links)}\\n\")\n",
    "        typer.echo(f\"Scraping the below URLs:\\n\")\n",
    "        typer.echo(\"\\n\".join(filtered_doc_links))\n",
    "        \n",
    "        docs = _create_documents(filtered_doc_links)\n",
    "        doc_chunks = _split_document_into_chunks(docs)\n",
    "        _save_embeddings_db(doc_chunks, db_path)\n",
    "        \n",
    "        typer.echo(f\"\\nWebsite embeddings have been successfully saved to: {db_path}\")\n",
    "    except Exception as e:\n",
    "        fg = typer.colors.RED\n",
    "        typer.secho(f\"Unexpected internal error: {e}\", err=True, fg=fg)\n",
    "        raise typer.Exit(code=1)"
   ]
  },
  {
   "cell_type": "code",
   "execution_count": null,
   "id": "d0a35b6f",
   "metadata": {},
   "outputs": [
    {
     "data": {
      "text/html": [
       "<pre style=\"white-space:pre;overflow-x:auto;line-height:normal;font-family:Menlo,'DejaVu Sans Mono',consolas,'Courier New',monospace\"><span style=\"font-weight: bold\">                                                                                                                   </span>\n",
       "<span style=\"font-weight: bold\"> </span><span style=\"color: #808000; text-decoration-color: #808000; font-weight: bold\">Usage: </span><span style=\"font-weight: bold\">generate [OPTIONS]                                                                                         </span>\n",
       "<span style=\"font-weight: bold\">                                                                                                                   </span>\n",
       "</pre>\n"
      ],
      "text/plain": [
       "\u001b[1m                                                                                                                   \u001b[0m\n",
       "\u001b[1m \u001b[0m\u001b[1;33mUsage: \u001b[0m\u001b[1mgenerate [OPTIONS]\u001b[0m\u001b[1m                                                                                        \u001b[0m\u001b[1m \u001b[0m\n",
       "\u001b[1m                                                                                                                   \u001b[0m\n"
      ]
     },
     "metadata": {},
     "output_type": "display_data"
    },
    {
     "data": {
      "text/html": [
       "<pre style=\"white-space:pre;overflow-x:auto;line-height:normal;font-family:Menlo,'DejaVu Sans Mono',consolas,'Courier New',monospace\"> Scrape FastKafka documentation, create embeddings from extracted content, and save them in a vector database.     \n",
       "                                                                                                                   \n",
       "</pre>\n"
      ],
      "text/plain": [
       " Scrape FastKafka documentation, create embeddings from extracted content, and save them in a vector database.     \n",
       "                                                                                                                   \n"
      ]
     },
     "metadata": {},
     "output_type": "display_data"
    },
    {
     "data": {
      "text/html": [
       "<pre style=\"white-space:pre;overflow-x:auto;line-height:normal;font-family:Menlo,'DejaVu Sans Mono',consolas,'Courier New',monospace\"><span style=\"color: #7f7f7f; text-decoration-color: #7f7f7f\">╭─ Options ───────────────────────────────────────────────────────────────────────────────────────────────────────╮</span>\n",
       "<span style=\"color: #7f7f7f; text-decoration-color: #7f7f7f\">│</span> <span style=\"color: #008080; text-decoration-color: #008080; font-weight: bold\">--start_url</span>           <span style=\"color: #008000; text-decoration-color: #008000; font-weight: bold\">-u</span>      <span style=\"color: #808000; text-decoration-color: #808000; font-weight: bold\">TEXT</span>  The start_url of the website to scrape.                                     <span style=\"color: #7f7f7f; text-decoration-color: #7f7f7f\">│</span>\n",
       "<span style=\"color: #7f7f7f; text-decoration-color: #7f7f7f\">│</span>                                     <span style=\"color: #7f7f7f; text-decoration-color: #7f7f7f\">[default: https://fastkafka.airt.ai]   </span>                                     <span style=\"color: #7f7f7f; text-decoration-color: #7f7f7f\">│</span>\n",
       "<span style=\"color: #7f7f7f; text-decoration-color: #7f7f7f\">│</span> <span style=\"color: #008080; text-decoration-color: #008080; font-weight: bold\">--db_path</span>             <span style=\"color: #008000; text-decoration-color: #008000; font-weight: bold\">-p</span>      <span style=\"color: #808000; text-decoration-color: #808000; font-weight: bold\">TEXT</span>  The path to save the vector database.                                       <span style=\"color: #7f7f7f; text-decoration-color: #7f7f7f\">│</span>\n",
       "<span style=\"color: #7f7f7f; text-decoration-color: #7f7f7f\">│</span>                                     <span style=\"color: #7f7f7f; text-decoration-color: #7f7f7f\">[default: /work/fastkafka-gen/fastkafka_gen/package_data/docs]</span>              <span style=\"color: #7f7f7f; text-decoration-color: #7f7f7f\">│</span>\n",
       "<span style=\"color: #7f7f7f; text-decoration-color: #7f7f7f\">│</span> <span style=\"color: #008080; text-decoration-color: #008080; font-weight: bold\">--install-completion</span>          <span style=\"color: #808000; text-decoration-color: #808000; font-weight: bold\">    </span>  Install completion for the current shell.                                   <span style=\"color: #7f7f7f; text-decoration-color: #7f7f7f\">│</span>\n",
       "<span style=\"color: #7f7f7f; text-decoration-color: #7f7f7f\">│</span> <span style=\"color: #008080; text-decoration-color: #008080; font-weight: bold\">--show-completion</span>             <span style=\"color: #808000; text-decoration-color: #808000; font-weight: bold\">    </span>  Show completion for the current shell, to copy it or customize the          <span style=\"color: #7f7f7f; text-decoration-color: #7f7f7f\">│</span>\n",
       "<span style=\"color: #7f7f7f; text-decoration-color: #7f7f7f\">│</span>                                     installation.                                                               <span style=\"color: #7f7f7f; text-decoration-color: #7f7f7f\">│</span>\n",
       "<span style=\"color: #7f7f7f; text-decoration-color: #7f7f7f\">│</span> <span style=\"color: #008080; text-decoration-color: #008080; font-weight: bold\">--help</span>                        <span style=\"color: #808000; text-decoration-color: #808000; font-weight: bold\">    </span>  Show this message and exit.                                                 <span style=\"color: #7f7f7f; text-decoration-color: #7f7f7f\">│</span>\n",
       "<span style=\"color: #7f7f7f; text-decoration-color: #7f7f7f\">╰─────────────────────────────────────────────────────────────────────────────────────────────────────────────────╯</span>\n",
       "</pre>\n"
      ],
      "text/plain": [
       "\u001b[2m╭─\u001b[0m\u001b[2m Options \u001b[0m\u001b[2m──────────────────────────────────────────────────────────────────────────────────────────────────────\u001b[0m\u001b[2m─╮\u001b[0m\n",
       "\u001b[2m│\u001b[0m \u001b[1;36m-\u001b[0m\u001b[1;36m-start_url\u001b[0m           \u001b[1;32m-u\u001b[0m      \u001b[1;33mTEXT\u001b[0m  The start_url of the website to scrape.                                     \u001b[2m│\u001b[0m\n",
       "\u001b[2m│\u001b[0m                                     \u001b[2m[default: https://fastkafka.airt.ai]   \u001b[0m                                     \u001b[2m│\u001b[0m\n",
       "\u001b[2m│\u001b[0m \u001b[1;36m-\u001b[0m\u001b[1;36m-db_path\u001b[0m             \u001b[1;32m-p\u001b[0m      \u001b[1;33mTEXT\u001b[0m  The path to save the vector database.                                       \u001b[2m│\u001b[0m\n",
       "\u001b[2m│\u001b[0m                                     \u001b[2m[default: /work/fastkafka-gen/fastkafka_gen/package_data/docs]\u001b[0m              \u001b[2m│\u001b[0m\n",
       "\u001b[2m│\u001b[0m \u001b[1;36m-\u001b[0m\u001b[1;36m-install\u001b[0m\u001b[1;36m-completion\u001b[0m          \u001b[1;33m    \u001b[0m  Install completion for the current shell.                                   \u001b[2m│\u001b[0m\n",
       "\u001b[2m│\u001b[0m \u001b[1;36m-\u001b[0m\u001b[1;36m-show\u001b[0m\u001b[1;36m-completion\u001b[0m             \u001b[1;33m    \u001b[0m  Show completion for the current shell, to copy it or customize the          \u001b[2m│\u001b[0m\n",
       "\u001b[2m│\u001b[0m                                     installation.                                                               \u001b[2m│\u001b[0m\n",
       "\u001b[2m│\u001b[0m \u001b[1;36m-\u001b[0m\u001b[1;36m-help\u001b[0m                        \u001b[1;33m    \u001b[0m  Show this message and exit.                                                 \u001b[2m│\u001b[0m\n",
       "\u001b[2m╰─────────────────────────────────────────────────────────────────────────────────────────────────────────────────╯\u001b[0m\n"
      ]
     },
     "metadata": {},
     "output_type": "display_data"
    }
   ],
   "source": [
    "runner = CliRunner()\n",
    "result = runner.invoke(app, [\"generate\", \"--help\"])"
   ]
  },
  {
   "cell_type": "code",
   "execution_count": null,
   "id": "552aca4b",
   "metadata": {},
   "outputs": [
    {
     "name": "stdout",
     "output_type": "stream",
     "text": [
      "[INFO] langchain.document_loaders.web_base: fake_useragent not found, using default user agent.To get a realistic header for requests, `pip install fake_useragent`.\n",
      "Scrapping https://fastkafka.airt.ai (The whole process usually takes around 45 to 90 seconds...)\n",
      "Number of identified URLs for scraping: 14\n",
      "\n",
      "Scraping the below URLs:\n",
      "\n",
      "https://fastkafka.airt.ai/docs/guides/Guide_11_Consumes_Basics\n",
      "https://fastkafka.airt.ai/docs/guides/Guide_24_Using_Multiple_Kafka_Clusters\n",
      "https://fastkafka.airt.ai/docs/guides/Guide_31_Using_redpanda_to_test_fastkafka\n",
      "https://fastkafka.airt.ai/docs/guides/Guide_32_Using_fastapi_to_run_fastkafka_application\n",
      "https://fastkafka.airt.ai/docs/guides/Guide_23_Batch_Producing\n",
      "https://fastkafka.airt.ai/docs/guides/Guide_07_Encoding_and_Decoding_Messages_with_FastKafka\n",
      "https://fastkafka.airt.ai/docs/guides/Guide_30_Using_docker_to_deploy_fastkafka\n",
      "https://fastkafka.airt.ai/docs/guides/Guide_21_Produces_Basics\n",
      "https://fastkafka.airt.ai/docs\n",
      "https://fastkafka.airt.ai/docs/guides/Guide_04_Github_Actions_Workflow\n",
      "https://fastkafka.airt.ai/docs/guides/Guide_22_Partition_Keys\n",
      "https://fastkafka.airt.ai/docs/guides/Guide_12_Batch_Consuming\n",
      "https://fastkafka.airt.ai/docs/guides/Guide_06_Benchmarking_FastKafka\n",
      "https://fastkafka.airt.ai/docs/guides/Guide_05_Lifespan_Handler\n",
      "\n",
      "Website embeddings have been successfully saved to: /tmp/tmpsfocwc2k/docs\n",
      "\n"
     ]
    }
   ],
   "source": [
    "with TemporaryDirectory() as d:\n",
    "    db_path = f\"{d}/docs\"\n",
    "    result = runner.invoke(app, [\"-p\", db_path])\n",
    "    assert result.exit_code == 0\n",
    "    assert (Path(d) / \"docs\" / \"index.faiss\").exists()\n",
    "    print(result.output)"
   ]
  },
  {
   "cell_type": "code",
   "execution_count": null,
   "id": "fa637857",
   "metadata": {},
   "outputs": [],
   "source": []
  }
 ],
 "metadata": {
  "kernelspec": {
   "display_name": "python3",
   "language": "python",
   "name": "python3"
  }
 },
 "nbformat": 4,
 "nbformat_minor": 5
}
