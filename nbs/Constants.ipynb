{
 "cells": [
  {
   "cell_type": "code",
   "execution_count": null,
   "id": "b5a26be2",
   "metadata": {},
   "outputs": [],
   "source": [
    "# | default_exp _code_generator.constants"
   ]
  },
  {
   "cell_type": "markdown",
   "id": "85d03be5",
   "metadata": {},
   "source": [
    "## Code generation constants"
   ]
  },
  {
   "cell_type": "code",
   "execution_count": null,
   "id": "79bb7431",
   "metadata": {},
   "outputs": [],
   "source": [
    "# | export\n",
    "\n",
    "ASYNC_API_SPEC_FILE_NAME = \"asyncapi.yml\"\n",
    "APPLICATION_FILE_NAME = \"application.py\"\n",
    "INTEGRATION_TEST_FILE_NAME = \"test.py\""
   ]
  },
  {
   "cell_type": "markdown",
   "id": "5fd81bf4",
   "metadata": {},
   "source": [
    "## Model constants"
   ]
  },
  {
   "cell_type": "code",
   "execution_count": null,
   "id": "0e897799",
   "metadata": {},
   "outputs": [],
   "source": [
    "# | export\n",
    "\n",
    "DEFAULT_PARAMS = {\n",
    "    \"temperature\": 0.7,\n",
    "}\n",
    "\n",
    "DEFAULT_MODEL = \"gpt-3.5-turbo-16k\" # gpt-3.5-turbo\n",
    "\n",
    "MAX_RETRIES = 5"
   ]
  },
  {
   "cell_type": "markdown",
   "id": "3d885ed0",
   "metadata": {},
   "source": [
    "## Pricing"
   ]
  },
  {
   "cell_type": "code",
   "execution_count": null,
   "id": "6cf1c13c",
   "metadata": {},
   "outputs": [],
   "source": [
    "# | export\n",
    "TOKEN_TYPES = [\"prompt_tokens\", \"completion_tokens\", \"total_tokens\"]\n",
    "\n",
    "MODEL_PRICING = {\n",
    "    \"gpt-4-32k\": {\n",
    "        \"input\": 0.06,\n",
    "        \"output\": 0.12\n",
    "    },\n",
    "    \"gpt-3.5-turbo-16k\": {\n",
    "        \"input\": 0.003,\n",
    "        \"output\": 0.004\n",
    "    },\n",
    "}"
   ]
  },
  {
   "cell_type": "code",
   "execution_count": null,
   "id": "94f8cf1c",
   "metadata": {},
   "outputs": [],
   "source": []
  }
 ],
 "metadata": {
  "kernelspec": {
   "display_name": "python3",
   "language": "python",
   "name": "python3"
  }
 },
 "nbformat": 4,
 "nbformat_minor": 5
}
