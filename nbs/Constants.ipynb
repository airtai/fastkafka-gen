{
 "cells": [
  {
   "cell_type": "code",
   "execution_count": null,
   "id": "b5a26be2",
   "metadata": {},
   "outputs": [],
   "source": [
    "# | default_exp _code_generator.constants"
   ]
  },
  {
   "cell_type": "markdown",
   "id": "85d03be5",
   "metadata": {},
   "source": [
    "## Code generation constants"
   ]
  },
  {
   "cell_type": "code",
   "execution_count": null,
   "id": "2c547541",
   "metadata": {},
   "outputs": [],
   "source": [
    "# | export\n",
    "\n",
    "from fastkafka_gen._components.package_data import get_root_data_path"
   ]
  },
  {
   "cell_type": "code",
   "execution_count": null,
   "id": "79bb7431",
   "metadata": {},
   "outputs": [],
   "source": [
    "# | export\n",
    "\n",
    "ASYNC_API_SPEC_FILE_NAME = \"asyncapi.yml\"\n",
    "APPLICATION_FILE_NAME = \"application.py\"\n",
    "INTEGRATION_TEST_FILE_NAME = \"test.py\""
   ]
  },
  {
   "cell_type": "markdown",
   "id": "5fd81bf4",
   "metadata": {},
   "source": [
    "## Model constants"
   ]
  },
  {
   "cell_type": "code",
   "execution_count": null,
   "id": "0e897799",
   "metadata": {},
   "outputs": [],
   "source": [
    "# | export\n",
    "\n",
    "DEFAULT_PARAMS = {\n",
    "    \"temperature\": 0.7,\n",
    "}\n",
    "\n",
    "DEFAULT_MODEL = \"gpt-3.5-turbo-16k\" # gpt-3.5-turbo\n",
    "\n",
    "MAX_RETRIES = 5\n",
    "MAX_ASYNC_SPEC_RETRIES = 3"
   ]
  },
  {
   "cell_type": "markdown",
   "id": "3d885ed0",
   "metadata": {},
   "source": [
    "## Pricing"
   ]
  },
  {
   "cell_type": "code",
   "execution_count": null,
   "id": "6cf1c13c",
   "metadata": {},
   "outputs": [],
   "source": [
    "# | export\n",
    "TOKEN_TYPES = [\"prompt_tokens\", \"completion_tokens\", \"total_tokens\"]\n",
    "\n",
    "MODEL_PRICING = {\n",
    "    \"gpt-4-32k\": {\n",
    "        \"input\": 0.06,\n",
    "        \"output\": 0.12\n",
    "    },\n",
    "    \"gpt-3.5-turbo-16k\": {\n",
    "        \"input\": 0.003,\n",
    "        \"output\": 0.004\n",
    "    },\n",
    "}"
   ]
  },
  {
   "cell_type": "markdown",
   "id": "81f82922",
   "metadata": {},
   "source": [
    "## Error responses"
   ]
  },
  {
   "cell_type": "code",
   "execution_count": null,
   "id": "44b64b11",
   "metadata": {},
   "outputs": [],
   "source": [
    "# | export\n",
    "INCOMPLETE_DESCRIPTION = \"Please check if your application description is missing some crutial information:\\n - Description of the messages which will be produced/consumed\\n - At least one topic\\n - The business logic to implement while consuming/producing the messages\\n\"\n",
    "DESCRIPTION_EXAMPLE = \"\"\"\n",
    "If you're unsure about how to construct the app description, consider the following example for guidance\n",
    "\n",
    "APPLICATION DESCRIPTION EXAMPLE:\n",
    "Write a fastkafka application with with one consumer function and two producer functions. \n",
    "The consumer function should receive the a message posted on \"new_joinee\" topic. \n",
    "The message should contain \"employee_name\", \"age\", \"location\" and \"experience\" attributes. \n",
    "After consuming the consumer function should send the details to the \"project_team\" and \"admin_team\" topics. \n",
    "Use only localhost broker.\"\"\"\n",
    "\n",
    "MAX_NUM_FIXES_MSG = \"Maximum number of retries\""
   ]
  },
  {
   "cell_type": "markdown",
   "id": "d5781085",
   "metadata": {},
   "source": [
    "## FastKafka docs archive url"
   ]
  },
  {
   "cell_type": "code",
   "execution_count": null,
   "id": "ebd37c54",
   "metadata": {},
   "outputs": [],
   "source": [
    "# | export\n",
    "\n",
    "FASTKAFKA_DOCS_MD_ARCHIVE_URL = \"https://github.com/airtai/fastkafka/raw/486-store-the-generated-docs-md-files-in-the-git-repository/.fastkafka_gen/site_md_archive.tar.gz\"\n",
    "DEFAULT_VECTOR_DB_PATH = get_root_data_path() / \"docs\""
   ]
  },
  {
   "cell_type": "code",
   "execution_count": null,
   "id": "e2afec96",
   "metadata": {},
   "outputs": [
    {
     "data": {
      "text/plain": [
       "PosixPath('/work/fastkafka-gen/fastkafka_gen/package_data/docs')"
      ]
     },
     "execution_count": null,
     "metadata": {},
     "output_type": "execute_result"
    }
   ],
   "source": [
    "DEFAULT_VECTOR_DB_PATH"
   ]
  }
 ],
 "metadata": {
  "kernelspec": {
   "display_name": "python3",
   "language": "python",
   "name": "python3"
  }
 },
 "nbformat": 4,
 "nbformat_minor": 5
}
