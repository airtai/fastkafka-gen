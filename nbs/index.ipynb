{
 "cells": [
  {
   "cell_type": "markdown",
   "metadata": {},
   "source": [
    "# Code generator for FastStream"
   ]
  },
  {
   "cell_type": "markdown",
   "metadata": {},
   "source": [
    "`faststream-gen` is a Python library that uses generative AI to automatically generate <a href=\"https://faststream.airt.ai\" target=\"_blank\">FastStream</a> applications. Simply describe your application requirements, and `faststream-gen` will generate a production-grade FastStream project that is ready to deploy in no time.\n",
    "\n",
    "![PyPI](https://img.shields.io/pypi/v/faststream-gen)\n",
    "![PyPI - Downloads](https://img.shields.io/pypi/dm/faststream-gen)\n",
    "![PyPI - Python Version](https://img.shields.io/pypi/pyversions/faststream-gen)\n",
    "![GitHub Workflow Status](https://img.shields.io/github/actions/workflow/status/airtai/fastkafka-gen/test.yaml)\n",
    "![GitHub](https://img.shields.io/github/license/airtai/fastkafka-gen)\n",
    "\n",
    "---"
   ]
  },
  {
   "cell_type": "markdown",
   "metadata": {},
   "source": [
    "**Documentation**: https://faststream-gen.airt.ai\n",
    "\n",
    "**Source Code**: https://github.com/airtai/faststream-gen\n",
    "\n",
    "---"
   ]
  },
  {
   "cell_type": "markdown",
   "metadata": {},
   "source": [
    "## Getting Started"
   ]
  },
  {
   "cell_type": "markdown",
   "metadata": {},
   "source": [
    "The code generator for <a href=\"https://faststream.airt.ai\" target=\"_blank\">FastStream</a> is a Python library that automates the process of creating FastStream applications. It works by taking your application requirements and swiftly turning them into a ready-to-deploy FastStream application. \n",
    "\n",
    "The key features are:\n",
    "\n",
    "- **Automatic FastStream project generation**: `faststream-gen` enables you to easily generate complete FastStream application with minimal effort. This library allows you to outline your application requirements, and it will quickly transform them into a fully-fledged FastStream project.\n",
    "- **Tested code**: `faststream-gen` provides dependable code through rigorous testing, including pre-implemented integration tests, ensuring stability and functionality, saving development time, and preventing common bugs.\n",
    "- **Script Templates**: Streamline the deployment of your FastStream application using faststream-gen's built-in scripts, tailored for initiating, subscribing to Kafka topic and shutting down the local Kafka broker. \n",
    "- **GitHub workflow files**: `faststream-gen` integrates seamlessly with your version control and continuous integration pipeline through its GitHub workflow files. These predefined configuration files are optimized for FastStream projects, enabling smooth integration with GitHub Actions. You can automate tasks such as code validation, testing, and deployment, ensuring that your FastStream application remains in top shape throughout its development lifecycle."
   ]
  },
  {
   "cell_type": "code",
   "execution_count": null,
   "metadata": {},
   "outputs": [
    {
     "data": {
      "text/html": [
       "<video src=\"https://github.com/airtai/faststream-gen/assets/32619626/f27e42dc-946d-47b3-8206-bbca35380e78\" controls  >\n",
       "      Your browser does not support the <code>video</code> element.\n",
       "    </video>"
      ],
      "text/plain": [
       "<IPython.core.display.Video object>"
      ]
     },
     "execution_count": null,
     "metadata": {},
     "output_type": "execute_result"
    }
   ],
   "source": [
    "# | echo: false\n",
    "\n",
    "from IPython.display import Video\n",
    "\n",
    "Video(\"https://github.com/airtai/faststream-gen/assets/32619626/f27e42dc-946d-47b3-8206-bbca35380e78\")"
   ]
  },
  {
   "cell_type": "markdown",
   "metadata": {},
   "source": [
    "### Quick start"
   ]
  },
  {
   "cell_type": "markdown",
   "metadata": {},
   "source": [
    "The following quick start guide will walk you through installing and configuring the `faststream-gen` library, demonstrating the creation of a new FastStream project in seconds."
   ]
  },
  {
   "cell_type": "markdown",
   "metadata": {},
   "source": [
    "#### Install\n",
    "\n",
    "`faststream-gen` is published as a Python package and can be installed with pip:\n",
    "\n",
    "```shell\n",
    "pip install faststream-gen\n",
    "```\n",
    "\n",
    "If the installation was successful, you should now have the **faststream-gen** installed on your system. Run the below command from the terminal to see the full list of available commands:\n",
    "\n",
    "``` shell\n",
    "faststream_gen --help\n",
    "```"
   ]
  },
  {
   "cell_type": "code",
   "execution_count": null,
   "metadata": {},
   "outputs": [
    {
     "name": "stdout",
     "output_type": "stream",
     "text": [
      "\u001b[1m                                                                                \u001b[0m\r\n",
      "\u001b[1m \u001b[0m\u001b[1;33mUsage: \u001b[0m\u001b[1mfaststream_gen [OPTIONS] [DESCRIPTION]\u001b[0m\u001b[1m                                 \u001b[0m\u001b[1m \u001b[0m\r\n",
      "\u001b[1m                                                                                \u001b[0m\r\n",
      " Effortlessly create a new FastStream project based on the app description.     \r\n",
      "                                                                                \r\n",
      "\u001b[2m╭─\u001b[0m\u001b[2m Arguments \u001b[0m\u001b[2m─────────────────────────────────────────────────────────────────\u001b[0m\u001b[2m─╮\u001b[0m\r\n",
      "\u001b[2m│\u001b[0m   description      \u001b[1;2;33m[\u001b[0m\u001b[1;33mDESCRIPTION\u001b[0m\u001b[1;2;33m]\u001b[0m  Summarize your FastStream application in a \u001b[2m│\u001b[0m\r\n",
      "\u001b[2m│\u001b[0m                                   few sentences!                             \u001b[2m│\u001b[0m\r\n",
      "\u001b[2m│\u001b[0m                                                                              \u001b[2m│\u001b[0m\r\n",
      "\u001b[2m│\u001b[0m                                   Include details about messages, topics,    \u001b[2m│\u001b[0m\r\n",
      "\u001b[2m│\u001b[0m                                   servers, and a brief overview of the       \u001b[2m│\u001b[0m\r\n",
      "\u001b[2m│\u001b[0m                                   intended business logic.                   \u001b[2m│\u001b[0m\r\n",
      "\u001b[2m│\u001b[0m                                                                              \u001b[2m│\u001b[0m\r\n",
      "\u001b[2m│\u001b[0m                                   The simpler and more specific the app      \u001b[2m│\u001b[0m\r\n",
      "\u001b[2m│\u001b[0m                                   description is, the better the generated   \u001b[2m│\u001b[0m\r\n",
      "\u001b[2m│\u001b[0m                                   app will be. Please refer to the below     \u001b[2m│\u001b[0m\r\n",
      "\u001b[2m│\u001b[0m                                   example for inspiration:                   \u001b[2m│\u001b[0m\r\n",
      "\u001b[2m│\u001b[0m                                                                              \u001b[2m│\u001b[0m\r\n",
      "\u001b[2m│\u001b[0m                                   Create a FastStream application using      \u001b[2m│\u001b[0m\r\n",
      "\u001b[2m│\u001b[0m                                   localhost broker for testing and use the   \u001b[2m│\u001b[0m\r\n",
      "\u001b[2m│\u001b[0m                                   default port number.  It should consume    \u001b[2m│\u001b[0m\r\n",
      "\u001b[2m│\u001b[0m                                   messages from the \"input_data\" topic,      \u001b[2m│\u001b[0m\r\n",
      "\u001b[2m│\u001b[0m                                   where each message is a JSON encoded       \u001b[2m│\u001b[0m\r\n",
      "\u001b[2m│\u001b[0m                                   object containing a single attribute:      \u001b[2m│\u001b[0m\r\n",
      "\u001b[2m│\u001b[0m                                   'data'.  For each consumed message, create \u001b[2m│\u001b[0m\r\n",
      "\u001b[2m│\u001b[0m                                   a new message object and increment the     \u001b[2m│\u001b[0m\r\n",
      "\u001b[2m│\u001b[0m                                   value of the data attribute by 1. Finally, \u001b[2m│\u001b[0m\r\n",
      "\u001b[2m│\u001b[0m                                   send the modified message to the           \u001b[2m│\u001b[0m\r\n",
      "\u001b[2m│\u001b[0m                                   'output_data' topic.                       \u001b[2m│\u001b[0m\r\n",
      "\u001b[2m│\u001b[0m                                   \u001b[2m[default: None]                           \u001b[0m \u001b[2m│\u001b[0m\r\n",
      "\u001b[2m╰──────────────────────────────────────────────────────────────────────────────╯\u001b[0m\r\n",
      "\u001b[2m╭─\u001b[0m\u001b[2m Options \u001b[0m\u001b[2m───────────────────────────────────────────────────────────────────\u001b[0m\u001b[2m─╮\u001b[0m\r\n",
      "\u001b[2m│\u001b[0m \u001b[1;36m-\u001b[0m\u001b[1;36m-input_file\u001b[0m          \u001b[1;32m-i\u001b[0m      \u001b[1;33mTEXT                 \u001b[0m  The path to the file    \u001b[2m│\u001b[0m\r\n",
      "\u001b[2m│\u001b[0m                                                      with the app            \u001b[2m│\u001b[0m\r\n",
      "\u001b[2m│\u001b[0m                                                      desription. This path   \u001b[2m│\u001b[0m\r\n",
      "\u001b[2m│\u001b[0m                                                      should be relative to   \u001b[2m│\u001b[0m\r\n",
      "\u001b[2m│\u001b[0m                                                      the current working     \u001b[2m│\u001b[0m\r\n",
      "\u001b[2m│\u001b[0m                                                      directory.              \u001b[2m│\u001b[0m\r\n",
      "\u001b[2m│\u001b[0m                                                      If the app description  \u001b[2m│\u001b[0m\r\n",
      "\u001b[2m│\u001b[0m                                                      is passed via both a    \u001b[2m│\u001b[0m\r\n",
      "\u001b[2m│\u001b[0m                                                      \u001b[1;36m-\u001b[0m\u001b[1;36m-input_file\u001b[0m and a      \u001b[2m│\u001b[0m\r\n",
      "\u001b[2m│\u001b[0m                                                      command line argument,  \u001b[2m│\u001b[0m\r\n",
      "\u001b[2m│\u001b[0m                                                      the description from    \u001b[2m│\u001b[0m\r\n",
      "\u001b[2m│\u001b[0m                                                      the command line will   \u001b[2m│\u001b[0m\r\n",
      "\u001b[2m│\u001b[0m                                                      be used to create the   \u001b[2m│\u001b[0m\r\n",
      "\u001b[2m│\u001b[0m                                                      application.            \u001b[2m│\u001b[0m\r\n",
      "\u001b[2m│\u001b[0m                                                      \u001b[2m[default: None]        \u001b[0m \u001b[2m│\u001b[0m\r\n",
      "\u001b[2m│\u001b[0m \u001b[1;36m-\u001b[0m\u001b[1;36m-output_path\u001b[0m         \u001b[1;32m-o\u001b[0m      \u001b[1;33mTEXT                 \u001b[0m  The path to the output  \u001b[2m│\u001b[0m\r\n",
      "\u001b[2m│\u001b[0m                                                      directory where the     \u001b[2m│\u001b[0m\r\n",
      "\u001b[2m│\u001b[0m                                                      generated project files \u001b[2m│\u001b[0m\r\n",
      "\u001b[2m│\u001b[0m                                                      will be saved. This     \u001b[2m│\u001b[0m\r\n",
      "\u001b[2m│\u001b[0m                                                      path should be relative \u001b[2m│\u001b[0m\r\n",
      "\u001b[2m│\u001b[0m                                                      to the current working  \u001b[2m│\u001b[0m\r\n",
      "\u001b[2m│\u001b[0m                                                      directory.              \u001b[2m│\u001b[0m\r\n",
      "\u001b[2m│\u001b[0m                                                      \u001b[2m[default: .]           \u001b[0m \u001b[2m│\u001b[0m\r\n",
      "\u001b[2m│\u001b[0m \u001b[1;36m-\u001b[0m\u001b[1;36m-model\u001b[0m               \u001b[1;32m-m\u001b[0m      \u001b[1;2;33m[\u001b[0m\u001b[1;33mgpt-3.5-turbo-16k\u001b[0m\u001b[1;2;33m|\u001b[0m\u001b[1;33mgp\u001b[0m  The OpenAI model that   \u001b[2m│\u001b[0m\r\n",
      "\u001b[2m│\u001b[0m                               \u001b[1;33mt-4\u001b[0m\u001b[1;2;33m]\u001b[0m\u001b[1;33m                 \u001b[0m  will be used to create  \u001b[2m│\u001b[0m\r\n",
      "\u001b[2m│\u001b[0m                                                      the FastStream project. \u001b[2m│\u001b[0m\r\n",
      "\u001b[2m│\u001b[0m                                                      For better results, we  \u001b[2m│\u001b[0m\r\n",
      "\u001b[2m│\u001b[0m                                                      recommend using         \u001b[2m│\u001b[0m\r\n",
      "\u001b[2m│\u001b[0m                                                      'gpt-4'.                \u001b[2m│\u001b[0m\r\n",
      "\u001b[2m│\u001b[0m                                                      \u001b[2m[default:              \u001b[0m \u001b[2m│\u001b[0m\r\n",
      "\u001b[2m│\u001b[0m                                                      \u001b[2mgpt-3.5-turbo-16k]     \u001b[0m \u001b[2m│\u001b[0m\r\n",
      "\u001b[2m│\u001b[0m \u001b[1;36m-\u001b[0m\u001b[1;36m-verbose\u001b[0m             \u001b[1;32m-v\u001b[0m      \u001b[1;33m                     \u001b[0m  Enable verbose logging  \u001b[2m│\u001b[0m\r\n",
      "\u001b[2m│\u001b[0m                                                      by setting the logger   \u001b[2m│\u001b[0m\r\n",
      "\u001b[2m│\u001b[0m                                                      level to INFO.          \u001b[2m│\u001b[0m\r\n",
      "\u001b[2m│\u001b[0m \u001b[1;36m-\u001b[0m\u001b[1;36m-dev\u001b[0m                 \u001b[1;32m-d\u001b[0m      \u001b[1;33m                     \u001b[0m  Save the intermediate   \u001b[2m│\u001b[0m\r\n",
      "\u001b[2m│\u001b[0m                                                      faststream-gen files    \u001b[2m│\u001b[0m\r\n",
      "\u001b[2m│\u001b[0m                                                      within the output_path. \u001b[2m│\u001b[0m\r\n",
      "\u001b[2m│\u001b[0m \u001b[1;36m-\u001b[0m\u001b[1;36m-install\u001b[0m\u001b[1;36m-completion\u001b[0m          \u001b[1;33m                     \u001b[0m  Install completion for  \u001b[2m│\u001b[0m\r\n",
      "\u001b[2m│\u001b[0m                                                      the current shell.      \u001b[2m│\u001b[0m\r\n",
      "\u001b[2m│\u001b[0m \u001b[1;36m-\u001b[0m\u001b[1;36m-show\u001b[0m\u001b[1;36m-completion\u001b[0m             \u001b[1;33m                     \u001b[0m  Show completion for the \u001b[2m│\u001b[0m\r\n",
      "\u001b[2m│\u001b[0m                                                      current shell, to copy  \u001b[2m│\u001b[0m\r\n",
      "\u001b[2m│\u001b[0m                                                      it or customize the     \u001b[2m│\u001b[0m\r\n",
      "\u001b[2m│\u001b[0m                                                      installation.           \u001b[2m│\u001b[0m\r\n",
      "\u001b[2m│\u001b[0m \u001b[1;36m-\u001b[0m\u001b[1;36m-help\u001b[0m                        \u001b[1;33m                     \u001b[0m  Show this message and   \u001b[2m│\u001b[0m\r\n",
      "\u001b[2m│\u001b[0m                                                      exit.                   \u001b[2m│\u001b[0m\r\n",
      "\u001b[2m╰──────────────────────────────────────────────────────────────────────────────╯\u001b[0m\r\n",
      "\r\n"
     ]
    }
   ],
   "source": [
    "# | echo: false\n",
    "\n",
    "!faststream_gen --help"
   ]
  },
  {
   "cell_type": "markdown",
   "metadata": {},
   "source": [
    "#### Generate new project\n",
    "\n",
    "The **faststream-gen** library uses OpenAI's model to generate FastStream projects. In order to use the library, you'll need to <a href=\"https://beta.openai.com/account/api-keys\" target=\"_blank\">create an API key for OpenAI</a>. \n",
    "\n",
    "Once you have your API key, store it in the **OPENAI_API_KEY** environment variable. This is a necessary step for the library to work."
   ]
  },
  {
   "cell_type": "markdown",
   "metadata": {},
   "source": [
    "We're now ready to create a new FastStream application with the `faststream-gen` library.\n",
    "\n",
    "Simply run the following command to create a new FastStream application in the `my-awesome-project` directory:\n",
    "\n",
    "```shell\n",
    "faststream_gen \"Create a FastStream application using localhost broker for testing and use the default port number. It should consume messages from the 'input_data' topic, where each message is a JSON encoded object containing a single attribute: 'data'. While consuming from the topic, increment the value of the data attribute by 1. Finally, send message to the 'output_data' topic.\" -o \"./my-awesome-project\"\n",
    "```"
   ]
  },
  {
   "cell_type": "code",
   "execution_count": null,
   "metadata": {},
   "outputs": [
    {
     "name": "stdout",
     "output_type": "stream",
     "text": [
      "✨  Generating a new FastStream application!\n",
      "\u001b[K\u001b[?25h\u001b[36m ✔ Application description validated.\u001b[0m \n",
      "\u001b[K\u001b[?25h\u001b[36m ✔ FastStream app skeleton code generated.\u001b[0m akes around 15 to 45 seconds)...\u001b[?25h\n",
      "\u001b[K\u001b[?25h\u001b[36m ✔ The app and the tests are generated.\u001b[0m  around 30 to 90 seconds)...\n",
      "\u001b[K\u001b[?25h\u001b[36m ✔ New FastStream project created.\u001b[0m \n",
      "\u001b[K\u001b[?25h\u001b[36m ✔ Integration tests were successfully completed.\u001b[0m \n",
      "\u001b[36m Tokens used: 9564\u001b[0m\n",
      "\u001b[36m Total Cost (USD): $0.02921\u001b[0m\n",
      "\u001b[36m✨  All files were successfully generated!\u001b[0m\n"
     ]
    }
   ],
   "source": [
    "# | echo: false\n",
    "\n",
    "!faststream_gen \"Create a FastStream application using localhost broker for testing and use the default port number. It should consume messages from the 'input_data' topic, where each message is a JSON encoded object containing a single attribute: 'data'. While consuming from the topic, increment the value of the data attribute by 1. Finally, send message to the 'output_data' topic.\" -o \"./my-awesome-project\""
   ]
  },
  {
   "cell_type": "markdown",
   "metadata": {},
   "source": [
    "Here's a look at the directory hierarchy:"
   ]
  },
  {
   "cell_type": "code",
   "execution_count": null,
   "metadata": {},
   "outputs": [
    {
     "name": "stdout",
     "output_type": "stream",
     "text": [
      "/bin/bash: line 1: tree: command not found\r\n"
     ]
    }
   ],
   "source": [
    "# | echo: false\n",
    "\n",
    "# if the below command fails, run: sudo apt-get install tree    \n",
    "\n",
    "!tree -a my-awesome-project"
   ]
  },
  {
   "cell_type": "markdown",
   "metadata": {},
   "source": [
    "Let's take a quick look at the generated application and test code."
   ]
  },
  {
   "cell_type": "markdown",
   "metadata": {},
   "source": [
    "`application.py`:"
   ]
  },
  {
   "cell_type": "code",
   "execution_count": null,
   "metadata": {},
   "outputs": [
    {
     "name": "stdout",
     "output_type": "stream",
     "text": [
      "\r\n",
      "\r\n",
      "from pydantic import BaseModel, Field\r\n",
      "\r\n",
      "from faststream import FastStream, Logger\r\n",
      "from faststream.kafka import KafkaBroker\r\n",
      "\r\n",
      "\r\n",
      "class Data(BaseModel):\r\n",
      "    data: int = Field(\r\n",
      "        ..., examples=[1], description=\"The data attribute to be incremented\"\r\n",
      "    )\r\n",
      "\r\n",
      "\r\n",
      "broker = KafkaBroker(\"localhost:9092\")\r\n",
      "app = FastStream(broker)\r\n",
      "\r\n",
      "\r\n",
      "to_output_data = broker.publisher(\"output_data\")\r\n",
      "\r\n",
      "\r\n",
      "@broker.subscriber(\"input_data\")\r\n",
      "async def on_input_data(msg: Data, logger: Logger) -> None:\r\n",
      "    logger.info(f\"{msg=}\")\r\n",
      "    incremented_data = Data(data=msg.data + 1)\r\n",
      "    await to_output_data.publish(incremented_data)\r\n",
      "\r\n",
      "\r\n"
     ]
    }
   ],
   "source": [
    "# | echo: false\n",
    "\n",
    "!cat my-awesome-project/app/application.py"
   ]
  },
  {
   "cell_type": "markdown",
   "metadata": {},
   "source": [
    "`test_application.py`:"
   ]
  },
  {
   "cell_type": "code",
   "execution_count": null,
   "metadata": {},
   "outputs": [
    {
     "name": "stdout",
     "output_type": "stream",
     "text": [
      "\r\n",
      "\r\n",
      "import pytest\r\n",
      "\r\n",
      "from faststream import Context\r\n",
      "from faststream.kafka import TestKafkaBroker\r\n",
      "\r\n",
      "from app.application import Data, broker, on_input_data\r\n",
      "\r\n",
      "\r\n",
      "@broker.subscriber(\"output_data\")\r\n",
      "async def on_output_data(msg: Data):\r\n",
      "    pass\r\n",
      "\r\n",
      "\r\n",
      "@pytest.mark.asyncio\r\n",
      "async def test_data_was_incremented():\r\n",
      "    async with TestKafkaBroker(broker):\r\n",
      "        await broker.publish(Data(data=1), \"input_data\")\r\n",
      "        on_input_data.mock.assert_called_with(dict(Data(data=1)))\r\n",
      "        on_output_data.mock.assert_called_with(dict(Data(data=2)))"
     ]
    }
   ],
   "source": [
    "# | echo: false\n",
    "\n",
    "!cat my-awesome-project/tests/test_application.py"
   ]
  },
  {
   "cell_type": "markdown",
   "metadata": {},
   "source": [
    "#### Start localhost Kafka broker\n",
    "\n",
    "In order for `FastStream` applications to publish and consume messages from the Kafka broker, it is necessary to have a running Kafka broker.\n",
    "\n",
    "Along with application and test, `faststream-gen` also generated `scripts` directory.\n",
    "You can start local Kafka broker (inside docker container) by executing following commands:\n",
    "\n",
    "```sh\n",
    "cd my-awesome-project\n",
    "# make all shell scripts executable\n",
    "chmod +x scripts/*.sh\n",
    "# start local kafka broker\n",
    "./scripts/start_kafka_broker_locally.sh\n",
    "```"
   ]
  },
  {
   "cell_type": "markdown",
   "metadata": {},
   "source": [
    "#### Start application\n",
    "\n",
    "To start the FastKafka application, run the following command:\n",
    "```sh\n",
    "faststream run  app.application:app\n",
    "```\n",
    "\n",
    "#### Stop application\n",
    "\n",
    "To stop the FastKafka application, run the following command:\n",
    "\n",
    "```sh\n",
    "./scripts/stop_kafka_broker_locally.sh\n",
    "```"
   ]
  },
  {
   "cell_type": "markdown",
   "metadata": {},
   "source": [
    "## Copyright\n",
    "Copyright © 2023 onwards airt technologies ltd, Inc."
   ]
  },
  {
   "cell_type": "markdown",
   "metadata": {},
   "source": [
    "## License\n",
    "\n",
    "This project is licensed under the terms of the <a href=\"https://github.com/airtai/faststream-gen/blob/main/LICENSE\" target=\"_blank\">Apache License 2.0</a>"
   ]
  },
  {
   "cell_type": "code",
   "execution_count": null,
   "metadata": {},
   "outputs": [],
   "source": []
  }
 ],
 "metadata": {
  "kernelspec": {
   "display_name": "python3",
   "language": "python",
   "name": "python3"
  }
 },
 "nbformat": 4,
 "nbformat_minor": 4
}
