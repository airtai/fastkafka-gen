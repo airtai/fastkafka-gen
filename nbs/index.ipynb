{
 "cells": [
  {
   "cell_type": "code",
   "execution_count": 1,
   "metadata": {},
   "outputs": [],
   "source": [
    "# | hide\n",
    "\n",
    "from IPython.display import Markdown as md\n",
    "from IPython.display import Code\n"
   ]
  },
  {
   "cell_type": "markdown",
   "metadata": {},
   "source": [
    "# faststream_gen"
   ]
  },
  {
   "cell_type": "markdown",
   "metadata": {},
   "source": [
    "The FastStream-gen library uses advanced AI to generate `FastStream` code from user descriptions, speeding up `FastStream` app development.\n",
    "\n",
    "---\n",
    "\n",
    "![PyPI](https://img.shields.io/pypi/v/faststream-gen)\n",
    "![PyPI - Downloads](https://img.shields.io/pypi/dm/faststream-gen)\n",
    "![PyPI - Python Version](https://img.shields.io/pypi/pyversions/faststream-gen)\n",
    "\n",
    "![GitHub Workflow Status](https://img.shields.io/github/actions/workflow/status/airtai/fastkafka-gen/test.yaml)\n",
    "![GitHub](https://img.shields.io/github/license/airtai/fastkafka-gen)\n",
    "\n",
    "---"
   ]
  },
  {
   "cell_type": "markdown",
   "metadata": {},
   "source": []
  },
  {
   "cell_type": "markdown",
   "metadata": {},
   "source": [
    "If you've heard about the `FastStream` library and maybe wanted to try it out, but didn't have time to go through the documentation, no problem, `faststream_gen` will generate your `FastStream` application. Also, to make sure that the generated application really works, we will also generate tests for you. All you need to do is provide the desription of the application you want and `faststream_gen` will generate it for you!"
   ]
  },
  {
   "cell_type": "markdown",
   "metadata": {},
   "source": [
    "## Set up your OPENAI_API_KEY"
   ]
  },
  {
   "cell_type": "raw",
   "metadata": {},
   "source": [
    "For generating `FastStream` applications, we are using `OPENAI` models. So the first step is exporting your `OPENAI_API_KEY`.\n",
    "\n",
    "```sh\n",
    "export OPENAI_API_KEY=\"your_openai_api_key\"\n",
    "```"
   ]
  },
  {
   "cell_type": "markdown",
   "metadata": {},
   "source": [
    "If you don't already have `OPENAI_API_KEY`, you can create one at [OPENAI API keys](https://platform.openai.com/account/api-keys)"
   ]
  },
  {
   "cell_type": "markdown",
   "metadata": {},
   "source": [
    "## Install"
   ]
  },
  {
   "cell_type": "markdown",
   "metadata": {},
   "source": [
    "faststream_gen is published as a Python package and can be installed with pip:"
   ]
  },
  {
   "cell_type": "markdown",
   "metadata": {},
   "source": [
    "```sh\n",
    "pip install faststream_gen\n",
    "```"
   ]
  },
  {
   "cell_type": "markdown",
   "metadata": {},
   "source": [
    "If the installation was successful, you should now have the faststream_gen installed on your system. Run the below command from the terminal to see the full list of available commands:"
   ]
  },
  {
   "cell_type": "markdown",
   "metadata": {},
   "source": [
    "```sh\n",
    "faststream_gen --help\n",
    "```"
   ]
  },
  {
   "cell_type": "code",
   "execution_count": 2,
   "metadata": {},
   "outputs": [
    {
     "name": "stdout",
     "output_type": "stream",
     "text": [
      "\u001b[1m                                                                                \u001b[0m\r\n",
      "\u001b[1m \u001b[0m\u001b[1;33mUsage: \u001b[0m\u001b[1mfaststream_gen [OPTIONS] [DESCRIPTION]\u001b[0m\u001b[1m                                 \u001b[0m\u001b[1m \u001b[0m\r\n",
      "\u001b[1m                                                                                \u001b[0m\r\n",
      " Effortlessly generate FastStream application code and integration tests from   \r\n",
      " the app description.                                                           \r\n",
      "                                                                                \r\n",
      "\u001b[2m╭─\u001b[0m\u001b[2m Arguments \u001b[0m\u001b[2m─────────────────────────────────────────────────────────────────\u001b[0m\u001b[2m─╮\u001b[0m\r\n",
      "\u001b[2m│\u001b[0m   description      \u001b[1;2;33m[\u001b[0m\u001b[1;33mDESCRIPTION\u001b[0m\u001b[1;2;33m]\u001b[0m  Summarize your FastStream app in a few     \u001b[2m│\u001b[0m\r\n",
      "\u001b[2m│\u001b[0m                                   sentences!                                 \u001b[2m│\u001b[0m\r\n",
      "\u001b[2m│\u001b[0m                                                                              \u001b[2m│\u001b[0m\r\n",
      "\u001b[2m│\u001b[0m                                   Include details about messages, topics,    \u001b[2m│\u001b[0m\r\n",
      "\u001b[2m│\u001b[0m                                   servers, and a brief overview of the       \u001b[2m│\u001b[0m\r\n",
      "\u001b[2m│\u001b[0m                                   intended business logic.                   \u001b[2m│\u001b[0m\r\n",
      "\u001b[2m│\u001b[0m                                                                              \u001b[2m│\u001b[0m\r\n",
      "\u001b[2m│\u001b[0m                                   The simpler and more specific the app      \u001b[2m│\u001b[0m\r\n",
      "\u001b[2m│\u001b[0m                                   description is, the better the generated   \u001b[2m│\u001b[0m\r\n",
      "\u001b[2m│\u001b[0m                                   app will be. Please refer to the below     \u001b[2m│\u001b[0m\r\n",
      "\u001b[2m│\u001b[0m                                   example for inspiration:                   \u001b[2m│\u001b[0m\r\n",
      "\u001b[2m│\u001b[0m                                                                              \u001b[2m│\u001b[0m\r\n",
      "\u001b[2m│\u001b[0m                                   Create a FastStream application using      \u001b[2m│\u001b[0m\r\n",
      "\u001b[2m│\u001b[0m                                   localhost broker for testing and use the   \u001b[2m│\u001b[0m\r\n",
      "\u001b[2m│\u001b[0m                                   default port number.  It should consume    \u001b[2m│\u001b[0m\r\n",
      "\u001b[2m│\u001b[0m                                   messages from the \"input_data\" topic,      \u001b[2m│\u001b[0m\r\n",
      "\u001b[2m│\u001b[0m                                   where each message is a JSON encoded       \u001b[2m│\u001b[0m\r\n",
      "\u001b[2m│\u001b[0m                                   object containing a single attribute:      \u001b[2m│\u001b[0m\r\n",
      "\u001b[2m│\u001b[0m                                   'data'.  For each consumed message, create \u001b[2m│\u001b[0m\r\n",
      "\u001b[2m│\u001b[0m                                   a new message object and increment the     \u001b[2m│\u001b[0m\r\n",
      "\u001b[2m│\u001b[0m                                   value of the data attribute by 1. Finally, \u001b[2m│\u001b[0m\r\n",
      "\u001b[2m│\u001b[0m                                   send the modified message to the           \u001b[2m│\u001b[0m\r\n",
      "\u001b[2m│\u001b[0m                                   'output_data' topic.                       \u001b[2m│\u001b[0m\r\n",
      "\u001b[2m│\u001b[0m                                   \u001b[2m[default: None]                           \u001b[0m \u001b[2m│\u001b[0m\r\n",
      "\u001b[2m╰──────────────────────────────────────────────────────────────────────────────╯\u001b[0m\r\n",
      "\u001b[2m╭─\u001b[0m\u001b[2m Options \u001b[0m\u001b[2m───────────────────────────────────────────────────────────────────\u001b[0m\u001b[2m─╮\u001b[0m\r\n",
      "\u001b[2m│\u001b[0m \u001b[1;36m-\u001b[0m\u001b[1;36m-input_file\u001b[0m          \u001b[1;32m-i\u001b[0m      \u001b[1;33mTEXT\u001b[0m  The path to the file with the app        \u001b[2m│\u001b[0m\r\n",
      "\u001b[2m│\u001b[0m                                     desription. This path should be relative \u001b[2m│\u001b[0m\r\n",
      "\u001b[2m│\u001b[0m                                     to the current working directory.        \u001b[2m│\u001b[0m\r\n",
      "\u001b[2m│\u001b[0m                                     If the app description is passed via     \u001b[2m│\u001b[0m\r\n",
      "\u001b[2m│\u001b[0m                                     both a \u001b[1;36m-\u001b[0m\u001b[1;36m-input_file\u001b[0m and a command line   \u001b[2m│\u001b[0m\r\n",
      "\u001b[2m│\u001b[0m                                     argument, the description from the       \u001b[2m│\u001b[0m\r\n",
      "\u001b[2m│\u001b[0m                                     command line will be used to create the  \u001b[2m│\u001b[0m\r\n",
      "\u001b[2m│\u001b[0m                                     application.                             \u001b[2m│\u001b[0m\r\n",
      "\u001b[2m│\u001b[0m                                     \u001b[2m[default: None]                         \u001b[0m \u001b[2m│\u001b[0m\r\n",
      "\u001b[2m│\u001b[0m \u001b[1;36m-\u001b[0m\u001b[1;36m-output_path\u001b[0m         \u001b[1;32m-o\u001b[0m      \u001b[1;33mTEXT\u001b[0m  The path to the output directory where   \u001b[2m│\u001b[0m\r\n",
      "\u001b[2m│\u001b[0m                                     the generated files will be saved. This  \u001b[2m│\u001b[0m\r\n",
      "\u001b[2m│\u001b[0m                                     path should be relative to the current   \u001b[2m│\u001b[0m\r\n",
      "\u001b[2m│\u001b[0m                                     working directory.                       \u001b[2m│\u001b[0m\r\n",
      "\u001b[2m│\u001b[0m                                     \u001b[2m[default: ./faststream-gen]             \u001b[0m \u001b[2m│\u001b[0m\r\n",
      "\u001b[2m│\u001b[0m \u001b[1;36m-\u001b[0m\u001b[1;36m-verbose\u001b[0m             \u001b[1;32m-v\u001b[0m      \u001b[1;33m    \u001b[0m  Enable verbose logging by setting the    \u001b[2m│\u001b[0m\r\n",
      "\u001b[2m│\u001b[0m                                     logger level to INFO.                    \u001b[2m│\u001b[0m\r\n",
      "\u001b[2m│\u001b[0m \u001b[1;36m-\u001b[0m\u001b[1;36m-install\u001b[0m\u001b[1;36m-completion\u001b[0m          \u001b[1;33m    \u001b[0m  Install completion for the current       \u001b[2m│\u001b[0m\r\n",
      "\u001b[2m│\u001b[0m                                     shell.                                   \u001b[2m│\u001b[0m\r\n",
      "\u001b[2m│\u001b[0m \u001b[1;36m-\u001b[0m\u001b[1;36m-show\u001b[0m\u001b[1;36m-completion\u001b[0m             \u001b[1;33m    \u001b[0m  Show completion for the current shell,   \u001b[2m│\u001b[0m\r\n",
      "\u001b[2m│\u001b[0m                                     to copy it or customize the              \u001b[2m│\u001b[0m\r\n",
      "\u001b[2m│\u001b[0m                                     installation.                            \u001b[2m│\u001b[0m\r\n",
      "\u001b[2m│\u001b[0m \u001b[1;36m-\u001b[0m\u001b[1;36m-help\u001b[0m                        \u001b[1;33m    \u001b[0m  Show this message and exit.              \u001b[2m│\u001b[0m\r\n",
      "\u001b[2m╰──────────────────────────────────────────────────────────────────────────────╯\u001b[0m\r\n",
      "\r\n"
     ]
    }
   ],
   "source": [
    "# | echo: false\n",
    "! faststream_gen --help"
   ]
  },
  {
   "cell_type": "markdown",
   "metadata": {},
   "source": [
    "## How to use"
   ]
  },
  {
   "cell_type": "markdown",
   "metadata": {},
   "source": [
    "This library is very easy to use. The only thing you need to do is prepare a description of your `FastStream` application, i.e. write what your application should do and pass it to the `faststrem_gen` command as a `string`:"
   ]
  },
  {
   "cell_type": "markdown",
   "metadata": {},
   "source": [
    "```sh\n",
    "faststream_gen \"your_app_description\"\n",
    "```"
   ]
  },
  {
   "cell_type": "markdown",
   "metadata": {},
   "source": [
    "### Example"
   ]
  },
  {
   "cell_type": "code",
   "execution_count": 3,
   "metadata": {},
   "outputs": [],
   "source": [
    "# | hide\n",
    "\n",
    "with open('../docs_src/app_index_example/app_description.txt', 'r') as file:\n",
    "    description = file.read().replace('\\n', '').replace('\"', \"'\")\n",
    "\n",
    "faststream_gen_example = f\"\"\"\n",
    "```sh\n",
    "faststream_gen  \"{description}\" \n",
    "✨  Generating a new FastStream application!\n",
    " ✔ Application description validated \n",
    " ✔ FastStream app skeleton generated and saved at: ./faststream-gen/application_skeleton.py \n",
    " ✔ FastStream app generated and saved at: ./faststream-gen/application.py \n",
    " ✔ Tests are generated and saved at: ./faststream-gen/test.py \n",
    " Tokens used: 18572\n",
    " Total Cost (USD): $0.05635\n",
    "✨  All files were successfully generated!\n",
    "```\n",
    "\n",
    "**Note**: If you have longer application description (and we encourage writing a detailed description), it is easier to save description into the file and use:\n",
    "```sh\n",
    "faststream_gen -i path_to_app_description/description.txt\n",
    "```\n",
    "\"\"\""
   ]
  },
  {
   "cell_type": "code",
   "execution_count": 4,
   "metadata": {},
   "outputs": [
    {
     "data": {
      "text/markdown": [
       "\n",
       "```sh\n",
       "faststream_gen  \"Write a faststream application with with one consumer function and two producer functions. The consumer function should receive the a message posted on 'new_joinee' topic. The message should contain 'employee_name', 'age', 'location' and 'experience' attributes. After consuming the consumer function should send the details to the 'project_team' and 'admin_team' topics. Use only localhost broker\" \n",
       "✨  Generating a new FastStream application!\n",
       " ✔ Application description validated \n",
       " ✔ FastStream app skeleton generated and saved at: ./faststream-gen/application_skeleton.py \n",
       " ✔ FastStream app generated and saved at: ./faststream-gen/application.py \n",
       " ✔ Tests are generated and saved at: ./faststream-gen/test.py \n",
       " Tokens used: 18572\n",
       " Total Cost (USD): $0.05635\n",
       "✨  All files were successfully generated!\n",
       "```\n",
       "\n",
       "**Note**: If you have longer application description (and we encourage writing a detailed description), it is easier to save description into the file and use:\n",
       "```sh\n",
       "faststream_gen -i path_to_app_description/description.txt\n",
       "```\n"
      ],
      "text/plain": [
       "<IPython.core.display.Markdown object>"
      ]
     },
     "execution_count": 4,
     "metadata": {},
     "output_type": "execute_result"
    }
   ],
   "source": [
    "# | echo: false\n",
    "\n",
    "md(faststream_gen_example)"
   ]
  },
  {
   "cell_type": "markdown",
   "metadata": {},
   "source": [
    "`faststream_gen` CLI will create `faststream-gen` folder and save generated FastStream `application.py` inside the folder. We know that no one likes code full of errors, that's why we generate and run tests along with the generated application! Next to `application.py` you will find the `test.py` script for testing your FastStream application!"
   ]
  },
  {
   "cell_type": "markdown",
   "metadata": {},
   "source": [
    "In the `faststream-gen` folder you will find following files:"
   ]
  },
  {
   "cell_type": "markdown",
   "metadata": {},
   "source": [
    "`application.py`"
   ]
  },
  {
   "cell_type": "code",
   "execution_count": 5,
   "metadata": {},
   "outputs": [
    {
     "data": {
      "text/markdown": [
       "```python\n",
       "from pydantic import BaseModel, Field\n",
       "\n",
       "from faststream import FastStream, Logger\n",
       "from faststream.kafka import KafkaBroker\n",
       "\n",
       "\n",
       "class Employee(BaseModel):\n",
       "    employee_name: str = Field(\n",
       "        ..., examples=[\"John Doe\"], description=\"Employee name\"\n",
       "    )\n",
       "    age: int = Field(\n",
       "        ..., examples=[30], description=\"Age\"\n",
       "    )\n",
       "    location: str = Field(\n",
       "        ..., examples=[\"New York\"], description=\"Location\"\n",
       "    )\n",
       "    experience: int = Field(\n",
       "        ..., examples=[5], description=\"Experience in years\"\n",
       "    )\n",
       "\n",
       "\n",
       "broker = KafkaBroker(\"localhost:9092\")\n",
       "app = FastStream(broker)\n",
       "\n",
       "\n",
       "@broker.subscriber(\"new_joinee\")\n",
       "@broker.publisher(\"project_team\")\n",
       "@broker.publisher(\"admin_team\")\n",
       "async def on_new_joinee(msg: Employee, logger: Logger):\n",
       "    logger.info(msg)\n",
       "    return msg\n",
       "```"
      ],
      "text/plain": [
       "<IPython.core.display.Markdown object>"
      ]
     },
     "execution_count": 5,
     "metadata": {},
     "output_type": "execute_result"
    }
   ],
   "source": [
    "# | echo: false\n",
    "\n",
    "code = Code(filename='../docs_src/app_index_example/application.py', language='python')\n",
    "md(f\"```python\\n{code}\\n```\")"
   ]
  },
  {
   "cell_type": "markdown",
   "metadata": {},
   "source": [
    "`test.py`"
   ]
  },
  {
   "cell_type": "code",
   "execution_count": 6,
   "metadata": {},
   "outputs": [
    {
     "data": {
      "text/markdown": [
       "```python\n",
       "import pytest\n",
       "\n",
       "from faststream.kafka import TestKafkaBroker\n",
       "\n",
       "from application import *\n",
       "\n",
       "\n",
       "@broker.subscriber(\"project_team\")\n",
       "async def on_project_team(msg: Employee):\n",
       "    pass\n",
       "\n",
       "@broker.subscriber(\"admin_team\")\n",
       "async def on_admin_team(msg: Employee):\n",
       "    pass\n",
       "\n",
       "@pytest.mark.asyncio\n",
       "async def test_app():\n",
       "    async with TestKafkaBroker(broker):\n",
       "        await broker.publish(Employee(employee_name=\"John Doe\", age=30, location=\"New York\", experience=5), \"new_joinee\")\n",
       "\n",
       "        on_new_joinee.mock.assert_called_with(dict(Employee(employee_name=\"John Doe\", age=30, location=\"New York\", experience=5)))\n",
       "        on_project_team.mock.assert_called_with(dict(Employee(employee_name=\"John Doe\", age=30, location=\"New York\", experience=5)))\n",
       "        on_admin_team.mock.assert_called_with(dict(Employee(employee_name=\"John Doe\", age=30, location=\"New York\", experience=5)))\n",
       "```"
      ],
      "text/plain": [
       "<IPython.core.display.Markdown object>"
      ]
     },
     "execution_count": 6,
     "metadata": {},
     "output_type": "execute_result"
    }
   ],
   "source": [
    "# | echo: false\n",
    "\n",
    "code = Code(filename='../docs_src/app_index_example/test.py', language='python')\n",
    "md(f\"```python\\n{code}\\n```\")"
   ]
  },
  {
   "cell_type": "markdown",
   "metadata": {},
   "source": [
    "Finally, you can personally check whether all the generated tests pass:"
   ]
  },
  {
   "cell_type": "markdown",
   "metadata": {},
   "source": [
    "```sh\n",
    "pytest faststream-gen/test.py\n",
    "```"
   ]
  },
  {
   "cell_type": "markdown",
   "metadata": {},
   "source": [
    "## Copyright\n",
    "Copyright © 2023 onwards airt technologies ltd, Inc."
   ]
  },
  {
   "cell_type": "markdown",
   "metadata": {},
   "source": [
    "## License\n",
    "\n",
    "This project is licensed under the terms of the <a href=\"https://github.com/airtai/fastkafka-gen/blob/main/LICENSE\" target=\"_blank\">Apache License 2.0</a>"
   ]
  },
  {
   "cell_type": "code",
   "execution_count": null,
   "metadata": {},
   "outputs": [],
   "source": []
  }
 ],
 "metadata": {
  "kernelspec": {
   "display_name": "Python 3 (ipykernel)",
   "language": "python",
   "name": "python3"
  },
  "language_info": {
   "codemirror_mode": {
    "name": "ipython",
    "version": 3
   },
   "file_extension": ".py",
   "mimetype": "text/x-python",
   "name": "python",
   "nbconvert_exporter": "python",
   "pygments_lexer": "ipython3",
   "version": "3.11.4"
  }
 },
 "nbformat": 4,
 "nbformat_minor": 4
}
