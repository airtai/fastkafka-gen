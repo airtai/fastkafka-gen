{
 "cells": [
  {
   "cell_type": "markdown",
   "metadata": {},
   "source": [
    "# Code generator for FastStream"
   ]
  },
  {
   "cell_type": "markdown",
   "metadata": {},
   "source": [
    "faststream-gen is a Python library powered by generative AI that can automatically generate FastStream applications. Simply outline your application requirements and faststream-gen will take over, creating a production-grade FastStream project that's ready to deploy in no time. \n",
    "\n",
    "![PyPI](https://img.shields.io/pypi/v/faststream-gen)\n",
    "![PyPI - Downloads](https://img.shields.io/pypi/dm/faststream-gen)\n",
    "![PyPI - Python Version](https://img.shields.io/pypi/pyversions/faststream-gen)\n",
    "![GitHub Workflow Status](https://img.shields.io/github/actions/workflow/status/airtai/fastkafka-gen/test.yaml)\n",
    "![GitHub](https://img.shields.io/github/license/airtai/fastkafka-gen)\n",
    "\n",
    "---"
   ]
  },
  {
   "cell_type": "markdown",
   "metadata": {},
   "source": [
    "**Documentation**: https://faststream-gen.airt.ai\n",
    "\n",
    "**Source Code**: https://github.com/airtai/faststream-gen\n",
    "\n",
    "---"
   ]
  },
  {
   "cell_type": "markdown",
   "metadata": {},
   "source": [
    "## Getting Started"
   ]
  },
  {
   "cell_type": "markdown",
   "metadata": {},
   "source": [
    "The code Generator for FastStream is a Python library that automates the process of creating FastStream applications. It works by taking your application requirements and swiftly turning them into a ready-to-deploy FastStream application. \n",
    "\n",
    "The key features are:\n",
    "\n",
    "- **Automatic FastStream project generation**: Faststream-gen enables you to easily generate complete FastStream applications with minimal effort. This library allows you to outline your application requirements, and the library will quickly transform them into a fully-fledged FastStream project.\n",
    "- **Tested code**: Faststream-gen provides dependable code through rigorous testing, including pre-implemented unit and integration tests, ensuring stability and functionality, saving development time, and preventing common bugs.\n",
    "- **Deploy scripts**: Simplify the deployment of your FastStream application with built-in deploy scripts provided by faststream-gen. Whether you're deploying to a local server, cloud infrastructure, or a custom environment, these scripts streamline the deployment process. \n",
    "- **GitHub workflow files**: Faststream-gen integrates seamlessly with your version control and continuous integration pipeline through its GitHub workflow files. These predefined configuration files are optimized for FastStream projects, enabling smooth integration with GitHub Actions. You can automate tasks such as code validation, testing, and deployment, ensuring that your FastStream application remains in top shape throughout its development lifecycle."
   ]
  },
  {
   "cell_type": "markdown",
   "metadata": {},
   "source": [
    "### Quick start"
   ]
  },
  {
   "cell_type": "markdown",
   "metadata": {},
   "source": [
    "The following quick start guide will walk you through installing and configuring the faststream-gen library, demonstrating the creation of a new FastStream project in seconds."
   ]
  },
  {
   "cell_type": "markdown",
   "metadata": {},
   "source": [
    "#### Install\n",
    "\n",
    "`faststream-gen` is published as a Python package and can be installed with pip:\n",
    "\n",
    "```shell\n",
    "pip install faststream-gen\n",
    "```\n",
    "\n",
    "If the installation was successful, you should now have the **faststream-gen** installed on your system. Run the below command from the terminal to see the full list of available commands:\n",
    "\n",
    "``` shell\n",
    "faststream_gen --help\n",
    "```"
   ]
  },
  {
   "cell_type": "code",
   "execution_count": null,
   "metadata": {},
   "outputs": [
    {
     "name": "stdout",
     "output_type": "stream",
     "text": [
      "\u001b[1m                                                                                \u001b[0m\n",
      "\u001b[1m \u001b[0m\u001b[1;33mUsage: \u001b[0m\u001b[1mfaststream_gen [OPTIONS] [DESCRIPTION]\u001b[0m\u001b[1m                                 \u001b[0m\u001b[1m \u001b[0m\n",
      "\u001b[1m                                                                                \u001b[0m\n",
      " Effortlessly create a new FastStream project based on the app description.     \n",
      "                                                                                \n",
      "\u001b[2m╭─\u001b[0m\u001b[2m Arguments \u001b[0m\u001b[2m─────────────────────────────────────────────────────────────────\u001b[0m\u001b[2m─╮\u001b[0m\n",
      "\u001b[2m│\u001b[0m   description      \u001b[1;2;33m[\u001b[0m\u001b[1;33mDESCRIPTION\u001b[0m\u001b[1;2;33m]\u001b[0m  Summarize your FastStream application in a \u001b[2m│\u001b[0m\n",
      "\u001b[2m│\u001b[0m                                   few sentences!                             \u001b[2m│\u001b[0m\n",
      "\u001b[2m│\u001b[0m                                                                              \u001b[2m│\u001b[0m\n",
      "\u001b[2m│\u001b[0m                                   Include details about messages, topics,    \u001b[2m│\u001b[0m\n",
      "\u001b[2m│\u001b[0m                                   servers, and a brief overview of the       \u001b[2m│\u001b[0m\n",
      "\u001b[2m│\u001b[0m                                   intended business logic.                   \u001b[2m│\u001b[0m\n",
      "\u001b[2m│\u001b[0m                                                                              \u001b[2m│\u001b[0m\n",
      "\u001b[2m│\u001b[0m                                   The simpler and more specific the app      \u001b[2m│\u001b[0m\n",
      "\u001b[2m│\u001b[0m                                   description is, the better the generated   \u001b[2m│\u001b[0m\n",
      "\u001b[2m│\u001b[0m                                   app will be. Please refer to the below     \u001b[2m│\u001b[0m\n",
      "\u001b[2m│\u001b[0m                                   example for inspiration:                   \u001b[2m│\u001b[0m\n",
      "\u001b[2m│\u001b[0m                                                                              \u001b[2m│\u001b[0m\n",
      "\u001b[2m│\u001b[0m                                   Create a FastStream application using      \u001b[2m│\u001b[0m\n",
      "\u001b[2m│\u001b[0m                                   localhost broker for testing and use the   \u001b[2m│\u001b[0m\n",
      "\u001b[2m│\u001b[0m                                   default port number.  It should consume    \u001b[2m│\u001b[0m\n",
      "\u001b[2m│\u001b[0m                                   messages from the \"input_data\" topic,      \u001b[2m│\u001b[0m\n",
      "\u001b[2m│\u001b[0m                                   where each message is a JSON encoded       \u001b[2m│\u001b[0m\n",
      "\u001b[2m│\u001b[0m                                   object containing a single attribute:      \u001b[2m│\u001b[0m\n",
      "\u001b[2m│\u001b[0m                                   'data'.  For each consumed message, create \u001b[2m│\u001b[0m\n",
      "\u001b[2m│\u001b[0m                                   a new message object and increment the     \u001b[2m│\u001b[0m\n",
      "\u001b[2m│\u001b[0m                                   value of the data attribute by 1. Finally, \u001b[2m│\u001b[0m\n",
      "\u001b[2m│\u001b[0m                                   send the modified message to the           \u001b[2m│\u001b[0m\n",
      "\u001b[2m│\u001b[0m                                   'output_data' topic.                       \u001b[2m│\u001b[0m\n",
      "\u001b[2m│\u001b[0m                                   \u001b[2m[default: None]                           \u001b[0m \u001b[2m│\u001b[0m\n",
      "\u001b[2m╰──────────────────────────────────────────────────────────────────────────────╯\u001b[0m\n",
      "\u001b[2m╭─\u001b[0m\u001b[2m Options \u001b[0m\u001b[2m───────────────────────────────────────────────────────────────────\u001b[0m\u001b[2m─╮\u001b[0m\n",
      "\u001b[2m│\u001b[0m \u001b[1;36m-\u001b[0m\u001b[1;36m-input_file\u001b[0m          \u001b[1;32m-i\u001b[0m      \u001b[1;33mTEXT                 \u001b[0m  The path to the file    \u001b[2m│\u001b[0m\n",
      "\u001b[2m│\u001b[0m                                                      with the app            \u001b[2m│\u001b[0m\n",
      "\u001b[2m│\u001b[0m                                                      desription. This path   \u001b[2m│\u001b[0m\n",
      "\u001b[2m│\u001b[0m                                                      should be relative to   \u001b[2m│\u001b[0m\n",
      "\u001b[2m│\u001b[0m                                                      the current working     \u001b[2m│\u001b[0m\n",
      "\u001b[2m│\u001b[0m                                                      directory.              \u001b[2m│\u001b[0m\n",
      "\u001b[2m│\u001b[0m                                                      If the app description  \u001b[2m│\u001b[0m\n",
      "\u001b[2m│\u001b[0m                                                      is passed via both a    \u001b[2m│\u001b[0m\n",
      "\u001b[2m│\u001b[0m                                                      \u001b[1;36m-\u001b[0m\u001b[1;36m-input_file\u001b[0m and a      \u001b[2m│\u001b[0m\n",
      "\u001b[2m│\u001b[0m                                                      command line argument,  \u001b[2m│\u001b[0m\n",
      "\u001b[2m│\u001b[0m                                                      the description from    \u001b[2m│\u001b[0m\n",
      "\u001b[2m│\u001b[0m                                                      the command line will   \u001b[2m│\u001b[0m\n",
      "\u001b[2m│\u001b[0m                                                      be used to create the   \u001b[2m│\u001b[0m\n",
      "\u001b[2m│\u001b[0m                                                      application.            \u001b[2m│\u001b[0m\n",
      "\u001b[2m│\u001b[0m                                                      \u001b[2m[default: None]        \u001b[0m \u001b[2m│\u001b[0m\n",
      "\u001b[2m│\u001b[0m \u001b[1;36m-\u001b[0m\u001b[1;36m-output_path\u001b[0m         \u001b[1;32m-o\u001b[0m      \u001b[1;33mTEXT                 \u001b[0m  The path to the output  \u001b[2m│\u001b[0m\n",
      "\u001b[2m│\u001b[0m                                                      directory where the     \u001b[2m│\u001b[0m\n",
      "\u001b[2m│\u001b[0m                                                      generated project files \u001b[2m│\u001b[0m\n",
      "\u001b[2m│\u001b[0m                                                      will be saved. This     \u001b[2m│\u001b[0m\n",
      "\u001b[2m│\u001b[0m                                                      path should be relative \u001b[2m│\u001b[0m\n",
      "\u001b[2m│\u001b[0m                                                      to the current working  \u001b[2m│\u001b[0m\n",
      "\u001b[2m│\u001b[0m                                                      directory.              \u001b[2m│\u001b[0m\n",
      "\u001b[2m│\u001b[0m                                                      \u001b[2m[default: .]           \u001b[0m \u001b[2m│\u001b[0m\n",
      "\u001b[2m│\u001b[0m \u001b[1;36m-\u001b[0m\u001b[1;36m-model\u001b[0m               \u001b[1;32m-m\u001b[0m      \u001b[1;2;33m[\u001b[0m\u001b[1;33mgpt-3.5-turbo-16k\u001b[0m\u001b[1;2;33m|\u001b[0m\u001b[1;33mgp\u001b[0m  The OpenAI model that   \u001b[2m│\u001b[0m\n",
      "\u001b[2m│\u001b[0m                               \u001b[1;33mt-4\u001b[0m\u001b[1;2;33m]\u001b[0m\u001b[1;33m                 \u001b[0m  will be used to create  \u001b[2m│\u001b[0m\n",
      "\u001b[2m│\u001b[0m                                                      the FastStream project. \u001b[2m│\u001b[0m\n",
      "\u001b[2m│\u001b[0m                                                      For better results, we  \u001b[2m│\u001b[0m\n",
      "\u001b[2m│\u001b[0m                                                      recommend using         \u001b[2m│\u001b[0m\n",
      "\u001b[2m│\u001b[0m                                                      'gpt-4'.                \u001b[2m│\u001b[0m\n",
      "\u001b[2m│\u001b[0m                                                      \u001b[2m[default:              \u001b[0m \u001b[2m│\u001b[0m\n",
      "\u001b[2m│\u001b[0m                                                      \u001b[2mgpt-3.5-turbo-16k]     \u001b[0m \u001b[2m│\u001b[0m\n",
      "\u001b[2m│\u001b[0m \u001b[1;36m-\u001b[0m\u001b[1;36m-verbose\u001b[0m             \u001b[1;32m-v\u001b[0m      \u001b[1;33m                     \u001b[0m  Enable verbose logging  \u001b[2m│\u001b[0m\n",
      "\u001b[2m│\u001b[0m                                                      by setting the logger   \u001b[2m│\u001b[0m\n",
      "\u001b[2m│\u001b[0m                                                      level to INFO.          \u001b[2m│\u001b[0m\n",
      "\u001b[2m│\u001b[0m \u001b[1;36m-\u001b[0m\u001b[1;36m-dev\u001b[0m                 \u001b[1;32m-d\u001b[0m      \u001b[1;33m                     \u001b[0m  Save the intermediate   \u001b[2m│\u001b[0m\n",
      "\u001b[2m│\u001b[0m                                                      faststream-gen files    \u001b[2m│\u001b[0m\n",
      "\u001b[2m│\u001b[0m                                                      within the output_path. \u001b[2m│\u001b[0m\n",
      "\u001b[2m│\u001b[0m \u001b[1;36m-\u001b[0m\u001b[1;36m-install\u001b[0m\u001b[1;36m-completion\u001b[0m          \u001b[1;33m                     \u001b[0m  Install completion for  \u001b[2m│\u001b[0m\n",
      "\u001b[2m│\u001b[0m                                                      the current shell.      \u001b[2m│\u001b[0m\n",
      "\u001b[2m│\u001b[0m \u001b[1;36m-\u001b[0m\u001b[1;36m-show\u001b[0m\u001b[1;36m-completion\u001b[0m             \u001b[1;33m                     \u001b[0m  Show completion for the \u001b[2m│\u001b[0m\n",
      "\u001b[2m│\u001b[0m                                                      current shell, to copy  \u001b[2m│\u001b[0m\n",
      "\u001b[2m│\u001b[0m                                                      it or customize the     \u001b[2m│\u001b[0m\n",
      "\u001b[2m│\u001b[0m                                                      installation.           \u001b[2m│\u001b[0m\n",
      "\u001b[2m│\u001b[0m \u001b[1;36m-\u001b[0m\u001b[1;36m-help\u001b[0m                        \u001b[1;33m                     \u001b[0m  Show this message and   \u001b[2m│\u001b[0m\n",
      "\u001b[2m│\u001b[0m                                                      exit.                   \u001b[2m│\u001b[0m\n",
      "\u001b[2m╰──────────────────────────────────────────────────────────────────────────────╯\u001b[0m\n",
      "\n"
     ]
    }
   ],
   "source": [
    "# | echo: false\n",
    "\n",
    "!faststream_gen --help"
   ]
  },
  {
   "cell_type": "markdown",
   "metadata": {},
   "source": [
    "#### How to use\n",
    "\n",
    "The **faststream-gen** library uses OpenAI's model to generate FastStream projects. In order to use the library, you'll need to <a href=\"https://beta.openai.com/account/api-keys\" target=\"_blank\">create an API key for OpenAI</a>. \n",
    "\n",
    "Once you have your API key, store it in the **OPENAI_API_KEY** environment variable. This is a necessary step for the library to work."
   ]
  },
  {
   "cell_type": "code",
   "execution_count": null,
   "metadata": {},
   "outputs": [],
   "source": []
  },
  {
   "cell_type": "code",
   "execution_count": null,
   "metadata": {},
   "outputs": [],
   "source": []
  },
  {
   "cell_type": "code",
   "execution_count": null,
   "metadata": {},
   "outputs": [],
   "source": []
  },
  {
   "cell_type": "code",
   "execution_count": null,
   "metadata": {},
   "outputs": [],
   "source": []
  }
 ],
 "metadata": {
  "kernelspec": {
   "display_name": "python3",
   "language": "python",
   "name": "python3"
  }
 },
 "nbformat": 4,
 "nbformat_minor": 4
}
