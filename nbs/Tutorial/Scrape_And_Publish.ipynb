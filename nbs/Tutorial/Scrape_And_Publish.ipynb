{
 "cells": [
  {
   "cell_type": "code",
   "execution_count": 19,
   "metadata": {},
   "outputs": [],
   "source": [
    "# | hide\n",
    "\n",
    "from IPython.display import Markdown as md\n",
    "from IPython.display import Code\n"
   ]
  },
  {
   "cell_type": "markdown",
   "metadata": {},
   "source": [
    "# Cryptocurrency analysis with FastStream"
   ]
  },
  {
   "cell_type": "markdown",
   "metadata": {},
   "source": [
    "In this tutorial we will generate two FastStream applications.\n",
    "\n",
    "The first application will retrieve current prices for several cryptocurrencies from the web and publish messages to a Kafka topic.\n",
    "\n",
    "The second application will then retrieve messages with information about cryptocurrencies from the topic and calculate the average price of each cryptocurrency in the last few seconds."
   ]
  },
  {
   "cell_type": "markdown",
   "metadata": {},
   "source": [
    "## Fetch and publish app"
   ]
  },
  {
   "cell_type": "markdown",
   "metadata": {},
   "source": [
    "Create directory for your application, create and enter the virtual environment and install `faststream-gen`:\n",
    "\n",
    "```sh\n",
    "# create and enter app firectory\n",
    "mkdir fetch_and_publish_app\n",
    "cd fetch_and_publish_app\n",
    "\n",
    "# create and enter venv\n",
    "python -m venv venv_app1\n",
    "source venv_app1/bin/activate\n",
    "\n",
    "# install faststream-gen\n",
    "pip install --upgrade pip\n",
    "pip install faststream-gen\n",
    "```"
   ]
  },
  {
   "cell_type": "markdown",
   "metadata": {},
   "source": [
    "Now let's create an application that retrieves information about cryptocurrencies from the web and publishes messages to a Kafka topic.\n",
    "\n",
    "The most important step is to create a text description of the application we want to generate. Inside it is necessary to define where information about cryptocurrencies can be found and in what format they will be, the scheme of messages that we will produce in the Kafka topic."
   ]
  },
  {
   "cell_type": "markdown",
   "metadata": {},
   "source": [
    "`description_fetch_publish.txt`:"
   ]
  },
  {
   "cell_type": "code",
   "execution_count": 20,
   "metadata": {},
   "outputs": [],
   "source": [
    "# | hide\n",
    "\n",
    "with open('../../docs_src/tutorial/scrape_and_publish_description.txt', 'r') as file:\n",
    "    description = file.read()\n",
    "\n",
    "description = f\"\"\"\n",
    "```text\n",
    "{description} \n",
    "```\n",
    "\"\"\""
   ]
  },
  {
   "cell_type": "code",
   "execution_count": 21,
   "metadata": {},
   "outputs": [
    {
     "data": {
      "text/markdown": [
       "\n",
       "```text\n",
       "Create faststream application which will fetch Bitcoins current price and publish it to new_data topic. \n",
       "Application should fetch the data every 2 seconds.\n",
       "\n",
       "Message which will be produced is JSON with the two attributes:\n",
       "    - price: non negative float (it represents current pice of Bitcoin)\n",
       "    - currency: string (it represents the currency of the price, e.g USD, EUR...)\n",
       "\n",
       "Curent price of Bitcoin can be fetched by simple GET request to 'https://api.coinbase.com/v2/prices/BTC-USD/spot'\n",
       "Curent price of Ethereum can be fetched by simple GET request to 'https://api.coinbase.com/v2/prices/ETH-USD/spot'\n",
       "\n",
       "Use different keys Bitcoin and Ethereum when puclishing:\n",
       "    - For Bitcoin, encode string 'BTC' and use it as key.\n",
       "    - For Ethereum, encode string 'ETH' and use it as key.\n",
       "    \n",
       "The response of this GET request is a JSON and you can get information about the currency in response['data']['base']\n",
       "and the information about the price in response['data']['amount']\n",
       " \n",
       "```\n"
      ],
      "text/plain": [
       "<IPython.core.display.Markdown object>"
      ]
     },
     "execution_count": 21,
     "metadata": {},
     "output_type": "execute_result"
    }
   ],
   "source": [
    "# | echo: false\n",
    "\n",
    "md(description)"
   ]
  },
  {
   "cell_type": "markdown",
   "metadata": {},
   "source": [
    "To create described `faststream-gen` application, copy the previous description and paste it inside the `description_fetch_publish.txt` file.\n",
    "\n",
    "And run:\n",
    "\n",
    "```sh\n",
    "faststream_gen -i description_fetch_publish.txt\n",
    "```"
   ]
  },
  {
   "cell_type": "markdown",
   "metadata": {},
   "source": [
    "This command will generate `github` repository with `app/application.py` and `tests/test_application.py` inside.\n",
    "\n",
    "`app/application.py`:"
   ]
  },
  {
   "cell_type": "code",
   "execution_count": 22,
   "metadata": {},
   "outputs": [
    {
     "data": {
      "text/markdown": [
       "```python\n",
       "from pydantic import BaseModel, Field, NonNegativeFloat\n",
       "\n",
       "from faststream import ContextRepo, FastStream, Logger\n",
       "from faststream.kafka import KafkaBroker\n",
       "\n",
       "import requests\n",
       "import asyncio\n",
       "\n",
       "class CryptoPrice(BaseModel):\n",
       "    price: NonNegativeFloat = Field(..., description=\"Current price of the cryptocurrency\")\n",
       "    currency: str = Field(..., description=\"Currency of the price\")\n",
       "\n",
       "broker = KafkaBroker(\"localhost:9092\")\n",
       "app = FastStream(broker)\n",
       "\n",
       "new_data_publisher = broker.publisher(\"new_data\")\n",
       "\n",
       "async def fetch_and_publish_crypto_price(\n",
       "    url: str,\n",
       "    key: str,\n",
       "    logger: Logger,\n",
       "    context: ContextRepo,\n",
       "    time_interval: int = 2,\n",
       ") -> None:\n",
       "    while context.get(\"app_is_running\"):\n",
       "        response = requests.get(url)\n",
       "        if response.status_code == 200:\n",
       "            data = response.json()\n",
       "            price = data[\"data\"][\"amount\"]\n",
       "            currency = data[\"data\"][\"base\"]\n",
       "            crypto_price = CryptoPrice(price=price, currency=currency)\n",
       "            await new_data_publisher.publish(crypto_price, key=key.encode(\"utf-8\"))\n",
       "        else:\n",
       "            logger.warning(f\"Failed to fetch data from {url}\")\n",
       "        await asyncio.sleep(time_interval)\n",
       "\n",
       "\n",
       "@app.on_startup\n",
       "async def app_setup(context: ContextRepo):\n",
       "    context.set_global(\"app_is_running\", True)\n",
       "\n",
       "\n",
       "@app.on_shutdown\n",
       "async def app_shutdown(context: ContextRepo):\n",
       "    context.set_global(\"app_is_running\", False)\n",
       "\n",
       "\n",
       "@app.after_startup\n",
       "async def publish_crypto_prices(logger: Logger, context: ContextRepo):\n",
       "    logger.info(\"Starting publishing:\")\n",
       "\n",
       "    bitcoin_url = \"https://api.coinbase.com/v2/prices/BTC-USD/spot\"\n",
       "    ethereum_url = \"https://api.coinbase.com/v2/prices/ETH-USD/spot\"\n",
       "\n",
       "    publish_tasks = [\n",
       "        asyncio.create_task(\n",
       "            fetch_and_publish_crypto_price(bitcoin_url, \"BTC\", logger, context)\n",
       "        ),\n",
       "        asyncio.create_task(\n",
       "            fetch_and_publish_crypto_price(ethereum_url, \"ETH\", logger, context)\n",
       "        ),\n",
       "    ]\n",
       "    context.set_global(\"publish_tasks\", publish_tasks)\n",
       "\n",
       "```"
      ],
      "text/plain": [
       "<IPython.core.display.Markdown object>"
      ]
     },
     "execution_count": 22,
     "metadata": {},
     "output_type": "execute_result"
    }
   ],
   "source": [
    "# | echo: false\n",
    "\n",
    "code = Code(filename='../../docs_src/tutorial/scrape_and_publish_app.py', language='python')\n",
    "md(f\"```python\\n{code}\\n```\")"
   ]
  },
  {
   "cell_type": "markdown",
   "metadata": {},
   "source": [
    "## Calculate the moving average app"
   ]
  },
  {
   "cell_type": "markdown",
   "metadata": {},
   "source": [
    "Now let's create the second application. Open **new terminal**, create directory for your application, create and enter the virtual environment and install `faststream-gen`:\n",
    "\n",
    "```sh\n",
    "# create and enter app firectory\n",
    "mkdir calculate_moving_average_app\n",
    "cd calculate_moving_average_app\n",
    "\n",
    "# create and enter venv\n",
    "python -m venv venv_app2\n",
    "source venv_app2/bin/activate\n",
    "\n",
    "# install faststream-gen\n",
    "pip install --upgrade pip\n",
    "pip install faststream-gen\n",
    "```"
   ]
  },
  {
   "cell_type": "markdown",
   "metadata": {},
   "source": [
    "This application shoud calculate the price mean of the last 3 messages received at the 'new_data' topic for each cryptocurrency and puublish the price mean to the price_mean topic.\n",
    "\n",
    "`description_calculate_mean.txt`:"
   ]
  },
  {
   "cell_type": "code",
   "execution_count": 15,
   "metadata": {},
   "outputs": [],
   "source": [
    "# | hide\n",
    "\n",
    "with open('../../docs_src/tutorial/calculate_mean_description.txt', 'r') as file:\n",
    "    description = file.read()\n",
    "\n",
    "description = f\"\"\"\n",
    "```text\n",
    "{description} \n",
    "```\n",
    "\"\"\""
   ]
  },
  {
   "cell_type": "code",
   "execution_count": 16,
   "metadata": {},
   "outputs": [
    {
     "data": {
      "text/markdown": [
       "\n",
       "```text\n",
       "Create faststream application for consuming messages from the new_data topic. \n",
       "This topic needs to use partition key.\n",
       "\n",
       "new_data messages use JSON with two attributes:\n",
       "    - price: non negative float (it represents current pice of the crypto)\n",
       "    - currency: string (it represents the currency of the price, e.g BTC, ETH...)\n",
       "\n",
       "Application should save each message to a dictionary (global variable) - partition key should be usded as a dictionary key and value should be a List of prices.\n",
       "Calculate the price mean of the last 3 messages for the given partition key\n",
       "Publish the price mean to the price_mean topic and use the same partition key which the new_data topic is using.\n",
       " \n",
       "```\n"
      ],
      "text/plain": [
       "<IPython.core.display.Markdown object>"
      ]
     },
     "execution_count": 16,
     "metadata": {},
     "output_type": "execute_result"
    }
   ],
   "source": [
    "# | echo: false\n",
    "\n",
    "md(description)"
   ]
  },
  {
   "cell_type": "markdown",
   "metadata": {},
   "source": [
    "To create described `faststream-gen` application, copy the previous description and paste it inside the `description_calculate_mean.txt` file.\n",
    "\n",
    "And run:\n",
    "```sh\n",
    "faststream_gen -i description_calculate_mean.txt\n",
    "```\n",
    "\n",
    "This command will generate `github` repository with `app/application.py` and `tests/test_application.py` inside.\n",
    "\n",
    "`app/application.py`:"
   ]
  },
  {
   "cell_type": "code",
   "execution_count": 18,
   "metadata": {},
   "outputs": [
    {
     "data": {
      "text/markdown": [
       "```python\n",
       "from typing import Dict, List\n",
       "\n",
       "from pydantic import BaseModel, Field\n",
       "\n",
       "from faststream import Context, ContextRepo, FastStream, Logger\n",
       "from faststream.kafka import KafkaBroker\n",
       "\n",
       "class NewData(BaseModel):\n",
       "    price: float = Field(\n",
       "        ..., examples=[1000], description=\"Current price of the crypto\"\n",
       "    )\n",
       "    currency: str = Field(\n",
       "        ..., examples=[\"BTC\"], description=\"Currency of the price\"\n",
       "    )\n",
       "\n",
       "broker = KafkaBroker(\"localhost:9092\")\n",
       "app = FastStream(broker)\n",
       "\n",
       "to_price_mean = broker.publisher(\"price_mean\")\n",
       "\n",
       "@app.on_startup\n",
       "async def app_setup(context: ContextRepo):\n",
       "    message_history: Dict[str, List[float]] = {}\n",
       "    context.set_global(\"message_history\", message_history)\n",
       "\n",
       "@broker.subscriber(\"new_data\")\n",
       "async def on_new_data(\n",
       "    msg: NewData,\n",
       "    logger: Logger,\n",
       "    context: ContextRepo,\n",
       "    key: bytes = Context(\"message.raw_message.key\"),\n",
       ") -> None:\n",
       "    logger.info(f\"{msg=}\")\n",
       "\n",
       "    message_history = context.get(\"message_history\")\n",
       "\n",
       "    partition_key = key.decode(\"utf-8\")\n",
       "    if partition_key not in message_history:\n",
       "        message_history[partition_key] = []\n",
       "\n",
       "    message_history[partition_key].append(msg.price)\n",
       "    context.set_global(\"message_history\", message_history)\n",
       "\n",
       "    if len(message_history) >=3:\n",
       "        price_mean = sum(message_history[partition_key][-3:]) / 3\n",
       "        await to_price_mean.publish(price_mean, key=key)\n",
       "\n",
       "```"
      ],
      "text/plain": [
       "<IPython.core.display.Markdown object>"
      ]
     },
     "execution_count": 18,
     "metadata": {},
     "output_type": "execute_result"
    }
   ],
   "source": [
    "# | echo: false\n",
    "\n",
    "code = Code(filename='../../docs_src/tutorial/calculate_mean_app.py', language='python')\n",
    "md(f\"```python\\n{code}\\n```\")"
   ]
  },
  {
   "cell_type": "markdown",
   "metadata": {},
   "source": [
    "## Start localhost Kafka broker\n"
   ]
  },
  {
   "cell_type": "markdown",
   "metadata": {},
   "source": [
    "`faststream-gen` also generated `scripts` directory.\n",
    "```sh\n",
    "# make all shell scripts executable\n",
    "chmod +x scripts/*.sh\n",
    "# start local kafka broker\n",
    "./scripts/start_kafka_broker_locally.sh\n",
    "```\n",
    "\n",
    "```console\n",
    "[+] Running 2/2\n",
    " ⠿ Network scripts_default  Created                                                                                                             0.1s\n",
    " ⠿ Container bitnami_kafka  Started \n",
    "```"
   ]
  },
  {
   "cell_type": "markdown",
   "metadata": {},
   "source": [
    "## Run the applications"
   ]
  },
  {
   "cell_type": "markdown",
   "metadata": {},
   "source": [
    "### Fetch and publish app"
   ]
  },
  {
   "cell_type": "markdown",
   "metadata": {},
   "source": [
    "To start application for fetching and publishing cryptocurrency data, run inside the `fetch_and_publish_app` directory the following command:\n",
    "```sh\n",
    "faststream run  app.application:app\n",
    "```\n",
    "```console\n",
    "2023-09-15 13:41:21,948 INFO     - FastStream app starting...\n",
    "2023-09-15 13:41:22,144 INFO     -      |            - Starting publishing:\n",
    "2023-09-15 13:41:22,144 INFO     - FastStream app started successfully! To exit press CTRL+C\n",
    "```"
   ]
  },
  {
   "cell_type": "markdown",
   "metadata": {},
   "source": [
    "### Calculate the moving average app"
   ]
  },
  {
   "cell_type": "markdown",
   "metadata": {},
   "source": [
    "To start application for calculating the moving average, run inside the `calculate_moving_average_app` directory the following command:\n",
    "```sh\n",
    "faststream run  app.application:app\n",
    "```\n",
    "```console\n",
    "2023-09-15 13:56:47,245 INFO     - FastStream app starting...\n",
    "2023-09-15 13:56:47,428 INFO     - new_data |            - `OnNewData` waiting for messages\n",
    "2023-09-15 13:56:47,621 INFO     - FastStream app started successfully! To exit press CTRL+C\n",
    "2023-09-15 13:56:48,314 INFO     - new_data | 13675-1694 - Received\n",
    "2023-09-15 13:56:48,315 INFO     - new_data | 13675-1694 - msg=NewData(price=1624.235, currency='ETH')\n",
    "2023-09-15 13:56:48,315 INFO     - new_data | 13675-1694 - Processed\n",
    "2023-09-15 13:56:48,316 INFO     - new_data | 13676-1694 - Received\n",
    "2023-09-15 13:56:48,316 INFO     - new_data | 13676-1694 - msg=NewData(price=26485.545, currency='BTC')\n",
    "2023-09-15 13:56:48,316 INFO     - new_data | 13676-1694 - Processed\n",
    "2023-09-15 13:56:50,491 INFO     - new_data | 13677-1694 - Received\n",
    "2023-09-15 13:56:50,492 INFO     - new_data | 13677-1694 - msg=NewData(price=1624.235, currency='ETH')\n",
    "...\n",
    "```"
   ]
  },
  {
   "cell_type": "markdown",
   "metadata": {},
   "source": [
    "You can see in the terminal the that the application is reading the messages from the `price_mean` topic."
   ]
  },
  {
   "cell_type": "markdown",
   "metadata": {},
   "source": [
    "### Subscribe directly to local kafka broker topic"
   ]
  },
  {
   "cell_type": "markdown",
   "metadata": {},
   "source": [
    "To check if the `calculate_moving_average_app` is publishing messages to the `price_mean` topic, run the following comands:"
   ]
  },
  {
   "cell_type": "markdown",
   "metadata": {},
   "source": [
    " ```sh\n",
    "# make all shell scripts executable\n",
    "chmod +x scripts/*.sh\n",
    "# subscribe to local kafka broker and read from the price_mean topic\n",
    "./scripts/subscribe_to_kafka_broker_locally.sh price_mean\n",
    "```\n",
    "```console\n",
    "BTC     26405.745\n",
    "ETH     1621.3733333333332\n",
    "BTC     26404.865\n",
    "ETH     1621.375\n",
    "BTC     26404.865\n",
    "...\n",
    "```"
   ]
  },
  {
   "cell_type": "code",
   "execution_count": null,
   "metadata": {},
   "outputs": [],
   "source": []
  }
 ],
 "metadata": {
  "kernelspec": {
   "display_name": "Python 3 (ipykernel)",
   "language": "python",
   "name": "python3"
  },
  "language_info": {
   "codemirror_mode": {
    "name": "ipython",
    "version": 3
   },
   "file_extension": ".py",
   "mimetype": "text/x-python",
   "name": "python",
   "nbconvert_exporter": "python",
   "pygments_lexer": "ipython3",
   "version": "3.11.4"
  }
 },
 "nbformat": 4,
 "nbformat_minor": 4
}
