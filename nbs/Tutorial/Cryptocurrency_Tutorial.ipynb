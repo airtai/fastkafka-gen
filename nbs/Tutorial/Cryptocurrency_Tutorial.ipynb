{
 "cells": [
  {
   "cell_type": "code",
   "execution_count": null,
   "metadata": {},
   "outputs": [],
   "source": [
    "# | hide\n",
    "\n",
    "from IPython.display import Markdown as md\n",
    "from IPython.display import Code\n"
   ]
  },
  {
   "cell_type": "markdown",
   "metadata": {},
   "source": [
    "# Cryptocurrency analysis with FastStream"
   ]
  },
  {
   "cell_type": "markdown",
   "metadata": {},
   "source": [
    "In this tutorial, we will walk through the process of using the `faststream-gen` Python library to generate two `FastStream` applications.\n",
    "\n",
    "The first application will demonstrate how to retrieve current cryptocurrency prices from various web sources. Subsequently, we will utilize the functionalities of `FastStream` to publish retrieved data as messages to a Kafka topic.\n",
    "\n",
    "\n",
    "The second application will showcase how to consume messages from the Kafka topic using `FastStream` consumer capabilities. It will process these messages to extract information about cryptocurrencies and calculate the price mean for each cryptocurrency within a certain time window and publish the price mean to another topic.\n",
    "\n",
    "**Let's get started!**"
   ]
  },
  {
   "cell_type": "markdown",
   "metadata": {},
   "source": [
    "## Installation"
   ]
  },
  {
   "cell_type": "markdown",
   "metadata": {},
   "source": [
    "To complete this tutorial, you will need the following software and Python library:\n",
    "\n",
    "1. Python\n",
    "\n",
    "2. pip Python package manager\n",
    "\n",
    "3. faststream-gen\n",
    "\n",
    "4. A valid OPENAI API key ([click here to get one](https://platform.openai.com/account/api-keys)) \n",
    "\n",
    "It is recommended to use a virtual environment for your Python projects. Virtual environments are a common and effective Python development technique that helps to keep dependencies required by different projects separate by creating isolated Python environments for them.\n",
    "\n",
    "In this tutorial, we will be using Python’s venv module to create a virtual environment."
   ]
  },
  {
   "cell_type": "markdown",
   "metadata": {},
   "source": [
    "!!! note\n",
    "\n",
    "    There are other great third-party tools for creating virtual environments, such as conda and virtualenv, For basic usage, venv is an excellent choice because it already comes packaged with your Python installation. Any of these tools can help you set up a Python virtual environment."
   ]
  },
  {
   "cell_type": "markdown",
   "metadata": {},
   "source": [
    "First, create a root directory for this tutorial. Navigate to the desired location and create a new directory called \"faststream_gen_tutorial\" and enter it.\n",
    "\n",
    "```sh\n",
    "mkdir faststream_gen_tutorial\n",
    "cd faststream_gen_tutorial\n",
    "```"
   ]
  },
  {
   "cell_type": "markdown",
   "metadata": {},
   "source": [
    "### Creating and activating a new Python virtual environment"
   ]
  },
  {
   "cell_type": "markdown",
   "metadata": {},
   "source": [
    "To create a new virtual environment with venv, open a new terminal session in the root directory of your new project and run the command below:\n",
    "\n",
    "```shl\n",
    "python3 -m venv venv\n",
    "```\n",
    "\n",
    "The above command creates a new virtual environment called venv. Please feel free to change the name if necessary.\n",
    "\n",
    "Now your project has its own virtual environment. Generally, before you start using it, you’ll first need to activate the environment. Run the below command to activate your new virtual environment:\n",
    "\n",
    "```sh\n",
    "source venv/bin/activate\n",
    "```"
   ]
  },
  {
   "cell_type": "markdown",
   "metadata": {},
   "source": [
    "### Installing the packages"
   ]
  },
  {
   "cell_type": "markdown",
   "metadata": {},
   "source": [
    "Before we begin installing our project dependencies, let us first upgrade pip to ensure we are using the most recent packages by running the following command:\n",
    "\n",
    "```sh\n",
    "pip install --upgrade pip\n",
    "\n",
    "```\n",
    "\n",
    "Now, install the `faststream-gen` package by running the following command:\n",
    "```sh\n",
    "pip install faststream-gen\n",
    "```\n",
    "\n",
    "If the installation was successful, you should now have faststream-gen installed on your system. To see a full list of settings, run:\n",
    "```sh\n",
    "faststream_gen --help\n",
    "```\n",
    "\n",
    "Now you have successfully set up the environment and installed the `faststream-gen` package. You are ready to start using it!"
   ]
  },
  {
   "cell_type": "markdown",
   "metadata": {},
   "source": [
    "## Generate FastStream apps"
   ]
  },
  {
   "cell_type": "markdown",
   "metadata": {},
   "source": [
    "For generating `FastStream` applications, `faststream-gen` is using `OPENAI` models. So the first step is exporting your `OPENAI_API_KEY`.\n",
    "\n",
    "```sh\n",
    "export OPENAI_API_KEY=\"<your_openai_api_key>\"\n",
    "```\n",
    "\n",
    "If you don't already have `OPENAI_API_KEY`, you can create one at [OPENAI API keys](https://platform.openai.com/account/api-keys)"
   ]
  },
  {
   "cell_type": "markdown",
   "metadata": {},
   "source": [
    "### Retrieve and publish app"
   ]
  },
  {
   "cell_type": "markdown",
   "metadata": {},
   "source": [
    "Now, we will create an application that retrieves information about cryptocurrencies from various web sources and publishes messages to a Kafka topic. In order to achieve this, we need to define the specific locations and formats of the cryptocurrency data we will retrieve, as well as the structure and content of the messages we will produce in the Kafka topic.\n",
    "\n",
    "Here is the full description of the desired application:"
   ]
  },
  {
   "cell_type": "code",
   "execution_count": null,
   "metadata": {},
   "outputs": [],
   "source": [
    "# | hide\n",
    "\n",
    "with open('../../docs_src/tutorial/scrape_and_publish_description.txt', 'r') as file:\n",
    "    description = file.read()\n",
    "\n",
    "description = f\"\"\"\n",
    "```text\n",
    "{description} \n",
    "```\n",
    "\"\"\""
   ]
  },
  {
   "cell_type": "code",
   "execution_count": null,
   "metadata": {},
   "outputs": [
    {
     "data": {
      "text/markdown": [
       "\n",
       "```text\n",
       "Create faststream application which will retrieve cryptocurrency current price and publish it to new_data topic. \n",
       "Application should retrieve the data every 2 seconds.\n",
       "\n",
       "Message which will be produced is JSON with the two attributes:\n",
       "    - price: non negative float (it represents current pice of cryptocurrency in USD)\n",
       "    - crypto_currency: string (it represents the cryptocurrency e.g BTC, ETH...)\n",
       "\n",
       "Curent price of Bitcoin can be retrieveed by simple GET request to 'https://api.coinbase.com/v2/prices/BTC-USD/spot'\n",
       "Curent price of Ethereum can be retrieveed by simple GET request to 'https://api.coinbase.com/v2/prices/ETH-USD/spot'\n",
       "\n",
       "The response of this GET request is a JSON and you can get information about the crypto_currency in response['data']['base']\n",
       "and the information about the price in response['data']['amount']\n",
       "\n",
       "Use utf-8 encoded crypto_currency attribute as a partition key when publishing the message to new_data topic..\n",
       " \n",
       "```\n"
      ],
      "text/plain": [
       "<IPython.core.display.Markdown object>"
      ]
     },
     "execution_count": null,
     "metadata": {},
     "output_type": "execute_result"
    }
   ],
   "source": [
    "# | echo: false\n",
    "\n",
    "md(description)"
   ]
  },
  {
   "cell_type": "markdown",
   "metadata": {},
   "source": [
    "Let's create a new `FastStream` application and save the application files in a new directory called `retrieve_publish_app`. First, copy the previous description and paste it into a file called `description_retrieve_publish.txt` in the current working directory.\n",
    "\n",
    "Next, run the following command (parameter `-i` specifies the filepath for the app description file, while the parameter `-o` specifies the directory where the generated project files will be saved.):\n",
    "\n",
    "```sh\n",
    "faststream_gen -i description_retrieve_publish.txt -o retrieve_publish_app\n",
    "```\n",
    "```console\n",
    "✨  Generating a new FastStream application!\n",
    " ✔ Application description validated. \n",
    " ✔ FastStream app skeleton code generated. \n",
    " ✔ The app and the tests are generated. \n",
    " ✔ New FastStream project created. \n",
    " ✔ Integration tests were successfully completed. \n",
    " Tokens used: 36938\n",
    " Total Cost (USD): $0.11436\n",
    "✨  All files were successfully generated!\n",
    "```"
   ]
  },
  {
   "cell_type": "markdown",
   "metadata": {},
   "source": [
    "!!! note\n",
    "\n",
    "    By default, faststream_gen utilizes `gpt-3.5-turbo` for creating FastStream applications. If you encounter any generation issues, we recommend that you try again with the `--model gpt-4` option. With gpt-4's enhanced capabilities, you can expect even higher success rates, especially when dealing with more complex tasks. "
   ]
  },
  {
   "cell_type": "markdown",
   "metadata": {},
   "source": [
    "<br>\n",
    "This command will generate `retrieve_publish_app` directory with `app/application.py` and `tests/test_application.py` inside.\n",
    "\n",
    "`app/application.py`:"
   ]
  },
  {
   "cell_type": "code",
   "execution_count": null,
   "metadata": {},
   "outputs": [
    {
     "data": {
      "text/markdown": [
       "```python\n",
       "import asyncio\n",
       "import json\n",
       "\n",
       "from pydantic import BaseModel, Field, NonNegativeFloat\n",
       "from faststream import ContextRepo, FastStream, Logger\n",
       "from faststream.kafka import KafkaBroker\n",
       "import requests\n",
       "\n",
       "broker = KafkaBroker(\"localhost:9092\")\n",
       "app = FastStream(broker)\n",
       "\n",
       "publisher = broker.publisher(\"new_data\")\n",
       "\n",
       "\n",
       "class CryptoPrice(BaseModel):\n",
       "    price: NonNegativeFloat = Field(\n",
       "        ..., examples=[50000.0], description=\"Current price of cryptocurrency in USD\"\n",
       "    )\n",
       "    crypto_currency: str = Field(\n",
       "        ..., examples=[\"BTC\"], description=\"Cryptocurrency symbol e.g BTC, ETH...\"\n",
       "    )\n",
       "\n",
       "\n",
       "@app.on_startup\n",
       "async def app_setup(context: ContextRepo):\n",
       "    context.set_global(\"app_is_running\", True)\n",
       "\n",
       "\n",
       "@app.on_shutdown\n",
       "async def app_shutdown(context: ContextRepo):\n",
       "    context.set_global(\"app_is_running\", False)\n",
       "\n",
       "    # Get the running task and await for it to finish\n",
       "    publish_tasks = context.get(\"publish_tasks\")\n",
       "    await asyncio.wait(publish_tasks)\n",
       "\n",
       "\n",
       "async def fetch_and_publish_crypto_price(\n",
       "    crypto_currency: str,\n",
       "    logger: Logger,\n",
       "    context: ContextRepo,\n",
       "    time_interval: int = 2,\n",
       ") -> None:\n",
       "    # Always use context: ContextRepo for storing app_is_running variable\n",
       "    while context.get(\"app_is_running\"):\n",
       "        if crypto_currency == \"BTC\":\n",
       "            url = \"https://api.coinbase.com/v2/prices/BTC-USD/spot\"\n",
       "        elif crypto_currency == \"ETH\":\n",
       "            url = \"https://api.coinbase.com/v2/prices/ETH-USD/spot\"\n",
       "        else:\n",
       "            logger.warning(f\"Invalid crypto currency: {crypto_currency}\")\n",
       "            continue\n",
       "\n",
       "        response = requests.get(url)\n",
       "\n",
       "        if response.status_code == 200:\n",
       "            # read json response\n",
       "            raw_data = json.loads(response.content)\n",
       "            price = raw_data[\"data\"][\"amount\"]\n",
       "\n",
       "            new_data = CryptoPrice(price=price, crypto_currency=crypto_currency)\n",
       "            key = crypto_currency.encode(\"utf-8\")\n",
       "            await publisher.publish(new_data, key=key)\n",
       "        else:\n",
       "            logger.warning(f\"Failed API request {url}\")\n",
       "\n",
       "        await asyncio.sleep(time_interval)\n",
       "\n",
       "\n",
       "@app.after_startup\n",
       "async def publish_crypto_price(logger: Logger, context: ContextRepo):\n",
       "    logger.info(\"Starting publishing:\")\n",
       "\n",
       "    crypto_currencies = [\"BTC\", \"ETH\"]\n",
       "    # start fetching and publishing crypto prices\n",
       "    publish_tasks = [\n",
       "        asyncio.create_task(\n",
       "            fetch_and_publish_crypto_price(crypto_currency, logger, context)\n",
       "        )\n",
       "        for crypto_currency in crypto_currencies\n",
       "    ]\n",
       "    # you need to save asyncio tasks so you can wait for them to finish at app shutdown (the function with @app.on_shutdown function)\n",
       "    context.set_global(\"publish_tasks\", publish_tasks)\n",
       "\n",
       "```"
      ],
      "text/plain": [
       "<IPython.core.display.Markdown object>"
      ]
     },
     "execution_count": null,
     "metadata": {},
     "output_type": "execute_result"
    }
   ],
   "source": [
    "# | echo: false\n",
    "\n",
    "code = Code(filename='../../docs_src/tutorial/scrape_and_publish_app.py', language='python')\n",
    "md(f\"```python\\n{code}\\n```\")"
   ]
  },
  {
   "cell_type": "markdown",
   "metadata": {},
   "source": [
    "### Calculate the moving average app"
   ]
  },
  {
   "cell_type": "markdown",
   "metadata": {},
   "source": [
    "This application will calculate the mean price of the last three messages received from the 'new_data' topic for each cryptocurrency. Afterwards, the calculated mean price will be published to the 'price_mean' topic.\n",
    "\n",
    "\n",
    "Here is the full description of the desired application:"
   ]
  },
  {
   "cell_type": "code",
   "execution_count": null,
   "metadata": {},
   "outputs": [],
   "source": [
    "# | hide\n",
    "\n",
    "with open('../../docs_src/tutorial/calculate_mean_description.txt', 'r') as file:\n",
    "    description = file.read()\n",
    "\n",
    "description = f\"\"\"\n",
    "```text\n",
    "{description} \n",
    "```\n",
    "\"\"\""
   ]
  },
  {
   "cell_type": "code",
   "execution_count": null,
   "metadata": {},
   "outputs": [
    {
     "data": {
      "text/markdown": [
       "\n",
       "```text\n",
       "Create faststream application for consuming messages from the new_data topic. \n",
       "This topic needs to use partition key.\n",
       "\n",
       "new_data messages use JSON with two attributes (create class CryptoPrice with these attributes)s:\n",
       "    - price: non negative float (it represents current pice of the crypto)\n",
       "    - crypto_currency: string (it represents the cryptocurrency e.g BTC, ETH...)\n",
       "\n",
       "Application should save each message to a dictionary (global variable) - partition key should be usded as a dictionary key and value should be a List of prices.\n",
       "Keep only last 100 messages in the dictionary.\n",
       "\n",
       "If there is less the 3 messages for that for the given partition key, do not publish any messages.\n",
       "\n",
       "Otherwise, Calculate the price mean of the last 3 messages for the given partition key.\n",
       "Publish the price mean to the price_mean topic and use the same partition key which the new_data topic is using.\n",
       " \n",
       "```\n"
      ],
      "text/plain": [
       "<IPython.core.display.Markdown object>"
      ]
     },
     "execution_count": null,
     "metadata": {},
     "output_type": "execute_result"
    }
   ],
   "source": [
    "# | echo: false\n",
    "\n",
    "md(description)"
   ]
  },
  {
   "cell_type": "markdown",
   "metadata": {},
   "source": [
    "To create a `faststream` application inside the `calculate_mean_app` directory, first, copy the previous description and paste it into the `description_calculate_mean.txt` file.\n",
    "\n",
    "Next, run the following command:\n",
    "\n",
    "```sh\n",
    "faststream_gen -i description_calculate_mean.txt -o calculate_mean_app\n",
    "```\n",
    "```console\n",
    "✨  Generating a new FastStream application!\n",
    " ✔ Application description validated. \n",
    " ✔ FastStream app skeleton code generated. \n",
    " ✔ The app and the tests are generated. \n",
    " ✔ New FastStream project created. \n",
    " ✔ Integration tests were successfully completed. \n",
    " Tokens used: 13367\n",
    " Total Cost (USD): $0.04147\n",
    "✨  All files were successfully generated!\n",
    "```"
   ]
  },
  {
   "cell_type": "markdown",
   "metadata": {},
   "source": [
    "This command will generate `calculate_mean_app` directory with `app/application.py` and `tests/test_application.py` inside.\n",
    "\n",
    "`app/application.py`:"
   ]
  },
  {
   "cell_type": "code",
   "execution_count": null,
   "metadata": {},
   "outputs": [
    {
     "data": {
      "text/markdown": [
       "```python\n",
       "from typing import Dict, List\n",
       "\n",
       "from pydantic import BaseModel, Field, NonNegativeFloat\n",
       "\n",
       "from faststream import Context, ContextRepo, FastStream, Logger\n",
       "from faststream.kafka import KafkaBroker\n",
       "\n",
       "broker = KafkaBroker(\"localhost:9092\")\n",
       "app = FastStream(broker)\n",
       "\n",
       "\n",
       "class CryptoPrice(BaseModel):\n",
       "    price: NonNegativeFloat = Field(\n",
       "        ..., examples=[50000], description=\"Current price of the cryptocurrency\"\n",
       "    )\n",
       "    crypto_currency: str = Field(\n",
       "        ..., examples=[\"BTC\"], description=\"Cryptocurrency symbol (e.g. BTC, ETH)\"\n",
       "    )\n",
       "\n",
       "\n",
       "publisher = broker.publisher(\"price_mean\")\n",
       "\n",
       "\n",
       "@app.on_startup\n",
       "async def app_setup(context: ContextRepo):\n",
       "    message_history: Dict[str, List[float]] = {}\n",
       "    context.set_global(\"message_history\", message_history)\n",
       "\n",
       "\n",
       "@broker.subscriber(\"new_data\")\n",
       "async def on_new_data(\n",
       "    msg: CryptoPrice,\n",
       "    logger: Logger,\n",
       "    message_history: Dict[str, List[float]] = Context(),\n",
       "    key: bytes = Context(\"message.raw_message.key\"),\n",
       ") -> None:\n",
       "    logger.info(f\"New data received: {msg=}\")\n",
       "\n",
       "    partition_key = key.decode(\"utf-8\")\n",
       "    if partition_key not in message_history:\n",
       "        message_history[partition_key] = []\n",
       "\n",
       "    message_history[partition_key].append(msg.price)\n",
       "\n",
       "    if len(message_history[partition_key]) > 100:\n",
       "        message_history[partition_key].pop(0)\n",
       "\n",
       "    if len(message_history[partition_key]) >= 3:\n",
       "        price_mean = sum(message_history[partition_key][-3:]) / 3\n",
       "        await publisher.publish(price_mean, key=key)\n",
       "\n",
       "```"
      ],
      "text/plain": [
       "<IPython.core.display.Markdown object>"
      ]
     },
     "execution_count": null,
     "metadata": {},
     "output_type": "execute_result"
    }
   ],
   "source": [
    "# | echo: false\n",
    "\n",
    "code = Code(filename='../../docs_src/tutorial/calculate_mean_app.py', language='python')\n",
    "md(f\"```python\\n{code}\\n```\")"
   ]
  },
  {
   "cell_type": "markdown",
   "metadata": {},
   "source": [
    "## Start localhost Kafka broker\n"
   ]
  },
  {
   "cell_type": "markdown",
   "metadata": {},
   "source": [
    "In order for `FastStream` applications to publish and consume messages from the Kafka broker, it is necessary to have a running Kafka broker.\n",
    "\n",
    "Along with application and test, `faststream-gen` also generated `scripts` directory (inside both app directories).\n",
    "You can start local Kafka broker by executing following commands:\n",
    "\n",
    "```sh\n",
    "cd retrieve_publish_app\n",
    "# make all shell scripts executable\n",
    "chmod +x scripts/*.sh\n",
    "# start local kafka broker\n",
    "./scripts/start_kafka_broker_locally.sh\n",
    "```\n",
    "\n",
    "```console\n",
    "[+] Running 2/2\n",
    " ⠿ Network scripts_default  Created                                                                                                             0.1s\n",
    " ⠿ Container bitnami_kafka  Started \n",
    "```"
   ]
  },
  {
   "cell_type": "markdown",
   "metadata": {},
   "source": [
    "## Run the applications"
   ]
  },
  {
   "cell_type": "markdown",
   "metadata": {},
   "source": [
    "### Retrieve and publish app"
   ]
  },
  {
   "cell_type": "markdown",
   "metadata": {},
   "source": [
    "To start the `retrieve_publish_app`, navigate to the \"faststream_gen_tutorial\" directory and run the following command:\n",
    "```sh\n",
    "faststream run  retrieve_publish_app.app.application:app\n",
    "```\n",
    "```console\n",
    "2023-09-15 13:41:21,948 INFO     - FastStream app starting...\n",
    "2023-09-15 13:41:22,144 INFO     -      |            - Starting publishing:\n",
    "2023-09-15 13:41:22,144 INFO     - FastStream app started successfully! To exit press CTRL+C\n",
    "Topic new_data not found in cluster metadata\n",
    "```"
   ]
  },
  {
   "cell_type": "markdown",
   "metadata": {},
   "source": [
    "### Calculate the moving average app"
   ]
  },
  {
   "cell_type": "markdown",
   "metadata": {},
   "source": [
    "Open **new terminal**, navigate to the \"faststream_gen_tutorial\" directory and make sure that you have activated virtual environment.\n",
    "\n",
    "To start the `calculate_mean_app`, run the following command:\n",
    "```sh\n",
    "faststream run calculate_mean_app.app.application:app\n",
    "```\n",
    "```console\n",
    "2023-09-15 13:56:47,245 INFO     - FastStream app starting...\n",
    "2023-09-15 13:56:47,428 INFO     - new_data |            - `OnNewData` waiting for messages\n",
    "2023-09-15 13:56:47,621 INFO     - FastStream app started successfully! To exit press CTRL+C\n",
    "2023-09-15 13:56:48,314 INFO     - new_data | 13675-1694 - Received\n",
    "2023-09-15 13:56:48,315 INFO     - new_data | 13675-1694 - msg=NewData(price=1624.235, currency='ETH')\n",
    "2023-09-15 13:56:48,315 INFO     - new_data | 13675-1694 - Processed\n",
    "2023-09-15 13:56:48,316 INFO     - new_data | 13676-1694 - Received\n",
    "2023-09-15 13:56:48,316 INFO     - new_data | 13676-1694 - msg=NewData(price=26485.545, currency='BTC')\n",
    "2023-09-15 13:56:48,316 INFO     - new_data | 13676-1694 - Processed\n",
    "2023-09-15 13:56:50,491 INFO     - new_data | 13677-1694 - Received\n",
    "2023-09-15 13:56:50,492 INFO     - new_data | 13677-1694 - msg=NewData(price=1624.235, currency='ETH')\n",
    "...\n",
    "```"
   ]
  },
  {
   "cell_type": "markdown",
   "metadata": {},
   "source": [
    "You can see in the terminal the that the application is reading the messages from the `price_mean` topic."
   ]
  },
  {
   "cell_type": "markdown",
   "metadata": {},
   "source": [
    "### Subscribe directly to local kafka broker topic"
   ]
  },
  {
   "cell_type": "markdown",
   "metadata": {},
   "source": [
    "Open **new terminal**, navigate to the \"faststream_gen_tutorial\" directory and make sure that you have activated virtual environment.\n",
    "\n",
    "To check if the `calculate_mean_app` is publishing messages to the `price_mean` topic, run the following comand:"
   ]
  },
  {
   "cell_type": "markdown",
   "metadata": {},
   "source": [
    " ```sh\n",
    "./retrieve_publish_app/scripts/subscribe_to_kafka_broker_locally.sh price_mean\n",
    "```\n",
    "```console\n",
    "BTC     26405.745\n",
    "ETH     1621.3733333333332\n",
    "BTC     26404.865\n",
    "ETH     1621.375\n",
    "BTC     26404.865\n",
    "...\n",
    "```"
   ]
  },
  {
   "cell_type": "markdown",
   "metadata": {},
   "source": [
    "To stop the Kafka broker after analyzing the mean price of cryptocurrencies, you can execute the following commands:\n",
    "```sh\n",
    "cd retrieve_publish_app \n",
    "./scripts/stop_kafka_broker_locally.sh\n",
    "```\n",
    "```console\n",
    "[+] Running 2/2\n",
    " ⠿ Container bitnami_kafka  Removed                                                                            1.2s\n",
    " ⠿ Network scripts_default  Removed \n",
    "```"
   ]
  },
  {
   "cell_type": "markdown",
   "metadata": {},
   "source": [
    "## Next steps"
   ]
  },
  {
   "cell_type": "markdown",
   "metadata": {},
   "source": [
    "Congratulations! You have successfully completed this tutorial and gained a new set of skills. Now that you have learned how to use `faststream-gen`, try it out with your own example!"
   ]
  },
  {
   "cell_type": "code",
   "execution_count": null,
   "metadata": {},
   "outputs": [],
   "source": []
  }
 ],
 "metadata": {
  "kernelspec": {
   "display_name": "python3",
   "language": "python",
   "name": "python3"
  }
 },
 "nbformat": 4,
 "nbformat_minor": 4
}
