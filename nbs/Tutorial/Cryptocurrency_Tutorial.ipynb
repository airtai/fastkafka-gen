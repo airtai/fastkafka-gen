{
 "cells": [
  {
   "cell_type": "code",
   "execution_count": 3,
   "metadata": {},
   "outputs": [],
   "source": [
    "# | hide\n",
    "\n",
    "from IPython.display import Markdown as md\n",
    "from IPython.display import Code\n"
   ]
  },
  {
   "cell_type": "markdown",
   "metadata": {},
   "source": [
    "# Cryptocurrency analysis with FastStream"
   ]
  },
  {
   "cell_type": "markdown",
   "metadata": {},
   "source": [
    "In this tutorial, we will walk through the process of using the `faststream-gen` Python library to retrieve cryptocurrency prices in real time and calculate their moving average. To accomplish that, we will generate following two <a href=\"https://faststream.airt.ai\" target=\"_blank\">FastStream</a> applications:\n",
    "\n",
    "1. A microservice retrieving current cryptocurrency prices from an external <a href=\"https://help.coinbase.com/en/cloud/api/coinbase\" target=\"_blank\">web service</a> and publishing retrieved data to a Kafka topic.\n",
    "\n",
    "2. A microservice consuming such messages, calculating the moving average price for each cryptocurrency and publishing it to another Kafka topic.\n",
    "\n",
    "**Let's get started!**"
   ]
  },
  {
   "cell_type": "markdown",
   "metadata": {},
   "source": [
    "## Installation"
   ]
  },
  {
   "cell_type": "markdown",
   "metadata": {},
   "source": [
    "To complete this tutorial, you will need the following software and Python library:\n",
    "\n",
    "1. <a href=\"https://www.python.org/\" target=\"_blank\">Python</a> (version 3.8 and upward)\n",
    "\n",
    "2. a valid <a href=\"https://platform.openai.com/account/api-keys\" target=\"_blank\">OPENAI API key</a>\n",
    "\n",
    "3. [optional] <a href=\"https://github.com/\" target=\"_blank\">github account</a> and installed <a href=\"https://git-scm.com/\" target=\"_blank\">git command</a>\n",
    "\n",
    "\n",
    "It is recommended to use a virtual environment for your Python projects. Virtual environments are a common and effective Python development technique that helps to keep dependencies required by different projects separate by creating isolated Python environments for them.\n",
    "\n",
    "In this tutorial, we will be using Python’s venv module to create a virtual environment."
   ]
  },
  {
   "cell_type": "markdown",
   "metadata": {},
   "source": [
    "First, create a root directory for this tutorial. Navigate to the desired location and create a new directory called `faststream_gen_tutorial` and enter it.\n",
    "\n",
    "```sh\n",
    "mkdir faststream_gen_tutorial\n",
    "cd faststream_gen_tutorial\n",
    "```"
   ]
  },
  {
   "cell_type": "markdown",
   "metadata": {},
   "source": [
    "### Creating and activating a new Python virtual environment\n",
    "\n",
    "Create a new virtual environment using <a href=\"https://docs.python.org/3/library/venv.html\" target=\"_blank\"> venv</a>:\n",
    "```sh\n",
    "python3 -m venv venv\n",
    "```\n",
    "\n",
    "Next, activate your new virtual environment:\n",
    "\n",
    "```sh\n",
    "source venv/bin/activate\n",
    "```"
   ]
  },
  {
   "cell_type": "markdown",
   "metadata": {},
   "source": [
    "### Installing the packages\n",
    "\n",
    "Upgrade pip if needed and install `faststream-gen` package:\n",
    "\n",
    "```sh\n",
    "pip install --upgrade pip && pip install faststream-gen\n",
    "```\n",
    "\n",
    "Check that the installation was succesful by running the following command:\n",
    "```sh\n",
    "faststream_gen --help\n",
    "```\n",
    "You should see the full list of options of the command in the output.\n",
    "\n",
    "Now you have successfully set up the environment and installed the `faststream-gen` package. You are ready to start using it!"
   ]
  },
  {
   "cell_type": "markdown",
   "metadata": {},
   "source": [
    "### Setting up OpenAI API key\n",
    "\n",
    "`faststream-gen` uses OpenAI API and you need to export your API key in environment variable `OPENAI_API_KEY`. If you use bash or compatible shell, you can do that with the following command:\n",
    "\n",
    "```sh\n",
    "export OPENAI_API_KEY=\"<your_openai_api_key>\"\n",
    "```\n",
    "\n",
    "If you don't already have `OPENAI_API_KEY`, you can create one <a href=\"https://platform.openai.com/account/api-keys\" target=\"_blank\">here</a>."
   ]
  },
  {
   "cell_type": "markdown",
   "metadata": {},
   "source": [
    "## Generating FastStream apps"
   ]
  },
  {
   "cell_type": "markdown",
   "metadata": {},
   "source": [
    "### Retrieving and publishing crypto prices"
   ]
  },
  {
   "cell_type": "markdown",
   "metadata": {},
   "source": [
    "Now, we will create an application which retrieves information about current cryptocurrency prices from an external <a href=\"https://help.coinbase.com/en/cloud/api/coinbase\" target=\"_blank\">web service</a> and publishes messages to a Kafka topic. In order to achieve this, we will provide a comprehensive explanation of the necessary implementation steps. This will include details such as the message schema, instructions on obtaining cryptocurrency prices, and guidance on selecting the appropriate topic and partition keys.\n",
    "\n",
    "Here is the full description of the desired application:"
   ]
  },
  {
   "cell_type": "code",
   "execution_count": 4,
   "metadata": {},
   "outputs": [],
   "source": [
    "# | hide\n",
    "\n",
    "with open('../../docs_src/tutorial/retrieve-publish-crypto/description.txt', 'r') as file:\n",
    "    description = file.read()\n",
    "\n",
    "description = f\"\"\"\n",
    "```text\n",
    "{description} \n",
    "```\n",
    "\"\"\""
   ]
  },
  {
   "cell_type": "code",
   "execution_count": 5,
   "metadata": {},
   "outputs": [
    {
     "data": {
      "text/markdown": [
       "\n",
       "```text\n",
       "Create a FastStream application which will retrieve the current cryptocurrency\n",
       "price and publish it to new_crypto_price topic. \n",
       "\n",
       "The application should retrieve the data every 2 seconds.\n",
       "\n",
       "A message which will be produced is JSON with the two attributes:\n",
       "- price: non-negative float (current price of cryptocurrency in USD)\n",
       "- crypto_currency: string (the cryptocurrency e.g. BTC, ETH...)\n",
       "\n",
       "The current price of Bitcoin can be retrieved by a simple GET request to:\n",
       "    - https://api.coinbase.com/v2/prices/BTC-USD/spot\n",
       "    \n",
       "The current price of Ethereum can be retrieved by a simple GET request to:\n",
       "    - https://api.coinbase.com/v2/prices/ETH-USD/spot\n",
       "\n",
       "The response of this GET request is a JSON and you can get information about\n",
       "the crypto_currency in:\n",
       "    response['data']['base']\n",
       "    \n",
       "and the information about the price in:\n",
       "    response['data']['amount']\n",
       "\n",
       "Use utf-8 encoded crypto_currency attribute as a partition key when publishing\n",
       "the message to new_crypto_price topic.\n",
       " \n",
       "```\n"
      ],
      "text/plain": [
       "<IPython.core.display.Markdown object>"
      ]
     },
     "execution_count": 5,
     "metadata": {},
     "output_type": "execute_result"
    }
   ],
   "source": [
    "# | echo: false\n",
    "\n",
    "md(description)"
   ]
  },
  {
   "cell_type": "markdown",
   "metadata": {},
   "source": [
    "Let's generate a new `FastStream` project inside the `retrieve-publish-crypto` directory. First, copy the previous description and paste it into a file called `description_retrieve_publish.txt`.\n",
    "\n",
    "Next, run the following command (parameter `-i` specifies the filepath for the app description file, while the parameter `-o` specifies the directory where the generated project files will be saved):\n",
    "\n",
    "```sh\n",
    "faststream_gen -i description_retrieve_publish.txt -o retrieve-publish-crypto\n",
    "```\n",
    "```console\n",
    "✨  Generating a new FastStream application!\n",
    " ✔ Application description validated. \n",
    " ✔ FastStream app skeleton code generated. \n",
    " ✔ The app and the tests are generated. \n",
    " ✔ New FastStream project created. \n",
    " ✔ Integration tests were successfully completed. \n",
    " Tokens used: 36938\n",
    " Total Cost (USD): $0.11436\n",
    "✨  All files were successfully generated!\n",
    "```"
   ]
  },
  {
   "cell_type": "markdown",
   "metadata": {},
   "source": [
    "!!! note\n",
    "\n",
    "    By default, faststream_gen utilizes `gpt-3.5-turbo` for creating FastStream applications. If you encounter any generation issues, we recommend that you try again with the `--model gpt-4` option. With gpt-4's enhanced capabilities, you can expect even higher success rates, especially when dealing with more complex tasks. "
   ]
  },
  {
   "cell_type": "markdown",
   "metadata": {},
   "source": [
    "This command will generate `FastStream` project with the following structure:\n",
    "\n",
    "```console\n",
    "retrieve-publish-crypto\n",
    "├── .github\n",
    "│   └── workflows\n",
    "│       ├── build_docker.yml\n",
    "│       ├── deploy_docs.yml\n",
    "│       └── test.yml\n",
    "├── .gitignore\n",
    "├── Dockerfile\n",
    "├── LICENSE\n",
    "├── README.md\n",
    "├── app\n",
    "│   └── application.py\n",
    "├── pyproject.toml\n",
    "├── scripts\n",
    "│   ├── build_docker.sh\n",
    "│   ├── lint.sh\n",
    "│   ├── services.yml\n",
    "│   ├── start_kafka_broker_locally.sh\n",
    "│   ├── static-analysis.sh\n",
    "│   ├── stop_kafka_broker_locally.sh\n",
    "│   └── subscribe_to_kafka_broker_locally.sh\n",
    "└── tests\n",
    "    ├── __init__.py\n",
    "    └── test_application.py\n",
    "```\n",
    "\n",
    "\n",
    "The generated application can be found in the `app/` directory, while the tests are located in the `tests/` directory.\n",
    "\n",
    "**`app/application.py`**:"
   ]
  },
  {
   "cell_type": "code",
   "execution_count": 6,
   "metadata": {},
   "outputs": [
    {
     "data": {
      "text/markdown": [
       "```python\n",
       "import asyncio\n",
       "import json\n",
       "from datetime import datetime\n",
       "\n",
       "import aiohttp\n",
       "\n",
       "from pydantic import BaseModel, Field, NonNegativeFloat\n",
       "\n",
       "from faststream import ContextRepo, FastStream, Logger\n",
       "from faststream.kafka import KafkaBroker\n",
       "\n",
       "broker = KafkaBroker(\"localhost:9092\")\n",
       "app = FastStream(broker)\n",
       "\n",
       "\n",
       "class CryptoPrice(BaseModel):\n",
       "    price: NonNegativeFloat = Field(\n",
       "        ..., examples=[50000.0], description=\"Current price of cryptocurrency in USD\"\n",
       "    )\n",
       "    crypto_currency: str = Field(\n",
       "        ..., examples=[\"BTC\"], description=\"The cryptocurrency\"\n",
       "    )\n",
       "\n",
       "publisher = broker.publisher(\"new_crypto_price\")\n",
       "\n",
       "async def fetch_crypto_price(\n",
       "    url: str, crypto_currency: str, logger: Logger, context: ContextRepo, time_interval: int = 2\n",
       ") -> None:\n",
       "    # Always use context: ContextRepo for storing app_is_running variable\n",
       "    while context.get(\"app_is_running\"):\n",
       "        async with aiohttp.ClientSession() as session:\n",
       "            async with session.get(url) as response:\n",
       "                if response.status == 200:\n",
       "                    data = await response.json()\n",
       "                    price = data[\"data\"][\"amount\"]\n",
       "                    new_crypto_price = CryptoPrice(\n",
       "                        price=price, crypto_currency=crypto_currency\n",
       "                    )\n",
       "                    await publisher.publish(\n",
       "                        new_crypto_price,\n",
       "                        key=crypto_currency.encode(\"utf-8\"),\n",
       "                    )\n",
       "                else:\n",
       "                    logger.warning(\n",
       "                        f\"Failed API request {url} at time {datetime.now()}\"\n",
       "                    )\n",
       "\n",
       "        await asyncio.sleep(time_interval)\n",
       "\n",
       "\n",
       "@app.on_startup\n",
       "async def app_setup(context: ContextRepo):\n",
       "    context.set_global(\"app_is_running\", True)\n",
       "\n",
       "\n",
       "@app.on_shutdown\n",
       "async def shutdown(context: ContextRepo):\n",
       "    context.set_global(\"app_is_running\", False)\n",
       "\n",
       "    # Get all the running tasks and wait them to finish\n",
       "    fetch_tasks = context.get(\"fetch_tasks\")\n",
       "    await asyncio.gather(*fetch_tasks)\n",
       "\n",
       "\n",
       "@app.after_startup\n",
       "async def publish_crypto_price(logger: Logger, context: ContextRepo):\n",
       "    logger.info(\"Starting publishing:\")\n",
       "\n",
       "    cryptocurrencies = [(\"Bitcoin\", \"BTC\"), (\"Ethereum\", \"ETH\")]\n",
       "    fetch_tasks = [\n",
       "        asyncio.create_task(\n",
       "            fetch_crypto_price(\n",
       "                f\"https://api.coinbase.com/v2/prices/{crypto_currency}-USD/spot\",\n",
       "                crypto_currency,\n",
       "                logger,\n",
       "                context,\n",
       "            )\n",
       "        )\n",
       "        for _, crypto_currency in cryptocurrencies\n",
       "    ]\n",
       "    # you need to save asyncio tasks so you can wait them to finish at app shutdown (the function with @app.on_shutdown function)\n",
       "    context.set_global(\"fetch_tasks\", fetch_tasks)\n",
       "```"
      ],
      "text/plain": [
       "<IPython.core.display.Markdown object>"
      ]
     },
     "execution_count": 6,
     "metadata": {},
     "output_type": "execute_result"
    }
   ],
   "source": [
    "# | echo: false\n",
    "\n",
    "code = Code(filename='../../docs_src/tutorial/retrieve-publish-crypto/app/application.py', language='python')\n",
    "md(f\"```python\\n{code}\\n```\")"
   ]
  },
  {
   "cell_type": "markdown",
   "metadata": {},
   "source": [
    "**`tests/test_application.py`**:"
   ]
  },
  {
   "cell_type": "code",
   "execution_count": 7,
   "metadata": {},
   "outputs": [
    {
     "data": {
      "text/markdown": [
       "```python\n",
       "import pytest\n",
       "\n",
       "from faststream import Context, TestApp\n",
       "from faststream.kafka import TestKafkaBroker\n",
       "\n",
       "from app.application import CryptoPrice, app, broker\n",
       "\n",
       "\n",
       "@broker.subscriber(\"new_crypto_price\")\n",
       "async def on_new_crypto_price(\n",
       "    msg: CryptoPrice, key: bytes = Context(\"message.raw_message.key\")\n",
       "):\n",
       "    pass\n",
       "\n",
       "\n",
       "@pytest.mark.asyncio\n",
       "async def test_fetch_crypto_price():\n",
       "    async with TestKafkaBroker(broker):\n",
       "        async with TestApp(app):\n",
       "            await on_new_crypto_price.wait_call(2)\n",
       "            on_new_crypto_price.mock.assert_called()\n",
       "```"
      ],
      "text/plain": [
       "<IPython.core.display.Markdown object>"
      ]
     },
     "execution_count": 7,
     "metadata": {},
     "output_type": "execute_result"
    }
   ],
   "source": [
    "# | echo: false\n",
    "\n",
    "code = Code(filename='../../docs_src/tutorial/retrieve-publish-crypto/tests/test_application.py', language='python')\n",
    "md(f\"```python\\n{code}\\n```\")"
   ]
  },
  {
   "cell_type": "markdown",
   "metadata": {},
   "source": [
    "#### Creating a new Python virtual environment\n",
    "\n",
    "All the required dependencies to run the newly generated FastStream project are located within the `pyproject.toml` file.\n",
    "\n",
    "Create and activate a new virtual environment inside the `retrieve-publish-crypto` directory by using <a href=\"https://docs.python.org/3/library/venv.html\" target=\"_blank\"> venv</a>:\n",
    "```sh\n",
    "cd retrieve-publish-crypto\n",
    "python3 -m venv venv\n",
    "source venv/bin/activate\n",
    "```\n",
    "\n",
    "\n",
    "Upgrade pip if needed and install the development dependencies:\n",
    "```sh\n",
    "pip install --upgrade pip && pip install -e .[dev]\n",
    "```"
   ]
  },
  {
   "cell_type": "markdown",
   "metadata": {},
   "source": [
    "#### Generating AsyncAPI Docs\n",
    "\n",
    "To generate AsyncAPI Docs for the application, execute the following command:\n",
    "```sh\n",
    "faststream docs serve app.application:app\n",
    "```\n",
    "\n",
    "```console\n",
    "INFO:     Started server process [3575270]\n",
    "INFO:     Waiting for application startup.\n",
    "INFO:     Application startup complete.\n",
    "INFO:     Uvicorn running on http://localhost:8000 (Press CTRL+C to quit)\n",
    "```\n",
    "\n",
    "You can now access the AsyncAPI Docs by opening <a href=\"http://localhost:8000\" target=\"_blank\">localhost:8000</a> in your browser.\n",
    "\n",
    "![AsyncAPI Docs](images/localhost-asyncapi1.png)"
   ]
  },
  {
   "cell_type": "markdown",
   "metadata": {},
   "source": [
    "#### Testing the application\n",
    "\n",
    "In order to verify functional correctness  of the application, it is recommended to execute the generated unit and integration test by running the  `pytest` command.\n",
    "\n",
    "```sh\n",
    "pytest\n",
    "```"
   ]
  },
  {
   "cell_type": "code",
   "execution_count": 8,
   "metadata": {},
   "outputs": [
    {
     "name": "stdout",
     "output_type": "stream",
     "text": [
      "/usr/bin/bash: line 0: cd: /work/fastkafka-gen/docs_src/tutorial/retrieve-publish-crypto: No such file or directory\n"
     ]
    }
   ],
   "source": [
    "# | echo: false\n",
    "\n",
    "! cd /work/fastkafka-gen/docs_src/tutorial/retrieve-publish-crypto && pytest"
   ]
  },
  {
   "cell_type": "markdown",
   "metadata": {},
   "source": [
    "#### Starting localhost Kafka broker\n",
    "\n",
    "To run the `FastStream` application locally, ensure that you have a running Kafka broker. You can conveniently start a Kafka Docker container by executing the `start_kafka_broker_locally.sh` shell script:\n",
    "\n",
    "```sh\n",
    "./scripts/start_kafka_broker_locally.sh\n",
    "```\n",
    "\n",
    "```console\n",
    "[+] Running 2/2\n",
    " ⠿ Network scripts_default  Created                                                                                                             0.1s\n",
    " ⠿ Container bitnami_kafka  Started \n",
    "```"
   ]
  },
  {
   "cell_type": "markdown",
   "metadata": {},
   "source": [
    "#### Starting the application\n",
    "\n",
    "To start the application, execute the following command:\n",
    "```sh\n",
    "faststream run  app.application:app\n",
    "```\n",
    "```console\n",
    "2023-09-15 13:41:21,948 INFO     - FastStream app starting...\n",
    "2023-09-15 13:41:22,144 INFO     -      |            - Starting publishing:\n",
    "2023-09-15 13:41:22,144 INFO     - FastStream app started successfully! To exit press CTRL+C\n",
    "Topic new_crypto_price not found in cluster metadata\n",
    "```\n",
    "\n",
    "Ensure that the app remains running, it is needed for the subsequent steps."
   ]
  },
  {
   "cell_type": "markdown",
   "metadata": {},
   "source": [
    "### Calculating the moving average"
   ]
  },
  {
   "cell_type": "markdown",
   "metadata": {},
   "source": [
    "Let's develop an application that calculates the average price of the three most recent messages received from the `new_crypto_price` topic for each cryptocurrency. Subsequently, we will publish the computed average price to the `price_mean` topic.\n",
    "\n",
    "\n",
    "Here is the full description of the desired application:"
   ]
  },
  {
   "cell_type": "code",
   "execution_count": 9,
   "metadata": {},
   "outputs": [],
   "source": [
    "# | hide\n",
    "\n",
    "with open('../../docs_src/tutorial/calculate-mean-app/description.txt', 'r') as file:\n",
    "    description = file.read()\n",
    "\n",
    "description = f\"\"\"\n",
    "```text\n",
    "{description} \n",
    "```\n",
    "\"\"\""
   ]
  },
  {
   "cell_type": "code",
   "execution_count": 10,
   "metadata": {},
   "outputs": [
    {
     "data": {
      "text/markdown": [
       "\n",
       "```text\n",
       "Create a FastStream application for consuming messages from the new_crypto_price topic. \n",
       "This topic needs to use a partition key.\n",
       "\n",
       "new_crypto_price messages use JSON with two attributes \n",
       "(create class CryptoPrice with these attributes):\n",
       "- price: non-negative float (it represents the current price of the crypto)\n",
       "- crypto_currency: string (it represents the cryptocurrency e.g. BTC, ETH...)\n",
       "\n",
       "The application should save each message to a dictionary (global variable) \n",
       "- partition key should be used as a dictionary key \n",
       "  and value should be a List of prices.\n",
       "  \n",
       "Keep only the last 100 messages in the dictionary.\n",
       "\n",
       "If there are fewer than 3 messages for a given partition key,\n",
       "do not publish any messages.\n",
       "\n",
       "Otherwise, Calculate the price mean of the last 3 messages\n",
       "for the given partition key.\n",
       "\n",
       "Publish the price mean to the price_mean topic and use \n",
       "the same partition key that the new_crypto_price topic is using.\n",
       " \n",
       "```\n"
      ],
      "text/plain": [
       "<IPython.core.display.Markdown object>"
      ]
     },
     "execution_count": 10,
     "metadata": {},
     "output_type": "execute_result"
    }
   ],
   "source": [
    "# | echo: false\n",
    "\n",
    "md(description)"
   ]
  },
  {
   "cell_type": "markdown",
   "metadata": {},
   "source": [
    "Please open a new terminal and navigate to the root directory of this tutorial, which is called `faststream_gen_tutorial`. Once you are inside the `faststream_gen_tutorial` folder, please activate the virtual environment.\n",
    "\n",
    "```sh\n",
    "cd path_to/faststream_gen_tutorial\n",
    "```\n",
    "```sh\n",
    "source venv/bin/activate\n",
    "```"
   ]
  },
  {
   "cell_type": "markdown",
   "metadata": {},
   "source": [
    "To create a `faststream` application inside the `calculate-mean-app` directory, first copy the previous description and paste it into the `description_calculate_mean.txt` file.\n",
    "\n",
    "Next, run the following command:\n",
    "\n",
    "```sh\n",
    "faststream_gen -i description_calculate_mean.txt -o calculate-mean-app\n",
    "```\n",
    "```console\n",
    "✨  Generating a new FastStream application!\n",
    " ✔ Application description validated. \n",
    " ✔ FastStream app skeleton code generated. \n",
    " ✔ The app and the tests are generated. \n",
    " ✔ New FastStream project created. \n",
    " ✔ Integration tests were successfully completed. \n",
    " Tokens used: 13367\n",
    " Total Cost (USD): $0.04147\n",
    "✨  All files were successfully generated!\n",
    "```"
   ]
  },
  {
   "cell_type": "markdown",
   "metadata": {},
   "source": [
    "This command will generate `calculate-mean-app` directory with `app/application.py` and `tests/test_application.py` inside.\n",
    "\n",
    "**`app/application.py`**:"
   ]
  },
  {
   "cell_type": "code",
   "execution_count": 11,
   "metadata": {},
   "outputs": [
    {
     "data": {
      "text/markdown": [
       "```python\n",
       "from typing import Dict, List\n",
       "\n",
       "from pydantic import BaseModel, Field, NonNegativeFloat\n",
       "\n",
       "from faststream import Context, ContextRepo, FastStream, Logger\n",
       "from faststream.kafka import KafkaBroker\n",
       "\n",
       "\n",
       "class CryptoPrice(BaseModel):\n",
       "    price: NonNegativeFloat = Field(\n",
       "        ..., examples=[50000], description=\"Current price of the cryptocurrency\"\n",
       "    )\n",
       "    crypto_currency: str = Field(\n",
       "        ..., examples=[\"BTC\"], description=\"Cryptocurrency symbol\"\n",
       "    )\n",
       "\n",
       "\n",
       "broker = KafkaBroker(\"localhost:9092\")\n",
       "app = FastStream(broker)\n",
       "\n",
       "\n",
       "publisher = broker.publisher(\"price_mean\")\n",
       "\n",
       "\n",
       "@app.on_startup\n",
       "async def app_setup(context: ContextRepo):\n",
       "    message_history: Dict[str, List[float]] = {}\n",
       "    context.set_global(\"message_history\", message_history)\n",
       "\n",
       "\n",
       "@broker.subscriber(\"new_crypto_price\")\n",
       "async def on_new_crypto_price(\n",
       "    msg: CryptoPrice,\n",
       "    logger: Logger,\n",
       "    message_history: Dict[str, List[float]] = Context(),\n",
       "    key: bytes = Context(\"message.raw_message.key\"),\n",
       ") -> None:\n",
       "    logger.info(f\"New crypto price {msg=}\")\n",
       "\n",
       "    crypto_key = key.decode(\"utf-8\")\n",
       "    if crypto_key not in message_history:\n",
       "        message_history[crypto_key] = []\n",
       "\n",
       "    message_history[crypto_key].append(msg.price)\n",
       "\n",
       "    if len(message_history[crypto_key]) > 100:\n",
       "        message_history[crypto_key] = message_history[crypto_key][-100:]\n",
       "\n",
       "    if len(message_history[crypto_key]) >= 3:\n",
       "        price_mean = sum(message_history[crypto_key][-3:]) / 3\n",
       "        await publisher.publish(price_mean, key=key)\n",
       "```"
      ],
      "text/plain": [
       "<IPython.core.display.Markdown object>"
      ]
     },
     "execution_count": 11,
     "metadata": {},
     "output_type": "execute_result"
    }
   ],
   "source": [
    "# | echo: false\n",
    "\n",
    "code = Code(filename='../../docs_src/tutorial/calculate-mean-app/app/application.py', language='python')\n",
    "md(f\"```python\\n{code}\\n```\")"
   ]
  },
  {
   "cell_type": "markdown",
   "metadata": {},
   "source": [
    "**`tests/test_application.py`**:"
   ]
  },
  {
   "cell_type": "code",
   "execution_count": 12,
   "metadata": {},
   "outputs": [
    {
     "data": {
      "text/markdown": [
       "```python\n",
       "import pytest\n",
       "\n",
       "from faststream import Context, TestApp\n",
       "from faststream.kafka import TestKafkaBroker\n",
       "\n",
       "from app.application import CryptoPrice, app, broker, on_new_crypto_price\n",
       "\n",
       "\n",
       "@broker.subscriber(\"price_mean\")\n",
       "async def on_price_mean(msg: float, key: bytes = Context(\"message.raw_message.key\")):\n",
       "    pass\n",
       "\n",
       "\n",
       "@pytest.mark.asyncio\n",
       "async def test_app():\n",
       "    async with TestKafkaBroker(broker):\n",
       "        async with TestApp(app):\n",
       "            await broker.publish(\n",
       "                CryptoPrice(price=50000, crypto_currency=\"BTC\"),\n",
       "                \"new_crypto_price\",\n",
       "                key=b\"BTC\",\n",
       "            )\n",
       "            on_new_crypto_price.mock.assert_called_with(\n",
       "                dict(CryptoPrice(price=50000, crypto_currency=\"BTC\"))\n",
       "            )\n",
       "            on_price_mean.mock.assert_not_called()\n",
       "\n",
       "            await broker.publish(\n",
       "                CryptoPrice(price=60000, crypto_currency=\"BTC\"),\n",
       "                \"new_crypto_price\",\n",
       "                key=b\"BTC\",\n",
       "            )\n",
       "            on_new_crypto_price.mock.assert_called_with(\n",
       "                dict(CryptoPrice(price=60000, crypto_currency=\"BTC\"))\n",
       "            )\n",
       "            on_price_mean.mock.assert_not_called()\n",
       "\n",
       "            await broker.publish(\n",
       "                CryptoPrice(price=70000, crypto_currency=\"BTC\"),\n",
       "                \"new_crypto_price\",\n",
       "                key=b\"BTC\",\n",
       "            )\n",
       "            on_new_crypto_price.mock.assert_called_with(\n",
       "                dict(CryptoPrice(price=70000, crypto_currency=\"BTC\"))\n",
       "            )\n",
       "            on_price_mean.mock.assert_called_with(60000.0)\n",
       "```"
      ],
      "text/plain": [
       "<IPython.core.display.Markdown object>"
      ]
     },
     "execution_count": 12,
     "metadata": {},
     "output_type": "execute_result"
    }
   ],
   "source": [
    "# | echo: false\n",
    "\n",
    "code = Code(filename='../../docs_src/tutorial/calculate-mean-app/tests/test_application.py', language='python')\n",
    "md(f\"```python\\n{code}\\n```\")"
   ]
  },
  {
   "cell_type": "markdown",
   "metadata": {},
   "source": [
    "#### Creating a new Python virtual environment\n",
    "\n",
    "All the required dependencies to run the newly generated FastStream project are located within the `pyproject.toml` file. Create a new virtual environment and install the development dependencies for the project.\n",
    "\n",
    "Create and activate a new virtual environment inside the `calculate-mean-app` directory by using <a href=\"https://docs.python.org/3/library/venv.html\" target=\"_blank\"> venv</a>:\n",
    "```sh\n",
    "cd calculate-mean-app\n",
    "python3 -m venv venv\n",
    "source venv/bin/activate\n",
    "```\n",
    "\n",
    "\n",
    "Upgrade pip if needed and install the development dependencies:\n",
    "```sh\n",
    "pip install --upgrade pip && pip install -e .[dev]\n",
    "```"
   ]
  },
  {
   "cell_type": "markdown",
   "metadata": {},
   "source": [
    "#### Generating AsyncAPI Docs\n",
    "\n",
    "To generate AsyncAPI Docs for the application, execute the following command:\n",
    "```sh\n",
    "faststream docs serve app.application:app\n",
    "```\n",
    "\n",
    "```console\n",
    "INFO:     Started server process [3596205]\n",
    "INFO:     Waiting for application startup.\n",
    "INFO:     Application startup complete.\n",
    "INFO:     Uvicorn running on http://localhost:8000 (Press CTRL+C to quit)\n",
    "```\n",
    "\n",
    "You can now access the AsyncAPI Docs by opening <a href=\"http://localhost:8000\" target=\"_blank\">localhost:8000</a> in your browser.\n",
    "\n",
    "![AsyncAPI Docs](images/localhost-asyncapi2.png)"
   ]
  },
  {
   "cell_type": "markdown",
   "metadata": {},
   "source": [
    "#### Testing the application\n",
    "\n",
    "In order to verify functional correctness  of the application, it is recommended to execute the generated unit and integration test by running the  `pytest` command.\n",
    "\n",
    "```sh\n",
    "pytest\n",
    "```"
   ]
  },
  {
   "cell_type": "code",
   "execution_count": 13,
   "metadata": {},
   "outputs": [
    {
     "name": "stdout",
     "output_type": "stream",
     "text": [
      "/usr/bin/bash: line 0: cd: /work/fastkafka-gen/docs_src/tutorial/calculate-mean-app: No such file or directory\n"
     ]
    }
   ],
   "source": [
    "# | echo: false\n",
    "\n",
    "! cd /work/fastkafka-gen/docs_src/tutorial/calculate-mean-app && pytest"
   ]
  },
  {
   "cell_type": "markdown",
   "metadata": {},
   "source": [
    "#### Starting the application\n",
    "\n",
    "To start the application, execute the following command:\n",
    "```sh\n",
    "faststream run  app.application:app\n",
    "```\n",
    "```console\n",
    "2023-10-04 09:31:18,926 INFO     - FastStream app starting...\n",
    "2023-10-04 09:31:18,948 INFO     - new_crypto_price |            - `OnNewCryptoPrice` waiting for messages\n",
    "Topic new_crypto_price not found in cluster metadata\n",
    "2023-10-04 09:31:19,069 INFO     - FastStream app started successfully! To exit, press CTRL+C\n",
    "2023-10-04 09:31:40,876 INFO     - new_crypto_price | 0-16964047 - Received\n",
    "2023-10-04 09:31:40,878 INFO     - new_crypto_price | 0-16964047 - New crypto price msg=CryptoPrice(price=27414.085, crypto_currency='BTC')\n",
    "2023-10-04 09:31:40,878 INFO     - new_crypto_price | 0-16964047 - Processed\n",
    "2023-10-04 09:31:40,878 INFO     - new_crypto_price | 1-16964047 - Received\n",
    "2023-10-04 09:31:40,879 INFO     - new_crypto_price | 1-16964047 - New crypto price msg=CryptoPrice(price=1642.425, crypto_currency='ETH')\n",
    "2023-10-04 09:31:40,879 INFO     - new_crypto_price | 1-16964047 - Processed\n",
    "2023-10-04 09:31:43,053 INFO     - new_crypto_price | 2-16964047 - Received\n",
    "2023-10-04 09:31:43,054 INFO     - new_crypto_price | 2-16964047 - New crypto price msg=CryptoPrice(price=27414.085, crypto_currency='BTC')\n",
    "2023-10-04 09:31:43,054 INFO     - new_crypto_price | 2-16964047 - Processed\n",
    "2023-10-04 09:31:43,054 INFO     - new_crypto_price | 3-16964047 - Received\n",
    "2023-10-04 09:31:43,055 INFO     - new_crypto_price | 3-16964047 - New crypto price msg=CryptoPrice(price=1642.425, crypto_currency='ETH')\n",
    "...\n",
    "```\n",
    "\n",
    "You can see in the terminal the that the application is reading the messages from the `price_mean` topic.\n",
    "Ensure that the app remains running, it is needed for the next step."
   ]
  },
  {
   "cell_type": "markdown",
   "metadata": {},
   "source": [
    "#### Subscribing directly to local Kafka broker topic\n",
    "Open **new terminal**, navigate to the `calculate-mean-app` directory.\n",
    "\n",
    "To check if the `calculate-mean-app` is publishing messages to the `price_mean` topic, run the following comand:"
   ]
  },
  {
   "cell_type": "markdown",
   "metadata": {},
   "source": [
    " ```sh\n",
    "./scripts/subscribe_to_kafka_broker_locally.sh price_mean\n",
    "```\n",
    "```console\n",
    "BTC     26405.745\n",
    "ETH     1621.3733333333332\n",
    "BTC     26404.865\n",
    "ETH     1621.375\n",
    "BTC     26404.865\n",
    "...\n",
    "```"
   ]
  },
  {
   "cell_type": "markdown",
   "metadata": {},
   "source": [
    "#### Stoping Kafka broker\n",
    "To stop the Kafka broker after analyzing the mean price of cryptocurrencies, you can execute the following command:\n",
    "```sh\n",
    "./scripts/stop_kafka_broker_locally.sh\n",
    "```\n",
    "```console\n",
    "[+] Running 2/2\n",
    " ⠿ Container bitnami_kafka  Removed                                                                            1.2s\n",
    " ⠿ Network scripts_default  Removed \n",
    "```"
   ]
  },
  {
   "cell_type": "markdown",
   "metadata": {},
   "source": [
    "## [Optional] GitHub integration\n",
    "\n",
    "To successfully complete this optional tutorial chapter, make sure you have a <a href=\"https://github.com/\" target=\"_blank\">GitHub account</a> and the <a href=\"https://git-scm.com/\" target=\"_blank\">Git command</a> installed. Additionally, ensure that your <a href=\"https://docs.github.com/authentication\" target=\"_blank\">authentication</a> for GitHub command is properly set.\n",
    "\n",
    "We need to create two GitHub repositories, one for the `FastStream` project in the `retrieve-publish-crypto` directory and another for the `FastStream` project in the `calculate-mean-app` directory.\n",
    "In this chapter, we will upload the `FastStream` project to GitHub, which includes the `retrieve-publish-crypto` component. We will also provide an explanation of the generated CI workflows. The same process applies to the `calculate-mean-app` `FastStream` project.\n"
   ]
  },
  {
   "cell_type": "markdown",
   "metadata": {},
   "source": [
    "### Adding locally hosted code to GitHub\n",
    "To create a GitHub repository, first open <a href=\"https://github.com/\" target=\"_blank\">GitHub</a> in your browser and log in if necessary. Next, click on the green `New` button. For the `Repository name`, use `retrieve-publish-crypto` and click on `Create repository`.\n",
    "\n",
    "\n",
    "![Create GitHub Repository](images/create_git_repo.png)\n",
    "\n",
    "\n",
    "\n",
    "Please open your development environment and go to the `retrieve-publish-crypto` directory that was generated in the previous steps. Once there, please execute the following commands:\n",
    "```sh\n",
    "git init\n",
    "git add .\n",
    "git commit -m \"Retrieve and publish crypto prices application implemented\"\n",
    "git branch -M main\n",
    "```\n",
    "\n",
    "\n",
    "If you are using **HTTPS** authentication execute (**replace the `git_username`** in the URL with your own Git username):\n",
    "\n",
    "`git remote add origin https://github.com/git_username/retrieve-publish-crypto.git`\n",
    "\n",
    "\n",
    "\n",
    "If you are using **SSH** authentication execute (**replace the `git_username`** in the URL with your own Git username):\n",
    "\n",
    "`git remote add origin git@github.com:git_username/retrieve-publish-crypto.git`\n",
    "\n",
    "\n",
    "\n",
    "To update the remote branch with local commits, execute:\n",
    "```sh\n",
    "git push -u origin main\n",
    "```\n",
    "\n"
   ]
  },
  {
   "cell_type": "markdown",
   "metadata": {},
   "source": [
    "### Continuous integration\n",
    "\n",
    "Once the changes are pushed, CI pipeline will run the tests again, create and publish the documentation and build Docker container with the application.\n",
    "\n",
    "To verify the passing status of the CI, open your web browser, go to the newly created GitHub repository, and click on the Actions tab.\n",
    "\n",
    "\n",
    "![GitHub Actions](images/gha.png)\n",
    "\n"
   ]
  },
  {
   "cell_type": "markdown",
   "metadata": {},
   "source": [
    "The tests executed with `pytest` are passing successfully.\n",
    "![Tests](images/tests.png)\n"
   ]
  },
  {
   "cell_type": "markdown",
   "metadata": {},
   "source": [
    "The Docker image has been successfully built and pushed to `ghcr.io/your_username/retrieve-publish-crypto`.\n",
    "![GitHub Actions](images/build-docker.png)"
   ]
  },
  {
   "cell_type": "markdown",
   "metadata": {},
   "source": [
    "After the successful execution of the `Deploy FastStream AsyncAPI Docs` workflow, a new branch named `gh-pages` will be created. To access the GitHub Pages settings, navigate to the `Settings -> Pages`, select the `gh-pages` branch as the designated branch for hosting the GitHub Pages and click on `Save`.\n",
    "\n",
    "\n",
    "![GitHub Pages](images/github-pages.png)\n",
    "<br>"
   ]
  },
  {
   "cell_type": "markdown",
   "metadata": {},
   "source": [
    "By setting up a branch on GitHub Pages, a new workflow will automatically be triggered within the GitHub Actions. To access this workflow, simply click on the `Actions` tab and open the `pages build and deployment` workflow.\n",
    "\n",
    "\n",
    "![Pages build and deploy](images/pages-build-and-deploy.png)\n",
    "\n",
    "\n",
    "Once all the jobs within the workflow are completed, you can click on the provided URL to conveniently view and explore the AsyncAPI Docs that have been generated for your application.\n",
    "\n",
    "\n",
    "![AsyncAPI Docs](images/asyncapi-docs.png)\n"
   ]
  },
  {
   "cell_type": "markdown",
   "metadata": {},
   "source": [
    "### Calculate the moving average\n",
    "\n",
    "Now let's repeat the previously described process for the second `FastStream` project, which is located in the `calculate-mean-app` directory.\n",
    "\n",
    "To create a GitHub repository, first open <a href=\"https://github.com/\" target=\"_blank\">GitHub</a> in your browser and log in if necessary. Next, click on the green `New` button. For the `Repository name`, use `calculate-mean-app` and click on `Create repository`.\n",
    "\n",
    "Please open your development environment and go to the `calculate-mean-app` directory that was generated in the previous steps. Once there, please execute the following commands:\n",
    "```sh\n",
    "git init\n",
    "git add .\n",
    "git commit -m \"Calculate crypto mean application implemented\"\n",
    "git branch -M main\n",
    "```\n",
    "\n",
    "\n",
    "If you are using **HTTPS** authentication execute (**replace the `git_username`** in the URL with your own Git username):\n",
    "\n",
    "\n",
    "\n",
    "`git remote add origin https://github.com/git_username/calculate-mean-app.git`\n",
    "\n",
    "\n",
    "\n",
    "If you are using **SSH** authentication execute (**replace the `git_username`** in the URL with your own Git username):\n",
    "\n",
    "\n",
    "\n",
    "`git remote add origin git@github.com:git_username/calculate-mean-app.git`\n",
    "\n",
    "\n",
    "\n",
    "To update the remote branch with local commits, execute:\n",
    "```sh\n",
    "git push -u origin main\n",
    "```\n",
    "\n",
    "Once the changes are pushed, CI pipeline will run the tests again, create and publish the documentation and build Docker container with the application.\n",
    "\n",
    "To verify the passing status of the CI, open your web browser, go to the newly created GitHub repository, and click on the Actions tab.\n",
    "\n",
    "After the successful execution of the `Deploy FastStream AsyncAPI Docs` workflow, a new branch named `gh-pages` will be created. To access the GitHub Pages settings, navigate to the `Settings -> Pages`, select the `gh-pages` branch as the designated branch for hosting the GitHub Pages and click on `Save`."
   ]
  },
  {
   "cell_type": "markdown",
   "metadata": {},
   "source": [
    "## Next steps"
   ]
  },
  {
   "cell_type": "markdown",
   "metadata": {},
   "source": [
    "Congratulations! You have successfully completed this tutorial and gained a new set of skills. Now that you have learned how to use `faststream-gen`, try it out with your own example!"
   ]
  },
  {
   "cell_type": "code",
   "execution_count": null,
   "metadata": {},
   "outputs": [],
   "source": []
  }
 ],
 "metadata": {
  "kernelspec": {
   "display_name": "Python 3 (ipykernel)",
   "language": "python",
   "name": "python3"
  },
  "language_info": {
   "codemirror_mode": {
    "name": "ipython",
    "version": 3
   },
   "file_extension": ".py",
   "mimetype": "text/x-python",
   "name": "python",
   "nbconvert_exporter": "python",
   "pygments_lexer": "ipython3",
   "version": "3.11.4"
  }
 },
 "nbformat": 4,
 "nbformat_minor": 4
}
