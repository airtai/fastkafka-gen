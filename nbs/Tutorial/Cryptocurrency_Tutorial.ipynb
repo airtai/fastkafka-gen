{
 "cells": [
  {
   "cell_type": "code",
   "execution_count": 1,
   "metadata": {},
   "outputs": [],
   "source": [
    "# | hide\n",
    "\n",
    "from IPython.display import Markdown as md\n",
    "from IPython.display import Code\n"
   ]
  },
  {
   "cell_type": "markdown",
   "metadata": {},
   "source": [
    "# Cryptocurrency analysis with FastStream"
   ]
  },
  {
   "cell_type": "markdown",
   "metadata": {},
   "source": [
    "In this tutorial, we will walk through the process of using the `faststream-gen` Python library to retrieve cryptocurrency prices in real time and calculate their moving average. To accomplish that, we will generate following two <a href=\"https://faststream.airt.ai\" target=\"_blank\">FastStream</a> applications:\n",
    "\n",
    "1. A microservice retrieving current cryptocurrency prices from an external <a href=\"https://help.coinbase.com/en/cloud/api/coinbase\" target=\"_blank\">web service</a> and publishing retrieved data to a Kafka topic.\n",
    "\n",
    "2. A microservice consuming such messages, calculating the moving average price for each cryptocurrency and publishing it to another Kafka topic.\n",
    "\n",
    "**Let's get started!**"
   ]
  },
  {
   "cell_type": "markdown",
   "metadata": {},
   "source": [
    "## Installation"
   ]
  },
  {
   "cell_type": "markdown",
   "metadata": {},
   "source": [
    "To complete this tutorial, you will need the following software and Python library:\n",
    "\n",
    "1. <a href=\"https://www.python.org/\" target=\"_blank\">Python</a> (version 3.8 and upward)\n",
    "\n",
    "2. a valid <a href=\"https://platform.openai.com/account/api-keys\" target=\"_blank\">OPENAI API key</a>\n",
    "\n",
    "3. [optional] <a href=\"https://github.com/\" target=\"_blank\">github account</a> and installed <a href=\"https://git-scm.com/\" target=\"_blank\">git command</a>\n",
    "\n",
    "\n",
    "It is recommended to use a virtual environment for your Python projects. Virtual environments are a common and effective Python development technique that helps to keep dependencies required by different projects separate by creating isolated Python environments for them.\n",
    "\n",
    "In this tutorial, we will be using Python’s venv module to create a virtual environment."
   ]
  },
  {
   "cell_type": "markdown",
   "metadata": {},
   "source": [
    "First, create a root directory for this tutorial. Navigate to the desired location and create a new directory called `faststream_gen_tutorial` and enter it.\n",
    "\n",
    "```sh\n",
    "mkdir faststream_gen_tutorial\n",
    "cd faststream_gen_tutorial\n",
    "```"
   ]
  },
  {
   "cell_type": "markdown",
   "metadata": {},
   "source": [
    "### Creating and activating a new Python virtual environment"
   ]
  },
  {
   "cell_type": "markdown",
   "metadata": {},
   "source": [
    "Create a new virtual environment using <a href=\"https://docs.python.org/3/library/venv.html\" target=\"_blank\"> venv</a>:\n",
    "```sh\n",
    "python3 -m venv venv\n",
    "```\n",
    "\n",
    "Next, activate your new virtual environment:\n",
    "\n",
    "```sh\n",
    "source venv/bin/activate\n",
    "```"
   ]
  },
  {
   "cell_type": "markdown",
   "metadata": {},
   "source": [
    "### Installing the packages"
   ]
  },
  {
   "cell_type": "markdown",
   "metadata": {},
   "source": [
    "Upgrade pip if needed and install `faststream-gen` package:\n",
    "\n",
    "```sh\n",
    "pip install --upgrade pip & pip install faststream-gen\n",
    "\n",
    "```\n",
    "\n",
    "Check that the installation was succesful by running the following command:\n",
    "```sh\n",
    "faststream_gen --help\n",
    "```\n",
    "You should see the full list of options of the command in the output.\n",
    "\n",
    "Now you have successfully set up the environment and installed the `faststream-gen` package. You are ready to start using it!"
   ]
  },
  {
   "cell_type": "markdown",
   "metadata": {},
   "source": [
    "### Setting up OpenAI API key\n",
    "\n",
    "`faststream-gen` uses OpenAI API and you need to export your API key in environment variable `OPENAI_API_KEY`. If you use bash or compatible shell, you can do that with the following command:\n",
    "\n",
    "```sh\n",
    "export OPENAI_API_KEY=\"<your_openai_api_key>\"\n",
    "```\n",
    "\n",
    "If you don't already have `OPENAI_API_KEY`, you can create one <a href=\"https://platform.openai.com/account/api-keys\" target=\"_blank\">here</a>."
   ]
  },
  {
   "cell_type": "markdown",
   "metadata": {},
   "source": [
    "## Generate FastStream apps"
   ]
  },
  {
   "cell_type": "markdown",
   "metadata": {},
   "source": [
    "### Retrieve and publish crypto prices"
   ]
  },
  {
   "cell_type": "markdown",
   "metadata": {},
   "source": [
    "To simplify the implementation and integration process of the `FastStream` application, we have created a GitHub template repository. To proceed, please open the ([template](https://github.com/airtai/faststream-template)) and click on `Use this template` followed by `Create a new repository`. For the repository name, use `retrieve-publish-cryptocrypto-fetch-tutorial`.\n",
    "Once the repository creation is finished, copy the URL of your repository. Return to your development environment, execute the `git clone` command and enter the repository.\n",
    "```sh\n",
    "git clone https://github.com/your-username/retrieve-publish-cryptocrypto-retrieve-tutorial.git\n",
    "cd retrieve-publish-crypto\n",
    "```"
   ]
  },
  {
   "cell_type": "markdown",
   "metadata": {},
   "source": [
    "Now, we will create an application that retrieves information about cryptocurrencies from various web sources and publishes messages to a Kafka topic. In order to achieve this, we will provide a comprehensive explanation of the necessary implementation steps. This will include details such as the message schema, instructions on obtaining cryptocurrency prices, and guidance on selecting the appropriate topic and partition keys.\n",
    "\n",
    "Here is the full description of the desired application:"
   ]
  },
  {
   "cell_type": "code",
   "execution_count": 18,
   "metadata": {},
   "outputs": [],
   "source": [
    "# | hide\n",
    "\n",
    "with open('../../docs_src/tutorial/retrieve-publish-crypto/description.txt', 'r') as file:\n",
    "    description = file.read()\n",
    "\n",
    "description = f\"\"\"\n",
    "```text\n",
    "{description} \n",
    "```\n",
    "\"\"\""
   ]
  },
  {
   "cell_type": "code",
   "execution_count": 19,
   "metadata": {},
   "outputs": [
    {
     "data": {
      "text/markdown": [
       "\n",
       "```text\n",
       "Create a FastStream application which will retrieve the current cryptocurrency price\n",
       "and publish it to new_crypto_price topic. \n",
       "\n",
       "The application should retrieve the data every 2 seconds.\n",
       "\n",
       "A message which will be produced is JSON with the two attributes:\n",
       "- price: non-negative float (current price of cryptocurrency in USD)\n",
       "- crypto_currency: string (the cryptocurrency e.g. BTC, ETH...)\n",
       "\n",
       "The current price of Bitcoin can be retrieved by a simple GET request to:\n",
       "    - https://api.coinbase.com/v2/prices/BTC-USD/spot\n",
       "    \n",
       "The current price of Ethereum can be retrieved by a simple GET request to:\n",
       "    - https://api.coinbase.com/v2/prices/ETH-USD/spot\n",
       "\n",
       "The response of this GET request is a JSON and you can get\n",
       "information about the crypto_currency in:\n",
       "    response['data']['base']\n",
       "    \n",
       "and the information about the price in:\n",
       "    response['data']['amount']\n",
       "\n",
       "Use utf-8 encoded crypto_currency attribute as a partition key when publishing\n",
       "the message to new_crypto_price topic.\n",
       " \n",
       "```\n"
      ],
      "text/plain": [
       "<IPython.core.display.Markdown object>"
      ]
     },
     "execution_count": 19,
     "metadata": {},
     "output_type": "execute_result"
    }
   ],
   "source": [
    "# | echo: false\n",
    "\n",
    "md(description)"
   ]
  },
  {
   "cell_type": "markdown",
   "metadata": {},
   "source": [
    "Let's generate a new `FastStream` application inside the `retrieve-publish-crypto` directory. First, copy the previous description and paste it into a file called `description.txt` in the current (`retrieve-publish-crypto`) working directory.\n",
    "\n",
    "Next, run the following command (parameter `-i` specifies the filepath for the app description file):\n",
    "\n",
    "```sh\n",
    "faststream_gen -i description.txt\n",
    "```\n",
    "```console\n",
    "✨  Generating a new FastStream application!\n",
    " ✔ Application description validated. \n",
    " ✔ FastStream app skeleton code generated. \n",
    " ✔ The app and the tests are generated. \n",
    " ✔ New FastStream project created. \n",
    " ✔ Integration tests were successfully completed. \n",
    " Tokens used: 36938\n",
    " Total Cost (USD): $0.11436\n",
    "✨  All files were successfully generated!\n",
    "```"
   ]
  },
  {
   "cell_type": "markdown",
   "metadata": {},
   "source": [
    "!!! note\n",
    "\n",
    "    By default, faststream_gen utilizes `gpt-3.5-turbo` for creating FastStream applications. If you encounter any generation issues, we recommend that you try again with the `--model gpt-4` option. With gpt-4's enhanced capabilities, you can expect even higher success rates, especially when dealing with more complex tasks. "
   ]
  },
  {
   "cell_type": "markdown",
   "metadata": {},
   "source": [
    "\n",
    "\n",
    "Once the generation is complete, you can find the application in the `app` folder and the tests in the `tests` folder.\n",
    "\n",
    "`app/application.py`:"
   ]
  },
  {
   "cell_type": "code",
   "execution_count": 20,
   "metadata": {},
   "outputs": [
    {
     "data": {
      "text/markdown": [
       "```python\n",
       "from pydantic import BaseModel, Field, NonNegativeFloat\n",
       "from faststream import FastStream, Logger\n",
       "from faststream.kafka import KafkaBroker\n",
       "import requests\n",
       "import asyncio\n",
       "\n",
       "class CryptoPrice(BaseModel):\n",
       "    price: NonNegativeFloat = Field(..., examples=[10000.0], description=\"Current price of cryptocurrency in USD\")\n",
       "    crypto_currency: str = Field(..., examples=[\"BTC\"], description=\"The cryptocurrency\")\n",
       "\n",
       "broker = KafkaBroker(\"localhost:9092\")\n",
       "app = FastStream(broker)\n",
       "\n",
       "publisher = broker.publisher(\"new_crypto_price\")\n",
       "\n",
       "\n",
       "@broker.publisher(\"new_crypto_price\")\n",
       "async def publish_crypto_price(logger: Logger, crypto_currency: str, price: float) -> None:\n",
       "    new_crypto_price = CryptoPrice(price=price, crypto_currency=crypto_currency)\n",
       "    await publisher.publish(new_crypto_price, key=crypto_currency.encode(\"utf-8\"))\n",
       "\n",
       "\n",
       "@app.on_startup\n",
       "async def app_setup():\n",
       "    app.set_global(\"app_is_running\", True)\n",
       "\n",
       "\n",
       "@app.on_shutdown\n",
       "async def shutdown():\n",
       "    app.set_global(\"app_is_running\", False)\n",
       "\n",
       "\n",
       "async def fetch_crypto_price(crypto_currency: str, logger: Logger) -> None:\n",
       "    while app.get_global(\"app_is_running\"):\n",
       "        url = f\"https://api.coinbase.com/v2/prices/{crypto_currency}-USD/spot\"\n",
       "        response = requests.get(url)\n",
       "        if response.status_code == 200:\n",
       "            data = response.json()\n",
       "            price = data[\"data\"][\"amount\"]\n",
       "            await publish_crypto_price(logger, crypto_currency, price)\n",
       "        else:\n",
       "            logger.warning(f\"Failed API request {url}\")\n",
       "\n",
       "        await asyncio.sleep(2)\n",
       "\n",
       "\n",
       "@app.after_startup\n",
       "async def start_fetching(logger: Logger):\n",
       "    crypto_currencies = [\"BTC\", \"ETH\"]\n",
       "    fetch_tasks = [\n",
       "        asyncio.create_task(fetch_crypto_price(crypto_currency, logger))\n",
       "        for crypto_currency in crypto_currencies\n",
       "    ]\n",
       "    app.set_global(\"fetch_tasks\", fetch_tasks)\n",
       "```"
      ],
      "text/plain": [
       "<IPython.core.display.Markdown object>"
      ]
     },
     "execution_count": 20,
     "metadata": {},
     "output_type": "execute_result"
    }
   ],
   "source": [
    "# | echo: false\n",
    "\n",
    "code = Code(filename='../../docs_src/tutorial/retrieve-publish-crypto/app/application.py', language='python')\n",
    "md(f\"```python\\n{code}\\n```\")"
   ]
  },
  {
   "cell_type": "markdown",
   "metadata": {},
   "source": [
    "`tests/test_application.py`"
   ]
  },
  {
   "cell_type": "code",
   "execution_count": 21,
   "metadata": {},
   "outputs": [
    {
     "data": {
      "text/markdown": [
       "```python\n",
       "import pytest\n",
       "\n",
       "from faststream import Context, TestApp\n",
       "from faststream.kafka import TestKafkaBroker\n",
       "\n",
       "from app.application import CryptoPrice, app, broker\n",
       "\n",
       "\n",
       "@broker.subscriber(\"new_crypto_price\")\n",
       "async def on_new_crypto_price(msg: CryptoPrice, key: bytes = Context(\"message.raw_message.key\")):\n",
       "    pass\n",
       "\n",
       "\n",
       "@pytest.mark.asyncio\n",
       "async def test_message_was_published():\n",
       "    async with TestKafkaBroker(broker):\n",
       "        async with TestApp(app):\n",
       "            await on_new_crypto_price.wait_call(2)\n",
       "            on_new_crypto_price.mock.assert_called()\n",
       "```"
      ],
      "text/plain": [
       "<IPython.core.display.Markdown object>"
      ]
     },
     "execution_count": 21,
     "metadata": {},
     "output_type": "execute_result"
    }
   ],
   "source": [
    "# | echo: false\n",
    "\n",
    "code = Code(filename='../../docs_src/tutorial/retrieve-publish-crypto/tests/test_application.py', language='python')\n",
    "md(f\"```python\\n{code}\\n```\")"
   ]
  },
  {
   "cell_type": "markdown",
   "metadata": {},
   "source": [
    "#### Test"
   ]
  },
  {
   "cell_type": "markdown",
   "metadata": {},
   "source": [
    "In order to verify functional correctness  of the application, it is recommended to execute the generated unit and integration test by running the  `pytest` command.\n",
    "\n",
    "```sh\n",
    "pytest\n",
    "```"
   ]
  },
  {
   "cell_type": "code",
   "execution_count": 14,
   "metadata": {},
   "outputs": [
    {
     "name": "stdout",
     "output_type": "stream",
     "text": [
      "\u001b[1m============================= test session starts ==============================\u001b[0m\n",
      "platform linux -- Python 3.11.4, pytest-7.4.2, pluggy-1.3.0\n",
      "rootdir: /work/fastkafka-gen/docs_src/tutorial/retrieve-publish-crypto\n",
      "configfile: pyproject.toml\n",
      "plugins: anyio-3.7.1, asyncio-0.21.1\n",
      "asyncio: mode=Mode.STRICT\n",
      "collected 1 item                                                               \u001b[0m\u001b[1m\n",
      "\n",
      "tests/test_application.py \u001b[32m.\u001b[0m\u001b[32m                                              [100%]\u001b[0m\n",
      "\n",
      "\u001b[32m============================== \u001b[32m\u001b[1m1 passed\u001b[0m\u001b[32m in 2.80s\u001b[0m\u001b[32m ===============================\u001b[0m\n"
     ]
    }
   ],
   "source": [
    "# | echo: false\n",
    "\n",
    "! cd /work/fastkafka-gen/docs_src/tutorial/retrieve-publish-crypto && pytest"
   ]
  },
  {
   "cell_type": "markdown",
   "metadata": {},
   "source": [
    "#### Start localhost Kafka broker"
   ]
  },
  {
   "cell_type": "markdown",
   "metadata": {},
   "source": [
    "To run the `FastStream` application locally, ensure that you have a running Kafka broker. You can conveniently start a Kafka Docker container by executing the `start_kafka_broker_locally.sh` shell script:\n",
    "\n",
    "```sh\n",
    "./scripts/start_kafka_broker_locally.sh\n",
    "```\n",
    "\n",
    "```console\n",
    "[+] Running 2/2\n",
    " ⠿ Network scripts_default  Created                                                                                                             0.1s\n",
    " ⠿ Container bitnami_kafka  Started \n",
    "```"
   ]
  },
  {
   "cell_type": "markdown",
   "metadata": {},
   "source": [
    "#### Start the application"
   ]
  },
  {
   "cell_type": "markdown",
   "metadata": {},
   "source": [
    "To start the application, execute the following command:\n",
    "```sh\n",
    "faststream run  app.application:app\n",
    "```\n",
    "```console\n",
    "2023-09-15 13:41:21,948 INFO     - FastStream app starting...\n",
    "2023-09-15 13:41:22,144 INFO     -      |            - Starting publishing:\n",
    "2023-09-15 13:41:22,144 INFO     - FastStream app started successfully! To exit press CTRL+C\n",
    "Topic new_crypto_pricenew_data not found in cluster metadata\n",
    "```"
   ]
  },
  {
   "cell_type": "markdown",
   "metadata": {},
   "source": [
    "### Calculate the moving average app"
   ]
  },
  {
   "cell_type": "markdown",
   "metadata": {},
   "source": [
    "This application will calculate the mean price of the last three messages received from the 'new_data' topic for each cryptocurrency. Afterwards, the calculated mean price will be published to the 'price_mean' topic.\n",
    "\n",
    "\n",
    "Here is the full description of the desired application:"
   ]
  },
  {
   "cell_type": "code",
   "execution_count": 6,
   "metadata": {},
   "outputs": [],
   "source": [
    "# | hide\n",
    "\n",
    "with open('../../docs_src/tutorial/calculate_mean_description.txt', 'r') as file:\n",
    "    description = file.read()\n",
    "\n",
    "description = f\"\"\"\n",
    "```text\n",
    "{description} \n",
    "```\n",
    "\"\"\""
   ]
  },
  {
   "cell_type": "code",
   "execution_count": 7,
   "metadata": {},
   "outputs": [
    {
     "data": {
      "text/markdown": [
       "\n",
       "```text\n",
       "Create a FastStream application for consuming messages from the new_data topic. \n",
       "This topic needs to use a partition key.\n",
       "\n",
       "new_data messages use JSON with two attributes \n",
       "(create class CryptoPrice with these attributes):\n",
       "- price: non-negative float (it represents the current price of the crypto)\n",
       "- crypto_currency: string (it represents the cryptocurrency e.g. BTC, ETH...)\n",
       "\n",
       "The application should save each message to a dictionary (global variable) \n",
       "- partition key should be used as a dictionary key \n",
       "  and value should be a List of prices.\n",
       "  \n",
       "Keep only the last 100 messages in the dictionary.\n",
       "\n",
       "If there are fewer than 3 messages for a given partition key,\n",
       "do not publish any messages.\n",
       "\n",
       "Otherwise, Calculate the price mean of the last 3 messages\n",
       "for the given partition key.\n",
       "\n",
       "Publish the price mean to the price_mean topic and use \n",
       "the same partition key that the new_data topic is using.\n",
       " \n",
       "```\n"
      ],
      "text/plain": [
       "<IPython.core.display.Markdown object>"
      ]
     },
     "execution_count": 7,
     "metadata": {},
     "output_type": "execute_result"
    }
   ],
   "source": [
    "# | echo: false\n",
    "\n",
    "md(description)"
   ]
  },
  {
   "cell_type": "markdown",
   "metadata": {},
   "source": [
    "To create a `faststream` application inside the `calculate_mean_app` directory, first, copy the previous description and paste it into the `description_calculate_mean.txt` file.\n",
    "\n",
    "Next, run the following command:\n",
    "\n",
    "```sh\n",
    "faststream_gen -i description_calculate_mean.txt -o calculate_mean_app\n",
    "```\n",
    "```console\n",
    "✨  Generating a new FastStream application!\n",
    " ✔ Application description validated. \n",
    " ✔ FastStream app skeleton code generated. \n",
    " ✔ The app and the tests are generated. \n",
    " ✔ New FastStream project created. \n",
    " ✔ Integration tests were successfully completed. \n",
    " Tokens used: 13367\n",
    " Total Cost (USD): $0.04147\n",
    "✨  All files were successfully generated!\n",
    "```"
   ]
  },
  {
   "cell_type": "markdown",
   "metadata": {},
   "source": [
    "This command will generate `calculate_mean_app` directory with `app/application.py` and `tests/test_application.py` inside.\n",
    "\n",
    "`app/application.py`:"
   ]
  },
  {
   "cell_type": "code",
   "execution_count": 8,
   "metadata": {},
   "outputs": [
    {
     "data": {
      "text/markdown": [
       "```python\n",
       "from typing import Dict, List\n",
       "\n",
       "from pydantic import BaseModel, Field, NonNegativeFloat\n",
       "\n",
       "from faststream import Context, ContextRepo, FastStream, Logger\n",
       "from faststream.kafka import KafkaBroker\n",
       "\n",
       "broker = KafkaBroker(\"localhost:9092\")\n",
       "app = FastStream(broker)\n",
       "\n",
       "\n",
       "class CryptoPrice(BaseModel):\n",
       "    price: NonNegativeFloat = Field(\n",
       "        ..., examples=[50000], description=\"Current price of the cryptocurrency\"\n",
       "    )\n",
       "    crypto_currency: str = Field(\n",
       "        ..., examples=[\"BTC\"], description=\"Cryptocurrency symbol\"\n",
       "    )\n",
       "\n",
       "\n",
       "publisher = broker.publisher(\"price_mean\")\n",
       "\n",
       "\n",
       "@app.on_startup\n",
       "async def app_setup(context: ContextRepo):\n",
       "    message_history: Dict[str, List[float]] = {}\n",
       "    context.set_global(\"message_history\", message_history)\n",
       "\n",
       "\n",
       "@broker.subscriber(\"new_data\")\n",
       "async def on_new_data(\n",
       "    msg: CryptoPrice,\n",
       "    logger: Logger,\n",
       "    message_history: Dict[str, List[float]] = Context(),\n",
       "    key: bytes = Context(\"message.raw_message.key\"),\n",
       ") -> None:\n",
       "    logger.info(f\"New data received: {msg=}\")\n",
       "\n",
       "    partition_key = key.decode(\"utf-8\")\n",
       "    if partition_key not in message_history:\n",
       "        message_history[partition_key] = []\n",
       "\n",
       "    message_history[partition_key].append(msg.price)\n",
       "\n",
       "    if len(message_history[partition_key]) > 100:\n",
       "        message_history[partition_key].pop(0)\n",
       "\n",
       "    if len(message_history[partition_key]) >= 3:\n",
       "        price_mean = sum(message_history[partition_key][-3:]) / 3\n",
       "        await publisher.publish(price_mean, key=key)\n",
       "\n",
       "```"
      ],
      "text/plain": [
       "<IPython.core.display.Markdown object>"
      ]
     },
     "execution_count": 8,
     "metadata": {},
     "output_type": "execute_result"
    }
   ],
   "source": [
    "# | echo: false\n",
    "\n",
    "code = Code(filename='../../docs_src/tutorial/calculate_mean_app.py', language='python')\n",
    "md(f\"```python\\n{code}\\n```\")"
   ]
  },
  {
   "cell_type": "markdown",
   "metadata": {},
   "source": [
    "`tests/test_application.py`"
   ]
  },
  {
   "cell_type": "code",
   "execution_count": 9,
   "metadata": {},
   "outputs": [
    {
     "data": {
      "text/markdown": [
       "```python\n",
       "import pytest\n",
       "\n",
       "from faststream import Context, TestApp\n",
       "from faststream.kafka import TestKafkaBroker\n",
       "\n",
       "from app.application import CryptoPrice, app, broker\n",
       "\n",
       "\n",
       "@broker.subscriber(\"price_mean\")\n",
       "async def on_price_mean(\n",
       "    msg: float, key: bytes = Context(\"message.raw_message.key\")\n",
       "):\n",
       "    pass\n",
       "\n",
       "\n",
       "@pytest.mark.asyncio\n",
       "async def test_price_mean_calculation():\n",
       "    async with TestKafkaBroker(broker):\n",
       "        async with TestApp(app):\n",
       "            await broker.publish(\n",
       "                CryptoPrice(price=100, crypto_currency=\"BTC\"),\n",
       "                \"new_data\",\n",
       "                key=b\"partition_key\",\n",
       "            )\n",
       "            await broker.publish(\n",
       "                CryptoPrice(price=200, crypto_currency=\"BTC\"),\n",
       "                \"new_data\",\n",
       "                key=b\"partition_key\",\n",
       "            )\n",
       "            await broker.publish(\n",
       "                CryptoPrice(price=300, crypto_currency=\"BTC\"),\n",
       "                \"new_data\",\n",
       "                key=b\"partition_key\",\n",
       "            )\n",
       "            await broker.publish(\n",
       "                CryptoPrice(price=400, crypto_currency=\"BTC\"),\n",
       "                \"new_data\",\n",
       "                key=b\"partition_key\",\n",
       "            )\n",
       "            await broker.publish(\n",
       "                CryptoPrice(price=500, crypto_currency=\"BTC\"),\n",
       "                \"new_data\",\n",
       "                key=b\"partition_key\",\n",
       "            )\n",
       "\n",
       "            on_price_mean.mock.assert_called_with(400.0)\n",
       "```"
      ],
      "text/plain": [
       "<IPython.core.display.Markdown object>"
      ]
     },
     "execution_count": 9,
     "metadata": {},
     "output_type": "execute_result"
    }
   ],
   "source": [
    "# | echo: false\n",
    "\n",
    "code = Code(filename='../../docs_src/tutorial/calculate_mean_test.py', language='python')\n",
    "md(f\"```python\\n{code}\\n```\")"
   ]
  },
  {
   "cell_type": "markdown",
   "metadata": {},
   "source": []
  },
  {
   "cell_type": "markdown",
   "metadata": {},
   "source": []
  },
  {
   "cell_type": "markdown",
   "metadata": {},
   "source": []
  },
  {
   "cell_type": "markdown",
   "metadata": {},
   "source": [
    "### Retrieve and publish app"
   ]
  },
  {
   "cell_type": "markdown",
   "metadata": {},
   "source": []
  },
  {
   "cell_type": "markdown",
   "metadata": {},
   "source": [
    "### Calculate the moving average app"
   ]
  },
  {
   "cell_type": "markdown",
   "metadata": {},
   "source": [
    "Open **new terminal**, navigate to the \"faststream_gen_tutorial\" directory and make sure that you have activated virtual environment.\n",
    "\n",
    "To start the `calculate_mean_app`, run the following command:\n",
    "```sh\n",
    "faststream run calculate_mean_app.app.application:app\n",
    "```\n",
    "```console\n",
    "2023-09-15 13:56:47,245 INFO     - FastStream app starting...\n",
    "2023-09-15 13:56:47,428 INFO     - new_data |            - `OnNewData` waiting for messages\n",
    "2023-09-15 13:56:47,621 INFO     - FastStream app started successfully! To exit press CTRL+C\n",
    "2023-09-15 13:56:48,314 INFO     - new_data | 13675-1694 - Received\n",
    "2023-09-15 13:56:48,315 INFO     - new_data | 13675-1694 - msg=NewData(price=1624.235, currency='ETH')\n",
    "2023-09-15 13:56:48,315 INFO     - new_data | 13675-1694 - Processed\n",
    "2023-09-15 13:56:48,316 INFO     - new_data | 13676-1694 - Received\n",
    "2023-09-15 13:56:48,316 INFO     - new_data | 13676-1694 - msg=NewData(price=26485.545, currency='BTC')\n",
    "2023-09-15 13:56:48,316 INFO     - new_data | 13676-1694 - Processed\n",
    "2023-09-15 13:56:50,491 INFO     - new_data | 13677-1694 - Received\n",
    "2023-09-15 13:56:50,492 INFO     - new_data | 13677-1694 - msg=NewData(price=1624.235, currency='ETH')\n",
    "...\n",
    "```"
   ]
  },
  {
   "cell_type": "markdown",
   "metadata": {},
   "source": [
    "You can see in the terminal the that the application is reading the messages from the `price_mean` topic."
   ]
  },
  {
   "cell_type": "markdown",
   "metadata": {},
   "source": [
    "### Subscribe directly to local kafka broker topic"
   ]
  },
  {
   "cell_type": "markdown",
   "metadata": {},
   "source": [
    "Open **new terminal**, navigate to the \"faststream_gen_tutorial\" directory and make sure that you have activated virtual environment.\n",
    "\n",
    "To check if the `calculate_mean_app` is publishing messages to the `price_mean` topic, run the following comand:"
   ]
  },
  {
   "cell_type": "markdown",
   "metadata": {},
   "source": [
    " ```sh\n",
    "./retrieve_publish_app/scripts/subscribe_to_kafka_broker_locally.sh price_mean\n",
    "```\n",
    "```console\n",
    "BTC     26405.745\n",
    "ETH     1621.3733333333332\n",
    "BTC     26404.865\n",
    "ETH     1621.375\n",
    "BTC     26404.865\n",
    "...\n",
    "```"
   ]
  },
  {
   "cell_type": "markdown",
   "metadata": {},
   "source": [
    "To stop the Kafka broker after analyzing the mean price of cryptocurrencies, you can execute the following commands:\n",
    "```sh\n",
    "cd retrieve_publish_app \n",
    "./scripts/stop_kafka_broker_locally.sh\n",
    "```\n",
    "```console\n",
    "[+] Running 2/2\n",
    " ⠿ Container bitnami_kafka  Removed                                                                            1.2s\n",
    " ⠿ Network scripts_default  Removed \n",
    "```"
   ]
  },
  {
   "cell_type": "markdown",
   "metadata": {},
   "source": [
    "## Next steps"
   ]
  },
  {
   "cell_type": "markdown",
   "metadata": {},
   "source": [
    "Congratulations! You have successfully completed this tutorial and gained a new set of skills. Now that you have learned how to use `faststream-gen`, try it out with your own example!"
   ]
  },
  {
   "cell_type": "code",
   "execution_count": null,
   "metadata": {},
   "outputs": [],
   "source": []
  }
 ],
 "metadata": {
  "kernelspec": {
   "display_name": "Python 3 (ipykernel)",
   "language": "python",
   "name": "python3"
  },
  "language_info": {
   "codemirror_mode": {
    "name": "ipython",
    "version": 3
   },
   "file_extension": ".py",
   "mimetype": "text/x-python",
   "name": "python",
   "nbconvert_exporter": "python",
   "pygments_lexer": "ipython3",
   "version": "3.10.13"
  }
 },
 "nbformat": 4,
 "nbformat_minor": 4
}
