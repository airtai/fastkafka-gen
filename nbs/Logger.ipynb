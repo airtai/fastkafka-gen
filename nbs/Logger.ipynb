{
 "cells": [
  {
   "cell_type": "code",
   "execution_count": null,
   "id": "e740dfbe",
   "metadata": {},
   "outputs": [],
   "source": [
    "# | default_exp _components.logger"
   ]
  },
  {
   "cell_type": "markdown",
   "id": "62377675",
   "metadata": {},
   "source": [
    "# Logger"
   ]
  },
  {
   "cell_type": "code",
   "execution_count": null,
   "id": "8efd915a",
   "metadata": {},
   "outputs": [],
   "source": [
    "# | export\n",
    "\n",
    "import logging\n",
    "import logging.config\n",
    "from typing import *"
   ]
  },
  {
   "cell_type": "code",
   "execution_count": null,
   "id": "ab182545",
   "metadata": {},
   "outputs": [
    {
     "ename": "ModuleNotFoundError",
     "evalue": "No module named 'pytest'",
     "output_type": "error",
     "traceback": [
      "\u001b[0;31m---------------------------------------------------------------------------\u001b[0m",
      "\u001b[0;31mModuleNotFoundError\u001b[0m                       Traceback (most recent call last)",
      "Cell \u001b[0;32mIn[3], line 6\u001b[0m\n\u001b[1;32m      3\u001b[0m \u001b[38;5;28;01mimport\u001b[39;00m \u001b[38;5;21;01mtime\u001b[39;00m\n\u001b[1;32m      4\u001b[0m \u001b[38;5;28;01mimport\u001b[39;00m \u001b[38;5;21;01munittest\u001b[39;00m\n\u001b[0;32m----> 6\u001b[0m \u001b[38;5;28;01mimport\u001b[39;00m \u001b[38;5;21;01mpytest\u001b[39;00m\n",
      "\u001b[0;31mModuleNotFoundError\u001b[0m: No module named 'pytest'"
     ]
    }
   ],
   "source": [
    "# | include: false\n",
    "\n",
    "import time\n",
    "import unittest\n",
    "\n",
    "import pytest"
   ]
  },
  {
   "cell_type": "code",
   "execution_count": null,
   "id": "4a4dfedf",
   "metadata": {},
   "outputs": [],
   "source": [
    "# | export\n",
    "\n",
    "# Logger Levels\n",
    "# CRITICAL = 50\n",
    "# ERROR = 40\n",
    "# WARNING = 30\n",
    "# INFO = 20\n",
    "# DEBUG = 10\n",
    "# NOTSET = 0\n",
    "\n",
    "should_suppress_timestamps: bool = False\n",
    "\n",
    "\n",
    "def suppress_timestamps(flag: bool = True) -> None:\n",
    "    \"\"\"Suppress logger timestamp\n",
    "\n",
    "    Args:\n",
    "        flag: If not set, then the default value **True** will be used to suppress the timestamp\n",
    "            from the logger messages\n",
    "    \"\"\"\n",
    "    global should_suppress_timestamps\n",
    "    should_suppress_timestamps = flag\n",
    "\n",
    "\n",
    "def get_default_logger_configuration(level: int = logging.INFO) -> Dict[str, Any]:\n",
    "    \"\"\"Return the common configurations for the logger\n",
    "\n",
    "    Args:\n",
    "        level: Logger level to set\n",
    "\n",
    "    Returns:\n",
    "        A dict with default logger configuration\n",
    "\n",
    "    \"\"\"\n",
    "    global should_suppress_timestamps\n",
    "\n",
    "    if should_suppress_timestamps:\n",
    "        FORMAT = \"[%(levelname)s] %(name)s: %(message)s\"\n",
    "    else:\n",
    "        FORMAT = \"%(asctime)s.%(msecs)03d [%(levelname)s] %(name)s: %(message)s\"\n",
    "\n",
    "    DATE_FMT = \"%y-%m-%d %H:%M:%S\"\n",
    "\n",
    "    LOGGING_CONFIG = {\n",
    "        \"version\": 1,\n",
    "        \"disable_existing_loggers\": False,\n",
    "        \"formatters\": {\n",
    "            \"standard\": {\"format\": FORMAT, \"datefmt\": DATE_FMT},\n",
    "        },\n",
    "        \"handlers\": {\n",
    "            \"default\": {\n",
    "                \"level\": level,\n",
    "                \"formatter\": \"standard\",\n",
    "                \"class\": \"logging.StreamHandler\",\n",
    "                \"stream\": \"ext://sys.stdout\",  # Default is stderr\n",
    "            },\n",
    "        },\n",
    "        \"loggers\": {\n",
    "            \"\": {\"handlers\": [\"default\"], \"level\": level},  # root logger\n",
    "        },\n",
    "    }\n",
    "    return LOGGING_CONFIG"
   ]
  },
  {
   "cell_type": "markdown",
   "id": "251df829",
   "metadata": {},
   "source": [
    "Example on how to use **get_default_logger_configuration** function"
   ]
  },
  {
   "cell_type": "code",
   "execution_count": null,
   "id": "6e725745",
   "metadata": {},
   "outputs": [],
   "source": [
    "# collapse_output\n",
    "\n",
    "get_default_logger_configuration()"
   ]
  },
  {
   "cell_type": "code",
   "execution_count": null,
   "id": "718c810d",
   "metadata": {},
   "outputs": [],
   "source": [
    "# | include: false\n",
    "\n",
    "expected = {\n",
    "    \"version\": 1,\n",
    "    \"disable_existing_loggers\": False,\n",
    "    \"formatters\": {\n",
    "        \"standard\": {\n",
    "            \"format\": \"%(asctime)s.%(msecs)03d [%(levelname)s] %(name)s: %(message)s\",\n",
    "            \"datefmt\": \"%y-%m-%d %H:%M:%S\",\n",
    "        }\n",
    "    },\n",
    "    \"handlers\": {\n",
    "        \"default\": {\n",
    "            \"level\": 20,\n",
    "            \"formatter\": \"standard\",\n",
    "            \"class\": \"logging.StreamHandler\",\n",
    "            \"stream\": \"ext://sys.stdout\",\n",
    "        }\n",
    "    },\n",
    "    \"loggers\": {\"\": {\"handlers\": [\"default\"], \"level\": 20}},\n",
    "}\n",
    "actual = get_default_logger_configuration()\n",
    "assert actual == expected\n",
    "actual"
   ]
  },
  {
   "cell_type": "code",
   "execution_count": null,
   "id": "f19186ba",
   "metadata": {},
   "outputs": [],
   "source": [
    "# | export\n",
    "\n",
    "logger_spaces_added: List[str] = []\n",
    "\n",
    "\n",
    "def get_logger(\n",
    "    name: str, *, level: int = logging.DEBUG, add_spaces: bool = True\n",
    ") -> logging.Logger:\n",
    "    \"\"\"Return the logger class with default logging configuration.\n",
    "\n",
    "    Args:\n",
    "        name: Pass the __name__ variable as name while calling\n",
    "        level: Used to configure logging, default value `logging.INFO` logs\n",
    "            info messages and up.\n",
    "        add_spaces:\n",
    "\n",
    "    Returns:\n",
    "        The logging.Logger class with default/custom logging configuration\n",
    "\n",
    "    \"\"\"\n",
    "    config = get_default_logger_configuration(level=level)\n",
    "    logging.config.dictConfig(config)\n",
    "\n",
    "    logger = logging.getLogger(name)\n",
    "    return logger"
   ]
  },
  {
   "cell_type": "code",
   "execution_count": null,
   "id": "7fea37e9",
   "metadata": {},
   "outputs": [],
   "source": [
    "# | include: false\n",
    "\n",
    "assert type(get_logger(__name__)) == logging.Logger\n",
    "\n",
    "with pytest.raises(TypeError) as e:\n",
    "    get_logger()\n",
    "assert \"missing 1 required positional argument\" in str(e.value)"
   ]
  },
  {
   "cell_type": "code",
   "execution_count": null,
   "id": "3c6a2ae0",
   "metadata": {},
   "outputs": [],
   "source": [
    "logger = get_logger(__name__)\n",
    "logger.info(\"hello\")\n",
    "logger = get_logger(__name__)\n",
    "logger.info(\"hello\")\n",
    "\n",
    "\n",
    "def f():\n",
    "    logger.info(\"hello\")\n",
    "\n",
    "\n",
    "f()"
   ]
  },
  {
   "cell_type": "markdown",
   "id": "390214db",
   "metadata": {},
   "source": [
    "Example on how to use **get_logger** function"
   ]
  },
  {
   "cell_type": "code",
   "execution_count": null,
   "id": "90767ccb",
   "metadata": {},
   "outputs": [],
   "source": [
    "# collapse_output\n",
    "\n",
    "logger = get_logger(__name__)\n",
    "\n",
    "logger.debug(\"Debug\")\n",
    "logger.info(\"info\")\n",
    "logger.warning(\"Warning\")\n",
    "logger.error(\"Error\")\n",
    "logger.critical(\"Critical\")"
   ]
  },
  {
   "cell_type": "code",
   "execution_count": null,
   "id": "ede2ce1f",
   "metadata": {},
   "outputs": [],
   "source": [
    "# collapse_output\n",
    "\n",
    "suppress_timestamps()\n",
    "logger = get_logger(__name__)\n",
    "\n",
    "logger.debug(\"Debug\")\n",
    "logger.info(\"info\")\n",
    "logger.warning(\"Warning\")\n",
    "logger.error(\"Error\")\n",
    "logger.critical(\"Critical\")"
   ]
  },
  {
   "cell_type": "code",
   "execution_count": null,
   "id": "1e791150",
   "metadata": {},
   "outputs": [],
   "source": [
    "# | export\n",
    "\n",
    "\n",
    "def set_level(level: int) -> None:\n",
    "    \"\"\"Set logger level\n",
    "\n",
    "    Args:\n",
    "        level: Logger level to set\n",
    "    \"\"\"\n",
    "\n",
    "    # Getting all loggers that has either fastkafka_gen or __main__ in the name\n",
    "    loggers = [\n",
    "        logging.getLogger(name)\n",
    "        for name in logging.root.manager.loggerDict\n",
    "        if (\"fastkafka_gen\" in name) or (\"__main__\" in name)\n",
    "    ]\n",
    "\n",
    "    for logger in loggers:\n",
    "        logger.setLevel(level)"
   ]
  },
  {
   "cell_type": "code",
   "execution_count": null,
   "id": "5db8d01f",
   "metadata": {},
   "outputs": [],
   "source": [
    "level = logging.ERROR\n",
    "\n",
    "set_level(level)\n",
    "\n",
    "# Checking if the logger is set back to logging.WARNING in dev mode\n",
    "print(logger.getEffectiveLevel())\n",
    "assert logger.getEffectiveLevel() == level\n",
    "\n",
    "logger.debug(\"This is a debug message\")\n",
    "logger.info(\"This is an info\")\n",
    "logger.warning(\"This is a warning\")\n",
    "logger.error(\"This is an error\")"
   ]
  },
  {
   "cell_type": "code",
   "execution_count": null,
   "id": "b9c2d1b0",
   "metadata": {},
   "outputs": [],
   "source": [
    "# Reset log level back to info\n",
    "level = logging.INFO\n",
    "\n",
    "set_level(level)\n",
    "logger.info(\"something\")"
   ]
  },
  {
   "cell_type": "code",
   "execution_count": null,
   "id": "ce1b40e5",
   "metadata": {},
   "outputs": [],
   "source": [
    "type(logging.INFO)"
   ]
  }
 ],
 "metadata": {
  "kernelspec": {
   "display_name": "python3",
   "language": "python",
   "name": "python3"
  }
 },
 "nbformat": 4,
 "nbformat_minor": 5
}
