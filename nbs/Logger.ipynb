{
 "cells": [
  {
   "cell_type": "code",
   "execution_count": 1,
   "id": "e740dfbe",
   "metadata": {},
   "outputs": [],
   "source": [
    "# | default_exp _components.logger"
   ]
  },
  {
   "cell_type": "markdown",
   "id": "62377675",
   "metadata": {},
   "source": [
    "# Logger"
   ]
  },
  {
   "cell_type": "code",
   "execution_count": 2,
   "id": "8efd915a",
   "metadata": {},
   "outputs": [],
   "source": [
    "# | export\n",
    "\n",
    "import logging\n",
    "import logging.config\n",
    "from typing import *"
   ]
  },
  {
   "cell_type": "code",
   "execution_count": 3,
   "id": "ab182545",
   "metadata": {},
   "outputs": [],
   "source": [
    "# | include: false\n",
    "\n",
    "import time\n",
    "import unittest\n",
    "\n",
    "import pytest"
   ]
  },
  {
   "cell_type": "code",
   "execution_count": 4,
   "id": "4a4dfedf",
   "metadata": {},
   "outputs": [],
   "source": [
    "# | export\n",
    "\n",
    "# Logger Levels\n",
    "# CRITICAL = 50\n",
    "# ERROR = 40\n",
    "# WARNING = 30\n",
    "# INFO = 20\n",
    "# DEBUG = 10\n",
    "# NOTSET = 0\n",
    "\n",
    "should_suppress_timestamps: bool = False\n",
    "\n",
    "\n",
    "def suppress_timestamps(flag: bool = True) -> None:\n",
    "    \"\"\"Suppress logger timestamp\n",
    "\n",
    "    Args:\n",
    "        flag: If not set, then the default value **True** will be used to suppress the timestamp\n",
    "            from the logger messages\n",
    "    \"\"\"\n",
    "    global should_suppress_timestamps\n",
    "    should_suppress_timestamps = flag\n",
    "\n",
    "\n",
    "def get_default_logger_configuration(level: int = logging.INFO) -> Dict[str, Any]:\n",
    "    \"\"\"Return the common configurations for the logger\n",
    "\n",
    "    Args:\n",
    "        level: Logger level to set\n",
    "\n",
    "    Returns:\n",
    "        A dict with default logger configuration\n",
    "\n",
    "    \"\"\"\n",
    "    global should_suppress_timestamps\n",
    "\n",
    "    if should_suppress_timestamps:\n",
    "        FORMAT = \"[%(levelname)s] %(name)s: %(message)s\"\n",
    "    else:\n",
    "        FORMAT = \"%(asctime)s.%(msecs)03d [%(levelname)s] %(name)s: %(message)s\"\n",
    "\n",
    "    DATE_FMT = \"%y-%m-%d %H:%M:%S\"\n",
    "\n",
    "    LOGGING_CONFIG = {\n",
    "        \"version\": 1,\n",
    "        \"disable_existing_loggers\": False,\n",
    "        \"formatters\": {\n",
    "            \"standard\": {\"format\": FORMAT, \"datefmt\": DATE_FMT},\n",
    "        },\n",
    "        \"handlers\": {\n",
    "            \"default\": {\n",
    "                \"level\": level,\n",
    "                \"formatter\": \"standard\",\n",
    "                \"class\": \"logging.StreamHandler\",\n",
    "                \"stream\": \"ext://sys.stdout\",  # Default is stderr\n",
    "            },\n",
    "            \"file\": {\n",
    "                \"level\": level,\n",
    "                \"formatter\": \"standard\",\n",
    "                \"class\": \"logging.FileHandler\",\n",
    "                \"filename\": \"faststream-log.txt\",  # Specify the file name and path\n",
    "            },\n",
    "        },\n",
    "        \"loggers\": {\n",
    "            \"\": {\"handlers\": [\"default\", \"file\"], \"level\": level},  # root logger\n",
    "        },\n",
    "    }\n",
    "    return LOGGING_CONFIG"
   ]
  },
  {
   "cell_type": "markdown",
   "id": "251df829",
   "metadata": {},
   "source": [
    "Example on how to use **get_default_logger_configuration** function"
   ]
  },
  {
   "cell_type": "code",
   "execution_count": 5,
   "id": "6e725745",
   "metadata": {},
   "outputs": [
    {
     "data": {
      "text/plain": [
       "{'version': 1,\n",
       " 'disable_existing_loggers': False,\n",
       " 'formatters': {'standard': {'format': '%(asctime)s.%(msecs)03d [%(levelname)s] %(name)s: %(message)s',\n",
       "   'datefmt': '%y-%m-%d %H:%M:%S'}},\n",
       " 'handlers': {'default': {'level': 20,\n",
       "   'formatter': 'standard',\n",
       "   'class': 'logging.StreamHandler',\n",
       "   'stream': 'ext://sys.stdout'},\n",
       "  'file': {'level': 20,\n",
       "   'formatter': 'standard',\n",
       "   'class': 'logging.FileHandler',\n",
       "   'filename': 'faststream-log.txt'}},\n",
       " 'loggers': {'': {'handlers': ['default', 'file'], 'level': 20}}}"
      ]
     },
     "execution_count": 5,
     "metadata": {},
     "output_type": "execute_result"
    }
   ],
   "source": [
    "# collapse_output\n",
    "\n",
    "get_default_logger_configuration()"
   ]
  },
  {
   "cell_type": "code",
   "execution_count": 6,
   "id": "718c810d",
   "metadata": {},
   "outputs": [
    {
     "data": {
      "text/plain": [
       "{'version': 1,\n",
       " 'disable_existing_loggers': False,\n",
       " 'formatters': {'standard': {'format': '%(asctime)s.%(msecs)03d [%(levelname)s] %(name)s: %(message)s',\n",
       "   'datefmt': '%y-%m-%d %H:%M:%S'}},\n",
       " 'handlers': {'default': {'level': 20,\n",
       "   'formatter': 'standard',\n",
       "   'class': 'logging.StreamHandler',\n",
       "   'stream': 'ext://sys.stdout'},\n",
       "  'file': {'level': 20,\n",
       "   'formatter': 'standard',\n",
       "   'class': 'logging.FileHandler',\n",
       "   'filename': 'faststream-log.txt'}},\n",
       " 'loggers': {'': {'handlers': ['default', 'file'], 'level': 20}}}"
      ]
     },
     "execution_count": 6,
     "metadata": {},
     "output_type": "execute_result"
    }
   ],
   "source": [
    "# | include: false\n",
    "\n",
    "expected = {\n",
    "    \"version\": 1,\n",
    "    \"disable_existing_loggers\": False,\n",
    "    \"formatters\": {\n",
    "        \"standard\": {\n",
    "            \"format\": \"%(asctime)s.%(msecs)03d [%(levelname)s] %(name)s: %(message)s\",\n",
    "            \"datefmt\": \"%y-%m-%d %H:%M:%S\",\n",
    "        }\n",
    "    },\n",
    "    \"handlers\": {\n",
    "        \"default\": {\n",
    "            \"level\": 20,\n",
    "            \"formatter\": \"standard\",\n",
    "            \"class\": \"logging.StreamHandler\",\n",
    "            \"stream\": \"ext://sys.stdout\",\n",
    "        },\n",
    "        \"file\": {\n",
    "            \"level\": 20,\n",
    "            \"formatter\": \"standard\",\n",
    "            \"class\": \"logging.FileHandler\",\n",
    "            \"filename\": \"faststream-log.txt\",\n",
    "        },\n",
    "    },\n",
    "    \"loggers\": {\"\": {\"handlers\": [\"default\", \"file\"], \"level\": 20}},\n",
    "}\n",
    "\n",
    "actual = get_default_logger_configuration()\n",
    "assert actual == expected\n",
    "actual"
   ]
  },
  {
   "cell_type": "code",
   "execution_count": 7,
   "id": "f19186ba",
   "metadata": {},
   "outputs": [],
   "source": [
    "# | export\n",
    "\n",
    "logger_spaces_added: List[str] = []\n",
    "\n",
    "\n",
    "def get_logger(\n",
    "    name: str, *, level: int = logging.INFO, add_spaces: bool = True\n",
    ") -> logging.Logger:\n",
    "    \"\"\"Return the logger class with default logging configuration.\n",
    "\n",
    "    Args:\n",
    "        name: Pass the __name__ variable as name while calling\n",
    "        level: Used to configure logging, default value `logging.INFO` logs\n",
    "            info messages and up.\n",
    "        add_spaces:\n",
    "\n",
    "    Returns:\n",
    "        The logging.Logger class with default/custom logging configuration\n",
    "\n",
    "    \"\"\"\n",
    "    config = get_default_logger_configuration(level=level)\n",
    "    logging.config.dictConfig(config)\n",
    "\n",
    "    logger = logging.getLogger(name)\n",
    "    return logger"
   ]
  },
  {
   "cell_type": "code",
   "execution_count": 8,
   "id": "7fea37e9",
   "metadata": {},
   "outputs": [],
   "source": [
    "# | include: false\n",
    "\n",
    "assert type(get_logger(__name__)) == logging.Logger\n",
    "\n",
    "with pytest.raises(TypeError) as e:\n",
    "    get_logger()\n",
    "assert \"missing 1 required positional argument\" in str(e.value)"
   ]
  },
  {
   "cell_type": "code",
   "execution_count": 9,
   "id": "3c6a2ae0",
   "metadata": {},
   "outputs": [
    {
     "name": "stdout",
     "output_type": "stream",
     "text": [
      "23-09-16 11:31:15.504 [INFO] __main__: hello\n",
      "23-09-16 11:31:15.505 [INFO] __main__: hello\n",
      "23-09-16 11:31:15.506 [INFO] __main__: hello\n"
     ]
    }
   ],
   "source": [
    "logger = get_logger(__name__)\n",
    "logger.info(\"hello\")\n",
    "logger = get_logger(__name__)\n",
    "logger.info(\"hello\")\n",
    "\n",
    "\n",
    "def f():\n",
    "    logger.info(\"hello\")\n",
    "\n",
    "\n",
    "f()"
   ]
  },
  {
   "cell_type": "markdown",
   "id": "390214db",
   "metadata": {},
   "source": [
    "Example on how to use **get_logger** function"
   ]
  },
  {
   "cell_type": "code",
   "execution_count": 10,
   "id": "90767ccb",
   "metadata": {},
   "outputs": [
    {
     "name": "stdout",
     "output_type": "stream",
     "text": [
      "23-09-16 11:31:15.512 [INFO] __main__: info\n",
      "23-09-16 11:31:15.512 [WARNING] __main__: Warning\n",
      "23-09-16 11:31:15.513 [ERROR] __main__: Error\n",
      "23-09-16 11:31:15.513 [CRITICAL] __main__: Critical\n"
     ]
    }
   ],
   "source": [
    "# collapse_output\n",
    "\n",
    "logger = get_logger(__name__)\n",
    "\n",
    "logger.debug(\"Debug\")\n",
    "logger.info(\"info\")\n",
    "logger.warning(\"Warning\")\n",
    "logger.error(\"Error\")\n",
    "logger.critical(\"Critical\")"
   ]
  },
  {
   "cell_type": "code",
   "execution_count": 11,
   "id": "ede2ce1f",
   "metadata": {},
   "outputs": [
    {
     "name": "stdout",
     "output_type": "stream",
     "text": [
      "[INFO] __main__: info\n",
      "[WARNING] __main__: Warning\n",
      "[ERROR] __main__: Error\n",
      "[CRITICAL] __main__: Critical\n"
     ]
    }
   ],
   "source": [
    "# collapse_output\n",
    "\n",
    "suppress_timestamps()\n",
    "logger = get_logger(__name__)\n",
    "\n",
    "logger.debug(\"Debug\")\n",
    "logger.info(\"info\")\n",
    "logger.warning(\"Warning\")\n",
    "logger.error(\"Error\")\n",
    "logger.critical(\"Critical\")"
   ]
  },
  {
   "cell_type": "code",
   "execution_count": 12,
   "id": "1e791150",
   "metadata": {},
   "outputs": [],
   "source": [
    "# | export\n",
    "\n",
    "\n",
    "def set_level(level: int) -> None:\n",
    "    \"\"\"Set logger level\n",
    "\n",
    "    Args:\n",
    "        level: Logger level to set\n",
    "    \"\"\"\n",
    "    root_logger = logging.getLogger()\n",
    "    root_logger.setLevel(level)"
   ]
  },
  {
   "cell_type": "code",
   "execution_count": 13,
   "id": "5db8d01f",
   "metadata": {},
   "outputs": [
    {
     "name": "stdout",
     "output_type": "stream",
     "text": [
      "40\n",
      "[ERROR] __main__: This is an error\n"
     ]
    }
   ],
   "source": [
    "level = logging.ERROR\n",
    "\n",
    "set_level(level)\n",
    "\n",
    "# Checking if the logger is set back to logging.INFO in dev mode\n",
    "print(logger.getEffectiveLevel())\n",
    "assert logger.getEffectiveLevel() == level\n",
    "\n",
    "logger.debug(\"This is a debug message\")\n",
    "logger.info(\"This is an info\")\n",
    "logger.warning(\"This is a warning\")\n",
    "logger.error(\"This is an error\")"
   ]
  },
  {
   "cell_type": "code",
   "execution_count": 14,
   "id": "b9c2d1b0",
   "metadata": {},
   "outputs": [
    {
     "name": "stdout",
     "output_type": "stream",
     "text": [
      "[INFO] __main__: something\n"
     ]
    }
   ],
   "source": [
    "# Reset log level back to INFO\n",
    "level = logging.INFO\n",
    "\n",
    "set_level(level)\n",
    "logger.info(\"something\")"
   ]
  },
  {
   "cell_type": "code",
   "execution_count": 15,
   "id": "ce1b40e5",
   "metadata": {},
   "outputs": [
    {
     "data": {
      "text/plain": [
       "int"
      ]
     },
     "execution_count": 15,
     "metadata": {},
     "output_type": "execute_result"
    }
   ],
   "source": [
    "type(logging.DEBUG)"
   ]
  },
  {
   "cell_type": "code",
   "execution_count": null,
   "id": "e99090d9",
   "metadata": {},
   "outputs": [],
   "source": []
  }
 ],
 "metadata": {
  "kernelspec": {
   "display_name": "Python 3 (ipykernel)",
   "language": "python",
   "name": "python3"
  },
  "language_info": {
   "codemirror_mode": {
    "name": "ipython",
    "version": 3
   },
   "file_extension": ".py",
   "mimetype": "text/x-python",
   "name": "python",
   "nbconvert_exporter": "python",
   "pygments_lexer": "ipython3",
   "version": "3.11.5"
  }
 },
 "nbformat": 4,
 "nbformat_minor": 5
}
