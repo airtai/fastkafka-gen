{
 "cells": [
  {
   "cell_type": "code",
   "execution_count": null,
   "id": "21705b2f",
   "metadata": {},
   "outputs": [],
   "source": [
    "# | default_exp _code_generator.app_generator"
   ]
  },
  {
   "cell_type": "code",
   "execution_count": null,
   "id": "792d665d",
   "metadata": {},
   "outputs": [],
   "source": [
    "# | export\n",
    "\n",
    "from typing import *\n",
    "import time\n",
    "import json\n",
    "from tempfile import TemporaryDirectory\n",
    "from pathlib import Path\n",
    "\n",
    "from yaspin import yaspin\n",
    "\n",
    "from fastkafka_gen._components.logger import get_logger\n",
    "from fastkafka_gen._code_generator.helper import CustomAIChat, ValidateAndFixResponse\n",
    "from fastkafka_gen._code_generator.prompts import APP_GENERATION_PROMPT"
   ]
  },
  {
   "cell_type": "code",
   "execution_count": null,
   "id": "381bd805",
   "metadata": {},
   "outputs": [],
   "source": [
    "from fastkafka_gen._components.logger import suppress_timestamps"
   ]
  },
  {
   "cell_type": "code",
   "execution_count": null,
   "id": "19863bab",
   "metadata": {},
   "outputs": [],
   "source": [
    "# | export\n",
    "\n",
    "logger = get_logger(__name__)"
   ]
  },
  {
   "cell_type": "code",
   "execution_count": null,
   "id": "2c0b5c72",
   "metadata": {},
   "outputs": [
    {
     "name": "stdout",
     "output_type": "stream",
     "text": [
      "[INFO] __main__: ok\n"
     ]
    }
   ],
   "source": [
    "suppress_timestamps()\n",
    "logger = get_logger(__name__, level=20)\n",
    "logger.info(\"ok\")"
   ]
  },
  {
   "cell_type": "code",
   "execution_count": null,
   "id": "513d72a4",
   "metadata": {},
   "outputs": [],
   "source": [
    "# | export\n",
    "\n",
    "def _validate_response() -> List[str]:\n",
    "    return []"
   ]
  },
  {
   "cell_type": "code",
   "execution_count": null,
   "id": "622f5759",
   "metadata": {},
   "outputs": [],
   "source": []
  },
  {
   "cell_type": "code",
   "execution_count": null,
   "id": "3945652e",
   "metadata": {},
   "outputs": [],
   "source": []
  },
  {
   "cell_type": "code",
   "execution_count": null,
   "id": "19cf79c0",
   "metadata": {},
   "outputs": [],
   "source": [
    "# | export\n",
    "\n",
    "\n",
    "def _save_app(contents: str, output_path: str) -> str:\n",
    "    \"\"\"Save the YAML-formatted asyncapi spec in the specified output path.\n",
    "\n",
    "    Args:\n",
    "        contents: Generated python code\n",
    "        output_file: The path to save the generated code.\n",
    "    \"\"\"\n",
    "    Path(output_path).mkdir(parents=True, exist_ok=True)\n",
    "    \n",
    "    output_file = f\"{output_path}/application.py\"\n",
    "    with open(output_file, \"w\", encoding=\"utf-8\") as f:\n",
    "        f.write(contents)\n",
    "    \n",
    "    return output_file"
   ]
  },
  {
   "cell_type": "code",
   "execution_count": null,
   "id": "0f0b2cdd",
   "metadata": {},
   "outputs": [
    {
     "name": "stdout",
     "output_type": "stream",
     "text": [
      "\n",
      "print(\"Hello World\")\n",
      "\n"
     ]
    }
   ],
   "source": [
    "fixture_response = \"\"\"\n",
    "print(\"Hello World\")\n",
    "\"\"\"\n",
    "\n",
    "\n",
    "with TemporaryDirectory() as d:\n",
    "    output_path = f\"{str(d)}/parent/child\"\n",
    "    expected_output_file = f\"{output_path}/application.py\"\n",
    "    \n",
    "    actual_output_file = _save_app(fixture_response, output_path)\n",
    "    \n",
    "    assert actual_output_file == expected_output_file, f\"{actual_output_file=}, {expected_output_file=}\"\n",
    "    \n",
    "    with open(actual_output_file, 'r', encoding=\"utf-8\") as f:\n",
    "        contents = f.read()\n",
    "    print(contents)\n"
   ]
  },
  {
   "cell_type": "code",
   "execution_count": null,
   "id": "88d6fb9f",
   "metadata": {},
   "outputs": [],
   "source": [
    "# | export\n",
    "\n",
    "def generate_app(asyncapi_spec: str, output_path: str) -> Tuple[str, str]:\n",
    "    \"\"\"Generate code for the new FastKafka app from the validated plan\n",
    "    \n",
    "    Args:\n",
    "        asyncapi_spec: The validated AsyncAPI spec generated from the user's application description\n",
    "        output_path: The path where the validated spec AsyncAPI file is located\n",
    "    Returns:\n",
    "        The generated FastKafka code\n",
    "    \"\"\"\n",
    "    # TODO: Generate code form the ASYNCAPI\n",
    "    # TODO: Validate the generated code\n",
    "    with yaspin(text=\"Generating FastKafka app...\", color=\"cyan\", spinner=\"clock\") as sp:\n",
    "        \n",
    "        app_generator = CustomAIChat(user_prompt=APP_GENERATION_PROMPT)\n",
    "        app_validator = ValidateAndFixResponse(app_generator, _validate_response)\n",
    "        validated_app, total_tokens = app_validator.fix(asyncapi_spec)\n",
    "        \n",
    "        output_file = _save_async_api_spec(validated_async_spec, output_path)\n",
    "        \n",
    "        sp.text = \"\"\n",
    "        sp.ok(\" ✔ FastKafka app generated and saved at: {output_file}\")\n",
    "        return validated_app, total_tokens"
   ]
  },
  {
   "cell_type": "code",
   "execution_count": null,
   "id": "ad577186",
   "metadata": {},
   "outputs": [],
   "source": [
    "# | notest\n",
    "\n",
    "fixture_spec = '''\n",
    "asyncapi: 2.5.0\n",
    "info:\n",
    "  title: Change Currency\n",
    "  version: 0.0.1\n",
    "  description: \"A FastKafka application which utilizes localhost, staging, and production brokers creates personalized greetings. It consumes JSON-encoded messages containing product details, changes the currency and price based on specific conditions, and publishes the modified messages to a designated topic. It uses SASL_SSL with SCRAM-SHA-512 for authentication, requiring username and password.\"\n",
    "  contact:\n",
    "    name: Author\n",
    "    url: https://www.google.com/\n",
    "    email: noreply@gmail.com\n",
    "servers:\n",
    "  localhost:\n",
    "    url: localhost\n",
    "    description: local development kafka broker\n",
    "    protocol: kafka\n",
    "    variables:\n",
    "      port:\n",
    "        default: '9092'\n",
    "  staging:\n",
    "    url: staging.airt.ai\n",
    "    description: staging kafka broker\n",
    "    protocol: kafka-secure\n",
    "    security:\n",
    "    - staging_default_security: []\n",
    "    variables:\n",
    "      port:\n",
    "        default: '9092'\n",
    "  production:\n",
    "    url: prod.airt.ai\n",
    "    description: production kafka broker\n",
    "    protocol: kafka-secure\n",
    "    security:\n",
    "    - production_default_security: []\n",
    "    variables:\n",
    "      port:\n",
    "        default: '9092'\n",
    "channels:\n",
    "  store_product:\n",
    "    subscribe:\n",
    "      message:\n",
    "        $ref: '#/components/messages/Product'\n",
    "      description: |\n",
    "        For each consumed message, check if the currency attribute is set to 'HRK'. If it is, change the currency to 'EUR' and divide the price by 7.5. If the currency is not set to 'HRK', do not modify the original message. Then, create a new object with the attributes country and store_product, set the country to 'IND' and the store_product to the modified message. Finally, publish the new message to the 'change_currency' topic.\n",
    "  change_currency:\n",
    "    publish:\n",
    "      message:\n",
    "        $ref: '#/components/messages/ModifiedProduct'\n",
    "      description: Publish the modified message to the 'change_currency' topic.\n",
    "components:\n",
    "  messages:\n",
    "    Product:\n",
    "      payload:\n",
    "        properties:\n",
    "          product_name:\n",
    "            description: Name of the product.\n",
    "            title: Product Name\n",
    "            type: string\n",
    "          currency:\n",
    "            description: Currency of the product.\n",
    "            title: Currency\n",
    "            type: string\n",
    "            pattern: \"^[A-Z]{3}$\"\n",
    "          price:\n",
    "            description: Price of the product.\n",
    "            title: Price\n",
    "            type: number\n",
    "        required:\n",
    "        - product_name\n",
    "        - currency\n",
    "        - price\n",
    "        title: Product\n",
    "        type: object\n",
    "    ModifiedProduct:\n",
    "      payload:\n",
    "        properties:\n",
    "          country:\n",
    "            description: Country of the modified message.\n",
    "            title: Country\n",
    "            type: string\n",
    "          store_product:\n",
    "            $ref: '#/components/messages/Product'\n",
    "        required:\n",
    "        - country\n",
    "        - store_product\n",
    "        title: Modified Product\n",
    "        type: object\n",
    "  schemas: {}\n",
    "  securitySchemes:\n",
    "    staging_default_security:\n",
    "      type: scramSha512\n",
    "    production_default_security:\n",
    "      type: scramSha512\n",
    "'''\n",
    "\n",
    "code, token = generate_app(fixture_spec, spec_dir)\n",
    "print(code)\n",
    "print(token)"
   ]
  },
  {
   "cell_type": "code",
   "execution_count": null,
   "id": "4d00fc7c",
   "metadata": {},
   "outputs": [],
   "source": []
  }
 ],
 "metadata": {
  "kernelspec": {
   "display_name": "python3",
   "language": "python",
   "name": "python3"
  }
 },
 "nbformat": 4,
 "nbformat_minor": 5
}
