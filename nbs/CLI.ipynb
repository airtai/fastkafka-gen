{
 "cells": [
  {
   "cell_type": "code",
   "execution_count": null,
   "id": "e6067a2f",
   "metadata": {},
   "outputs": [],
   "source": [
    "# | default_exp cli"
   ]
  },
  {
   "cell_type": "code",
   "execution_count": null,
   "id": "ff086fc9",
   "metadata": {},
   "outputs": [],
   "source": [
    "# | export\n",
    "\n",
    "from typing import *\n",
    "import os\n",
    "import re\n",
    "\n",
    "import typer\n",
    "import pathlib\n",
    "\n",
    "from faststream_gen._components.logger import get_logger\n",
    "from faststream_gen._code_generator.app_description_validator import validate_app_description\n",
    "from faststream_gen._code_generator.asyncapi_spec_generator import generate_asyncapi_spec\n",
    "from faststream_gen._code_generator.app_generator import generate_app\n",
    "from faststream_gen._code_generator.test_generator import generate_test\n",
    "from faststream_gen._code_generator.helper import set_logger_level, add_tokens_usage, write_file_contents\n",
    "from faststream_gen._code_generator.constants import DEFAULT_MODEL, MODEL_PRICING, TOKEN_TYPES, DESCRIPTION_FILE_NAME, \\\n",
    "                                                    GENERATE_APP_FROM_ASYNCAPI, GENERATE_APP_FROM_SKELETON, GENERATE_APP_SKELETON"
   ]
  },
  {
   "cell_type": "code",
   "execution_count": null,
   "id": "7308ae66",
   "metadata": {},
   "outputs": [],
   "source": [
    "from typer.testing import CliRunner\n",
    "import pytest\n",
    "from unittest.mock import patch\n",
    "from tempfile import TemporaryDirectory\n",
    "\n",
    "from faststream_gen._components.logger import suppress_timestamps"
   ]
  },
  {
   "cell_type": "code",
   "execution_count": null,
   "id": "1d072658",
   "metadata": {},
   "outputs": [],
   "source": [
    "# | export\n",
    "\n",
    "logger = get_logger(__name__)"
   ]
  },
  {
   "cell_type": "code",
   "execution_count": null,
   "id": "7da7962a",
   "metadata": {},
   "outputs": [
    {
     "name": "stdout",
     "output_type": "stream",
     "text": [
      "[INFO] __main__: ok\n"
     ]
    }
   ],
   "source": [
    "suppress_timestamps()\n",
    "logger = get_logger(__name__, level=20)\n",
    "logger.info(\"ok\")"
   ]
  },
  {
   "cell_type": "code",
   "execution_count": null,
   "id": "8f1b231d",
   "metadata": {},
   "outputs": [],
   "source": [
    "runner = CliRunner()"
   ]
  },
  {
   "cell_type": "code",
   "execution_count": null,
   "id": "5742512f",
   "metadata": {},
   "outputs": [],
   "source": [
    "# | export\n",
    "\n",
    "OPENAI_KEY_EMPTY_ERROR = \"Error: OPENAI_API_KEY cannot be empty. Please set a valid OpenAI API key in OPENAI_API_KEY environment variable and try again.\\nYou can generate API keys in the OpenAI web interface. See https://platform.openai.com/account/api-keys for details.\"\n",
    "OPENAI_KEY_NOT_SET_ERROR = \"Error: OPENAI_API_KEY not found in environment variables. Set a valid OpenAI API key in OPENAI_API_KEY environment variable and try again. You can generate API keys in the OpenAI web interface. See https://platform.openai.com/account/api-keys for details.\"\n",
    "\n",
    "\n",
    "def _ensure_openai_api_key_set() -> None:\n",
    "    \"\"\"Ensure the 'OPENAI_API_KEY' environment variable is set and is not empty.\n",
    "\n",
    "    Raises:\n",
    "        KeyError: If the 'OPENAI_API_KEY' environment variable is not found.\n",
    "        ValueError: If the 'OPENAI_API_KEY' environment variable is found but its value is empty.\n",
    "    \"\"\"\n",
    "    try:\n",
    "        openai_api_key = os.environ[\"OPENAI_API_KEY\"]\n",
    "        if openai_api_key == \"\":\n",
    "            raise ValueError(OPENAI_KEY_EMPTY_ERROR)\n",
    "    except KeyError:\n",
    "        raise KeyError(OPENAI_KEY_NOT_SET_ERROR)"
   ]
  },
  {
   "cell_type": "code",
   "execution_count": null,
   "id": "24c7f256",
   "metadata": {},
   "outputs": [
    {
     "name": "stdout",
     "output_type": "stream",
     "text": [
      "Error: OPENAI_API_KEY cannot be empty. Please set a valid OpenAI API key in OPENAI_API_KEY environment variable and try again.\n",
      "You can generate API keys in the OpenAI web interface. See https://platform.openai.com/account/api-keys for details.\n"
     ]
    }
   ],
   "source": [
    "with patch.dict(os.environ, {\"OPENAI_API_KEY\": \"\"}):\n",
    "    with pytest.raises(ValueError) as e:\n",
    "        _ensure_openai_api_key_set()\n",
    "\n",
    "print(e.value)\n",
    "assert str(e.value) == OPENAI_KEY_EMPTY_ERROR"
   ]
  },
  {
   "cell_type": "code",
   "execution_count": null,
   "id": "aa9a9439",
   "metadata": {},
   "outputs": [
    {
     "name": "stdout",
     "output_type": "stream",
     "text": [
      "'Error: OPENAI_API_KEY not found in environment variables. Set a valid OpenAI API key in OPENAI_API_KEY environment variable and try again. You can generate API keys in the OpenAI web interface. See https://platform.openai.com/account/api-keys for details.'\n"
     ]
    }
   ],
   "source": [
    "with patch.dict(os.environ, {}, clear=True):\n",
    "    with pytest.raises(KeyError) as e:\n",
    "        _ensure_openai_api_key_set()\n",
    "        \n",
    "print(e.value)\n",
    "assert str(e.value) == f\"'{OPENAI_KEY_NOT_SET_ERROR}'\""
   ]
  },
  {
   "cell_type": "code",
   "execution_count": null,
   "id": "f311f7e4",
   "metadata": {},
   "outputs": [],
   "source": [
    "with patch.dict(os.environ, {\"OPENAI_API_KEY\": \"INVALID_KEY\"}):\n",
    "    _ensure_openai_api_key_set()"
   ]
  },
  {
   "cell_type": "code",
   "execution_count": null,
   "id": "9b11fc9c",
   "metadata": {},
   "outputs": [],
   "source": [
    "# | export\n",
    "\n",
    "app = typer.Typer(\n",
    "    short_help=\"Commands for accelerating FastStream app creation using advanced AI technology\",\n",
    "     help=\"\"\"Commands for accelerating FastStream app creation using advanced AI technology.\n",
    "\n",
    "These commands use a combination of OpenAI's gpt-3.5-turbo and gpt-3.5-turbo-16k models to generate FastStream code. To access this feature, kindly sign up if you haven't already and create an API key with OpenAI. You can generate API keys in the OpenAI web interface. See https://platform.openai.com/account/api-keys for details.\n",
    "\n",
    "Once you have the key, please set it in the OPENAI_API_KEY environment variable before executing the code generation commands.\n",
    "\n",
    "Note: Accessing OpenAI API incurs charges. However, when you sign up for the first time, you usually get free credits that are more than enough to generate multiple FastStream apps. For further information on pricing and free credicts, check this link: https://openai.com/pricing\n",
    "    \"\"\",\n",
    ")"
   ]
  },
  {
   "cell_type": "code",
   "execution_count": null,
   "id": "2f47ddf0",
   "metadata": {},
   "outputs": [],
   "source": [
    "# | export\n",
    "\n",
    "\n",
    "def _strip_white_spaces(description: str) -> str:\n",
    "    \"\"\"Remove and strip excess whitespaces from a given description\n",
    "\n",
    "    Args:\n",
    "        description: The description string to be processed.\n",
    "\n",
    "    Returns:\n",
    "        The cleaned description string.\n",
    "    \"\"\"\n",
    "    pattern = re.compile(r\"\\s+\")\n",
    "    return pattern.sub(\" \", description).strip()"
   ]
  },
  {
   "cell_type": "code",
   "execution_count": null,
   "id": "4b144e5a",
   "metadata": {},
   "outputs": [
    {
     "name": "stdout",
     "output_type": "stream",
     "text": [
      "I have a lot of whitespaces\n"
     ]
    }
   ],
   "source": [
    "fixture = \"\"\"\n",
    "    I have   a                  lot\n",
    "                of whitespaces\n",
    "                \n",
    "                \n",
    "\"\"\"\n",
    "\n",
    "expected = \"I have a lot of whitespaces\"\n",
    "actual = _strip_white_spaces(fixture)\n",
    "print(actual)\n",
    "assert actual == expected"
   ]
  },
  {
   "cell_type": "code",
   "execution_count": null,
   "id": "01415228",
   "metadata": {},
   "outputs": [],
   "source": [
    "# | export\n",
    "\n",
    "\n",
    "def _calculate_price(total_tokens_usage: Dict[str, int], model: str = DEFAULT_MODEL) -> float:\n",
    "    \"\"\"Calculates the total price based on the number of promt & completion tokens and the models price for input and output tokens (per 1k tokens).\n",
    "\n",
    "    Args:\n",
    "        total_tokens_usage: OpenAI \"usage\" dictionaries which defines prompt_tokens, completion_tokens and total_tokens\n",
    "\n",
    "\n",
    "    Returns:\n",
    "        float: The price for used tokens\n",
    "    \"\"\"\n",
    "    model_price = MODEL_PRICING[model]\n",
    "    price = (total_tokens_usage[\"prompt_tokens\"] * model_price[\"input\"] + total_tokens_usage[\"completion_tokens\"] * model_price[\"output\"]) / 1000\n",
    "    return price"
   ]
  },
  {
   "cell_type": "code",
   "execution_count": null,
   "id": "f6ed23e4",
   "metadata": {},
   "outputs": [],
   "source": [
    "usage = {\n",
    "    \"prompt_tokens\": 129,\n",
    "    \"completion_tokens\": 1,\n",
    "    \"total_tokens\": 130\n",
    "  }\n",
    "\n",
    "usage_list = [usage, usage]\n",
    "total_tokens_usage = add_tokens_usage(usage_list)\n",
    "\n",
    "assert _calculate_price(total_tokens_usage) == 0.000782"
   ]
  },
  {
   "cell_type": "code",
   "execution_count": null,
   "id": "a0d53115",
   "metadata": {},
   "outputs": [],
   "source": [
    "# | export\n",
    "\n",
    "EMPTY_DESCRIPTION_ERROR = \"Error: you need to provide the application description by providing it with the command line argument or by providing it within a textual file wit the --input_file argument.\"\n",
    "\n",
    "def _get_description(input_path: str) -> str:\n",
    "    \"\"\"Reads description from te file and returns it as a string\n",
    "\n",
    "    Args:\n",
    "        input_path: Path to the file with the desription\n",
    "        \n",
    "    Raises:\n",
    "        ValueError: If the file does not exist.\n",
    "\n",
    "    Returns:\n",
    "        The description string which was read from the file.\n",
    "    \"\"\"\n",
    "    try:\n",
    "        with open(input_path) as file:\n",
    "            # Read all lines to list\n",
    "            lines = file.readlines()\n",
    "            # Join the lines \n",
    "            description = '\\r'.join(lines)\n",
    "            logger.info(f\"Reading application description from '{str(pathlib.Path(input_path).absolute())}'.\")\n",
    "    except Exception as e:\n",
    "        raise ValueError(f\"Error while reading from the file: '{str(pathlib.Path(input_path).absolute())}'\\n{str(e)}\")\n",
    "    return description"
   ]
  },
  {
   "cell_type": "code",
   "execution_count": null,
   "id": "3b39f132",
   "metadata": {},
   "outputs": [
    {
     "name": "stdout",
     "output_type": "stream",
     "text": [
      "[INFO] __main__: Reading application description from '/tmp/tmpu5rnou5l/app_description.txt'.\n"
     ]
    },
    {
     "data": {
      "text/plain": [
       "\"Create a FastKafka application using localhost broker for testing, staging.airt.ai for staging and prod.airt.ai for production. Use default port number.\\n\\r\\n\\rIt should consume from 'store_product' topic an JSON encoded object with the following three attributes: product_name, currency and price. The format of the currency will be three letter string, e.g. 'EUR'.\\n\\rFor each consumed message, check if the currency attribute is set to 'HRK'. If it is then change the currency to 'EUR' and divide the price by 7.5, if the currency is not set to 'HRK' don't change the original message. Finally, publish the consumed message to 'change_currency' topic.\\n\\r\\n\\rUse SASL_SSL with SCRAM-SHA-256 for authentication with username and password.\""
      ]
     },
     "metadata": {},
     "output_type": "display_data"
    }
   ],
   "source": [
    "with TemporaryDirectory() as d:\n",
    "    input_path = f\"{d}/app_description.txt\"\n",
    "    description = \"\"\"Create a FastKafka application using localhost broker for testing, staging.airt.ai for staging and prod.airt.ai for production. Use default port number.\n",
    "\n",
    "It should consume from 'store_product' topic an JSON encoded object with the following three attributes: product_name, currency and price. The format of the currency will be three letter string, e.g. 'EUR'.\n",
    "For each consumed message, check if the currency attribute is set to 'HRK'. If it is then change the currency to 'EUR' and divide the price by 7.5, if the currency is not set to 'HRK' don't change the original message. Finally, publish the consumed message to 'change_currency' topic.\n",
    "\n",
    "Use SASL_SSL with SCRAM-SHA-256 for authentication with username and password.\"\"\"\n",
    "    \n",
    "    \n",
    "    write_file_contents(input_path, description)\n",
    "    actual = _get_description(input_path)\n",
    "    display(actual)\n",
    "    expected = \"Create a FastKafka application using localhost broker for testing, staging.airt.ai for staging and prod.airt.ai for production. Use default port number.\\n\\r\\n\\rIt should consume from 'store_product' topic an JSON encoded object with the following three attributes: product_name, currency and price. The format of the currency will be three letter string, e.g. 'EUR'.\\n\\rFor each consumed message, check if the currency attribute is set to 'HRK'. If it is then change the currency to 'EUR' and divide the price by 7.5, if the currency is not set to 'HRK' don't change the original message. Finally, publish the consumed message to 'change_currency' topic.\\n\\r\\n\\rUse SASL_SSL with SCRAM-SHA-256 for authentication with username and password.\"         \n",
    "    \n",
    "    assert actual == expected, actual"
   ]
  },
  {
   "cell_type": "code",
   "execution_count": null,
   "id": "bc17331a",
   "metadata": {},
   "outputs": [
    {
     "name": "stdout",
     "output_type": "stream",
     "text": [
      "Error while reading from the file: '/work/fastkafka-gen/nbs/incorrect_path'\n",
      "[Errno 2] No such file or directory: 'incorrect_path'\n"
     ]
    }
   ],
   "source": [
    "with pytest.raises(ValueError) as e:\n",
    "        _get_description(\"incorrect_path\")\n",
    "        \n",
    "print(e.value)\n",
    "assert str(e.value) == f\"Error while reading from the file: '{str(pathlib.Path('incorrect_path').absolute())}'\\n[Errno 2] No such file or directory: 'incorrect_path'\""
   ]
  },
  {
   "cell_type": "code",
   "execution_count": null,
   "id": "bb880142",
   "metadata": {},
   "outputs": [],
   "source": [
    "# | export\n",
    "\n",
    "\n",
    "@app.command(\n",
    "    \"generate\",\n",
    "    help=\"Effortlessly generate FastStream application code and integration tests from the app description.\",\n",
    ")\n",
    "@set_logger_level\n",
    "def generate_fastkafka_app(\n",
    "    description: Optional[str] = typer.Argument(\n",
    "        None,\n",
    "        help=\"\"\"Summarize your FastStream app in a few sentences!\n",
    "\n",
    "\n",
    "\\nInclude details about messages, topics, servers, and a brief overview of the intended business logic.\n",
    "\n",
    "\n",
    "\\nThe simpler and more specific the app description is, the better the generated app will be. Please refer to the below example for inspiration:\n",
    "\n",
    "\n",
    "\\nCreate a FastStream application using localhost broker for testing and use the default port number. \n",
    "It should consume messages from the \"input_data\" topic, where each message is a JSON encoded object containing a single attribute: 'data'. \n",
    "For each consumed message, create a new message object and increment the value of the data attribute by 1. Finally, send the modified message to the 'output_data' topic.\n",
    "\\n\"\"\"\n",
    "    ),\n",
    "    input_path: str = typer.Option(\n",
    "        None,\n",
    "        \"--input_file\",\n",
    "        \"-i\",\n",
    "        help=\"\"\"\n",
    "        The path to the file with the app desription. This path should be relative to the current working directory.\n",
    "        \n",
    "        \\n\\nIf the app description is passed via both a --input_file and a command line argument, the description from the command line will be used to create the application.\n",
    "        \"\"\",\n",
    "    ),\n",
    "    output_path: str = typer.Option(\n",
    "        \"./faststream-gen\",\n",
    "        \"--output_path\",\n",
    "        \"-o\",\n",
    "        help=\"The path to the output directory where the generated files will be saved. This path should be relative to the current working directory.\",\n",
    "    ),\n",
    "    verbose: bool = typer.Option(\n",
    "        False,\n",
    "        \"--verbose\",\n",
    "        \"-v\",\n",
    "        help=\"Enable verbose logging by setting the logger level to INFO.\",\n",
    "    ),\n",
    ") -> None:\n",
    "    \"\"\"Effortlessly generate an AsyncAPI specification, FastStream application code, and integration tests from the app description.\"\"\"\n",
    "    try:\n",
    "        tokens_list: List[Dict[str, int]] = []\n",
    "        _ensure_openai_api_key_set()\n",
    "        if not description:\n",
    "            if not input_path:\n",
    "                raise ValueError(EMPTY_DESCRIPTION_ERROR)             \n",
    "            description = _get_description(input_path)\n",
    "        \n",
    "        cleaned_description = _strip_white_spaces(description)\n",
    "        validated_description, tokens_list = validate_app_description(cleaned_description, tokens_list)\n",
    "        write_file_contents(f\"{output_path}/{DESCRIPTION_FILE_NAME}\", validated_description)\n",
    "        \n",
    "#         tokens_list = generate_asyncapi_spec(validated_description, output_path, tokens_list)\n",
    "#         tokens_list = generate_app(output_path, tokens_list, GENERATE_APP_FROM_ASYNCAPI)      \n",
    "        tokens_list = generate_app(output_path, tokens_list, GENERATE_APP_SKELETON)\n",
    "        tokens_list = generate_app(output_path, tokens_list, GENERATE_APP_FROM_SKELETON)\n",
    "        \n",
    "        tokens_list = generate_test(validated_description, output_path, tokens_list)\n",
    "        \n",
    "        fg = typer.colors.CYAN\n",
    "    except (ValueError, KeyError) as e:\n",
    "        fg = typer.colors.RED\n",
    "        typer.secho(e, err=True, fg=fg)\n",
    "        raise typer.Exit(code=1)\n",
    "    except Exception as e:\n",
    "        fg = typer.colors.RED\n",
    "        typer.secho(f\"Unexpected internal error: {e}\", err=True, fg=fg)\n",
    "        raise typer.Exit(code=1)\n",
    "    finally:\n",
    "        total_tokens_usage = add_tokens_usage(tokens_list)\n",
    "        price = _calculate_price(total_tokens_usage)\n",
    "        \n",
    "        typer.secho(f\" Tokens used: {total_tokens_usage['total_tokens']}\", fg=fg)\n",
    "        logger.info(f\"Prompt Tokens: {total_tokens_usage['prompt_tokens']}\")\n",
    "        logger.info(f\"Completion Tokens: {total_tokens_usage['completion_tokens']}\")\n",
    "        typer.secho(f\" Total Cost (USD): ${round(price, 5)}\", fg=fg)\n",
    "        \n",
    "        phases = [\"validation\", \"specification generation\", \"app generation\", \"test generation\"]\n",
    "        logger.info(\"Number of tokens per phase:\")\n",
    "        for i, token in enumerate(tokens_list):\n",
    "            logger.info(f\"{phases[i]}: {token['total_tokens']} tokens\")\n",
    "        \n",
    "    typer.secho(\"✨  All files were successfully generated!\", fg=fg)\n",
    "        "
   ]
  },
  {
   "cell_type": "code",
   "execution_count": null,
   "id": "81371542",
   "metadata": {},
   "outputs": [],
   "source": [
    "# | notest\n",
    "\n",
    "! nbdev_export"
   ]
  },
  {
   "cell_type": "code",
   "execution_count": null,
   "id": "6f578155",
   "metadata": {},
   "outputs": [
    {
     "data": {
      "text/html": [
       "<pre style=\"white-space:pre;overflow-x:auto;line-height:normal;font-family:Menlo,'DejaVu Sans Mono',consolas,'Courier New',monospace\"><span style=\"font-weight: bold\">                                                                                                                   </span>\n",
       "<span style=\"font-weight: bold\"> </span><span style=\"color: #808000; text-decoration-color: #808000; font-weight: bold\">Usage: </span><span style=\"font-weight: bold\">generate [OPTIONS] [DESCRIPTION]                                                                           </span>\n",
       "<span style=\"font-weight: bold\">                                                                                                                   </span>\n",
       "</pre>\n"
      ],
      "text/plain": [
       "\u001b[1m                                                                                                                   \u001b[0m\n",
       "\u001b[1m \u001b[0m\u001b[1;33mUsage: \u001b[0m\u001b[1mgenerate [OPTIONS] [DESCRIPTION]\u001b[0m\u001b[1m                                                                          \u001b[0m\u001b[1m \u001b[0m\n",
       "\u001b[1m                                                                                                                   \u001b[0m\n"
      ]
     },
     "metadata": {},
     "output_type": "display_data"
    },
    {
     "data": {
      "text/html": [
       "<pre style=\"white-space:pre;overflow-x:auto;line-height:normal;font-family:Menlo,'DejaVu Sans Mono',consolas,'Courier New',monospace\"> Effortlessly generate FastStream application code and integration tests from the app description.                 \n",
       "                                                                                                                   \n",
       "</pre>\n"
      ],
      "text/plain": [
       " Effortlessly generate FastStream application code and integration tests from the app description.                 \n",
       "                                                                                                                   \n"
      ]
     },
     "metadata": {},
     "output_type": "display_data"
    },
    {
     "data": {
      "text/html": [
       "<pre style=\"white-space:pre;overflow-x:auto;line-height:normal;font-family:Menlo,'DejaVu Sans Mono',consolas,'Courier New',monospace\"><span style=\"color: #7f7f7f; text-decoration-color: #7f7f7f\">╭─ Arguments ─────────────────────────────────────────────────────────────────────────────────────────────────────╮</span>\n",
       "<span style=\"color: #7f7f7f; text-decoration-color: #7f7f7f\">│</span>   description      <span style=\"color: #bfbf7f; text-decoration-color: #bfbf7f; font-weight: bold\">[</span><span style=\"color: #808000; text-decoration-color: #808000; font-weight: bold\">DESCRIPTION</span><span style=\"color: #bfbf7f; text-decoration-color: #bfbf7f; font-weight: bold\">]</span>  Summarize your FastStream app in a few sentences!                             <span style=\"color: #7f7f7f; text-decoration-color: #7f7f7f\">│</span>\n",
       "<span style=\"color: #7f7f7f; text-decoration-color: #7f7f7f\">│</span>                                                                                                                 <span style=\"color: #7f7f7f; text-decoration-color: #7f7f7f\">│</span>\n",
       "<span style=\"color: #7f7f7f; text-decoration-color: #7f7f7f\">│</span>                                   Include details about messages, topics, servers, and a brief overview of the  <span style=\"color: #7f7f7f; text-decoration-color: #7f7f7f\">│</span>\n",
       "<span style=\"color: #7f7f7f; text-decoration-color: #7f7f7f\">│</span>                                   intended business logic.                                                      <span style=\"color: #7f7f7f; text-decoration-color: #7f7f7f\">│</span>\n",
       "<span style=\"color: #7f7f7f; text-decoration-color: #7f7f7f\">│</span>                                                                                                                 <span style=\"color: #7f7f7f; text-decoration-color: #7f7f7f\">│</span>\n",
       "<span style=\"color: #7f7f7f; text-decoration-color: #7f7f7f\">│</span>                                   The simpler and more specific the app description is, the better the          <span style=\"color: #7f7f7f; text-decoration-color: #7f7f7f\">│</span>\n",
       "<span style=\"color: #7f7f7f; text-decoration-color: #7f7f7f\">│</span>                                   generated app will be. Please refer to the below example for inspiration:     <span style=\"color: #7f7f7f; text-decoration-color: #7f7f7f\">│</span>\n",
       "<span style=\"color: #7f7f7f; text-decoration-color: #7f7f7f\">│</span>                                                                                                                 <span style=\"color: #7f7f7f; text-decoration-color: #7f7f7f\">│</span>\n",
       "<span style=\"color: #7f7f7f; text-decoration-color: #7f7f7f\">│</span>                                   Create a FastStream application using localhost broker for testing and use    <span style=\"color: #7f7f7f; text-decoration-color: #7f7f7f\">│</span>\n",
       "<span style=\"color: #7f7f7f; text-decoration-color: #7f7f7f\">│</span>                                   the default port number.  It should consume messages from the \"input_data\"    <span style=\"color: #7f7f7f; text-decoration-color: #7f7f7f\">│</span>\n",
       "<span style=\"color: #7f7f7f; text-decoration-color: #7f7f7f\">│</span>                                   topic, where each message is a JSON encoded object containing a single        <span style=\"color: #7f7f7f; text-decoration-color: #7f7f7f\">│</span>\n",
       "<span style=\"color: #7f7f7f; text-decoration-color: #7f7f7f\">│</span>                                   attribute: 'data'.  For each consumed message, create a new message object    <span style=\"color: #7f7f7f; text-decoration-color: #7f7f7f\">│</span>\n",
       "<span style=\"color: #7f7f7f; text-decoration-color: #7f7f7f\">│</span>                                   and increment the value of the data attribute by 1. Finally, send the         <span style=\"color: #7f7f7f; text-decoration-color: #7f7f7f\">│</span>\n",
       "<span style=\"color: #7f7f7f; text-decoration-color: #7f7f7f\">│</span>                                   modified message to the 'output_data' topic.                                  <span style=\"color: #7f7f7f; text-decoration-color: #7f7f7f\">│</span>\n",
       "<span style=\"color: #7f7f7f; text-decoration-color: #7f7f7f\">│</span>                                   <span style=\"color: #7f7f7f; text-decoration-color: #7f7f7f\">[default: None]                                                              </span> <span style=\"color: #7f7f7f; text-decoration-color: #7f7f7f\">│</span>\n",
       "<span style=\"color: #7f7f7f; text-decoration-color: #7f7f7f\">╰─────────────────────────────────────────────────────────────────────────────────────────────────────────────────╯</span>\n",
       "</pre>\n"
      ],
      "text/plain": [
       "\u001b[2m╭─\u001b[0m\u001b[2m Arguments \u001b[0m\u001b[2m────────────────────────────────────────────────────────────────────────────────────────────────────\u001b[0m\u001b[2m─╮\u001b[0m\n",
       "\u001b[2m│\u001b[0m   description      \u001b[1;2;33m[\u001b[0m\u001b[1;33mDESCRIPTION\u001b[0m\u001b[1;2;33m]\u001b[0m  Summarize your FastStream app in a few sentences!                             \u001b[2m│\u001b[0m\n",
       "\u001b[2m│\u001b[0m                                                                                                                 \u001b[2m│\u001b[0m\n",
       "\u001b[2m│\u001b[0m                                   Include details about messages, topics, servers, and a brief overview of the  \u001b[2m│\u001b[0m\n",
       "\u001b[2m│\u001b[0m                                   intended business logic.                                                      \u001b[2m│\u001b[0m\n",
       "\u001b[2m│\u001b[0m                                                                                                                 \u001b[2m│\u001b[0m\n",
       "\u001b[2m│\u001b[0m                                   The simpler and more specific the app description is, the better the          \u001b[2m│\u001b[0m\n",
       "\u001b[2m│\u001b[0m                                   generated app will be. Please refer to the below example for inspiration:     \u001b[2m│\u001b[0m\n",
       "\u001b[2m│\u001b[0m                                                                                                                 \u001b[2m│\u001b[0m\n",
       "\u001b[2m│\u001b[0m                                   Create a FastStream application using localhost broker for testing and use    \u001b[2m│\u001b[0m\n",
       "\u001b[2m│\u001b[0m                                   the default port number.  It should consume messages from the \"input_data\"    \u001b[2m│\u001b[0m\n",
       "\u001b[2m│\u001b[0m                                   topic, where each message is a JSON encoded object containing a single        \u001b[2m│\u001b[0m\n",
       "\u001b[2m│\u001b[0m                                   attribute: 'data'.  For each consumed message, create a new message object    \u001b[2m│\u001b[0m\n",
       "\u001b[2m│\u001b[0m                                   and increment the value of the data attribute by 1. Finally, send the         \u001b[2m│\u001b[0m\n",
       "\u001b[2m│\u001b[0m                                   modified message to the 'output_data' topic.                                  \u001b[2m│\u001b[0m\n",
       "\u001b[2m│\u001b[0m                                   \u001b[2m[default: None]                                                              \u001b[0m \u001b[2m│\u001b[0m\n",
       "\u001b[2m╰─────────────────────────────────────────────────────────────────────────────────────────────────────────────────╯\u001b[0m\n"
      ]
     },
     "metadata": {},
     "output_type": "display_data"
    },
    {
     "data": {
      "text/html": [
       "<pre style=\"white-space:pre;overflow-x:auto;line-height:normal;font-family:Menlo,'DejaVu Sans Mono',consolas,'Courier New',monospace\"><span style=\"color: #7f7f7f; text-decoration-color: #7f7f7f\">╭─ Options ───────────────────────────────────────────────────────────────────────────────────────────────────────╮</span>\n",
       "<span style=\"color: #7f7f7f; text-decoration-color: #7f7f7f\">│</span> <span style=\"color: #008080; text-decoration-color: #008080; font-weight: bold\">--input_file</span>          <span style=\"color: #008000; text-decoration-color: #008000; font-weight: bold\">-i</span>      <span style=\"color: #808000; text-decoration-color: #808000; font-weight: bold\">TEXT</span>  The path to the file with the app desription. This path should be relative  <span style=\"color: #7f7f7f; text-decoration-color: #7f7f7f\">│</span>\n",
       "<span style=\"color: #7f7f7f; text-decoration-color: #7f7f7f\">│</span>                                     to the current working directory.                                           <span style=\"color: #7f7f7f; text-decoration-color: #7f7f7f\">│</span>\n",
       "<span style=\"color: #7f7f7f; text-decoration-color: #7f7f7f\">│</span>                                     If the app description is passed via both a <span style=\"color: #008080; text-decoration-color: #008080; font-weight: bold\">--input_file</span> and a command line <span style=\"color: #7f7f7f; text-decoration-color: #7f7f7f\">│</span>\n",
       "<span style=\"color: #7f7f7f; text-decoration-color: #7f7f7f\">│</span>                                     argument, the description from the command line will be used to create the  <span style=\"color: #7f7f7f; text-decoration-color: #7f7f7f\">│</span>\n",
       "<span style=\"color: #7f7f7f; text-decoration-color: #7f7f7f\">│</span>                                     application.                                                                <span style=\"color: #7f7f7f; text-decoration-color: #7f7f7f\">│</span>\n",
       "<span style=\"color: #7f7f7f; text-decoration-color: #7f7f7f\">│</span>                                     <span style=\"color: #7f7f7f; text-decoration-color: #7f7f7f\">[default: None]                                                            </span> <span style=\"color: #7f7f7f; text-decoration-color: #7f7f7f\">│</span>\n",
       "<span style=\"color: #7f7f7f; text-decoration-color: #7f7f7f\">│</span> <span style=\"color: #008080; text-decoration-color: #008080; font-weight: bold\">--output_path</span>         <span style=\"color: #008000; text-decoration-color: #008000; font-weight: bold\">-o</span>      <span style=\"color: #808000; text-decoration-color: #808000; font-weight: bold\">TEXT</span>  The path to the output directory where the generated files will be saved.   <span style=\"color: #7f7f7f; text-decoration-color: #7f7f7f\">│</span>\n",
       "<span style=\"color: #7f7f7f; text-decoration-color: #7f7f7f\">│</span>                                     This path should be relative to the current working directory.              <span style=\"color: #7f7f7f; text-decoration-color: #7f7f7f\">│</span>\n",
       "<span style=\"color: #7f7f7f; text-decoration-color: #7f7f7f\">│</span>                                     <span style=\"color: #7f7f7f; text-decoration-color: #7f7f7f\">[default: ./faststream-gen]                                                </span> <span style=\"color: #7f7f7f; text-decoration-color: #7f7f7f\">│</span>\n",
       "<span style=\"color: #7f7f7f; text-decoration-color: #7f7f7f\">│</span> <span style=\"color: #008080; text-decoration-color: #008080; font-weight: bold\">--verbose</span>             <span style=\"color: #008000; text-decoration-color: #008000; font-weight: bold\">-v</span>      <span style=\"color: #808000; text-decoration-color: #808000; font-weight: bold\">    </span>  Enable verbose logging by setting the logger level to INFO.                 <span style=\"color: #7f7f7f; text-decoration-color: #7f7f7f\">│</span>\n",
       "<span style=\"color: #7f7f7f; text-decoration-color: #7f7f7f\">│</span> <span style=\"color: #008080; text-decoration-color: #008080; font-weight: bold\">--install-completion</span>          <span style=\"color: #808000; text-decoration-color: #808000; font-weight: bold\">    </span>  Install completion for the current shell.                                   <span style=\"color: #7f7f7f; text-decoration-color: #7f7f7f\">│</span>\n",
       "<span style=\"color: #7f7f7f; text-decoration-color: #7f7f7f\">│</span> <span style=\"color: #008080; text-decoration-color: #008080; font-weight: bold\">--show-completion</span>             <span style=\"color: #808000; text-decoration-color: #808000; font-weight: bold\">    </span>  Show completion for the current shell, to copy it or customize the          <span style=\"color: #7f7f7f; text-decoration-color: #7f7f7f\">│</span>\n",
       "<span style=\"color: #7f7f7f; text-decoration-color: #7f7f7f\">│</span>                                     installation.                                                               <span style=\"color: #7f7f7f; text-decoration-color: #7f7f7f\">│</span>\n",
       "<span style=\"color: #7f7f7f; text-decoration-color: #7f7f7f\">│</span> <span style=\"color: #008080; text-decoration-color: #008080; font-weight: bold\">--help</span>                        <span style=\"color: #808000; text-decoration-color: #808000; font-weight: bold\">    </span>  Show this message and exit.                                                 <span style=\"color: #7f7f7f; text-decoration-color: #7f7f7f\">│</span>\n",
       "<span style=\"color: #7f7f7f; text-decoration-color: #7f7f7f\">╰─────────────────────────────────────────────────────────────────────────────────────────────────────────────────╯</span>\n",
       "</pre>\n"
      ],
      "text/plain": [
       "\u001b[2m╭─\u001b[0m\u001b[2m Options \u001b[0m\u001b[2m──────────────────────────────────────────────────────────────────────────────────────────────────────\u001b[0m\u001b[2m─╮\u001b[0m\n",
       "\u001b[2m│\u001b[0m \u001b[1;36m-\u001b[0m\u001b[1;36m-input_file\u001b[0m          \u001b[1;32m-i\u001b[0m      \u001b[1;33mTEXT\u001b[0m  The path to the file with the app desription. This path should be relative  \u001b[2m│\u001b[0m\n",
       "\u001b[2m│\u001b[0m                                     to the current working directory.                                           \u001b[2m│\u001b[0m\n",
       "\u001b[2m│\u001b[0m                                     If the app description is passed via both a \u001b[1;36m-\u001b[0m\u001b[1;36m-input_file\u001b[0m and a command line \u001b[2m│\u001b[0m\n",
       "\u001b[2m│\u001b[0m                                     argument, the description from the command line will be used to create the  \u001b[2m│\u001b[0m\n",
       "\u001b[2m│\u001b[0m                                     application.                                                                \u001b[2m│\u001b[0m\n",
       "\u001b[2m│\u001b[0m                                     \u001b[2m[default: None]                                                            \u001b[0m \u001b[2m│\u001b[0m\n",
       "\u001b[2m│\u001b[0m \u001b[1;36m-\u001b[0m\u001b[1;36m-output_path\u001b[0m         \u001b[1;32m-o\u001b[0m      \u001b[1;33mTEXT\u001b[0m  The path to the output directory where the generated files will be saved.   \u001b[2m│\u001b[0m\n",
       "\u001b[2m│\u001b[0m                                     This path should be relative to the current working directory.              \u001b[2m│\u001b[0m\n",
       "\u001b[2m│\u001b[0m                                     \u001b[2m[default: ./faststream-gen]                                                \u001b[0m \u001b[2m│\u001b[0m\n",
       "\u001b[2m│\u001b[0m \u001b[1;36m-\u001b[0m\u001b[1;36m-verbose\u001b[0m             \u001b[1;32m-v\u001b[0m      \u001b[1;33m    \u001b[0m  Enable verbose logging by setting the logger level to INFO.                 \u001b[2m│\u001b[0m\n",
       "\u001b[2m│\u001b[0m \u001b[1;36m-\u001b[0m\u001b[1;36m-install\u001b[0m\u001b[1;36m-completion\u001b[0m          \u001b[1;33m    \u001b[0m  Install completion for the current shell.                                   \u001b[2m│\u001b[0m\n",
       "\u001b[2m│\u001b[0m \u001b[1;36m-\u001b[0m\u001b[1;36m-show\u001b[0m\u001b[1;36m-completion\u001b[0m             \u001b[1;33m    \u001b[0m  Show completion for the current shell, to copy it or customize the          \u001b[2m│\u001b[0m\n",
       "\u001b[2m│\u001b[0m                                     installation.                                                               \u001b[2m│\u001b[0m\n",
       "\u001b[2m│\u001b[0m \u001b[1;36m-\u001b[0m\u001b[1;36m-help\u001b[0m                        \u001b[1;33m    \u001b[0m  Show this message and exit.                                                 \u001b[2m│\u001b[0m\n",
       "\u001b[2m╰─────────────────────────────────────────────────────────────────────────────────────────────────────────────────╯\u001b[0m\n"
      ]
     },
     "metadata": {},
     "output_type": "display_data"
    }
   ],
   "source": [
    "result = runner.invoke(app, [\"generate\", \"--help\"])"
   ]
  },
  {
   "cell_type": "code",
   "execution_count": null,
   "id": "6e05cc41",
   "metadata": {},
   "outputs": [],
   "source": []
  }
 ],
 "metadata": {
  "kernelspec": {
   "display_name": "python3",
   "language": "python",
   "name": "python3"
  }
 },
 "nbformat": 4,
 "nbformat_minor": 5
}
