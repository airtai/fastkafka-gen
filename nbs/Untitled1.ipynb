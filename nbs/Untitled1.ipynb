{
 "cells": [
  {
   "cell_type": "code",
   "execution_count": null,
   "id": "80c6aa6b",
   "metadata": {},
   "outputs": [],
   "source": [
    "from typing import *\n",
    "\n",
    "\n",
    "from langchain.schema.document import Document\n",
    "from langchain.embeddings import OpenAIEmbeddings\n",
    "from langchain.vectorstores import FAISS\n",
    "from langchain.document_loaders import DirectoryLoader, TextLoader\n",
    "from langchain.text_splitter import RecursiveCharacterTextSplitter"
   ]
  },
  {
   "cell_type": "code",
   "execution_count": null,
   "id": "d4280260",
   "metadata": {},
   "outputs": [
    {
     "name": "stdout",
     "output_type": "stream",
     "text": [
      "==== EXAMPLE APP DESCRIPTION ====\n",
      "\n",
      "Create a FastKafka application using localhost broker for testing, staging.airt.ai for staging and prod.airt.ai for production. Use the default port number. It should consume messages from 'receive_name' topic and the message will be a JSON encoded object with only one attribute: user_name. For each consumed message, construct a new message object and append 'Hello ' in front of the name attribute. Finally, publish the consumed message to 'send_greetings' topic.\n",
      "\n",
      "==== EXAMPLE SKELETON CODE ====\n",
      "\n",
      "from typing import *\n",
      "from pydantic import BaseModel, Field\n",
      "from fastkafka import FastKafka\n",
      "\n",
      "\n",
      "class Greetings(BaseModel):\n",
      "    user_name: str = Field(..., description=\"Name of the user.\")\n",
      "\n",
      "kafka_brokers = {\n",
      "    \"localhost\": {\n",
      "        \"url\": \"localhost\",\n",
      "        \"description\": \"local development kafka broker\",\n",
      "        \"port\": 9092,\n",
      "    },\n",
      "    \"staging\": {\n",
      "        \"url\": \"staging.airt.ai\",\n",
      "        \"description\": \"staging kafka broker\",\n",
      "        \"port\": 9092,\n",
      "    },\n",
      "    \"production\": {\n",
      "        \"url\": \"prod.airt.ai\",\n",
      "        \"description\": \"production kafka broker\",\n",
      "        \"port\": 9092,\n",
      "    }\n",
      "}\n",
      "\n",
      "app_description = \"A FastKafka application that consumes messages from the 'receive_name' topic. Each message is a JSON-encoded object with only one attribute: 'user_name'. For each consumed message, the application constructs a new message object and appends 'Hello ' in front of the 'user_name' attribute. Finally, the application publishes the modified message to the 'send_greetings' topic.\"\n",
      "\n",
      "app = FastKafka(\n",
      "    kafka_brokers=kafka_brokers, \n",
      "    description=app_description, \n",
      "    title='Greet users',\n",
      ")\n",
      "\n",
      "\n",
      "consume_description = \"The application consumes messages from the 'receive_name' topic and constructs a new message object with 'Hello ' appended to the 'user_name' attribute.\"\n",
      "@app.consumes(topic=\"receive_name\", description=consume_description)\n",
      "async def on_receive_name(msg: Greetings):\n",
      "    raise NotImplementedError()\n",
      "\n",
      "\n",
      "publish_description = \"The application publishes the modified messages to the 'send_greetings' topic.\"\n",
      "@app.produces(topic=\"send_greetings\", description=publish_description)\n",
      "async def to_send_greetings(msg: Greetings) -> Greetings:\n",
      "    raise NotImplementedError()\n",
      "\n",
      "==== EXAMPLE APPLICATION CODE ====\n",
      "\n",
      "from typing import *\n",
      "from pydantic import BaseModel, Field\n",
      "from fastkafka import FastKafka\n",
      "\n",
      "\n",
      "class Greetings(BaseModel):\n",
      "    user_name: str = Field(..., description=\"Name of the user.\")\n",
      "\n",
      "kafka_brokers = {\n",
      "    \"localhost\": {\n",
      "        \"url\": \"localhost\",\n",
      "        \"description\": \"local development kafka broker\",\n",
      "        \"port\": 9092,\n",
      "    },\n",
      "    \"staging\": {\n",
      "        \"url\": \"staging.airt.ai\",\n",
      "        \"description\": \"staging kafka broker\",\n",
      "        \"port\": 9092,\n",
      "    },\n",
      "    \"production\": {\n",
      "        \"url\": \"prod.airt.ai\",\n",
      "        \"description\": \"production kafka broker\",\n",
      "        \"port\": 9092,\n",
      "    }\n",
      "}\n",
      "\n",
      "app_description = \"A FastKafka application that consumes messages from the 'receive_name' topic. Each message is a JSON-encoded object with only one attribute: 'user_name'. For each consumed message, the application constructs a new message object and appends 'Hello ' in front of the 'user_name' attribute. Finally, the application publishes the modified message to the 'send_greetings' topic.\"\n",
      "\n",
      "app = FastKafka(\n",
      "    kafka_brokers=kafka_brokers, \n",
      "    description=app_description, \n",
      "    title='Greet users',\n",
      ")\n",
      "\n",
      "\n",
      "consume_description = \"The application consumes messages from the 'receive_name' topic and constructs a new message object with 'Hello ' appended to the 'user_name' attribute.\"\n",
      "@app.consumes(topic=\"receive_name\", description=consume_description)\n",
      "async def on_receive_name(msg: Greetings):\n",
      "    msg = Greetings(user_name=f\"Hello {msg.user_name}\")\n",
      "    await to_send_greetings(msg)\n",
      "\n",
      "\n",
      "publish_description = \"The application publishes the modified messages to the 'send_greetings' topic.\"\n",
      "@app.produces(topic=\"send_greetings\", description=publish_description)\n",
      "async def to_send_greetings(msg: Greetings) -> Greetings:\n",
      "    return msg\n",
      "\n",
      "==== EXAMPLE TEST CODE ====\n",
      "\n",
      "import asyncio\n",
      "from fastkafka.testing import Tester\n",
      "try:\n",
      "    from .application import *\n",
      "except ImportError as e:\n",
      "    from application import *\n",
      "\n",
      "async def async_tests():\n",
      "    async with Tester(app) as tester:\n",
      "        input_msg = Greetings(user_name=\"John\")\n",
      "\n",
      "        # tester produces message to the receive_name topic\n",
      "        await tester.to_receive_name(input_msg)\n",
      "\n",
      "        # assert that app consumed from the receive_name topic and it was called with the accurate argument\n",
      "        await app.awaited_mocks.on_receive_name.assert_called_with(\n",
      "            input_msg, timeout=5\n",
      "        )\n",
      "\n",
      "        # assert that tester consumed from the send_greetings topic and it was called with the accurate argument\n",
      "        await tester.awaited_mocks.on_send_greetings.assert_called_with(\n",
      "            Greetings(user_name=\"Hello John\"), timeout=5\n",
      "        )\n",
      "    print(\"ok\")\n",
      "\n",
      "if __name__ == \"__main__\":\n",
      "    loop = asyncio.get_event_loop()\n",
      "    loop.run_until_complete(async_tests())\n"
     ]
    }
   ],
   "source": [
    "loader = DirectoryLoader(\n",
    "    \"../prompts/examples\", glob=\"**/*.txt\", loader_cls=TextLoader\n",
    ")\n",
    "docs = loader.load()\n",
    "print(docs[0].page_content)"
   ]
  },
  {
   "cell_type": "code",
   "execution_count": null,
   "id": "eb7c3d6b",
   "metadata": {},
   "outputs": [
    {
     "data": {
      "text/plain": [
       "\"==== EXAMPLE APP DESCRIPTION ====\\n\\nCreate a FastKafka application using localhost broker for testing, staging.airt.ai for staging and prod.airt.ai for production. Use the default port number. It should consume messages from 'receive_name' topic and the message will be a JSON encoded object with only one attribute: user_name. For each consumed message, construct a new message object and append 'Hello ' in front of the name attribute. Finally, publish the consumed message to 'send_greetings' topic.\""
      ]
     },
     "execution_count": null,
     "metadata": {},
     "output_type": "execute_result"
    }
   ],
   "source": [
    "from langchain.text_splitter import CharacterTextSplitter\n",
    "text_splitter = CharacterTextSplitter(\n",
    "    separator = \"==== EXAMPLE SKELETON CODE ====\",\n",
    "    chunk_size = 2000,\n",
    "    chunk_overlap  = 20\n",
    ")\n",
    "\n",
    "chunks = text_splitter.split_documents(docs)\n",
    "\n",
    "chunks[0].page_content"
   ]
  },
  {
   "cell_type": "code",
   "execution_count": null,
   "id": "cb05168c",
   "metadata": {},
   "outputs": [],
   "source": [
    "db = FAISS.from_documents(chunks, OpenAIEmbeddings()) # type: ignore\n",
    "db.save_local(\"../tmp_db/faiss_index\")"
   ]
  },
  {
   "cell_type": "markdown",
   "id": "c20a48e0",
   "metadata": {},
   "source": [
    "## Load db"
   ]
  },
  {
   "cell_type": "code",
   "execution_count": null,
   "id": "f89f6494",
   "metadata": {},
   "outputs": [],
   "source": [
    "db = FAISS.load_local(\"../tmp_db/faiss_index\", OpenAIEmbeddings()) # type: ignore"
   ]
  },
  {
   "cell_type": "code",
   "execution_count": null,
   "id": "5c229288",
   "metadata": {},
   "outputs": [
    {
     "data": {
      "text/plain": [
       "[Document(page_content=\"==== EXAMPLE APP DESCRIPTION ====\\n\\nCreate a FastKafka application using localhost broker for testing, staging.airt.ai for staging and prod.airt.ai for production. Use default port number. It should consume from 'store_product' topic an JSON encoded object with the following three attributes: product_name, currency and price. The format of the currency will be three letter string, e.g. 'EUR'.\\nFor each consumed message, check if the currency attribute is set to 'HRK'. If it is then change the currency to 'EUR' and divide the price by 7.5, if the currency is not set to 'HRK' don't change the original message. Finally, publish the consumed message to 'change_currency' topic. Use SASL_SSL with SCRAM-SHA-256 for authentication with username and password.\", metadata={'source': '../prompts/examples/example-1.txt'}),\n",
       " Document(page_content='==== EXAMPLE APP DESCRIPTION ====\\n\\nWrite a fastkafka application with with one consumer function and two producer functions. The consumer function should receive a message posted on \"new_joinee\" topic. The message should contain \"employee_name\", \"age\", \"location\" and \"experience\" attributes. After consuming the consumer function should send the details to the \"project_team\" and \"admin_team\" topics. Use only localhost broker', metadata={'source': '../prompts/examples/example-2.txt'}),\n",
       " Document(page_content='==== EXAMPLE APP DESCRIPTION ====\\n\\nDevelop a new FastKafka application that consumes JSON-encoded objects from the \"receive_order\" topic. These objects include attributes like \"name\" and \"quantity.\" Upon consumption, enhance the message by adding a \"location\" attribute set to \"Zagreb.\" Subsequently, forward the modified message to the \"place_order\" topic. After this, send another message to the \"update_inventory\" topic. This message should include a \"quantity\" attribute that corresponds to the received quantity value. No authentication is required.', metadata={'source': '../prompts/examples/example-3.txt'})]"
      ]
     },
     "execution_count": null,
     "metadata": {},
     "output_type": "execute_result"
    }
   ],
   "source": [
    "query = \"\"\"\n",
    "Develop a FastKafka application using localhost broker for testing, staging.example.ai for staging and prod.example.ai for production. It should consume messages from 'course_updates' topic where the message is a JSON encoded object including two attributes: course_name and new_content. If new_content attribute is set, then construct a new message appending 'Updated: ' before the course_name attribute. Finally, publish this message to the 'notify_updates' topic. The application should use SASL_SSL with SCRAM-SHA-512 for authentication.\n",
    "\"\"\"\n",
    "\n",
    "results = db.max_marginal_relevance_search(query, k=3, fetch_k=4)\n",
    "results"
   ]
  },
  {
   "cell_type": "code",
   "execution_count": null,
   "id": "0b60e065",
   "metadata": {},
   "outputs": [
    {
     "data": {
      "text/plain": [
       "[Document(page_content='from typing import *\\nfrom pydantic import BaseModel, Field\\nfrom aiokafka.helpers import create_ssl_context\\nfrom fastkafka import FastKafka\\n\\n\\nclass StoreProduct(BaseModel):\\n    product_name: str = Field(..., description=\"Name of the product.\")\\n    currency: str = Field(..., description=\"The currency.\")\\n    price: float = Field(..., description=\"Price of the product.\")\\n\\n\\nkafka_brokers = {\\n    \"localhost\": {\\n        \"url\": \"localhost\",\\n        \"description\": \"local development kafka broker\",\\n        \"port\": 9092,\\n    },\\n    \"staging\": {\\n        \"url\": \"staging.airt.ai\",\\n        \"description\": \"staging kafka broker\",\\n        \"port\": 9092,\\n        \"protocol\": \"kafka-secure\",\\n        \"security\": {\"type\": \"scramSha256\"},\\n    },\\n    \"production\": {\\n        \"url\": \"prod.airt.ai\",\\n        \"description\": \"production kafka broker\",\\n        \"port\": 9092,\\n        \"protocol\": \"kafka-secure\",\\n        \"security\": {\"type\": \"scramSha256\"},\\n    }\\n}\\n\\nstore_product_app_description = \"A FastKafka application using localhost broker for testing, staging.airt.ai for staging and prod.airt.ai for production, using default port numbers. It should consume from \\'store_product\\' topic an JSON encoded object with the following three attributes: product_name, currency and price. The format of the currency will be three letter string, e.g. \\'EUR\\'. For each consumed message, check if the currency attribute is set to \\'HRK\\'. If it is then change the currency to \\'EUR\\' and divide the price by 7.5, if the currency is not set to \\'HRK\\' don\\'t change the original message. Finally, publish the consumed message to \\'change_currency\\' topic. Use SASL_SSL with SCRAM-SHA-256 for authentication.\"\\n\\nstore_product_app = FastKafka(\\n    kafka_brokers=kafka_brokers, \\n    description=store_product_app_description, \\n    version=\"0.0.1\", \\n    title=\\'Product currency converter\\',\\n    security_protocol = \"SASL_SSL\",\\n    sasl_mechanism= \"SCRAM-SHA-256\",\\n    sasl_plain_username= \"<username>\",\\n    sasl_plain_password=  \"<password>\", # nosec B106\\n    ssl_context= create_ssl_context(),\\n)\\n\\n\\nstore_product_description = \"For each consumed message, check if the currency attribute is set to \\'HRK\\'. If it is then change the currency to \\'EUR\\' and divide the price by 7.5, if the currency is not set to \\'HRK\\' don\\'t change the original message. Finally, publish the consumed message to \\'change_currency\\' topic.\"\\n\\n@store_product_app.consumes(topic=\"store_product\", description=store_product_description)\\nasync def on_store_product(msg: StoreProduct):\\n    raise NotImplementedError()\\n\\n\\n@store_product_app.produces(topic=\"change_currency\")\\nasync def to_change_currency(msg: StoreProduct) -> StoreProduct:\\n    raise NotImplementedError()\\n\\n==== EXAMPLE APPLICATION CODE ====\\n\\nfrom typing import *\\nfrom pydantic import BaseModel, Field\\nfrom aiokafka.helpers import create_ssl_context\\nfrom fastkafka import FastKafka\\n\\n\\nclass StoreProduct(BaseModel):\\n    product_name: str = Field(..., description=\"Name of the product.\")\\n    currency: str = Field(..., description=\"The currency.\")\\n    price: float = Field(..., description=\"Price of the product.\")\\n\\n\\nkafka_brokers = {\\n    \"localhost\": {\\n        \"url\": \"localhost\",\\n        \"description\": \"local development kafka broker\",\\n        \"port\": 9092,\\n    },\\n    \"staging\": {\\n        \"url\": \"staging.airt.ai\",\\n        \"description\": \"staging kafka broker\",\\n        \"port\": 9092,\\n        \"protocol\": \"kafka-secure\",\\n        \"security\": {\"type\": \"scramSha256\"},\\n    },\\n    \"production\": {\\n        \"url\": \"prod.airt.ai\",\\n        \"description\": \"production kafka broker\",\\n        \"port\": 9092,\\n        \"protocol\": \"kafka-secure\",\\n        \"security\": {\"type\": \"scramSha256\"},\\n    }\\n}\\n\\nstore_product_app_description = \"A FastKafka application using localhost broker for testing, staging.airt.ai for staging and prod.airt.ai for production, using default port numbers. It should consume from \\'store_product\\' topic an JSON encoded object with the following three attributes: product_name, currency and price. The format of the currency will be three letter string, e.g. \\'EUR\\'. For each consumed message, check if the currency attribute is set to \\'HRK\\'. If it is then change the currency to \\'EUR\\' and divide the price by 7.5, if the currency is not set to \\'HRK\\' don\\'t change the original message. Finally, publish the consumed message to \\'change_currency\\' topic. Use SASL_SSL with SCRAM-SHA-256 for authentication.\"\\n\\nstore_product_app = FastKafka(\\n    kafka_brokers=kafka_brokers, \\n    description=store_product_app_description, \\n    version=\"0.0.1\", \\n    title=\\'Product currency converter\\',\\n    security_protocol = \"SASL_SSL\",\\n    sasl_mechanism= \"SCRAM-SHA-256\",\\n    sasl_plain_username= \"<username>\",\\n    sasl_plain_password=  \"<password>\", # nosec B106\\n    ssl_context= create_ssl_context(),\\n)\\n\\n\\nstore_product_description = \"For each consumed message, check if the currency attribute is set to \\'HRK\\'. If it is then change the currency to \\'EUR\\' and divide the price by 7.5, if the currency is not set to \\'HRK\\' don\\'t change the original message. Finally, publish the consumed message to \\'change_currency\\' topic.\"\\n\\n@store_product_app.consumes(topic=\"store_product\", description=store_product_description)\\nasync def on_store_product(msg: StoreProduct):\\n    if msg.currency == \"HRK\":\\n       msg = StoreProduct(product_name = msg.product_name, currency=\"EUR\", price = msg.price / 7.5)\\n    await to_change_currency(msg)\\n\\n\\n@store_product_app.produces(topic=\"change_currency\")\\nasync def to_change_currency(msg: StoreProduct) -> StoreProduct:\\n    return msg\\n    \\n==== EXAMPLE TEST CODE ====\\n\\nimport asyncio\\nfrom fastkafka.testing import Tester\\nfrom application import *\\n\\nasync def async_tests():\\n    async with Tester(store_product_app) as tester:\\n        input_msg = StoreProduct(\\n            product_name=\"Mobile Phone\",\\n            currency=\"HRK\",\\n            price=750.0\\n        )\\n\\n        await tester.to_store_product(input_msg)\\n\\n        await store_product_app.awaited_mocks.on_store_product.assert_called_with(\\n            input_msg, timeout=5\\n        )\\n\\n        await tester.awaited_mocks.on_change_currency.assert_called_with(\\n            StoreProduct(\\n                product_name=\"Mobile Phone\",\\n                currency=\"EUR\",\\n                price=100.0\\n            ), timeout=5\\n        )\\n    print(\"ok\")\\n\\nif __name__ == \"__main__\":\\n    loop = asyncio.get_event_loop()\\n    loop.run_until_complete(async_tests())', metadata={'source': '../prompts/examples/example-1.txt'}),\n",
       " Document(page_content=\"==== EXAMPLE APP DESCRIPTION ====\\n\\nCreate a FastKafka application using localhost broker for testing, staging.airt.ai for staging and prod.airt.ai for production. Use default port number. It should consume from 'store_product' topic an JSON encoded object with the following three attributes: product_name, currency and price. The format of the currency will be three letter string, e.g. 'EUR'.\\nFor each consumed message, check if the currency attribute is set to 'HRK'. If it is then change the currency to 'EUR' and divide the price by 7.5, if the currency is not set to 'HRK' don't change the original message. Finally, publish the consumed message to 'change_currency' topic. Use SASL_SSL with SCRAM-SHA-256 for authentication with username and password.\", metadata={'source': '../prompts/examples/example-1.txt'})]"
      ]
     },
     "execution_count": null,
     "metadata": {},
     "output_type": "execute_result"
    }
   ],
   "source": [
    "db.similarity_search(\"\",filter=dict(source=results[0].metadata[\"source\"]))"
   ]
  },
  {
   "cell_type": "code",
   "execution_count": null,
   "id": "2cf75fcd",
   "metadata": {},
   "outputs": [],
   "source": [
    "full_result_docs = [db.similarity_search(\"\",filter=dict(source=r.metadata[\"source\"])) for r in results]\n",
    "_input = full_result_docs[0][1].page_content\n",
    "_output = full_result_docs[0][0].page_content.split(\"==== EXAMPLE APPLICATION CODE ====\")[0]"
   ]
  },
  {
   "cell_type": "code",
   "execution_count": null,
   "id": "f47c0169",
   "metadata": {},
   "outputs": [
    {
     "name": "stdout",
     "output_type": "stream",
     "text": [
      "==== EXAMPLE APP DESCRIPTION ====\n",
      "\n",
      "Create a FastKafka application using localhost broker for testing, staging.airt.ai for staging and prod.airt.ai for production. Use default port number. It should consume from 'store_product' topic an JSON encoded object with the following three attributes: product_name, currency and price. The format of the currency will be three letter string, e.g. 'EUR'.\n",
      "For each consumed message, check if the currency attribute is set to 'HRK'. If it is then change the currency to 'EUR' and divide the price by 7.5, if the currency is not set to 'HRK' don't change the original message. Finally, publish the consumed message to 'change_currency' topic. Use SASL_SSL with SCRAM-SHA-256 for authentication with username and password.\n"
     ]
    }
   ],
   "source": [
    "print(_input)"
   ]
  },
  {
   "cell_type": "code",
   "execution_count": null,
   "id": "41658e7d",
   "metadata": {},
   "outputs": [
    {
     "name": "stdout",
     "output_type": "stream",
     "text": [
      "from typing import *\n",
      "from pydantic import BaseModel, Field\n",
      "from aiokafka.helpers import create_ssl_context\n",
      "from fastkafka import FastKafka\n",
      "\n",
      "\n",
      "class StoreProduct(BaseModel):\n",
      "    product_name: str = Field(..., description=\"Name of the product.\")\n",
      "    currency: str = Field(..., description=\"The currency.\")\n",
      "    price: float = Field(..., description=\"Price of the product.\")\n",
      "\n",
      "\n",
      "kafka_brokers = {\n",
      "    \"localhost\": {\n",
      "        \"url\": \"localhost\",\n",
      "        \"description\": \"local development kafka broker\",\n",
      "        \"port\": 9092,\n",
      "    },\n",
      "    \"staging\": {\n",
      "        \"url\": \"staging.airt.ai\",\n",
      "        \"description\": \"staging kafka broker\",\n",
      "        \"port\": 9092,\n",
      "        \"protocol\": \"kafka-secure\",\n",
      "        \"security\": {\"type\": \"scramSha256\"},\n",
      "    },\n",
      "    \"production\": {\n",
      "        \"url\": \"prod.airt.ai\",\n",
      "        \"description\": \"production kafka broker\",\n",
      "        \"port\": 9092,\n",
      "        \"protocol\": \"kafka-secure\",\n",
      "        \"security\": {\"type\": \"scramSha256\"},\n",
      "    }\n",
      "}\n",
      "\n",
      "store_product_app_description = \"A FastKafka application using localhost broker for testing, staging.airt.ai for staging and prod.airt.ai for production, using default port numbers. It should consume from 'store_product' topic an JSON encoded object with the following three attributes: product_name, currency and price. The format of the currency will be three letter string, e.g. 'EUR'. For each consumed message, check if the currency attribute is set to 'HRK'. If it is then change the currency to 'EUR' and divide the price by 7.5, if the currency is not set to 'HRK' don't change the original message. Finally, publish the consumed message to 'change_currency' topic. Use SASL_SSL with SCRAM-SHA-256 for authentication.\"\n",
      "\n",
      "store_product_app = FastKafka(\n",
      "    kafka_brokers=kafka_brokers, \n",
      "    description=store_product_app_description, \n",
      "    version=\"0.0.1\", \n",
      "    title='Product currency converter',\n",
      "    security_protocol = \"SASL_SSL\",\n",
      "    sasl_mechanism= \"SCRAM-SHA-256\",\n",
      "    sasl_plain_username= \"<username>\",\n",
      "    sasl_plain_password=  \"<password>\", # nosec B106\n",
      "    ssl_context= create_ssl_context(),\n",
      ")\n",
      "\n",
      "\n",
      "store_product_description = \"For each consumed message, check if the currency attribute is set to 'HRK'. If it is then change the currency to 'EUR' and divide the price by 7.5, if the currency is not set to 'HRK' don't change the original message. Finally, publish the consumed message to 'change_currency' topic.\"\n",
      "\n",
      "@store_product_app.consumes(topic=\"store_product\", description=store_product_description)\n",
      "async def on_store_product(msg: StoreProduct):\n",
      "    raise NotImplementedError()\n",
      "\n",
      "\n",
      "@store_product_app.produces(topic=\"change_currency\")\n",
      "async def to_change_currency(msg: StoreProduct) -> StoreProduct:\n",
      "    raise NotImplementedError()\n",
      "\n",
      "\n"
     ]
    }
   ],
   "source": [
    "print(_output)"
   ]
  },
  {
   "cell_type": "code",
   "execution_count": null,
   "id": "aa6053e1",
   "metadata": {},
   "outputs": [],
   "source": []
  },
  {
   "cell_type": "code",
   "execution_count": null,
   "id": "b936ef28",
   "metadata": {},
   "outputs": [],
   "source": []
  }
 ],
 "metadata": {
  "kernelspec": {
   "display_name": "python3",
   "language": "python",
   "name": "python3"
  }
 },
 "nbformat": 4,
 "nbformat_minor": 5
}
