{
 "cells": [
  {
   "cell_type": "code",
   "execution_count": null,
   "id": "61148947",
   "metadata": {},
   "outputs": [],
   "source": [
    "# | default_exp _components.embeddings"
   ]
  },
  {
   "cell_type": "code",
   "execution_count": null,
   "id": "ac610120",
   "metadata": {},
   "outputs": [],
   "source": [
    "# | export\n",
    "\n",
    "from typing import *\n",
    "import shutil\n",
    "import zipfile\n",
    "from tempfile import TemporaryDirectory\n",
    "import requests\n",
    "from contextlib import contextmanager\n",
    "from pathlib import Path\n",
    "\n",
    "from langchain.document_loaders import UnstructuredMarkdownLoader, DirectoryLoader\n",
    "from langchain.schema.document import Document\n",
    "from langchain.text_splitter import CharacterTextSplitter\n",
    "from langchain.vectorstores import FAISS\n",
    "from langchain.embeddings import OpenAIEmbeddings\n",
    "from yaspin import yaspin\n",
    "import typer\n",
    "\n",
    "\n",
    "from faststream_gen._code_generator.constants import (\n",
    "    FASTSTREAM_REPO_ZIP_URL,\n",
    "    FASTSTREAM_DOCS_DIR_SUFFIX,\n",
    "    FASTSTREAM_EXAMPLES_DIR_SUFFIX,\n",
    "    FASTSTREAM_EXAMPLE_FILES,\n",
    "    FASTSTREAM_TMP_DIR_PREFIX\n",
    ")\n",
    "from faststream_gen._components.package_data import get_root_data_path"
   ]
  },
  {
   "cell_type": "code",
   "execution_count": null,
   "id": "25510bb7",
   "metadata": {},
   "outputs": [],
   "source": [
    "from typer.testing import CliRunner"
   ]
  },
  {
   "cell_type": "code",
   "execution_count": null,
   "id": "76fb7446",
   "metadata": {},
   "outputs": [],
   "source": [
    "# | export\n",
    "\n",
    "\n",
    "def _fetch_content(url: str) -> requests.models.Response:\n",
    "    \"\"\"Fetch content from a URL using an HTTP GET request.\n",
    "\n",
    "    Args:\n",
    "        url (str): The URL to fetch content from.\n",
    "\n",
    "    Returns:\n",
    "        Response: The response object containing the content and HTTP status.\n",
    "\n",
    "    Raises:\n",
    "        requests.exceptions.Timeout: If the request times out.\n",
    "        requests.exceptions.RequestException: If an error occurs during the request.\n",
    "    \"\"\"\n",
    "    try:\n",
    "        response = requests.get(url, timeout=50)\n",
    "        response.raise_for_status()  # Raises an exception for HTTP errors\n",
    "        return response\n",
    "    except requests.exceptions.Timeout:\n",
    "        raise requests.exceptions.Timeout(\n",
    "            \"Request timed out. Please check your internet connection or try again later.\"\n",
    "        )\n",
    "    except requests.exceptions.RequestException as e:\n",
    "        raise requests.exceptions.RequestException(f\"An error occurred: {e}\")"
   ]
  },
  {
   "cell_type": "code",
   "execution_count": null,
   "id": "d406aa66",
   "metadata": {},
   "outputs": [
    {
     "name": "stdout",
     "output_type": "stream",
     "text": [
      "b'<!doctype html>\\n<html lang=\"en\" dir=\"ltr\" class=\"plugin-pages plugin-id-default\">\\n<head>\\n<meta charset=\"UTF-8\">\\n<meta name=\"generator\" content=\"Docusaurus v2.4.0\">\\n<title data-rh=\"true\">Effortless Kaf'\n"
     ]
    }
   ],
   "source": [
    "response = _fetch_content(\"https://fastkafka.airt.ai/\")\n",
    "print(response.content[:200])\n",
    "assert len(response.content) > 0"
   ]
  },
  {
   "cell_type": "code",
   "execution_count": null,
   "id": "f66739f1",
   "metadata": {},
   "outputs": [],
   "source": [
    "# | export\n",
    "\n",
    "\n",
    "def _create_documents(\n",
    "    extrated_path: Path, extension: str = \"**/*.md\"\n",
    ") -> List[Document]:\n",
    "    \"\"\"Create a List of document objects from Files.\n",
    "\n",
    "    Args:\n",
    "        extracted_path (Path): The path to the directory containing the files to be\n",
    "            loaded as documents.\n",
    "        extension (str, optional): The file extension pattern to match. Defaults to\n",
    "            \"**/*.md\" to match Markdown files in all subdirectories.\n",
    "\n",
    "    Returns:\n",
    "        List[Document]: A list of documents created from the loaded files.\n",
    "    \"\"\"\n",
    "    loader = DirectoryLoader(\n",
    "        str(extrated_path), glob=extension, loader_cls=UnstructuredMarkdownLoader\n",
    "    )\n",
    "    return loader.load()"
   ]
  },
  {
   "cell_type": "code",
   "execution_count": null,
   "id": "760eaf36",
   "metadata": {},
   "outputs": [
    {
     "name": "stdout",
     "output_type": "stream",
     "text": [
      "1\n",
      "Create a FastStream application using localhost broker for testing and use the default port number. \n",
      "It should consume messages from the \"input_data\" topic, where each message is a JSON encoded object\n"
     ]
    }
   ],
   "source": [
    "fixture_description = \"\"\"\n",
    "Create a FastStream application using localhost broker for testing and use the default port number. \n",
    "It should consume messages from the \"input_data\" topic, where each message is a JSON encoded object containing a single attribute: 'data'. \n",
    "For each consumed message, create a new message object and increment the value of the data attribute by 1. Finally, send the modified message to the 'output_data' topic.\n",
    "\"\"\"\n",
    "\n",
    "with TemporaryDirectory() as d:\n",
    "    input_path = Path(d) / \"input_path\"\n",
    "    input_path.mkdir(parents=True, exist_ok=True)\n",
    "    output_path = Path(d) / \"output_path\"\n",
    "    output_path.mkdir(parents=True, exist_ok=True)\n",
    "    \n",
    "    with open(f\"{input_path}/sample.txt\", \"w\") as f:\n",
    "        f.write(fixture_description)\n",
    "    \n",
    "    docs = _create_documents(input_path, \"**/*.txt\")\n",
    "\n",
    "    print(len(docs))\n",
    "    assert len(docs) > 0\n",
    "    assert isinstance(docs[0], Document)\n",
    "\n",
    "    print(docs[0].page_content[:200])"
   ]
  },
  {
   "cell_type": "code",
   "execution_count": null,
   "id": "547a955a",
   "metadata": {},
   "outputs": [],
   "source": [
    "\n",
    "# | export\n",
    "\n",
    "def _split_document_into_chunks(\n",
    "    documents: List[Document],\n",
    "    separator: str,\n",
    "    chunk_size: int = 500,\n",
    "    chunk_overlap: int = 0,\n",
    ") -> List[Document]:\n",
    "    \"\"\"Split the list of documents into chunks\n",
    "\n",
    "    Args:\n",
    "        documents: List of documents to be split into chunks.\n",
    "        separators: List of separator patterns used for chunking.\n",
    "        chunk_size: The maximum size of each chunk in characters. Defaults to 1500.\n",
    "        chunk_overlap: The overlap between consecutive chunks in characters. Defaults to 150.\n",
    "\n",
    "    Returns:\n",
    "        A list of documents where each document represents a chunk.\n",
    "    \"\"\"\n",
    "    text_splitter = CharacterTextSplitter(\n",
    "        chunk_size=chunk_size,\n",
    "        chunk_overlap=chunk_overlap,\n",
    "        separator=separator\n",
    "    )\n",
    "    chunks = text_splitter.split_documents(documents)\n",
    "    return chunks"
   ]
  },
  {
   "cell_type": "code",
   "execution_count": null,
   "id": "87c2aef6",
   "metadata": {},
   "outputs": [
    {
     "name": "stdout",
     "output_type": "stream",
     "text": [
      "1\n"
     ]
    }
   ],
   "source": [
    "doc_chunks = _split_document_into_chunks(docs, \"\\n\\n\")\n",
    "print(len(doc_chunks))\n",
    "assert len(doc_chunks) >= len(docs)"
   ]
  },
  {
   "cell_type": "code",
   "execution_count": null,
   "id": "a8e02a24",
   "metadata": {},
   "outputs": [],
   "source": [
    "\n",
    "# | export\n",
    "\n",
    "def _save_embeddings_db(doc_chunks: List[Document], db_path: str) -> None:\n",
    "    \"\"\"Save the embeddings in a FAISS db\n",
    "    \n",
    "    Args:\n",
    "        doc_chunks: A list of documents where each document represents a chunk.\n",
    "        db_path: Path to save the FAISS db.\n",
    "    \"\"\"\n",
    "    db = FAISS.from_documents(doc_chunks, OpenAIEmbeddings()) # type: ignore\n",
    "    db.save_local(db_path)"
   ]
  },
  {
   "cell_type": "code",
   "execution_count": null,
   "id": "617cdb44",
   "metadata": {},
   "outputs": [
    {
     "name": "stdout",
     "output_type": "stream",
     "text": [
      "total 20\r\n",
      "drwx------ 3 harish harish  4096 Sep  7 15:29 .\r\n",
      "drwxrwxrwt 1 root   root   12288 Sep  7 15:29 ..\r\n",
      "drwxrwxr-x 2 harish harish  4096 Sep  7 15:29 faiss_index\r\n"
     ]
    }
   ],
   "source": [
    "with TemporaryDirectory() as d:\n",
    "    db_path = f\"{d}/faiss_index\"\n",
    "    _save_embeddings_db(docs, db_path)\n",
    "    \n",
    "    !ls -la {d}\n",
    "    assert (Path(d) / \"faiss_index\" / \"index.faiss\").exists()"
   ]
  },
  {
   "cell_type": "code",
   "execution_count": null,
   "id": "be1e06d7",
   "metadata": {},
   "outputs": [],
   "source": [
    "# | export\n",
    "\n",
    "def _delete_directory(directory_path: Path) -> None:\n",
    "    \"\"\"Delete a directory and its contents if it exists.\n",
    "\n",
    "    Args:\n",
    "        directory_path: The path to the directory to be deleted.\n",
    "    \"\"\"\n",
    "    if directory_path.exists():\n",
    "        try:\n",
    "            shutil.rmtree(directory_path)\n",
    "        except Exception as e:\n",
    "            print(f\"Error deleting directory: {e}\")"
   ]
  },
  {
   "cell_type": "code",
   "execution_count": null,
   "id": "6c4cb0da",
   "metadata": {},
   "outputs": [
    {
     "name": "stdout",
     "output_type": "stream",
     "text": [
      "total 20\n",
      "drwx------ 3 harish harish  4096 Sep  7 15:29 .\n",
      "drwxrwxrwt 1 root   root   12288 Sep  7 15:29 ..\n",
      "drwxrwxr-x 2 harish harish  4096 Sep  7 15:29 some_dir\n",
      "total 16\n",
      "drwx------ 2 harish harish  4096 Sep  7 15:29 .\n",
      "drwxrwxrwt 1 root   root   12288 Sep  7 15:29 ..\n"
     ]
    }
   ],
   "source": [
    "with TemporaryDirectory() as d:\n",
    "    some_dir = Path(f\"{d}/some_dir\")\n",
    "    some_dir.mkdir()\n",
    "    assert some_dir.exists()\n",
    "    !ls -la {d}\n",
    "\n",
    "    _delete_directory(some_dir)\n",
    "    assert not some_dir.exists()\n",
    "    \n",
    "    non_existing_dir = Path(f\"{d}/non_existing_dir\")\n",
    "    _delete_directory(non_existing_dir)\n",
    "    !ls -la {d}"
   ]
  },
  {
   "cell_type": "code",
   "execution_count": null,
   "id": "c6cd1fc5",
   "metadata": {},
   "outputs": [],
   "source": [
    "# | export\n",
    "\n",
    "\n",
    "def _generate_docs_db(input_path: Path, output_path: Path) -> None:\n",
    "    \"\"\"Generate Document Embeddings Database.\n",
    "\n",
    "    This function creates document embeddings for a collection of documents\n",
    "    located in the specified input directory and saves the embeddings database\n",
    "    to the specified output directory.\n",
    "\n",
    "    Args:\n",
    "        input_path (Path): The path to the directory containing input documents.\n",
    "        output_path (Path): The path to the directory where the embeddings\n",
    "            database will be saved.\n",
    "    \"\"\"\n",
    "    with yaspin(\n",
    "        text=\"Creating embeddings for the docs...\", color=\"cyan\", spinner=\"clock\"\n",
    "    ) as sp:\n",
    "        docs = _create_documents(input_path)\n",
    "        _save_embeddings_db(docs, output_path)\n",
    "\n",
    "        sp.text = \"\"\n",
    "        sp.ok(f\" ✔ Docs embeddings created and saved to: {output_path}\")"
   ]
  },
  {
   "cell_type": "code",
   "execution_count": null,
   "id": "8da979f2",
   "metadata": {},
   "outputs": [
    {
     "name": "stdout",
     "output_type": "stream",
     "text": [
      "⠹ Creating embeddings for the docs... "
     ]
    },
    {
     "name": "stderr",
     "output_type": "stream",
     "text": [
      "/home/harish/.local/lib/python3.11/site-packages/yaspin/core.py:120: UserWarning: color, on_color and attrs are not supported when running in jupyter\n",
      "  self._color = self._set_color(color) if color else color\n"
     ]
    },
    {
     "name": "stdout",
     "output_type": "stream",
     "text": [
      " ✔ Docs embeddings created and saved to: /tmp/tmpcs7jr7x9/output_path \n"
     ]
    }
   ],
   "source": [
    "with TemporaryDirectory() as d:\n",
    "    input_path = Path(d) / \"input_path\"\n",
    "    input_path.mkdir(parents=True, exist_ok=True)\n",
    "    output_path = Path(d) / \"output_path\"\n",
    "    output_path.mkdir(parents=True, exist_ok=True)\n",
    "    \n",
    "    with open(f\"{input_path}/sample.md\", \"w\") as f:\n",
    "        f.write(\"# Hello world!\")\n",
    "    \n",
    "    _generate_docs_db(input_path, output_path)\n",
    "    \n",
    "    assert (output_path / \"index.faiss\").exists()"
   ]
  },
  {
   "cell_type": "code",
   "execution_count": null,
   "id": "fdace36d",
   "metadata": {},
   "outputs": [],
   "source": [
    "# | export\n",
    "\n",
    "\n",
    "def _check_all_files_exist(d: Path, required_files: List[str]) -> bool:\n",
    "    \"\"\"Check if all required files exist in a directory.\n",
    "\n",
    "    Args:\n",
    "        d (Path): The path to the directory where the existence of files will\n",
    "            be checked.\n",
    "        required_files (List[str]): A list of filenames that should exist in\n",
    "            the directory.\n",
    "\n",
    "    Returns:\n",
    "        True if all required files exist in the directory, False otherwise.\n",
    "    \"\"\"\n",
    "    return all((d / file_name).exists() for file_name in required_files)"
   ]
  },
  {
   "cell_type": "code",
   "execution_count": null,
   "id": "e7a8ea82",
   "metadata": {},
   "outputs": [
    {
     "name": "stdout",
     "output_type": "stream",
     "text": [
      "True\n"
     ]
    }
   ],
   "source": [
    "with TemporaryDirectory() as d:\n",
    "    required_files = ['description.txt', 'app_skeleton.py']\n",
    "    \n",
    "    with open(f\"{d}/description.txt\", \"w\") as f:\n",
    "        f.write(\"description.txt\")\n",
    "        \n",
    "    with open(f\"{d}/app_skeleton.py\", \"w\") as f:\n",
    "        f.write(\"app_skeleton.py\")\n",
    "        \n",
    "    \n",
    "    actual = _check_all_files_exist(Path(d), required_files)\n",
    "    print(actual)\n",
    "    assert actual"
   ]
  },
  {
   "cell_type": "code",
   "execution_count": null,
   "id": "b9ff1e6f",
   "metadata": {},
   "outputs": [
    {
     "name": "stdout",
     "output_type": "stream",
     "text": [
      "False\n"
     ]
    }
   ],
   "source": [
    "with TemporaryDirectory() as d:\n",
    "    required_files = ['description.txt', 'app_skeleton.py', 'app.py', 'test_app.py']\n",
    "    \n",
    "    with open(f\"{d}/description.txt\", \"w\") as f:\n",
    "        f.write(\"description.txt\")\n",
    "        \n",
    "    with open(f\"{d}/app_skeleton.py\", \"w\") as f:\n",
    "        f.write(\"app_skeleton.py\")\n",
    "        \n",
    "    \n",
    "    actual = _check_all_files_exist(Path(d), required_files)\n",
    "    print(actual)\n",
    "    assert not actual"
   ]
  },
  {
   "cell_type": "code",
   "execution_count": null,
   "id": "83dadd14",
   "metadata": {},
   "outputs": [],
   "source": [
    "# | export\n",
    "\n",
    "\n",
    "def _append_file_contents(d: Path, parent_d: Path, required_files: List[str]):\n",
    "    \"\"\"Append contents of specified files to a result file.\n",
    "\n",
    "    This function appends the contents of the specified list of files to a\n",
    "    result file in a designated directory.\n",
    "\n",
    "    Args:\n",
    "        d (Path): The path to the directory containing the files to be appended.\n",
    "        parent_d (Path): The parent directory where the result file will be created.\n",
    "        required_files (List[str]): A list of filenames to be appended.\n",
    "    \"\"\"\n",
    "    appended_examples_dir = parent_d / FASTSTREAM_TMP_DIR_PREFIX\n",
    "    appended_examples_dir.mkdir(parents=True, exist_ok=True)\n",
    "\n",
    "    result_file_name = appended_examples_dir / f\"{d.name}.txt\"\n",
    "\n",
    "    with result_file_name.open(\"a\") as result_file:\n",
    "        for file_name in required_files:\n",
    "            with (d / file_name).open(\"r\") as file:\n",
    "                result_file.write(\n",
    "                    f\"==== {file_name} starts ====\\n{file.read()}\\n==== {file_name} ends ====\\n\"\n",
    "                )"
   ]
  },
  {
   "cell_type": "code",
   "execution_count": null,
   "id": "03281b94",
   "metadata": {},
   "outputs": [
    {
     "name": "stdout",
     "output_type": "stream",
     "text": [
      "==== description.txt starts ====\n",
      "\n",
      "Create a FastStream application using localhost broker for testing and use the default port number. \n",
      "It should consume messages from the \"input_data\" topic, where each message is a JSON encoded object containing a single attribute: 'data'. \n",
      "For each consumed message, create a new message object and increment the value of the data attribute by 1. Finally, send the modified message to the 'output_data' topic.\n",
      "\n",
      "==== description.txt ends ====\n",
      "==== app_skeleton.py starts ====\n",
      "app_skeleton.py\n",
      "==== app_skeleton.py ends ====\n",
      "==== app.py starts ====\n",
      "app.py\n",
      "==== app.py ends ====\n",
      "==== test_app.py starts ====\n",
      "test_app.py\n",
      "==== test_app.py ends ====\n",
      "\n"
     ]
    }
   ],
   "source": [
    "fixture_description = \"\"\"\n",
    "Create a FastStream application using localhost broker for testing and use the default port number. \n",
    "It should consume messages from the \"input_data\" topic, where each message is a JSON encoded object containing a single attribute: 'data'. \n",
    "For each consumed message, create a new message object and increment the value of the data attribute by 1. Finally, send the modified message to the 'output_data' topic.\n",
    "\"\"\"\n",
    "\n",
    "def _create_example_structure(directory: Path, required_files: List[str]):\n",
    "    for file_name in required_files:\n",
    "        if file_name == \"description.txt\":\n",
    "            with open(directory / file_name, \"w\") as f:\n",
    "                f.write(fixture_description)\n",
    "        else:\n",
    "            with open(directory / file_name, \"w\") as f:\n",
    "                f.write(file_name)\n",
    "\n",
    "with TemporaryDirectory() as d:\n",
    "    required_files = ['description.txt', 'app_skeleton.py', 'app.py', 'test_app.py']\n",
    "    \n",
    "    example_1 = Path(d) / \"example_1\"\n",
    "    example_1.mkdir(parents=True, exist_ok=True)\n",
    "    \n",
    "    _create_example_structure(example_1, required_files)\n",
    "        \n",
    "    for directory in Path(d).iterdir():\n",
    "        _append_file_contents(directory, Path(d), required_files)\n",
    "        \n",
    "    with open(f\"{d}/{FASTSTREAM_TMP_DIR_PREFIX}/example_1.txt\", \"r\") as f:\n",
    "        actual = f.read()\n",
    "        \n",
    "    print(actual)\n",
    "    expected = f\"\"\"==== description.txt starts ====\n",
    "{fixture_description}\n",
    "==== description.txt ends ====\n",
    "==== app_skeleton.py starts ====\n",
    "app_skeleton.py\n",
    "==== app_skeleton.py ends ====\n",
    "==== app.py starts ====\n",
    "app.py\n",
    "==== app.py ends ====\n",
    "==== test_app.py starts ====\n",
    "test_app.py\n",
    "==== test_app.py ends ====\n",
    "\"\"\"\n",
    "    \n",
    "    assert actual == expected    "
   ]
  },
  {
   "cell_type": "code",
   "execution_count": null,
   "id": "a8c83ab5",
   "metadata": {},
   "outputs": [],
   "source": [
    "# | export\n",
    "\n",
    "\n",
    "def _format_examples(input_path: Path, required_files: List[str]) -> None:\n",
    "    \"\"\"Format Examples by Appending File Contents.\n",
    "\n",
    "    This function iterates through directories in the specified input path and checks\n",
    "    if all the required files exist in each directory. If the required files are present,\n",
    "    it appends their contents to a result file within the input path. If any of the\n",
    "    required files are missing, it skips the directory and logs a message.\n",
    "\n",
    "    Args:\n",
    "        input_path (Path): The path to the directory containing example directories\n",
    "            with files to be appended.\n",
    "        required_files (List[str]): A list of filenames that must exist in each example\n",
    "            directory.\n",
    "    \"\"\"\n",
    "    for directory in input_path.iterdir():\n",
    "        if directory.is_dir() and _check_all_files_exist(directory, required_files):\n",
    "            _append_file_contents(directory, input_path, required_files)\n",
    "        else:\n",
    "            typer.echo(f\"\\nRequired files are missing. Skipping directory: {directory}\")\n",
    "\n",
    "\n",
    "def _generate_examples_db(\n",
    "    input_path: Path,\n",
    "    output_path: Path,\n",
    "    required_files: List[str] = FASTSTREAM_EXAMPLE_FILES,\n",
    ") -> None:\n",
    "    \"\"\"Generate Example Embeddings Database.\n",
    "\n",
    "    This function creates embeddings for a collection of example documents located in\n",
    "    the specified input directory and saves the embeddings database to the specified\n",
    "    output directory. It appends the contents of specified files in each example\n",
    "    directory, splits the concatenated document into chunks based on specified\n",
    "    separators, and saves the embeddings for each chunk in the output database.\n",
    "\n",
    "    Args:\n",
    "        input_path (Path): The path to the directory containing example documents.\n",
    "        output_path (Path): The path to the directory where the embeddings database\n",
    "            will be saved.\n",
    "        required_files (List[str]): A list of filenames that must exist in each\n",
    "            example directory. Defaults to FASTSTREAM_EXAMPLE_FILES.\n",
    "    \"\"\"\n",
    "    with yaspin(\n",
    "        text=\"Creating embeddings for the examples...\", color=\"cyan\", spinner=\"clock\"\n",
    "    ) as sp:\n",
    "        \n",
    "        _format_examples(input_path, required_files)\n",
    "        docs = _create_documents(\n",
    "            input_path / FASTSTREAM_TMP_DIR_PREFIX, extension=\"*.txt\"\n",
    "        )\n",
    "        doc_chunks = _split_document_into_chunks(\n",
    "            docs, separator=\"==== description.txt ends ====\"\n",
    "        )\n",
    "        _save_embeddings_db(doc_chunks, output_path)\n",
    "\n",
    "        sp.text = \"\"\n",
    "        sp.ok(f\" ✔ Examples embeddings created and saved to: {output_path}\")"
   ]
  },
  {
   "cell_type": "code",
   "execution_count": null,
   "id": "af6c4bf4",
   "metadata": {},
   "outputs": [
    {
     "name": "stdout",
     "output_type": "stream",
     "text": [
      "⠋ Creating embeddings for the examples...\n",
      "Required files are missing. Skipping directory: /tmp/tmp6dntvd_4/output_path\n",
      " ✔ Examples embeddings created and saved to: /tmp/tmp6dntvd_4/output_path \n"
     ]
    }
   ],
   "source": [
    "required_files = ['description.txt', 'app_skeleton.py', 'app.py', 'test_app.py']\n",
    "\n",
    "with TemporaryDirectory() as d:\n",
    "    example_1 = Path(d) / \"example_1\"\n",
    "    example_1.mkdir(parents=True, exist_ok=True)\n",
    "    _create_example_structure(example_1, required_files)\n",
    "    \n",
    "    output_path = Path(d) / \"output_path\"\n",
    "    output_path.mkdir(parents=True, exist_ok=True)\n",
    "    \n",
    "    _generate_examples_db(Path(d), output_path)\n",
    "    \n",
    "    assert (output_path / \"index.faiss\").exists()"
   ]
  },
  {
   "cell_type": "code",
   "execution_count": null,
   "id": "a6d25487",
   "metadata": {},
   "outputs": [],
   "source": [
    "# | export\n",
    "\n",
    "app = typer.Typer(\n",
    "    short_help=\"Download the zipped FastKafka documentation markdown files, generate embeddings, and save them in a vector database.\",\n",
    ")"
   ]
  },
  {
   "cell_type": "code",
   "execution_count": null,
   "id": "b6ba3388",
   "metadata": {},
   "outputs": [],
   "source": [
    "# | export\n",
    "\n",
    "@contextmanager\n",
    "def _download_and_extract_faststream_archive():\n",
    "    with TemporaryDirectory() as d:\n",
    "        try:\n",
    "            typer.echo(f\"Downloading docs and examples from FastStream repo and generating embeddings.\")\n",
    "            input_path = Path(f\"{d}/archive.zip\")\n",
    "            extrated_path = Path(f\"{d}/extrated_path\")\n",
    "            extrated_path.mkdir(parents=True, exist_ok=True)\n",
    "\n",
    "            response = _fetch_content(FASTSTREAM_REPO_ZIP_URL)\n",
    "\n",
    "            with open(input_path, \"wb\") as f:\n",
    "                f.write(response.content)\n",
    "\n",
    "            with zipfile.ZipFile(input_path, \"r\") as zip_ref:\n",
    "                for member in zip_ref.namelist():\n",
    "                    zip_ref.extract(member, extrated_path)\n",
    "\n",
    "            yield extrated_path\n",
    "\n",
    "        except Exception as e:\n",
    "            fg = typer.colors.RED\n",
    "            typer.secho(f\"Unexpected internal error: {e}\", err=True, fg=fg)\n",
    "            raise typer.Exit(code=1)"
   ]
  },
  {
   "cell_type": "code",
   "execution_count": null,
   "id": "89faebe9",
   "metadata": {},
   "outputs": [],
   "source": [
    "# | export\n",
    "\n",
    "@app.command(\n",
    "    \"generate\",\n",
    "    help=\"Download the docs and examples from FastStream repo, generate embeddings, and save them in a vector database.\",\n",
    ")\n",
    "def generate(\n",
    "    db_path: str = typer.Option(\n",
    "        get_root_data_path(), \n",
    "        \"--db_path\",\n",
    "        \"-p\",\n",
    "        help=\"The path to save the vector database.\"\n",
    "    )\n",
    ") -> None:\n",
    "    with _download_and_extract_faststream_archive() as extracted_path:\n",
    "        try:\n",
    "            db_path = Path(db_path)\n",
    "            _delete_directory(db_path)\n",
    "            _generate_docs_db(extracted_path/FASTSTREAM_DOCS_DIR_SUFFIX, db_path/\"docs\")\n",
    "            _generate_examples_db(extracted_path/FASTSTREAM_EXAMPLES_DIR_SUFFIX, db_path/\"examples\")\n",
    "\n",
    "            typer.echo(f\"\\nSuccessfully generated all the embeddings and saved to: {db_path}\")\n",
    "        except Exception as e:\n",
    "            fg = typer.colors.RED\n",
    "            typer.secho(f\"Unexpected internal error: {e}\", err=True, fg=fg)\n",
    "            raise typer.Exit(code=1)"
   ]
  },
  {
   "cell_type": "code",
   "execution_count": null,
   "id": "d0a35b6f",
   "metadata": {},
   "outputs": [
    {
     "data": {
      "text/html": [
       "<pre style=\"white-space:pre;overflow-x:auto;line-height:normal;font-family:Menlo,'DejaVu Sans Mono',consolas,'Courier New',monospace\"><span style=\"font-weight: bold\">                                                                                                                   </span>\n",
       "<span style=\"font-weight: bold\"> </span><span style=\"color: #808000; text-decoration-color: #808000; font-weight: bold\">Usage: </span><span style=\"font-weight: bold\">generate [OPTIONS]                                                                                         </span>\n",
       "<span style=\"font-weight: bold\">                                                                                                                   </span>\n",
       "</pre>\n"
      ],
      "text/plain": [
       "\u001b[1m                                                                                                                   \u001b[0m\n",
       "\u001b[1m \u001b[0m\u001b[1;33mUsage: \u001b[0m\u001b[1mgenerate [OPTIONS]\u001b[0m\u001b[1m                                                                                        \u001b[0m\u001b[1m \u001b[0m\n",
       "\u001b[1m                                                                                                                   \u001b[0m\n"
      ]
     },
     "metadata": {},
     "output_type": "display_data"
    },
    {
     "data": {
      "text/html": [
       "<pre style=\"white-space:pre;overflow-x:auto;line-height:normal;font-family:Menlo,'DejaVu Sans Mono',consolas,'Courier New',monospace\"> Download the docs and examples from FastStream repo, generate embeddings, and save them in a vector database.     \n",
       "                                                                                                                   \n",
       "</pre>\n"
      ],
      "text/plain": [
       " Download the docs and examples from FastStream repo, generate embeddings, and save them in a vector database.     \n",
       "                                                                                                                   \n"
      ]
     },
     "metadata": {},
     "output_type": "display_data"
    },
    {
     "data": {
      "text/html": [
       "<pre style=\"white-space:pre;overflow-x:auto;line-height:normal;font-family:Menlo,'DejaVu Sans Mono',consolas,'Courier New',monospace\"><span style=\"color: #7f7f7f; text-decoration-color: #7f7f7f\">╭─ Options ───────────────────────────────────────────────────────────────────────────────────────────────────────╮</span>\n",
       "<span style=\"color: #7f7f7f; text-decoration-color: #7f7f7f\">│</span> <span style=\"color: #008080; text-decoration-color: #008080; font-weight: bold\">--db_path</span>             <span style=\"color: #008000; text-decoration-color: #008000; font-weight: bold\">-p</span>      <span style=\"color: #808000; text-decoration-color: #808000; font-weight: bold\">TEXT</span>  The path to save the vector database.                                       <span style=\"color: #7f7f7f; text-decoration-color: #7f7f7f\">│</span>\n",
       "<span style=\"color: #7f7f7f; text-decoration-color: #7f7f7f\">│</span>                                     <span style=\"color: #7f7f7f; text-decoration-color: #7f7f7f\">[default: /work/fastkafka-gen/faststream_gen/package_data]</span>                  <span style=\"color: #7f7f7f; text-decoration-color: #7f7f7f\">│</span>\n",
       "<span style=\"color: #7f7f7f; text-decoration-color: #7f7f7f\">│</span> <span style=\"color: #008080; text-decoration-color: #008080; font-weight: bold\">--install-completion</span>          <span style=\"color: #808000; text-decoration-color: #808000; font-weight: bold\">    </span>  Install completion for the current shell.                                   <span style=\"color: #7f7f7f; text-decoration-color: #7f7f7f\">│</span>\n",
       "<span style=\"color: #7f7f7f; text-decoration-color: #7f7f7f\">│</span> <span style=\"color: #008080; text-decoration-color: #008080; font-weight: bold\">--show-completion</span>             <span style=\"color: #808000; text-decoration-color: #808000; font-weight: bold\">    </span>  Show completion for the current shell, to copy it or customize the          <span style=\"color: #7f7f7f; text-decoration-color: #7f7f7f\">│</span>\n",
       "<span style=\"color: #7f7f7f; text-decoration-color: #7f7f7f\">│</span>                                     installation.                                                               <span style=\"color: #7f7f7f; text-decoration-color: #7f7f7f\">│</span>\n",
       "<span style=\"color: #7f7f7f; text-decoration-color: #7f7f7f\">│</span> <span style=\"color: #008080; text-decoration-color: #008080; font-weight: bold\">--help</span>                        <span style=\"color: #808000; text-decoration-color: #808000; font-weight: bold\">    </span>  Show this message and exit.                                                 <span style=\"color: #7f7f7f; text-decoration-color: #7f7f7f\">│</span>\n",
       "<span style=\"color: #7f7f7f; text-decoration-color: #7f7f7f\">╰─────────────────────────────────────────────────────────────────────────────────────────────────────────────────╯</span>\n",
       "</pre>\n"
      ],
      "text/plain": [
       "\u001b[2m╭─\u001b[0m\u001b[2m Options \u001b[0m\u001b[2m──────────────────────────────────────────────────────────────────────────────────────────────────────\u001b[0m\u001b[2m─╮\u001b[0m\n",
       "\u001b[2m│\u001b[0m \u001b[1;36m-\u001b[0m\u001b[1;36m-db_path\u001b[0m             \u001b[1;32m-p\u001b[0m      \u001b[1;33mTEXT\u001b[0m  The path to save the vector database.                                       \u001b[2m│\u001b[0m\n",
       "\u001b[2m│\u001b[0m                                     \u001b[2m[default: /work/fastkafka-gen/faststream_gen/package_data]\u001b[0m                  \u001b[2m│\u001b[0m\n",
       "\u001b[2m│\u001b[0m \u001b[1;36m-\u001b[0m\u001b[1;36m-install\u001b[0m\u001b[1;36m-completion\u001b[0m          \u001b[1;33m    \u001b[0m  Install completion for the current shell.                                   \u001b[2m│\u001b[0m\n",
       "\u001b[2m│\u001b[0m \u001b[1;36m-\u001b[0m\u001b[1;36m-show\u001b[0m\u001b[1;36m-completion\u001b[0m             \u001b[1;33m    \u001b[0m  Show completion for the current shell, to copy it or customize the          \u001b[2m│\u001b[0m\n",
       "\u001b[2m│\u001b[0m                                     installation.                                                               \u001b[2m│\u001b[0m\n",
       "\u001b[2m│\u001b[0m \u001b[1;36m-\u001b[0m\u001b[1;36m-help\u001b[0m                        \u001b[1;33m    \u001b[0m  Show this message and exit.                                                 \u001b[2m│\u001b[0m\n",
       "\u001b[2m╰─────────────────────────────────────────────────────────────────────────────────────────────────────────────────╯\u001b[0m\n"
      ]
     },
     "metadata": {},
     "output_type": "display_data"
    }
   ],
   "source": [
    "runner = CliRunner()\n",
    "result = runner.invoke(app, [\"generate\", \"--help\"])"
   ]
  },
  {
   "cell_type": "code",
   "execution_count": null,
   "id": "552aca4b",
   "metadata": {},
   "outputs": [
    {
     "name": "stdout",
     "output_type": "stream",
     "text": [
      "Downloading docs and examples from FastStream repo and generating embeddings.\n",
      "\r",
      "\r",
      "\r",
      "⠋ Creating embeddings for the docs...\r",
      "                                      \r",
      "\r",
      "⠙ Creating embeddings for the docs...\r",
      "                                      \r",
      "\r",
      "⠹ Creating embeddings for the docs...\r",
      "                                      \r",
      "\r",
      "⠸ Creating embeddings for the docs...\r",
      "                                      \r",
      "\r",
      "⠼ Creating embeddings for the docs...\r",
      "                                      \r",
      "\r",
      "⠴ Creating embeddings for the docs...\r",
      "                                      \r",
      "\r",
      "⠦ Creating embeddings for the docs...\r",
      "                                      \r",
      "\r",
      "⠧ Creating embeddings for the docs...\r",
      "                                      \r",
      "\r",
      "⠇ Creating embeddings for the docs...\r",
      "                                      \r",
      "\r",
      "⠏ Creating embeddings for the docs...\r",
      "                                      \r",
      "\r",
      "⠋ Creating embeddings for the docs...\r",
      "                                      \r",
      "\r",
      "⠙ Creating embeddings for the docs...\r",
      "                                      \r",
      "\r",
      "⠹ Creating embeddings for the docs...\r",
      "                                      \r",
      " ✔ Docs embeddings created and saved to: /tmp/tmpawwr60qo/docs \n",
      "\r",
      "\r",
      "\r",
      "⠋ Creating embeddings for the examples...\n",
      "Required files are missing. Skipping directory: /tmp/tmpleldy6qt/extrated_path/fastkafka-FastStream/faststream_gen_examples/__init__.py\n",
      "\r",
      "                                          \r",
      "\r",
      "⠙ Creating embeddings for the examples...\r",
      "                                          \r",
      "\r",
      "⠹ Creating embeddings for the examples...Created a chunk of size 620, which is longer than the specified 500\n",
      "Created a chunk of size 505, which is longer than the specified 500\n",
      "\r",
      "                                          \r",
      "\r",
      "⠸ Creating embeddings for the examples...\r",
      "                                          \r",
      "\r",
      "⠼ Creating embeddings for the examples...\r",
      "                                          \r",
      "\r",
      "⠴ Creating embeddings for the examples...\r",
      "                                          \r",
      "\r",
      "⠦ Creating embeddings for the examples...\r",
      "                                          \r",
      "\r",
      "⠧ Creating embeddings for the examples...\r",
      "                                          \r",
      "\r",
      "⠇ Creating embeddings for the examples...\r",
      "                                          \r",
      "\r",
      "⠏ Creating embeddings for the examples...\r",
      "                                          \r",
      "\r",
      "⠋ Creating embeddings for the examples...\r",
      "                                          \r",
      "\r",
      "⠙ Creating embeddings for the examples...\r",
      "                                          \r",
      "\r",
      "⠹ Creating embeddings for the examples...\r",
      "                                          \r",
      "\r",
      "⠸ Creating embeddings for the examples...\r",
      "                                          \r",
      "\r",
      "⠼ Creating embeddings for the examples...\r",
      "                                          \r",
      "\r",
      "⠴ Creating embeddings for the examples...\r",
      "                                          \r",
      "\r",
      "⠦ Creating embeddings for the examples...\r",
      "                                          \r",
      "\r",
      "⠧ Creating embeddings for the examples...\r",
      "                                          \r",
      "\r",
      "⠇ Creating embeddings for the examples...\r",
      "                                          \r",
      "\r",
      "⠏ Creating embeddings for the examples...\r",
      "                                          \r",
      "\r",
      "⠋ Creating embeddings for the examples...\r",
      "                                          \r",
      "\r",
      "⠙ Creating embeddings for the examples...\r",
      "                                          \r",
      " ✔ Examples embeddings created and saved to: /tmp/tmpawwr60qo/examples \n",
      "\n",
      "Successfully generated all the embeddings and saved to: /tmp/tmpawwr60qo\n",
      "\n"
     ]
    }
   ],
   "source": [
    "with TemporaryDirectory() as d:\n",
    "    db_path = f\"{d}\"\n",
    "    result = runner.invoke(app, [\"-p\", db_path])\n",
    "\n",
    "    print(result.output)\n",
    "    assert result.exit_code == 0\n",
    "    assert (Path(d) / \"docs\" / \"index.faiss\").exists()\n",
    "    assert (Path(d) / \"examples\" / \"index.faiss\").exists()"
   ]
  },
  {
   "cell_type": "code",
   "execution_count": null,
   "id": "fa637857",
   "metadata": {},
   "outputs": [],
   "source": []
  }
 ],
 "metadata": {
  "kernelspec": {
   "display_name": "python3",
   "language": "python",
   "name": "python3"
  }
 },
 "nbformat": 4,
 "nbformat_minor": 5
}
