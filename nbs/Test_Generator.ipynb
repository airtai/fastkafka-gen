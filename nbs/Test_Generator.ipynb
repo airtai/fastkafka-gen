{
 "cells": [
  {
   "cell_type": "code",
   "execution_count": null,
   "id": "21705b2f",
   "metadata": {},
   "outputs": [],
   "source": [
    "# | default_exp _code_generator.test_generator"
   ]
  },
  {
   "cell_type": "code",
   "execution_count": null,
   "id": "792d665d",
   "metadata": {},
   "outputs": [],
   "source": [
    "# | export\n",
    "\n",
    "from typing import *\n",
    "import time\n",
    "\n",
    "from yaspin import yaspin\n",
    "from fastkafka_gen._components.logger import get_logger"
   ]
  },
  {
   "cell_type": "code",
   "execution_count": null,
   "id": "381bd805",
   "metadata": {},
   "outputs": [],
   "source": [
    "from fastkafka_gen._components.logger import suppress_timestamps"
   ]
  },
  {
   "cell_type": "code",
   "execution_count": null,
   "id": "19863bab",
   "metadata": {},
   "outputs": [],
   "source": [
    "# | export\n",
    "\n",
    "logger = get_logger(__name__)"
   ]
  },
  {
   "cell_type": "code",
   "execution_count": null,
   "id": "2c0b5c72",
   "metadata": {},
   "outputs": [
    {
     "name": "stdout",
     "output_type": "stream",
     "text": [
      "[INFO] __main__: ok\n"
     ]
    }
   ],
   "source": [
    "suppress_timestamps()\n",
    "logger = get_logger(__name__, level=20)\n",
    "logger.info(\"ok\")"
   ]
  },
  {
   "cell_type": "code",
   "execution_count": null,
   "id": "bc7cb157",
   "metadata": {},
   "outputs": [],
   "source": [
    "# | export\n",
    "\n",
    "SAMPLE_CODE = \"\"\"\n",
    "import asyncio\n",
    "from fastkafka.testing import Tester\n",
    "from application import *\n",
    "\n",
    "async def async_tests():\n",
    "    async with Tester(kafka_app).using_inmemory_broker() as tester:\n",
    "        input_msg = StoreProduct(\n",
    "            product_name=\"Mobile Phone\",\n",
    "            currency=\"HRK\",\n",
    "            price=750.0\n",
    "        )\n",
    "\n",
    "        # tester produces message to the store_product topic\n",
    "        await tester.to_store_product(input_msg)\n",
    "\n",
    "        # assert that app consumed from the store_product topic and it was called with the accurate argument\n",
    "        await kafka_app.awaited_mocks.on_store_product.assert_called_with(\n",
    "            input_msg, timeout=5\n",
    "        )\n",
    "        # assert that tester consumed from the change_currency topic and it was called with the accurate argument\n",
    "        await tester.awaited_mocks.on_change_currency.assert_called_with(\n",
    "            StoreProduct(\n",
    "                product_name=\"Mobile Phone\",\n",
    "                currency=\"EUR\",\n",
    "                price=100.0\n",
    "            ), timeout=5\n",
    "        )\n",
    "    print(\"ok\")\n",
    "\n",
    "\n",
    "if __name__ == \"__main__\":\n",
    "    loop = asyncio.get_event_loop()\n",
    "    loop.run_until_complete(async_tests())\n",
    "\"\"\""
   ]
  },
  {
   "cell_type": "code",
   "execution_count": null,
   "id": "88d6fb9f",
   "metadata": {},
   "outputs": [],
   "source": [
    "# | export\n",
    "\n",
    "def generate_test(app_code: str) -> str:\n",
    "    \"\"\"Generate test for the new FastKafka app\n",
    "    \n",
    "    Args:\n",
    "        app_code: The generated application code\n",
    "        \n",
    "    Returns:\n",
    "        The generated test code for the application\n",
    "    \"\"\"\n",
    "    # TODO: Implement the actual functionality\n",
    "    with yaspin(text=\"Generating tests...\", color=\"cyan\", spinner=\"clock\") as sp:\n",
    "\n",
    "        time.sleep(1)\n",
    "        sp.text = \"\"\n",
    "        sp.ok(\" ✔ Tests are generated and saved at: /some_dir/test.py\")\n",
    "        return SAMPLE_CODE"
   ]
  },
  {
   "cell_type": "code",
   "execution_count": null,
   "id": "ad577186",
   "metadata": {},
   "outputs": [
    {
     "name": "stdout",
     "output_type": "stream",
     "text": [
      "⠹ Generating tests... "
     ]
    },
    {
     "name": "stderr",
     "output_type": "stream",
     "text": [
      "/home/harish/.local/lib/python3.11/site-packages/yaspin/core.py:59: UserWarning: color, on_color and attrs are not supported when running in jupyter\n",
      "  self._color = self._set_color(color) if color else color\n"
     ]
    },
    {
     "name": "stdout",
     "output_type": "stream",
     "text": [
      " ✔ Tests are generated and saved at: /some_dir/test.py \n",
      "\n",
      "import asyncio\n",
      "from fastkafka.testing import Tester\n",
      "from application import *\n",
      "\n",
      "async def async_tests():\n",
      "    async with Tester(kafka_app).using_inmemory_broker() as tester:\n",
      "        input_msg = StoreProduct(\n",
      "            product_name=\"Mobile Phone\",\n",
      "            currency=\"HRK\",\n",
      "            price=750.0\n",
      "        )\n",
      "\n",
      "        # tester produces message to the store_product topic\n",
      "        await tester.to_store_product(input_msg)\n",
      "\n",
      "        # assert that app consumed from the store_product topic and it was called with the accurate argument\n",
      "        await kafka_app.awaited_mocks.on_store_product.assert_called_with(\n",
      "            input_msg, timeout=5\n",
      "        )\n",
      "        # assert that tester consumed from the change_currency topic and it was called with the accurate argument\n",
      "        await tester.awaited_mocks.on_change_currency.assert_called_with(\n",
      "            StoreProduct(\n",
      "                product_name=\"Mobile Phone\",\n",
      "                currency=\"EUR\",\n",
      "                price=100.0\n",
      "            ), timeout=5\n",
      "        )\n",
      "    print(\"ok\")\n",
      "\n",
      "\n",
      "if __name__ == \"__main__\":\n",
      "    loop = asyncio.get_event_loop()\n",
      "    loop.run_until_complete(async_tests())\n",
      "\n"
     ]
    }
   ],
   "source": [
    "code = \"\"\"\n",
    "from pydantic import BaseModel, Field, NonNegativeFloat\n",
    "\n",
    "from fastkafka import FastKafka\n",
    "from fastkafka._components.logger import get_logger\n",
    "\n",
    "logger = get_logger(__name__)\n",
    "\n",
    "class Data(BaseModel):\n",
    "    data: NonNegativeFloat = Field(\n",
    "        ..., example=0.5, description=\"Float data example\"\n",
    "    )\n",
    "\n",
    "kafka_brokers = {\n",
    "    \"localhost\": {\n",
    "        \"url\": \"localhost\",\n",
    "        \"description\": \"local development kafka broker\",\n",
    "        \"port\": 9092,\n",
    "    },\n",
    "    \"production\": {\n",
    "        \"url\": \"kafka.airt.ai\",\n",
    "        \"description\": \"production kafka broker\",\n",
    "        \"port\": 9092,\n",
    "        \"protocol\": \"kafka-secure\",\n",
    "        \"security\": {\"type\": \"plain\"},\n",
    "    },\n",
    "}\n",
    "\n",
    "kafka_app = FastKafka(\n",
    "    title=\"Demo Kafka app\",\n",
    "    kafka_brokers=kafka_brokers,\n",
    ")\n",
    "\n",
    "@kafka_app.consumes(topic=\"input_data\", auto_offset_reset=\"latest\")\n",
    "async def on_input_data(msg: Data):\n",
    "    logger.info(f\"Got data: {msg.data}\")\n",
    "    await to_output_data(msg.data)\n",
    "\n",
    "\n",
    "@kafka_app.produces(topic=\"output_data\")\n",
    "async def to_output_data(data: float) -> Data:\n",
    "    processed_data = Data(data=data+1.0)\n",
    "    return processed_data\n",
    "\"\"\"\n",
    "\n",
    "test = generate_test(code)\n",
    "print(test)"
   ]
  },
  {
   "cell_type": "code",
   "execution_count": null,
   "id": "4d00fc7c",
   "metadata": {},
   "outputs": [],
   "source": []
  }
 ],
 "metadata": {
  "kernelspec": {
   "display_name": "python3",
   "language": "python",
   "name": "python3"
  }
 },
 "nbformat": 4,
 "nbformat_minor": 5
}
