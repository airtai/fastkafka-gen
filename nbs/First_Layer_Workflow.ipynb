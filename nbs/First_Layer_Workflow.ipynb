{
 "cells": [
  {
   "cell_type": "code",
   "execution_count": null,
   "id": "66f8ec13",
   "metadata": {},
   "outputs": [],
   "source": []
  },
  {
   "cell_type": "code",
   "execution_count": 177,
   "id": "4d379c2e",
   "metadata": {},
   "outputs": [],
   "source": [
    "from typing import *\n",
    "from pathlib import Path\n",
    "import subprocess\n",
    "import platform\n",
    "from pygit2 import Repository\n",
    "from tempfile import TemporaryDirectory\n",
    "import yaml\n",
    "\n",
    "from faststream_gen._code_generator.helper import write_file_contents, set_cwd"
   ]
  },
  {
   "cell_type": "code",
   "execution_count": 9,
   "id": "68f3912f",
   "metadata": {},
   "outputs": [],
   "source": [
    "REPO_PATH = Path(\"./test-workflow-delete-after\").resolve()"
   ]
  },
  {
   "cell_type": "code",
   "execution_count": 10,
   "id": "459471cb",
   "metadata": {},
   "outputs": [
    {
     "data": {
      "text/plain": [
       "'/work/fastkafka-gen/nbs/test-workflow-delete-after'"
      ]
     },
     "execution_count": 10,
     "metadata": {},
     "output_type": "execute_result"
    }
   ],
   "source": [
    "str(REPO_PATH)"
   ]
  },
  {
   "cell_type": "code",
   "execution_count": 141,
   "id": "2e693d88",
   "metadata": {},
   "outputs": [],
   "source": [
    "def execute_command(command: List[str], work_dir: Path) -> Optional[Tuple[str, str]]:\n",
    "    with set_cwd(work_dir):\n",
    "        # nosemgrep: python.lang.security.audit.subprocess-shell-true.subprocess-shell-true\n",
    "        p = subprocess.run( # nosec: B602, B603, B607 subprocess call - check for execution of untrusted input.\n",
    "            command,\n",
    "            stderr=subprocess.PIPE,\n",
    "            stdout=subprocess.PIPE,\n",
    "            shell=True if platform.system() == \"Windows\" else False,\n",
    "        )\n",
    "        \n",
    "        if p.returncode != 0:\n",
    "            return (str(p.stderr.decode('utf-8')), str(p.stdout.decode('utf-8')))"
   ]
  },
  {
   "cell_type": "code",
   "execution_count": 142,
   "id": "592160a6",
   "metadata": {},
   "outputs": [],
   "source": [
    "def create_git_repo(repository_path: Path) -> Optional[str]:\n",
    "    repository_path.mkdir(parents=True, exist_ok=True)     \n",
    "    command = [\"git\", \"init\"]\n",
    "    return execute_command(command, repository_path)\n",
    "    \n",
    "    "
   ]
  },
  {
   "cell_type": "code",
   "execution_count": 143,
   "id": "420a1dab",
   "metadata": {},
   "outputs": [],
   "source": [
    "create_git_repo(REPO_PATH)\n",
    "assert (REPO_PATH / \".git\").is_dir()"
   ]
  },
  {
   "cell_type": "code",
   "execution_count": null,
   "id": "bedd0616",
   "metadata": {},
   "outputs": [],
   "source": []
  },
  {
   "cell_type": "code",
   "execution_count": 151,
   "id": "e838813b",
   "metadata": {},
   "outputs": [],
   "source": [
    "def git_add_and_commit(repository_path: Path, commit_message: str) -> Optional[str]:\n",
    "    command = [\"git\", \"add\", \".\"]\n",
    "    errors = execute_command(command, repository_path)\n",
    "    if errors:\n",
    "        return errors\n",
    "    \n",
    "    command = [\"git\", \"commit\", \"-m\", f\"{commit_message}\"]\n",
    "    stderr_stdout = execute_command(command, repository_path)\n",
    "    if stderr_stdout:\n",
    "        if \"nothing to commit, working tree clean\" in stderr_stdout[1]:\n",
    "            pass\n",
    "        else:\n",
    "            return stderr_stdout\n",
    "    "
   ]
  },
  {
   "cell_type": "code",
   "execution_count": 152,
   "id": "9439aa36",
   "metadata": {},
   "outputs": [],
   "source": [
    "def create_git_branch(branch_name: str, repository_path: Path) -> Optional[str]:\n",
    "    command = [\"git\", \"checkout\", \"-b\", f\"{branch_name}\"]\n",
    "    stderr_stdout = execute_command(command, repository_path)\n",
    "    if stderr_stdout:\n",
    "        if f\"fatal: A branch named '{branch_name}' already exists.\" in stderr_stdout[0]:\n",
    "            pass\n",
    "        else:\n",
    "            return stderr_stdout"
   ]
  },
  {
   "cell_type": "code",
   "execution_count": 153,
   "id": "dd213276",
   "metadata": {},
   "outputs": [],
   "source": [
    "branch = \"test_branch\"\n",
    "create_git_branch(branch, REPO_PATH)"
   ]
  },
  {
   "cell_type": "code",
   "execution_count": 157,
   "id": "47683e62",
   "metadata": {},
   "outputs": [],
   "source": [
    "initial_description = \"\"\"\n",
    "Create a FastStream application which will retrieve the current cryptocurrency price\n",
    "and publish it to new_crypto_price topic. \n",
    "\n",
    "The application should retrieve the data every 2 seconds.\n",
    "\n",
    "A message which will be produced is JSON with the two attributes:\n",
    "- price: non-negative float (current price of cryptocurrency in USD)\n",
    "- crypto_currency: string (the cryptocurrency e.g. BTC, ETH...)\n",
    "\n",
    "Use utf-8 encoded crypto_currency attribute as a partition key when publishing\n",
    "the message to new_crypto_price topic.\n",
    "\"\"\"\n",
    "write_file_contents(str(REPO_PATH / \"description.txt\"), initial_description)"
   ]
  },
  {
   "cell_type": "code",
   "execution_count": 158,
   "id": "26e6a035",
   "metadata": {},
   "outputs": [],
   "source": [
    "git_add_and_commit(REPO_PATH, \"Add aplication description\")"
   ]
  },
  {
   "cell_type": "code",
   "execution_count": 159,
   "id": "0302c8c2",
   "metadata": {},
   "outputs": [],
   "source": [
    "assert Repository(str(REPO_PATH)).head.shorthand == branch"
   ]
  },
  {
   "cell_type": "code",
   "execution_count": null,
   "id": "454d2093",
   "metadata": {},
   "outputs": [],
   "source": []
  },
  {
   "cell_type": "code",
   "execution_count": 163,
   "id": "f0b85500",
   "metadata": {},
   "outputs": [],
   "source": [
    "def chat_with_user_and_update_description(initial_description: str, updated_description_file_name: str):\n",
    "    \"\"\"\n",
    "    Chat between PO (Product Owner) and User.\n",
    "    \n",
    "    Once the User has answered to all the POs questions, \n",
    "    new conversation needs to be stared for the creation of brief from description and follow up questions & answers.\n",
    "    Second conversation can end when the brief is created.\n",
    "    \"\"\"\n",
    "    \n",
    "    PO_USER_CONVERSATION = f\"\"\"\n",
    "    User_proxy (to chat_manager):\n",
    "\n",
    "    {initial_description}\n",
    "\n",
    "    Is everything clear with the above description?\n",
    "\n",
    "    Product_Owner (to chat_manager):\n",
    "    Which API should we use to retrieve the cryptocurrency price data?\n",
    "\n",
    "    User_proxy (to chat_manager):\n",
    "    coinbase API\n",
    "\n",
    "    Product_Owner (to chat_manager):\n",
    "    Are there any specific cryptocurrencies we need to focus on, or should we fetch data for all?\n",
    "\n",
    "    User_proxy (to chat_manager):\n",
    "    Bitcoin and Etherum\n",
    "\n",
    "    Product_Owner (to chat_manager):\n",
    "    Everything is clear\n",
    "    \"\"\"\n",
    "    \n",
    "    # brief_proxy needs to start another conversation which then creates updated description which is saved to a file\n",
    "    updated_description = \"\"\"\n",
    "    The task at hand is to create a FastStream application that retrieves the current price of Bitcoin and Ethereum cryptocurrencies from the Coinbase API. \n",
    "    The data should be fetched every 2 seconds with message production in JSON format, \n",
    "    having two attributes: price (current price of cryptocurrency in USD) and crypto_currency (e.g. BTC, ETH). \n",
    "    This information is to be published to the 'new_crypto_price' topic with the utf-8 encoded 'crypto_currency' attribute serving as the partition key.\n",
    "    \"\"\"\n",
    "    write_file_contents(str(REPO_PATH / updated_description_file_name), updated_description)\n",
    "    "
   ]
  },
  {
   "cell_type": "code",
   "execution_count": 164,
   "id": "7c07b970",
   "metadata": {},
   "outputs": [],
   "source": [
    "updated_description_file_name = \"updated_description.txt\"\n",
    "chat_with_user_and_update_description(initial_description, updated_description_file_name)\n",
    "assert (REPO_PATH / updated_description_file_name).is_file()"
   ]
  },
  {
   "cell_type": "code",
   "execution_count": 200,
   "id": "aa489742",
   "metadata": {},
   "outputs": [],
   "source": [
    "create_venv_and_run_tests_bash_script = \"\"\"\n",
    "#!/bin/bash\n",
    "\n",
    "# get the project directory from command line argument\n",
    "project_dir=$1\n",
    "\n",
    "# get the venv directory from command line argument\n",
    "venv_dir=$2\n",
    "\n",
    "# create a new venv in the specified directory\n",
    "python3 -m venv $venv_dir/my_venv > /dev/null 2>&1\n",
    "\n",
    "# activate the venv\n",
    "source $venv_dir/my_venv/bin/activate\n",
    "\n",
    "python3 -m pip install --upgrade pip\n",
    "\n",
    "# navigate to the project directory\n",
    "cd $project_dir\n",
    "\n",
    "pip install cookiecutter\n",
    "\n",
    "cookiecutter https://github.com/airtai/cookiecutter-faststream.git --no-input --config-file config3.yaml\n",
    "\n",
    "# deactivate the venv\n",
    "deactivate\n",
    "\"\"\""
   ]
  },
  {
   "cell_type": "code",
   "execution_count": 201,
   "id": "cc0bce96",
   "metadata": {},
   "outputs": [],
   "source": [
    "def setup_venv_and_use_cookiecutter(repository_path: Path, default_context: Dict[str, Dict[str, str]]) -> None:\n",
    "    with TemporaryDirectory() as d:\n",
    "        bash_file = repository_path / \"faststream_cookiecutter.sh\"\n",
    "        write_file_contents(str(bash_file), create_venv_and_run_tests_bash_script)\n",
    "        \n",
    "        config_file = repository_path / \"config3.yaml\"\n",
    "        with open(str(config_file), 'w') as outfile:\n",
    "            yaml.dump(default_context, outfile, default_flow_style=False)\n",
    "        \n",
    "        write_file_contents(str(bash_file), create_venv_and_run_tests_bash_script)\n",
    "        \n",
    "        command = [\"bash\", \"faststream_cookiecutter.sh\", repository_path, Path(d).resolve()]\n",
    "        with set_cwd(repository_path):\n",
    "            # nosemgrep: python.lang.security.audit.subprocess-shell-true.subprocess-shell-true\n",
    "            p = subprocess.run( # nosec: B602, B603, B607 subprocess call - check for execution of untrusted input.\n",
    "                command,\n",
    "                stderr=subprocess.PIPE,\n",
    "                stdout=subprocess.PIPE,\n",
    "                shell=True if platform.system() == \"Windows\" else False,\n",
    "            )\n",
    "\n",
    "            if p.returncode != 0:\n",
    "                return (str(p.stderr.decode('utf-8')), str(p.stdout.decode('utf-8')))"
   ]
  },
  {
   "cell_type": "code",
   "execution_count": 202,
   "id": "0ec0dc14",
   "metadata": {},
   "outputs": [],
   "source": [
    "default_context = {\n",
    "    \"default_context\": {\n",
    "        \"username\": \"rjambrecic\",\n",
    "        \"project_name\": \"First app\",\n",
    "        \"project_slug\": \"fs_kafka_app\",\n",
    "        \"streaming_service\": \"kafka\",\n",
    "    }                  \n",
    "}\n"
   ]
  },
  {
   "cell_type": "code",
   "execution_count": 204,
   "id": "11063a8b",
   "metadata": {},
   "outputs": [
    {
     "data": {
      "text/plain": [
       "('faststream_cookiecutter.sh: line 14: /tmp/tmpsj070uw5/my_venv/bin/activate: No such file or directory\\n\\x1b[33mDEPRECATION: distro-info 1.1build1 has a non-standard version number. pip 24.0 will enforce this behaviour change. A possible replacement is to upgrade to a newer version of distro-info or contact the author to suggest that they release a version with a conforming version number. Discussion can be found at https://github.com/pypa/pip/issues/12063\\x1b[0m\\x1b[33m\\n\\x1b[0m\\x1b[33mDEPRECATION: distro-info 1.1build1 has a non-standard version number. pip 24.0 will enforce this behaviour change. A possible replacement is to upgrade to a newer version of distro-info or contact the author to suggest that they release a version with a conforming version number. Discussion can be found at https://github.com/pypa/pip/issues/12063\\x1b[0m\\x1b[33m\\n\\x1b[0mfaststream_cookiecutter.sh: line 26: deactivate: command not found\\n',\n",
       " 'Defaulting to user installation because normal site-packages is not writeable\\nRequirement already satisfied: pip in /home/robert/.local/lib/python3.11/site-packages (23.3)\\nDefaulting to user installation because normal site-packages is not writeable\\nRequirement already satisfied: cookiecutter in /home/robert/.local/lib/python3.11/site-packages (2.4.0)\\nRequirement already satisfied: binaryornot>=0.4.4 in /home/robert/.local/lib/python3.11/site-packages (from cookiecutter) (0.4.4)\\nRequirement already satisfied: Jinja2<4.0.0,>=2.7 in /usr/local/lib/python3.11/dist-packages (from cookiecutter) (3.1.2)\\nRequirement already satisfied: click<9.0.0,>=7.0 in /home/robert/.local/lib/python3.11/site-packages (from cookiecutter) (8.1.7)\\nRequirement already satisfied: pyyaml>=5.3.1 in /usr/local/lib/python3.11/dist-packages (from cookiecutter) (6.0)\\nRequirement already satisfied: python-slugify>=4.0.0 in /home/robert/.local/lib/python3.11/site-packages (from cookiecutter) (8.0.1)\\nRequirement already satisfied: requests>=2.23.0 in /home/robert/.local/lib/python3.11/site-packages (from cookiecutter) (2.31.0)\\nRequirement already satisfied: arrow in /usr/local/lib/python3.11/dist-packages (from cookiecutter) (1.2.3)\\nRequirement already satisfied: rich in /usr/local/lib/python3.11/dist-packages (from cookiecutter) (13.4.2)\\nRequirement already satisfied: chardet>=3.0.2 in /home/robert/.local/lib/python3.11/site-packages (from binaryornot>=0.4.4->cookiecutter) (5.2.0)\\nRequirement already satisfied: MarkupSafe>=2.0 in /usr/local/lib/python3.11/dist-packages (from Jinja2<4.0.0,>=2.7->cookiecutter) (2.1.3)\\nRequirement already satisfied: text-unidecode>=1.3 in /home/robert/.local/lib/python3.11/site-packages (from python-slugify>=4.0.0->cookiecutter) (1.3)\\nRequirement already satisfied: charset-normalizer<4,>=2 in /usr/local/lib/python3.11/dist-packages (from requests>=2.23.0->cookiecutter) (3.1.0)\\nRequirement already satisfied: idna<4,>=2.5 in /usr/local/lib/python3.11/dist-packages (from requests>=2.23.0->cookiecutter) (3.4)\\nRequirement already satisfied: urllib3<3,>=1.21.1 in /home/robert/.local/lib/python3.11/site-packages (from requests>=2.23.0->cookiecutter) (1.26.17)\\nRequirement already satisfied: certifi>=2017.4.17 in /usr/local/lib/python3.11/dist-packages (from requests>=2.23.0->cookiecutter) (2023.5.7)\\nRequirement already satisfied: python-dateutil>=2.7.0 in /usr/local/lib/python3.11/dist-packages (from arrow->cookiecutter) (2.8.2)\\nRequirement already satisfied: markdown-it-py>=2.2.0 in /usr/local/lib/python3.11/dist-packages (from rich->cookiecutter) (3.0.0)\\nRequirement already satisfied: pygments<3.0.0,>=2.13.0 in /home/robert/.local/lib/python3.11/site-packages (from rich->cookiecutter) (2.16.1)\\nRequirement already satisfied: mdurl~=0.1 in /usr/local/lib/python3.11/dist-packages (from markdown-it-py>=2.2.0->rich->cookiecutter) (0.1.2)\\nRequirement already satisfied: six>=1.5 in /home/robert/.local/lib/python3.11/site-packages (from python-dateutil>=2.7.0->arrow->cookiecutter) (1.10.0)\\n')"
      ]
     },
     "execution_count": 204,
     "metadata": {},
     "output_type": "execute_result"
    }
   ],
   "source": [
    "setup_venv_and_use_cookiecutter(REPO_PATH, default_context)"
   ]
  },
  {
   "cell_type": "code",
   "execution_count": 208,
   "id": "6b6537b1",
   "metadata": {},
   "outputs": [],
   "source": [
    "git_add_and_commit(REPO_PATH, \"Create faststream project template\")"
   ]
  },
  {
   "cell_type": "code",
   "execution_count": 220,
   "id": "e703521d",
   "metadata": {},
   "outputs": [],
   "source": [
    "application_skeleton = \"\"\"\n",
    "import sklearn3\n",
    "\"\"\"\n",
    "\n"
   ]
  },
  {
   "cell_type": "code",
   "execution_count": 209,
   "id": "6e3e0982",
   "metadata": {},
   "outputs": [
    {
     "name": "stdout",
     "output_type": "stream",
     "text": [
      "Defaulting to user installation because normal site-packages is not writeable\n",
      "Requirement already satisfied: pyautogen in /home/robert/.local/lib/python3.11/site-packages (0.1.9)\n",
      "Requirement already satisfied: diskcache in /home/robert/.local/lib/python3.11/site-packages (from pyautogen) (5.6.3)\n",
      "Requirement already satisfied: flaml in /home/robert/.local/lib/python3.11/site-packages (from pyautogen) (2.1.1)\n",
      "Requirement already satisfied: openai in /home/robert/.local/lib/python3.11/site-packages (from pyautogen) (0.28.1)\n",
      "Requirement already satisfied: python-dotenv in /home/robert/.local/lib/python3.11/site-packages (from pyautogen) (1.0.0)\n",
      "Requirement already satisfied: termcolor in /home/robert/.local/lib/python3.11/site-packages (from pyautogen) (2.3.0)\n",
      "Requirement already satisfied: NumPy>=1.17.0rc1 in /usr/local/lib/python3.11/dist-packages (from flaml->pyautogen) (1.25.0)\n",
      "Requirement already satisfied: requests>=2.20 in /home/robert/.local/lib/python3.11/site-packages (from openai->pyautogen) (2.31.0)\n",
      "Requirement already satisfied: tqdm in /home/robert/.local/lib/python3.11/site-packages (from openai->pyautogen) (4.66.1)\n",
      "Requirement already satisfied: aiohttp in /home/robert/.local/lib/python3.11/site-packages (from openai->pyautogen) (3.8.5)\n",
      "Requirement already satisfied: charset-normalizer<4,>=2 in /usr/local/lib/python3.11/dist-packages (from requests>=2.20->openai->pyautogen) (3.1.0)\n",
      "Requirement already satisfied: idna<4,>=2.5 in /usr/local/lib/python3.11/dist-packages (from requests>=2.20->openai->pyautogen) (3.4)\n",
      "Requirement already satisfied: urllib3<3,>=1.21.1 in /home/robert/.local/lib/python3.11/site-packages (from requests>=2.20->openai->pyautogen) (1.26.17)\n",
      "Requirement already satisfied: certifi>=2017.4.17 in /usr/local/lib/python3.11/dist-packages (from requests>=2.20->openai->pyautogen) (2023.5.7)\n",
      "Requirement already satisfied: attrs>=17.3.0 in /usr/local/lib/python3.11/dist-packages (from aiohttp->openai->pyautogen) (23.1.0)\n",
      "Requirement already satisfied: multidict<7.0,>=4.5 in /home/robert/.local/lib/python3.11/site-packages (from aiohttp->openai->pyautogen) (6.0.4)\n",
      "Requirement already satisfied: async-timeout<5.0,>=4.0.0a3 in /home/robert/.local/lib/python3.11/site-packages (from aiohttp->openai->pyautogen) (4.0.3)\n",
      "Requirement already satisfied: yarl<2.0,>=1.0 in /home/robert/.local/lib/python3.11/site-packages (from aiohttp->openai->pyautogen) (1.9.2)\n",
      "Requirement already satisfied: frozenlist>=1.1.1 in /home/robert/.local/lib/python3.11/site-packages (from aiohttp->openai->pyautogen) (1.4.0)\n",
      "Requirement already satisfied: aiosignal>=1.1.2 in /home/robert/.local/lib/python3.11/site-packages (from aiohttp->openai->pyautogen) (1.3.1)\n",
      "\u001b[33mDEPRECATION: distro-info 1.1build1 has a non-standard version number. pip 24.0 will enforce this behaviour change. A possible replacement is to upgrade to a newer version of distro-info or contact the author to suggest that they release a version with a conforming version number. Discussion can be found at https://github.com/pypa/pip/issues/12063\u001b[0m\u001b[33m\n",
      "\u001b[0m"
     ]
    }
   ],
   "source": [
    "#! pip install pyautogen"
   ]
  },
  {
   "cell_type": "code",
   "execution_count": 225,
   "id": "a864169a",
   "metadata": {},
   "outputs": [
    {
     "name": "stdout",
     "output_type": "stream",
     "text": [
      "['git', 'checkout', 'into_branch']\n",
      "['git', 'merge', 'from_branch']\n",
      "['git', 'branch', '--delete', 'from_branch']\n"
     ]
    }
   ],
   "source": [
    "commands = {\n",
    "    \"checkout\": [\"git\", \"checkout\", \"into_branch\"],\n",
    "    \"merge\": [\"git\", \"merge\", \"from_branch\"],\n",
    "    \"delete\": [\"git\", \"branch\", \"--delete\", \"from_branch\"]\n",
    "}\n",
    "for command in commands.values():\n",
    "    print(command)"
   ]
  },
  {
   "cell_type": "code",
   "execution_count": 233,
   "id": "43a8417b",
   "metadata": {},
   "outputs": [],
   "source": [
    "def merge_and_delete_branch(into_branch: str, from_branch: str, repository_path: Path) -> Optional[str]:\n",
    "    commands = {\n",
    "    \"checkout\": [\"git\", \"checkout\", into_branch],\n",
    "    \"merge\": [\"git\", \"merge\", from_branch],\n",
    "    \"delete\": [\"git\", \"branch\", \"--delete\", from_branch]\n",
    "    }\n",
    "    for command in commands.values():\n",
    "        errors = execute_command(command, repository_path)\n",
    "        if errors:\n",
    "            print(errors)\n",
    "            return errors\n",
    "    "
   ]
  },
  {
   "cell_type": "code",
   "execution_count": 234,
   "id": "217c4162",
   "metadata": {},
   "outputs": [
    {
     "name": "stdout",
     "output_type": "stream",
     "text": [
      "('merge: delete_me_after - not something we can merge\\n', '')\n"
     ]
    },
    {
     "data": {
      "text/plain": [
       "('merge: delete_me_after - not something we can merge\\n', '')"
      ]
     },
     "execution_count": 234,
     "metadata": {},
     "output_type": "execute_result"
    }
   ],
   "source": [
    "merge_and_delete_branch(\"test_branch\", \"delete_me_after\", REPO_PATH)"
   ]
  },
  {
   "cell_type": "code",
   "execution_count": 257,
   "id": "735c7fe8",
   "metadata": {},
   "outputs": [],
   "source": [
    "from contextlib import contextmanager\n",
    "\n",
    "@contextmanager\n",
    "def git_setup(new_branch: str, repository_path: Path) -> None:\n",
    "    current_branch = Repository(str(repository_path)).head.shorthand\n",
    "    errors = create_git_branch(new_branch, repository_path)\n",
    "    if errors:\n",
    "        return errors\n",
    "    \n",
    "    git_parameters = {\"commit_message\": \"My commit message\", \"merge_and_delete_branch\": False}\n",
    "    yield git_parameters\n",
    "    \n",
    "    git_add_and_commit(repository_path, git_parameters[\"commit_message\"])\n",
    "    if git_parameters[\"merge_and_delete_branch\"]:\n",
    "        merge_and_delete_branch(into_branch=current_branch, from_branch=new_branch, repository_path=repository_path)\n",
    "        "
   ]
  },
  {
   "cell_type": "code",
   "execution_count": 236,
   "id": "75f04fcd",
   "metadata": {},
   "outputs": [],
   "source": [
    "with git_setup(\"delete_me_after2\", REPO_PATH) as git_parameters:\n",
    "    write_file_contents(str(REPO_PATH / \"delete_me.py\"), application_skeleton)\n",
    "    git_parameters[\"commit_message\"] = \"Application skeleton imlemented\"\n",
    "    git_parameters[\"merge_and_delete_branch\"] = True"
   ]
  },
  {
   "cell_type": "code",
   "execution_count": null,
   "id": "190c7f4e",
   "metadata": {},
   "outputs": [],
   "source": []
  },
  {
   "cell_type": "code",
   "execution_count": 267,
   "id": "a046858f",
   "metadata": {},
   "outputs": [],
   "source": [
    "def initial_commit(initial_description: str, repository_path: Path, default_branch: str=\"main\"):\n",
    "    create_git_repo(repository_path)\n",
    "    create_git_branch(default_branch, repository_path)\n",
    "    \n",
    "    write_file_contents(str(repository_path / \"description.txt\"), initial_description)\n",
    "    initial_commit = \"Initial application description\"\n",
    "    git_add_and_commit(repository_path, initial_commit)"
   ]
  },
  {
   "cell_type": "code",
   "execution_count": 268,
   "id": "c82b543b",
   "metadata": {},
   "outputs": [],
   "source": [
    "REPO_PATH2 = Path(\"/work/fastkafka-gen/nbs/test-new-repo\")\n",
    "\n",
    "initial_commit(\"Create a FastStream application...\", REPO_PATH2)"
   ]
  },
  {
   "cell_type": "code",
   "execution_count": 269,
   "id": "d5d14367",
   "metadata": {},
   "outputs": [],
   "source": [
    "with git_setup(\"delete_me_after\", REPO_PATH2) as git_parameters:\n",
    "    write_file_contents(str(REPO_PATH2 / \"delete_me.py\"), application_skeleton)\n",
    "    git_parameters[\"commit_message\"] = \"Application skeleton imlemented\"\n",
    "    git_parameters[\"merge_and_delete_branch\"] = True"
   ]
  },
  {
   "cell_type": "code",
   "execution_count": 212,
   "id": "bdd8ee94",
   "metadata": {},
   "outputs": [],
   "source": [
    "import autogen\n",
    "import os\n",
    "import random\n",
    "\n",
    "api_key = os.environ['OPENAI_API_KEY']\n",
    "\n",
    "config_list = [\n",
    "    {\n",
    "        \"model\": \"gpt-4\",\n",
    "        \"api_key\": api_key\n",
    "    },\n",
    "]\n"
   ]
  },
  {
   "cell_type": "code",
   "execution_count": null,
   "id": "2bc63b29",
   "metadata": {},
   "outputs": [],
   "source": [
    "llm_config={\n",
    "    \"request_timeout\": 600,\n",
    "    \"seed\": random.randint(100, 900),\n",
    "    \"config_list\": config_list,\n",
    "    \"temperature\": 0,\n",
    "}\n",
    "\n",
    "\n",
    "def git_add_and_commit_function(commit_message: str) -> Optional[str]:\n",
    "    return git_add_and_commit(REPO_PATH, commit_message)\n",
    "\n",
    "generate_skeleton_assistant = autogen.AssistantAgent(\n",
    "    name=\"generate_skeleton_assistant\",\n",
    "    llm_config=llm_config,\n",
    "    \"functions\": [\n",
    "            {\n",
    "                \"name\": \"git_add_and_commit_function\",\n",
    "                \"description\": \"Git add and coomit all the files changed in the repository.\",\n",
    "                \"parameters\": {\n",
    "                    \"type\": \"object\",\n",
    "                    \"properties\": {\n",
    "                        \"commit_message\": {\n",
    "                            \"type\": \"string\",\n",
    "                            \"description\": \"The git commit message\",\n",
    "                        },\n",
    "                    },\n",
    "                    \"required\": [\"commit_message\"],\n",
    "                },\n",
    "            },\n",
    "        ],\n",
    ")"
   ]
  }
 ],
 "metadata": {
  "kernelspec": {
   "display_name": "Python 3 (ipykernel)",
   "language": "python",
   "name": "python3"
  },
  "language_info": {
   "codemirror_mode": {
    "name": "ipython",
    "version": 3
   },
   "file_extension": ".py",
   "mimetype": "text/x-python",
   "name": "python",
   "nbconvert_exporter": "python",
   "pygments_lexer": "ipython3",
   "version": "3.11.4"
  }
 },
 "nbformat": 4,
 "nbformat_minor": 5
}
