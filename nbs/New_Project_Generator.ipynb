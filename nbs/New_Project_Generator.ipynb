{
 "cells": [
  {
   "cell_type": "code",
   "execution_count": null,
   "id": "d8860aa8",
   "metadata": {},
   "outputs": [],
   "source": [
    "# | default_exp _components.new_project_generator"
   ]
  },
  {
   "cell_type": "code",
   "execution_count": null,
   "id": "0eb199c8",
   "metadata": {},
   "outputs": [],
   "source": [
    "# | export\n",
    "\n",
    "\n",
    "from typing import *\n",
    "import shutil\n",
    "from pathlib import Path\n",
    "import os\n",
    "from tempfile import TemporaryDirectory\n",
    "\n",
    "from yaspin import yaspin\n",
    "\n",
    "from faststream_gen._components.logger import get_logger\n",
    "from faststream_gen._code_generator.helper import (\n",
    "    download_and_extract_faststream_archive,\n",
    "    write_file_contents,\n",
    "    read_file_contents\n",
    ")\n",
    "from faststream_gen._code_generator.constants import (\n",
    "    FASTSTREAM_TEMPLATE_ZIP_URL,\n",
    "    FASTSTREAM_TEMPLATE_DIR_SUFFIX,\n",
    "    INTERMEDIATE_RESULTS_DIR_NAME,\n",
    "    APPLICATION_FILE_NAME,\n",
    "    INTEGRATION_TEST_FILE_NAME\n",
    ")"
   ]
  },
  {
   "cell_type": "code",
   "execution_count": null,
   "id": "750acc7d",
   "metadata": {},
   "outputs": [],
   "source": [
    "\n",
    "\n",
    "import pytest\n",
    "\n",
    "from faststream_gen._components.logger import suppress_timestamps\n",
    "from faststream_gen._code_generator.constants import DESCRIPTION_FILE_NAME"
   ]
  },
  {
   "cell_type": "code",
   "execution_count": null,
   "id": "cf76e5b5",
   "metadata": {},
   "outputs": [],
   "source": [
    "# | export\n",
    "\n",
    "logger = get_logger(__name__)"
   ]
  },
  {
   "cell_type": "code",
   "execution_count": null,
   "id": "654172e8",
   "metadata": {},
   "outputs": [
    {
     "name": "stdout",
     "output_type": "stream",
     "text": [
      "[INFO] __main__: ok\n"
     ]
    }
   ],
   "source": [
    "suppress_timestamps()\n",
    "logger = get_logger(__name__, level=20)\n",
    "logger.info(\"ok\")"
   ]
  },
  {
   "cell_type": "code",
   "execution_count": null,
   "id": "49ebadc4",
   "metadata": {},
   "outputs": [],
   "source": [
    "# | export\n",
    "\n",
    "\n",
    "def create_project(output_path: str, save_intermediate_files: bool) -> None:\n",
    "     with yaspin(\n",
    "        text=\"Creating a new FastStream project...\", color=\"cyan\", spinner=\"clock\"\n",
    "    ) as sp:\n",
    "            \n",
    "        with download_and_extract_faststream_archive(FASTSTREAM_TEMPLATE_ZIP_URL) as extracted_path:\n",
    "            with TemporaryDirectory() as tmp_dir:\n",
    "                app_path = f\"{tmp_dir}/app/application.py\"\n",
    "                test_path = f\"{tmp_dir}/tests/test_application.py\"\n",
    "                intermediate_dir_path = f\"{output_path}/{INTERMEDIATE_RESULTS_DIR_NAME}\"\n",
    "                shutil.copytree(str(extracted_path / FASTSTREAM_TEMPLATE_DIR_SUFFIX), tmp_dir, dirs_exist_ok=True)\n",
    "                shutil.copy(f\"{intermediate_dir_path}/{APPLICATION_FILE_NAME}\", app_path)\n",
    "                shutil.copy(f\"{intermediate_dir_path}/{INTEGRATION_TEST_FILE_NAME}\", test_path)\n",
    "\n",
    "                test_file_contents = read_file_contents(test_path)\n",
    "                test_file_contents = test_file_contents.replace(\"from application import\", \"from app.application import\")\n",
    "                write_file_contents(test_path, test_file_contents)\n",
    "\n",
    "                shutil.copytree(tmp_dir, output_path, dirs_exist_ok=True)\n",
    "                if not save_intermediate_files:\n",
    "                    shutil.rmtree(intermediate_dir_path)\n",
    "                \n",
    "        sp.text = \"\"\n",
    "        sp.ok(f\" ✔ New FastStream project created.\")"
   ]
  },
  {
   "cell_type": "code",
   "execution_count": null,
   "id": "0d9cdae0",
   "metadata": {},
   "outputs": [
    {
     "name": "stdout",
     "output_type": "stream",
     "text": [
      "⠹ Creating a new FastStream project... "
     ]
    },
    {
     "name": "stderr",
     "output_type": "stream",
     "text": [
      "/home/harish/.local/lib/python3.11/site-packages/yaspin/core.py:119: UserWarning: color, on_color and attrs are not supported when running in jupyter\n",
      "  self._color = self._set_color(color) if color else color\n"
     ]
    },
    {
     "name": "stdout",
     "output_type": "stream",
     "text": [
      " ✔ New FastStream project created.     \n",
      "['README', '.github', 'LICENSE', '_faststream_gen_tmp', 'tests', 'app', 'requirements', '.gitignore']\n",
      " ✔ New FastStream project created.     \n",
      "['README', '.github', 'LICENSE', 'tests', 'app', 'requirements', '.gitignore']\n"
     ]
    }
   ],
   "source": [
    "fixture_application_code = \"\"\"\n",
    "message = \"hi\"\n",
    "print(message)\n",
    "\"\"\"\n",
    "\n",
    "fixture_test_code = \"\"\"\n",
    "from application import message\n",
    "\"\"\"\n",
    "\n",
    "fixture_description = \"\"\"\n",
    "description\n",
    "\"\"\"\n",
    "\n",
    "for flag in [True, False]:\n",
    "    with TemporaryDirectory() as d:\n",
    "        intermediate_results_dir = Path(d)/INTERMEDIATE_RESULTS_DIR_NAME\n",
    "        intermediate_results_dir.mkdir(parents=True, exist_ok=True)\n",
    "\n",
    "        app_file_name = intermediate_results_dir / APPLICATION_FILE_NAME\n",
    "        write_file_contents(str(app_file_name), fixture_application_code)\n",
    "\n",
    "        test_file_name = intermediate_results_dir / INTEGRATION_TEST_FILE_NAME\n",
    "        write_file_contents(str(test_file_name), fixture_test_code)\n",
    "\n",
    "        description_file_name = intermediate_results_dir / DESCRIPTION_FILE_NAME\n",
    "        write_file_contents(str(description_file_name), fixture_description)\n",
    "\n",
    "        create_project(d, flag)\n",
    "        files = [p.stem for p in list(Path(f\"{d}\").glob(\"*\"))]\n",
    "        print(files)\n",
    "        if flag:\n",
    "            assert INTERMEDIATE_RESULTS_DIR_NAME in files\n",
    "        else:\n",
    "            assert INTERMEDIATE_RESULTS_DIR_NAME not in files\n",
    "        assert \"README\" in files"
   ]
  },
  {
   "cell_type": "code",
   "execution_count": null,
   "id": "e1ece203",
   "metadata": {},
   "outputs": [],
   "source": []
  }
 ],
 "metadata": {
  "kernelspec": {
   "display_name": "python3",
   "language": "python",
   "name": "python3"
  }
 },
 "nbformat": 4,
 "nbformat_minor": 5
}
