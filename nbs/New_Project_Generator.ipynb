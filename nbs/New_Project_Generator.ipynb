{
 "cells": [
  {
   "cell_type": "code",
   "execution_count": null,
   "id": "d8860aa8",
   "metadata": {},
   "outputs": [],
   "source": [
    "# | default_exp _components.new_project_generator"
   ]
  },
  {
   "cell_type": "code",
   "execution_count": null,
   "id": "b1e2e695",
   "metadata": {},
   "outputs": [],
   "source": [
    "# | export\n",
    "\n",
    "from typing import *\n",
    "from pathlib import Path\n",
    "from yaspin import yaspin\n",
    "import shutil\n",
    "import os\n",
    "import stat\n",
    "\n",
    "\n",
    "from faststream_gen._code_generator.helper import (\n",
    "    download_and_extract_faststream_archive,\n",
    ")\n",
    "from faststream_gen._code_generator.constants import (\n",
    "    FASTSTREAM_TEMPLATE_ZIP_URL,\n",
    "    FASTSTREAM_TEMPLATE_DIR_SUFFIX,\n",
    "    APPLICATION_FILE_PATH,\n",
    "    TEST_FILE_PATH,\n",
    ")\n",
    "\n",
    "from faststream_gen._code_generator.helper import write_file_contents"
   ]
  },
  {
   "cell_type": "code",
   "execution_count": null,
   "id": "971e7378",
   "metadata": {},
   "outputs": [],
   "source": [
    "from tempfile import TemporaryDirectory\n",
    "\n",
    "from faststream_gen._code_generator.helper import read_file_contents"
   ]
  },
  {
   "cell_type": "code",
   "execution_count": null,
   "id": "49ebadc4",
   "metadata": {},
   "outputs": [],
   "source": [
    "# | export\n",
    "\n",
    "\n",
    "def create_project(\n",
    "    output_path: str,\n",
    ") -> None:\n",
    "    with yaspin(\n",
    "        text=\"Creating a new FastStream project...\", color=\"cyan\", spinner=\"clock\"\n",
    "    ) as sp:\n",
    "        with download_and_extract_faststream_archive(\n",
    "            FASTSTREAM_TEMPLATE_ZIP_URL\n",
    "        ) as extracted_path:\n",
    "            app_file = str(\n",
    "                extracted_path / FASTSTREAM_TEMPLATE_DIR_SUFFIX / APPLICATION_FILE_PATH\n",
    "            )\n",
    "            write_file_contents(app_file, \"\")\n",
    "            test_file = str(\n",
    "                extracted_path / FASTSTREAM_TEMPLATE_DIR_SUFFIX / TEST_FILE_PATH\n",
    "            )\n",
    "            write_file_contents(test_file, \"\")\n",
    "\n",
    "            for p in (\n",
    "                Path(extracted_path) / FASTSTREAM_TEMPLATE_DIR_SUFFIX / \"scripts\"\n",
    "            ).glob(\"*.sh\"):\n",
    "                # Owner: Read, Write, Execute\n",
    "                # Group: Read, Execute\n",
    "                # Others: Read, Execute\n",
    "                p.chmod(p.stat().st_mode | stat.S_IEXEC | stat.S_IXGRP | stat.S_IXOTH)\n",
    "\n",
    "            shutil.copytree(\n",
    "                str(extracted_path / FASTSTREAM_TEMPLATE_DIR_SUFFIX),\n",
    "                output_path,\n",
    "                dirs_exist_ok=True,\n",
    "            )\n",
    "\n",
    "        sp.text = \"\"\n",
    "        sp.ok(f\" ✔ New FastStream project created.\")"
   ]
  },
  {
   "cell_type": "code",
   "execution_count": null,
   "id": "0d9cdae0",
   "metadata": {},
   "outputs": [
    {
     "name": "stdout",
     "output_type": "stream",
     "text": [
      "⠹ Creating a new FastStream project... "
     ]
    },
    {
     "name": "stderr",
     "output_type": "stream",
     "text": [
      "/home/harish/.local/lib/python3.11/site-packages/yaspin/core.py:119: UserWarning: color, on_color and attrs are not supported when running in jupyter\n",
      "  self._color = self._set_color(color) if color else color\n"
     ]
    },
    {
     "name": "stdout",
     "output_type": "stream",
     "text": [
      " ✔ New FastStream project created.     \n",
      "['README', '.github', 'pyproject', 'Dockerfile', 'scripts', 'LICENSE', 'tests', 'app', '.gitignore']\n",
      "\n",
      "{33277}\n"
     ]
    }
   ],
   "source": [
    "with TemporaryDirectory() as d:\n",
    "    create_project(d)\n",
    "    files = [p.stem for p in list(Path(f\"{d}\").glob(\"*\"))]\n",
    "    print(files)\n",
    "    assert \"README\" in files\n",
    "    \n",
    "    app_contents = read_file_contents(f\"{d}/{APPLICATION_FILE_PATH}\")\n",
    "    print(app_contents)\n",
    "    assert app_contents == \"\"\n",
    "    \n",
    "    test_contents = read_file_contents(f\"{d}/{TEST_FILE_PATH}\")\n",
    "    assert test_contents == \"\"\n",
    "    \n",
    "    script_files_permission = [os.stat(f).st_mode for f in list((Path(d) / \"scripts\").glob(\"*.sh\"))]\n",
    "    print(set(script_files_permission))\n",
    "    assert set(script_files_permission) == {33277}, set(script_files_permission)"
   ]
  },
  {
   "cell_type": "code",
   "execution_count": null,
   "id": "e1ece203",
   "metadata": {},
   "outputs": [],
   "source": []
  }
 ],
 "metadata": {
  "kernelspec": {
   "display_name": "python3",
   "language": "python",
   "name": "python3"
  }
 },
 "nbformat": 4,
 "nbformat_minor": 5
}
