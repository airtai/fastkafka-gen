{
 "cells": [
  {
   "cell_type": "code",
   "execution_count": null,
   "id": "d8860aa8",
   "metadata": {},
   "outputs": [],
   "source": [
    "# | default_exp _components.new_project_generator"
   ]
  },
  {
   "cell_type": "code",
   "execution_count": null,
   "id": "b1e2e695",
   "metadata": {},
   "outputs": [],
   "source": [
    "# | export\n",
    "\n",
    "from typing import *\n",
    "from pathlib import Path\n",
    "from yaspin import yaspin\n",
    "import shutil\n",
    "\n",
    "\n",
    "from faststream_gen._code_generator.helper import download_and_extract_faststream_archive\n",
    "from faststream_gen._code_generator.constants import FASTSTREAM_TEMPLATE_ZIP_URL, FASTSTREAM_TEMPLATE_DIR_SUFFIX"
   ]
  },
  {
   "cell_type": "code",
   "execution_count": null,
   "id": "971e7378",
   "metadata": {},
   "outputs": [],
   "source": [
    "from tempfile import TemporaryDirectory"
   ]
  },
  {
   "cell_type": "code",
   "execution_count": null,
   "id": "49ebadc4",
   "metadata": {},
   "outputs": [],
   "source": [
    "# | export\n",
    "\n",
    "\n",
    "def create_project(\n",
    "    output_path: str,\n",
    ") -> None:\n",
    "    with yaspin(\n",
    "        text=\"Creating a new FastStream project...\", color=\"cyan\", spinner=\"clock\"\n",
    "    ) as sp:\n",
    "        with download_and_extract_faststream_archive(\n",
    "            FASTSTREAM_TEMPLATE_ZIP_URL\n",
    "        ) as extracted_path:\n",
    "            shutil.copytree(\n",
    "                    str(extracted_path / FASTSTREAM_TEMPLATE_DIR_SUFFIX),\n",
    "                    output_path,\n",
    "                    dirs_exist_ok=True,\n",
    "                )\n",
    "\n",
    "        sp.text = \"\"\n",
    "        sp.ok(f\" ✔ New FastStream project created.\")"
   ]
  },
  {
   "cell_type": "code",
   "execution_count": null,
   "id": "0d9cdae0",
   "metadata": {},
   "outputs": [
    {
     "name": "stdout",
     "output_type": "stream",
     "text": [
      "⠹ Creating a new FastStream project... "
     ]
    },
    {
     "name": "stderr",
     "output_type": "stream",
     "text": [
      "/home/harish/.local/lib/python3.11/site-packages/yaspin/core.py:119: UserWarning: color, on_color and attrs are not supported when running in jupyter\n",
      "  self._color = self._set_color(color) if color else color\n"
     ]
    },
    {
     "name": "stdout",
     "output_type": "stream",
     "text": [
      " ✔ New FastStream project created.     \n",
      "['README', '.github', 'pyproject', 'Dockerfile', 'scripts', 'LICENSE', 'tests', 'app', '.gitignore']\n"
     ]
    }
   ],
   "source": [
    "# | notest\n",
    "\n",
    "with TemporaryDirectory() as d:\n",
    "    create_project(d)\n",
    "    files = [p.stem for p in list(Path(f\"{d}\").glob(\"*\"))]\n",
    "    print(files)\n",
    "    assert \"README\" in files"
   ]
  },
  {
   "cell_type": "code",
   "execution_count": null,
   "id": "e1ece203",
   "metadata": {},
   "outputs": [],
   "source": []
  }
 ],
 "metadata": {
  "kernelspec": {
   "display_name": "python3",
   "language": "python",
   "name": "python3"
  }
 },
 "nbformat": 4,
 "nbformat_minor": 5
}
